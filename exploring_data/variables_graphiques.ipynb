{
 "cells": [
  {
   "cell_type": "code",
   "execution_count": 1,
   "id": "c0399ed0",
   "metadata": {},
   "outputs": [],
   "source": [
    "import os\n",
    "os.chdir(r\"C:\\Users\\cornuch\\Desktop\\SISE\\Fouille_donnees_massives\\projet_fouille\")  "
   ]
  },
  {
   "cell_type": "code",
   "execution_count": 2,
   "id": "2cb86b51",
   "metadata": {},
   "outputs": [],
   "source": [
    "import pandas as pd\n",
    "import numpy as np\n",
    "import plotly.express as px\n",
    "import matplotlib.pyplot as plt\n",
    "import seaborn as sns\n",
    "import sys"
   ]
  },
  {
   "cell_type": "code",
   "execution_count": 3,
   "id": "da69ff8d",
   "metadata": {},
   "outputs": [],
   "source": [
    "df = pd.read_table(\"guillaume.txt\", sep=\";\", header=0, decimal=\",\")\n",
    "df=df.drop(df[df[\"CodeDecision\"]==4].index, axis= 0)"
   ]
  },
  {
   "cell_type": "markdown",
   "id": "46159f08",
   "metadata": {},
   "source": [
    "# CodeDecision et FlagImpaye"
   ]
  },
  {
   "cell_type": "code",
   "execution_count": 5,
   "id": "b0255557",
   "metadata": {},
   "outputs": [
    {
     "data": {
      "text/plain": [
       "0    0.753811\n",
       "1    0.241377\n",
       "2    0.004210\n",
       "3    0.000602\n",
       "Name: CodeDecision, dtype: float64"
      ]
     },
     "execution_count": 5,
     "metadata": {},
     "output_type": "execute_result"
    }
   ],
   "source": [
    "df['CodeDecision'].value_counts(normalize=True)"
   ]
  },
  {
   "cell_type": "markdown",
   "id": "ca079cd1",
   "metadata": {},
   "source": [
    "Les clients \"douteux\" correspondent à environ 0.48 % de l'ensemble de la clientèle"
   ]
  },
  {
   "cell_type": "code",
   "execution_count": 6,
   "id": "97ecc343",
   "metadata": {},
   "outputs": [],
   "source": [
    "df_douteux=df.iloc[np.where(df['CodeDecision']>=2)[0], :]\n",
    "df_non_douteux=df.iloc[np.where(df['CodeDecision']<2)[0], :]"
   ]
  },
  {
   "cell_type": "code",
   "execution_count": 7,
   "id": "22f913cd",
   "metadata": {},
   "outputs": [],
   "source": [
    "percent_d=df_douteux['FlagImpaye'].value_counts(normalize=True)*100\n",
    "percent_nd=df_non_douteux['FlagImpaye'].value_counts(normalize=True)*100"
   ]
  },
  {
   "cell_type": "code",
   "execution_count": 8,
   "id": "d654c6c3",
   "metadata": {},
   "outputs": [
    {
     "data": {
      "text/html": [
       "<div>\n",
       "<style scoped>\n",
       "    .dataframe tbody tr th:only-of-type {\n",
       "        vertical-align: middle;\n",
       "    }\n",
       "\n",
       "    .dataframe tbody tr th {\n",
       "        vertical-align: top;\n",
       "    }\n",
       "\n",
       "    .dataframe thead th {\n",
       "        text-align: right;\n",
       "    }\n",
       "</style>\n",
       "<table border=\"1\" class=\"dataframe\">\n",
       "  <thead>\n",
       "    <tr style=\"text-align: right;\">\n",
       "      <th></th>\n",
       "      <th>Flag Impaye</th>\n",
       "      <th>client non douteux</th>\n",
       "      <th>client douteux</th>\n",
       "    </tr>\n",
       "  </thead>\n",
       "  <tbody>\n",
       "    <tr>\n",
       "      <th>0</th>\n",
       "      <td>0</td>\n",
       "      <td>99.779453</td>\n",
       "      <td>0.220547</td>\n",
       "    </tr>\n",
       "    <tr>\n",
       "      <th>1</th>\n",
       "      <td>1</td>\n",
       "      <td>11.466905</td>\n",
       "      <td>88.533095</td>\n",
       "    </tr>\n",
       "  </tbody>\n",
       "</table>\n",
       "</div>"
      ],
      "text/plain": [
       "   Flag Impaye  client non douteux  client douteux\n",
       "0            0           99.779453        0.220547\n",
       "1            1           11.466905       88.533095"
      ]
     },
     "execution_count": 8,
     "metadata": {},
     "output_type": "execute_result"
    }
   ],
   "source": [
    "data_barplot = pd.DataFrame({ \"Flag Impaye\": [0,1],\"client non douteux\": [percent_nd[0],percent_d[0]],\"client douteux\":[percent_nd[1],percent_d[1]]})\n",
    "data_barplot"
   ]
  },
  {
   "cell_type": "markdown",
   "id": "461053a2",
   "metadata": {},
   "source": [
    "fig = px.bar(data_barplot, x=\"Flag Impaye\", y=[\"client non douteux\", \"client douteux\"], title=\"Acceptation des transactions selon la typologie de clientèle\")\n",
    "fig.show()"
   ]
  },
  {
   "cell_type": "markdown",
   "id": "ce39ceec",
   "metadata": {},
   "source": [
    "Les deux variables semblent fortement liées. En effet, parmi les FlagImpaye, la proportion de clients douteux (CodeDecison supérieur ou égal à 2) est de 88,53% contre 0,22% pour les clients non douteux (CodeDecision inférieur à 2). "
   ]
  },
  {
   "cell_type": "code",
   "execution_count": 5,
   "id": "f5c19cc3",
   "metadata": {},
   "outputs": [
    {
     "data": {
      "text/plain": [
       "(2857837.2422457836,\n",
       " 0.0,\n",
       " 3,\n",
       " array([[3.48017545e+06, 2.26105490e+04],\n",
       "        [1.11438588e+06, 7.24011677e+03],\n",
       "        [1.94357269e+04, 1.26273075e+02],\n",
       "        [2.77993886e+03, 1.80611422e+01]]))"
      ]
     },
     "execution_count": 5,
     "metadata": {},
     "output_type": "execute_result"
    }
   ],
   "source": [
    "from scipy.stats import chi2_contingency\n",
    "df_count = pd.crosstab(df['CodeDecision'], df['FlagImpaye'])\n",
    "chi2_contingency(df_count)"
   ]
  },
  {
   "cell_type": "markdown",
   "id": "6ec2d11e",
   "metadata": {},
   "source": [
    "On va calculer le V de Cramer car lorsque les effectifs sont très élevés, le test du χ2 aboutit quasi-systématiquement au rejet de l'hypothèse d'indépendance."
   ]
  },
  {
   "cell_type": "code",
   "execution_count": 9,
   "id": "14ac647f",
   "metadata": {},
   "outputs": [
    {
     "data": {
      "text/plain": [
       "0.7842292994424459"
      ]
     },
     "execution_count": 9,
     "metadata": {},
     "output_type": "execute_result"
    }
   ],
   "source": [
    "V=np.sqrt(chi2_contingency(df_count)[0]/df.shape[0])\n",
    "V"
   ]
  },
  {
   "cell_type": "markdown",
   "id": "46ddc23d",
   "metadata": {},
   "source": [
    "Le V de Cramer et le T de Tschuprow sont identiques dans notre cas. Celui-ci est élevé et renforce l'idée de dépendance entre ces variables."
   ]
  },
  {
   "cell_type": "markdown",
   "id": "24e4c93a",
   "metadata": {},
   "source": [
    "# Montant et FlagImpaye"
   ]
  },
  {
   "cell_type": "code",
   "execution_count": 12,
   "id": "17a74e86",
   "metadata": {},
   "outputs": [],
   "source": [
    "df_select_montant=df[df.Montant < 400]"
   ]
  },
  {
   "cell_type": "code",
   "execution_count": 13,
   "id": "4fa78fff",
   "metadata": {},
   "outputs": [
    {
     "data": {
      "text/plain": [
       "99.74151948922822"
      ]
     },
     "execution_count": 13,
     "metadata": {},
     "output_type": "execute_result"
    }
   ],
   "source": [
    "df_select_montant.shape[0]*100/df.shape[0]"
   ]
  },
  {
   "cell_type": "markdown",
   "id": "b6851602",
   "metadata": {},
   "source": [
    "fig = px.box(df_select_montant, x='FlagImpaye', y='Montant',color='FlagImpaye')\n",
    "fig.show()"
   ]
  },
  {
   "cell_type": "code",
   "execution_count": 20,
   "id": "da032963",
   "metadata": {},
   "outputs": [],
   "source": [
    "m0=df[df.FlagImpaye==0]['Montant'].tolist()\n",
    "m1=df[df.FlagImpaye==1]['Montant'].tolist()"
   ]
  },
  {
   "cell_type": "markdown",
   "id": "ec30adbe",
   "metadata": {},
   "source": [
    "from scipy.stats import ttest_ind\n",
    "print(ttest_ind(m0,m1))\n",
    "print(ttest_ind(m0,m1,equal_var=False))"
   ]
  },
  {
   "cell_type": "code",
   "execution_count": 29,
   "id": "bedb0bfd",
   "metadata": {},
   "outputs": [
    {
     "data": {
      "text/plain": [
       "MannwhitneyuResult(statistic=52545555212.5, pvalue=0.0)"
      ]
     },
     "execution_count": 29,
     "metadata": {},
     "output_type": "execute_result"
    }
   ],
   "source": [
    "from scipy.stats import mannwhitneyu\n",
    "mannwhitneyu(m0, m1)"
   ]
  },
  {
   "cell_type": "markdown",
   "id": "feeb3b53",
   "metadata": {},
   "source": [
    "Rejet de l'indépendance entre les variables au risque de 5%\n",
    "On pourrait faire de même avec les autres variables quantitatives"
   ]
  }
 ],
 "metadata": {
  "kernelspec": {
   "display_name": "Python 3 (ipykernel)",
   "language": "python",
   "name": "python3"
  },
  "language_info": {
   "codemirror_mode": {
    "name": "ipython",
    "version": 3
   },
   "file_extension": ".py",
   "mimetype": "text/x-python",
   "name": "python",
   "nbconvert_exporter": "python",
   "pygments_lexer": "ipython3",
   "version": "3.9.12"
  }
 },
 "nbformat": 4,
 "nbformat_minor": 5
}
