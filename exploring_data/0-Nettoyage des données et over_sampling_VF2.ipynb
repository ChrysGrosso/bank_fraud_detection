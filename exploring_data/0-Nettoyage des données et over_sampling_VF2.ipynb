{
 "cells": [
  {
   "cell_type": "markdown",
   "id": "d6b06741",
   "metadata": {},
   "source": [
    "## I. Import et découverte du fichier "
   ]
  },
  {
   "cell_type": "code",
   "execution_count": 1,
   "id": "af768469",
   "metadata": {},
   "outputs": [],
   "source": [
    "import os\n",
    "os.chdir(\"C:/Fouille-donnees-massives\")"
   ]
  },
  {
   "cell_type": "code",
   "execution_count": 2,
   "id": "629e7d36",
   "metadata": {},
   "outputs": [],
   "source": [
    "import pandas as pd\n",
    "import numpy as np\n",
    "import dask.dataframe as dd\n",
    "import matplotlib.pyplot as plt\n",
    "import seaborn as sns\n",
    "import sys"
   ]
  },
  {
   "cell_type": "code",
   "execution_count": 3,
   "id": "963d1138",
   "metadata": {},
   "outputs": [],
   "source": [
    "#pip install fastparquet"
   ]
  },
  {
   "cell_type": "code",
   "execution_count": 4,
   "id": "f0cba47f",
   "metadata": {},
   "outputs": [],
   "source": [
    "import fastparquet"
   ]
  },
  {
   "cell_type": "markdown",
   "id": "d05fe8fd",
   "metadata": {},
   "source": [
    "Nous importons le fichier sans une ligne qui ne permet pas de lire correctement les données."
   ]
  },
  {
   "cell_type": "code",
   "execution_count": 5,
   "id": "f206f390",
   "metadata": {},
   "outputs": [],
   "source": [
    "df=pd.read_table(\"guillaume.txt\", sep=\";\",header=0, decimal=\",\",skiprows=[1956361])"
   ]
  },
  {
   "cell_type": "code",
   "execution_count": 6,
   "id": "c68c22fc",
   "metadata": {},
   "outputs": [
    {
     "data": {
      "text/html": [
       "<div>\n",
       "<style scoped>\n",
       "    .dataframe tbody tr th:only-of-type {\n",
       "        vertical-align: middle;\n",
       "    }\n",
       "\n",
       "    .dataframe tbody tr th {\n",
       "        vertical-align: top;\n",
       "    }\n",
       "\n",
       "    .dataframe thead th {\n",
       "        text-align: right;\n",
       "    }\n",
       "</style>\n",
       "<table border=\"1\" class=\"dataframe\">\n",
       "  <thead>\n",
       "    <tr style=\"text-align: right;\">\n",
       "      <th></th>\n",
       "      <th>ZIBZIN</th>\n",
       "      <th>IDAvisAutorisationCheque</th>\n",
       "      <th>FlagImpaye</th>\n",
       "      <th>Montant</th>\n",
       "      <th>DateTransaction</th>\n",
       "      <th>CodeDecision</th>\n",
       "      <th>VerifianceCPT1</th>\n",
       "      <th>VerifianceCPT2</th>\n",
       "      <th>VerifianceCPT3</th>\n",
       "      <th>D2CB</th>\n",
       "      <th>...</th>\n",
       "      <th>TauxImpNb_RB</th>\n",
       "      <th>TauxImpNB_CPM</th>\n",
       "      <th>EcartNumCheq</th>\n",
       "      <th>NbrMagasin3J</th>\n",
       "      <th>DiffDateTr1</th>\n",
       "      <th>DiffDateTr2</th>\n",
       "      <th>DiffDateTr3</th>\n",
       "      <th>CA3TRetMtt</th>\n",
       "      <th>CA3TR</th>\n",
       "      <th>Heure</th>\n",
       "    </tr>\n",
       "  </thead>\n",
       "  <tbody>\n",
       "    <tr>\n",
       "      <th>0</th>\n",
       "      <td>A013010004908126703060931</td>\n",
       "      <td>78643044</td>\n",
       "      <td>0</td>\n",
       "      <td>20.00</td>\n",
       "      <td>2017-02-01 07:32:14</td>\n",
       "      <td>1</td>\n",
       "      <td>0</td>\n",
       "      <td>0</td>\n",
       "      <td>0</td>\n",
       "      <td>551</td>\n",
       "      <td>...</td>\n",
       "      <td>37.186668</td>\n",
       "      <td>52.076034</td>\n",
       "      <td>0</td>\n",
       "      <td>1</td>\n",
       "      <td>4.000000</td>\n",
       "      <td>4.0</td>\n",
       "      <td>4.0</td>\n",
       "      <td>20.00</td>\n",
       "      <td>0.00</td>\n",
       "      <td>27134</td>\n",
       "    </tr>\n",
       "    <tr>\n",
       "      <th>1</th>\n",
       "      <td>A013011306908024927155000</td>\n",
       "      <td>78643045</td>\n",
       "      <td>0</td>\n",
       "      <td>20.00</td>\n",
       "      <td>2017-02-01 07:43:37</td>\n",
       "      <td>1</td>\n",
       "      <td>0</td>\n",
       "      <td>0</td>\n",
       "      <td>0</td>\n",
       "      <td>551</td>\n",
       "      <td>...</td>\n",
       "      <td>48.844716</td>\n",
       "      <td>52.076034</td>\n",
       "      <td>1</td>\n",
       "      <td>2</td>\n",
       "      <td>1.797685</td>\n",
       "      <td>4.0</td>\n",
       "      <td>4.0</td>\n",
       "      <td>28.61</td>\n",
       "      <td>8.61</td>\n",
       "      <td>27817</td>\n",
       "    </tr>\n",
       "    <tr>\n",
       "      <th>2</th>\n",
       "      <td>A013010002908283134592527</td>\n",
       "      <td>78643046</td>\n",
       "      <td>0</td>\n",
       "      <td>57.64</td>\n",
       "      <td>2017-02-01 07:47:38</td>\n",
       "      <td>1</td>\n",
       "      <td>0</td>\n",
       "      <td>0</td>\n",
       "      <td>0</td>\n",
       "      <td>549</td>\n",
       "      <td>...</td>\n",
       "      <td>73.118280</td>\n",
       "      <td>52.076034</td>\n",
       "      <td>0</td>\n",
       "      <td>1</td>\n",
       "      <td>4.000000</td>\n",
       "      <td>4.0</td>\n",
       "      <td>4.0</td>\n",
       "      <td>57.64</td>\n",
       "      <td>0.00</td>\n",
       "      <td>28058</td>\n",
       "    </tr>\n",
       "    <tr>\n",
       "      <th>3</th>\n",
       "      <td>A011010002908105209831316</td>\n",
       "      <td>78643047</td>\n",
       "      <td>0</td>\n",
       "      <td>54.29</td>\n",
       "      <td>2017-02-01 07:48:48</td>\n",
       "      <td>0</td>\n",
       "      <td>1</td>\n",
       "      <td>1</td>\n",
       "      <td>1</td>\n",
       "      <td>267</td>\n",
       "      <td>...</td>\n",
       "      <td>110.056926</td>\n",
       "      <td>53.554234</td>\n",
       "      <td>0</td>\n",
       "      <td>1</td>\n",
       "      <td>4.000000</td>\n",
       "      <td>4.0</td>\n",
       "      <td>4.0</td>\n",
       "      <td>54.29</td>\n",
       "      <td>0.00</td>\n",
       "      <td>28128</td>\n",
       "    </tr>\n",
       "    <tr>\n",
       "      <th>4</th>\n",
       "      <td>A013010041908000125652029</td>\n",
       "      <td>78643048</td>\n",
       "      <td>0</td>\n",
       "      <td>26.90</td>\n",
       "      <td>2017-02-01 08:13:27</td>\n",
       "      <td>1</td>\n",
       "      <td>0</td>\n",
       "      <td>0</td>\n",
       "      <td>0</td>\n",
       "      <td>549</td>\n",
       "      <td>...</td>\n",
       "      <td>45.368313</td>\n",
       "      <td>52.076034</td>\n",
       "      <td>1</td>\n",
       "      <td>1</td>\n",
       "      <td>1.997106</td>\n",
       "      <td>4.0</td>\n",
       "      <td>4.0</td>\n",
       "      <td>59.15</td>\n",
       "      <td>32.25</td>\n",
       "      <td>29607</td>\n",
       "    </tr>\n",
       "  </tbody>\n",
       "</table>\n",
       "<p>5 rows × 23 columns</p>\n",
       "</div>"
      ],
      "text/plain": [
       "                      ZIBZIN  IDAvisAutorisationCheque  FlagImpaye  Montant  \\\n",
       "0  A013010004908126703060931                  78643044           0    20.00   \n",
       "1  A013011306908024927155000                  78643045           0    20.00   \n",
       "2  A013010002908283134592527                  78643046           0    57.64   \n",
       "3  A011010002908105209831316                  78643047           0    54.29   \n",
       "4  A013010041908000125652029                  78643048           0    26.90   \n",
       "\n",
       "       DateTransaction  CodeDecision  VerifianceCPT1  VerifianceCPT2  \\\n",
       "0  2017-02-01 07:32:14             1               0               0   \n",
       "1  2017-02-01 07:43:37             1               0               0   \n",
       "2  2017-02-01 07:47:38             1               0               0   \n",
       "3  2017-02-01 07:48:48             0               1               1   \n",
       "4  2017-02-01 08:13:27             1               0               0   \n",
       "\n",
       "   VerifianceCPT3  D2CB  ...  TauxImpNb_RB  TauxImpNB_CPM  EcartNumCheq  \\\n",
       "0               0   551  ...     37.186668      52.076034             0   \n",
       "1               0   551  ...     48.844716      52.076034             1   \n",
       "2               0   549  ...     73.118280      52.076034             0   \n",
       "3               1   267  ...    110.056926      53.554234             0   \n",
       "4               0   549  ...     45.368313      52.076034             1   \n",
       "\n",
       "   NbrMagasin3J  DiffDateTr1  DiffDateTr2  DiffDateTr3  CA3TRetMtt  CA3TR  \\\n",
       "0             1     4.000000          4.0          4.0       20.00   0.00   \n",
       "1             2     1.797685          4.0          4.0       28.61   8.61   \n",
       "2             1     4.000000          4.0          4.0       57.64   0.00   \n",
       "3             1     4.000000          4.0          4.0       54.29   0.00   \n",
       "4             1     1.997106          4.0          4.0       59.15  32.25   \n",
       "\n",
       "   Heure  \n",
       "0  27134  \n",
       "1  27817  \n",
       "2  28058  \n",
       "3  28128  \n",
       "4  29607  \n",
       "\n",
       "[5 rows x 23 columns]"
      ]
     },
     "execution_count": 6,
     "metadata": {},
     "output_type": "execute_result"
    }
   ],
   "source": [
    "df.head()"
   ]
  },
  {
   "cell_type": "code",
   "execution_count": 7,
   "id": "64905c10",
   "metadata": {},
   "outputs": [
    {
     "name": "stdout",
     "output_type": "stream",
     "text": [
      "le fichier contient 4646773 lignes et 23 colonnes.\n",
      "taille (octets) = 1514848142\n",
      "taille (bits) = 189356017.75\n"
     ]
    }
   ],
   "source": [
    "print(\"le fichier contient \" + str(df.shape[0]) + \" lignes et \" +str(df.shape[1])+ \" colonnes.\")\n",
    "taille=sys.getsizeof(df)\n",
    "print(\"taille (octets) = \"+str(taille))\n",
    "print(\"taille (bits) = \"+str(taille/8))"
   ]
  },
  {
   "cell_type": "code",
   "execution_count": 8,
   "id": "e6f561cb",
   "metadata": {},
   "outputs": [
    {
     "name": "stdout",
     "output_type": "stream",
     "text": [
      "<class 'pandas.core.frame.DataFrame'>\n",
      "RangeIndex: 4646773 entries, 0 to 4646772\n",
      "Data columns (total 23 columns):\n",
      " #   Column                    Dtype  \n",
      "---  ------                    -----  \n",
      " 0   ZIBZIN                    object \n",
      " 1   IDAvisAutorisationCheque  int64  \n",
      " 2   FlagImpaye                int64  \n",
      " 3   Montant                   float64\n",
      " 4   DateTransaction           object \n",
      " 5   CodeDecision              int64  \n",
      " 6   VerifianceCPT1            int64  \n",
      " 7   VerifianceCPT2            int64  \n",
      " 8   VerifianceCPT3            int64  \n",
      " 9   D2CB                      int64  \n",
      " 10  ScoringFP1                float64\n",
      " 11  ScoringFP2                float64\n",
      " 12  ScoringFP3                float64\n",
      " 13  TauxImpNb_RB              float64\n",
      " 14  TauxImpNB_CPM             float64\n",
      " 15  EcartNumCheq              int64  \n",
      " 16  NbrMagasin3J              int64  \n",
      " 17  DiffDateTr1               float64\n",
      " 18  DiffDateTr2               float64\n",
      " 19  DiffDateTr3               float64\n",
      " 20  CA3TRetMtt                float64\n",
      " 21  CA3TR                     float64\n",
      " 22  Heure                     int64  \n",
      "dtypes: float64(11), int64(10), object(2)\n",
      "memory usage: 815.4+ MB\n"
     ]
    }
   ],
   "source": [
    "df.info()"
   ]
  },
  {
   "cell_type": "markdown",
   "id": "3606f71e",
   "metadata": {},
   "source": [
    "## II. Nettoyage du fichier"
   ]
  },
  {
   "cell_type": "markdown",
   "id": "3fa35e91",
   "metadata": {},
   "source": [
    " **1. Variable \"CodeDecision\"** "
   ]
  },
  {
   "cell_type": "markdown",
   "id": "3a3a3678",
   "metadata": {},
   "source": [
    "Cette variable possède une valeur à 4 alors que dans la description des données, cette variable ne peut prendre que les valeurs {0,1,2,3}. \n",
    "Nous retirons cette valeur \"4\"."
   ]
  },
  {
   "cell_type": "code",
   "execution_count": 9,
   "id": "72f41e83",
   "metadata": {},
   "outputs": [
    {
     "name": "stdout",
     "output_type": "stream",
     "text": [
      "Dans le fichier initial :\n",
      "0    3502786\n",
      "1    1121626\n",
      "2      19562\n",
      "3       2798\n",
      "4          1\n",
      "Name: CodeDecision, dtype: int64\n",
      "Supression de la ligne :\n",
      "0    3502786\n",
      "1    1121626\n",
      "2      19562\n",
      "3       2798\n",
      "Name: CodeDecision, dtype: int64\n"
     ]
    }
   ],
   "source": [
    "print(\"Dans le fichier initial :\")\n",
    "print(df['CodeDecision'].value_counts())\n",
    "df=df.drop(df[df[\"CodeDecision\"]==4].index, axis= 0)\n",
    "\n",
    "print(\"Supression de la ligne :\")\n",
    "print(df['CodeDecision'].value_counts())"
   ]
  },
  {
   "cell_type": "markdown",
   "id": "2de69a13",
   "metadata": {},
   "source": [
    "**2. Variable \"Heure\"** "
   ]
  },
  {
   "cell_type": "markdown",
   "id": "383c27a1",
   "metadata": {},
   "source": [
    "Cette variable fait doublon avec \"DateTransaction\". Nous la supprimons. "
   ]
  },
  {
   "cell_type": "code",
   "execution_count": 10,
   "id": "839907e4",
   "metadata": {},
   "outputs": [
    {
     "name": "stdout",
     "output_type": "stream",
     "text": [
      "<class 'pandas.core.frame.DataFrame'>\n",
      "Int64Index: 4646772 entries, 0 to 4646772\n",
      "Data columns (total 22 columns):\n",
      " #   Column                    Dtype  \n",
      "---  ------                    -----  \n",
      " 0   ZIBZIN                    object \n",
      " 1   IDAvisAutorisationCheque  int64  \n",
      " 2   FlagImpaye                int64  \n",
      " 3   Montant                   float64\n",
      " 4   DateTransaction           object \n",
      " 5   CodeDecision              int64  \n",
      " 6   VerifianceCPT1            int64  \n",
      " 7   VerifianceCPT2            int64  \n",
      " 8   VerifianceCPT3            int64  \n",
      " 9   D2CB                      int64  \n",
      " 10  ScoringFP1                float64\n",
      " 11  ScoringFP2                float64\n",
      " 12  ScoringFP3                float64\n",
      " 13  TauxImpNb_RB              float64\n",
      " 14  TauxImpNB_CPM             float64\n",
      " 15  EcartNumCheq              int64  \n",
      " 16  NbrMagasin3J              int64  \n",
      " 17  DiffDateTr1               float64\n",
      " 18  DiffDateTr2               float64\n",
      " 19  DiffDateTr3               float64\n",
      " 20  CA3TRetMtt                float64\n",
      " 21  CA3TR                     float64\n",
      "dtypes: float64(11), int64(9), object(2)\n",
      "memory usage: 815.4+ MB\n"
     ]
    }
   ],
   "source": [
    "df.drop(['Heure'], axis = \"columns\", inplace=True)\n",
    "df.info()"
   ]
  },
  {
   "cell_type": "markdown",
   "id": "acc2d55d",
   "metadata": {},
   "source": [
    "**3. Variable \"DateTransaction\"**"
   ]
  },
  {
   "cell_type": "markdown",
   "id": "f0d914c7",
   "metadata": {},
   "source": [
    "Nous séparons la date et l'heure dans 2 colonnes distinctes. "
   ]
  },
  {
   "cell_type": "code",
   "execution_count": 11,
   "id": "f2f01aaa",
   "metadata": {},
   "outputs": [
    {
     "name": "stdout",
     "output_type": "stream",
     "text": [
      "<class 'pandas.core.frame.DataFrame'>\n",
      "Int64Index: 4646772 entries, 0 to 4646772\n",
      "Data columns (total 23 columns):\n",
      " #   Column                    Dtype  \n",
      "---  ------                    -----  \n",
      " 0   ZIBZIN                    object \n",
      " 1   IDAvisAutorisationCheque  int64  \n",
      " 2   FlagImpaye                int64  \n",
      " 3   Montant                   float64\n",
      " 4   CodeDecision              int64  \n",
      " 5   VerifianceCPT1            int64  \n",
      " 6   VerifianceCPT2            int64  \n",
      " 7   VerifianceCPT3            int64  \n",
      " 8   D2CB                      int64  \n",
      " 9   ScoringFP1                float64\n",
      " 10  ScoringFP2                float64\n",
      " 11  ScoringFP3                float64\n",
      " 12  TauxImpNb_RB              float64\n",
      " 13  TauxImpNB_CPM             float64\n",
      " 14  EcartNumCheq              int64  \n",
      " 15  NbrMagasin3J              int64  \n",
      " 16  DiffDateTr1               float64\n",
      " 17  DiffDateTr2               float64\n",
      " 18  DiffDateTr3               float64\n",
      " 19  CA3TRetMtt                float64\n",
      " 20  CA3TR                     float64\n",
      " 21  Date                      object \n",
      " 22  Heure                     object \n",
      "dtypes: float64(11), int64(9), object(3)\n",
      "memory usage: 850.8+ MB\n"
     ]
    }
   ],
   "source": [
    "DateTransaction_1=df[\"DateTransaction\"].str.split(' ',1)\n",
    "df['Date']=DateTransaction_1.str[0]\n",
    "df['Heure']=DateTransaction_1.str[1]\n",
    "df.drop(['DateTransaction'], axis='columns', inplace=True)\n",
    "df.info()"
   ]
  },
  {
   "cell_type": "markdown",
   "id": "34593be7",
   "metadata": {},
   "source": [
    "**4. Heure : Transformation en variable numérique et analyse**"
   ]
  },
  {
   "cell_type": "code",
   "execution_count": 12,
   "id": "1c22e224",
   "metadata": {},
   "outputs": [
    {
     "data": {
      "text/plain": [
       "[Text(0.5, 1.0, 'Répartition des transactions frauduleuses dans la journée')]"
      ]
     },
     "execution_count": 12,
     "metadata": {},
     "output_type": "execute_result"
    },
    {
     "data": {
      "image/png": "[encoded data removed]",
      "text/plain": [
       "<Figure size 432x288 with 1 Axes>"
      ]
     },
     "metadata": {
      "needs_background": "light"
     },
     "output_type": "display_data"
    }
   ],
   "source": [
    "# Création de la variable \"Heure_num\" au format numérique\n",
    "df[\"Heure_num\"] = df['Heure'].str[:2] \n",
    "\n",
    "#Visualisation des transactions frauduleuses selon l'heure\n",
    "p = sns.lineplot(data = pd.DataFrame(df[df[\"FlagImpaye\"] == 1].groupby([\"Heure_num\"]).size()))\n",
    "p.set(title = \"Répartition des transactions frauduleuses dans la journée\")"
   ]
  },
  {
   "cell_type": "code",
   "execution_count": 13,
   "id": "4012022d",
   "metadata": {},
   "outputs": [
    {
     "data": {
      "text/plain": [
       "[Text(0.5, 1.0, 'Répartition des transactions non frauduleuses dans la journée')]"
      ]
     },
     "execution_count": 13,
     "metadata": {},
     "output_type": "execute_result"
    },
    {
     "data": {
      "image/png": "[encoded data removed]",
      "text/plain": [
       "<Figure size 432x288 with 1 Axes>"
      ]
     },
     "metadata": {
      "needs_background": "light"
     },
     "output_type": "display_data"
    }
   ],
   "source": [
    "#Visualisation des transactions non frauduleuses selon l'heure\n",
    "p = sns.lineplot(data = pd.DataFrame(df[df[\"FlagImpaye\"] == 0].groupby([\"Heure_num\"]).size()))\n",
    "p.set(title = \"Répartition des transactions non frauduleuses dans la journée\")"
   ]
  },
  {
   "cell_type": "code",
   "execution_count": 14,
   "id": "8c1f9e77",
   "metadata": {},
   "outputs": [],
   "source": [
    "df[\"Heure_num\"]=df[\"Heure_num\"].astype(\"int64\")"
   ]
  },
  {
   "cell_type": "code",
   "execution_count": 15,
   "id": "4919a553",
   "metadata": {},
   "outputs": [
    {
     "data": {
      "text/plain": [
       "dtype('int64')"
      ]
     },
     "execution_count": 15,
     "metadata": {},
     "output_type": "execute_result"
    }
   ],
   "source": [
    "df[\"Heure_num\"].dtypes"
   ]
  },
  {
   "cell_type": "markdown",
   "id": "9fb44486",
   "metadata": {},
   "source": [
    "**5. Conservation des variables utiles**"
   ]
  },
  {
   "cell_type": "markdown",
   "id": "14886e39",
   "metadata": {},
   "source": [
    "Afin de réduire le dataset au nombre de variables pertinentes, nous souhaitons éliminer les variables redondantes en analysant les corrélations entre variables et en particulier, avec la variable à expliquer (FlagImpaye)."
   ]
  },
  {
   "cell_type": "code",
   "execution_count": 16,
   "id": "c94a5831",
   "metadata": {},
   "outputs": [
    {
     "data": {
      "text/plain": [
       "Index(['ZIBZIN', 'IDAvisAutorisationCheque', 'FlagImpaye', 'Montant',\n",
       "       'CodeDecision', 'VerifianceCPT1', 'VerifianceCPT2', 'VerifianceCPT3',\n",
       "       'D2CB', 'ScoringFP1', 'ScoringFP2', 'ScoringFP3', 'TauxImpNb_RB',\n",
       "       'TauxImpNB_CPM', 'EcartNumCheq', 'NbrMagasin3J', 'DiffDateTr1',\n",
       "       'DiffDateTr2', 'DiffDateTr3', 'CA3TRetMtt', 'CA3TR', 'Date', 'Heure',\n",
       "       'Heure_num'],\n",
       "      dtype='object')"
      ]
     },
     "execution_count": 16,
     "metadata": {},
     "output_type": "execute_result"
    }
   ],
   "source": [
    "df.columns"
   ]
  },
  {
   "cell_type": "code",
   "execution_count": 17,
   "id": "e0268856",
   "metadata": {},
   "outputs": [
    {
     "name": "stderr",
     "output_type": "stream",
     "text": [
      "C:\\Users\\chrys\\AppData\\Local\\Temp\\ipykernel_10576\\1656060897.py:3: UserWarning: Pandas doesn't allow columns to be created via a new attribute name - see https://pandas.pydata.org/pandas-docs/stable/indexing.html#attribute-access\n",
      "  df.quanti=df[['Montant','VerifianceCPT1', 'VerifianceCPT2', 'VerifianceCPT3','D2CB', 'ScoringFP1', 'ScoringFP2', 'ScoringFP3', 'TauxImpNb_RB',\n"
     ]
    },
    {
     "data": {
      "image/png": "[encoded data removed]",
      "text/plain": [
       "<Figure size 1224x1224 with 2 Axes>"
      ]
     },
     "metadata": {},
     "output_type": "display_data"
    }
   ],
   "source": [
    "# sélection des variables quantitatives\n",
    "df_quanti=df[['Montant','VerifianceCPT1', 'VerifianceCPT2',\n",
    "       'VerifianceCPT3', 'D2CB', 'ScoringFP1', 'ScoringFP2', 'ScoringFP3',\n",
    "       'TauxImpNb_RB', 'TauxImpNB_CPM', 'EcartNumCheq', 'NbrMagasin3J',\n",
    "       'DiffDateTr1', 'DiffDateTr2', 'DiffDateTr3', 'CA3TRetMtt', 'CA3TR','Heure_num']]\n",
    "     \n",
    "# Matrice de corrélation\n",
    "corr = df_quanti.corr()\n",
    "\n",
    "# Pour supprimer le côté droit\n",
    "mask = np.zeros_like(corr)\n",
    "mask[np.triu_indices_from(mask)] = True\n",
    "\n",
    "# plot\n",
    "with sns.axes_style(\"white\"):\n",
    "    f, ax = plt.subplots(figsize=(17, 17))\n",
    "    ax = sns.heatmap(corr, mask=mask, square=True, annot = True, fmt = '.2f', cmap = \"rocket_r\", vmin=-1, vmax=1)"
   ]
  },
  {
   "cell_type": "markdown",
   "id": "d72b5320",
   "metadata": {},
   "source": [
    "**Que nous apprend cette matrice ?**\n",
    "\n",
    "(1) Les variables VerifianceCPT1/ ...CPT2/... CPT3 sont visiblement redondantes entre elles : une seule suffit, nous conservons la variable CPT1 (nombre de transactions jour par le même ID)\n",
    "\n",
    "(2) Le montant et CATRetMtt sont logiquement très corélées, la dernière étant notamment basée notamment sur le montant : nous la supprimons\n",
    "\n",
    "(3) les 3 DiffDateTr sont aussi corrélées, partiellement redondantes, nous supprimons \"...Tr2 et \"...Tr3\", et conservons \"...Tr1\" (écart en jours à partir de la dernière transaction)\n"
   ]
  },
  {
   "cell_type": "markdown",
   "id": "76da3ab6",
   "metadata": {},
   "source": [
    "**Suppression complémentaire de variables sans intérêt pour la modélisation**\n",
    "\n",
    "(1) les différents ID : ZIBZIN, IDAvisAutorisationCheque\n",
    "\n",
    "(2) Code décision : nous ne pouvons pas nous en servir pour la prédiction puisqu'elle est renseignée après la fraude\n",
    "\n",
    "(3)TauxImpNb_RB : dans l'absolu, il aurait été intéressant de l'étudier mais il n'y pas de variables géographiques pour pouvoir la croiser (ex : regarder les différences Nord / Sud). "
   ]
  },
  {
   "cell_type": "code",
   "execution_count": 18,
   "id": "269dddce",
   "metadata": {},
   "outputs": [
    {
     "data": {
      "text/html": [
       "<div>\n",
       "<style scoped>\n",
       "    .dataframe tbody tr th:only-of-type {\n",
       "        vertical-align: middle;\n",
       "    }\n",
       "\n",
       "    .dataframe tbody tr th {\n",
       "        vertical-align: top;\n",
       "    }\n",
       "\n",
       "    .dataframe thead th {\n",
       "        text-align: right;\n",
       "    }\n",
       "</style>\n",
       "<table border=\"1\" class=\"dataframe\">\n",
       "  <thead>\n",
       "    <tr style=\"text-align: right;\">\n",
       "      <th></th>\n",
       "      <th>FlagImpaye</th>\n",
       "      <th>Montant</th>\n",
       "      <th>VerifianceCPT1</th>\n",
       "      <th>D2CB</th>\n",
       "      <th>ScoringFP1</th>\n",
       "      <th>ScoringFP2</th>\n",
       "      <th>ScoringFP3</th>\n",
       "      <th>TauxImpNB_CPM</th>\n",
       "      <th>EcartNumCheq</th>\n",
       "      <th>NbrMagasin3J</th>\n",
       "      <th>DiffDateTr3</th>\n",
       "      <th>CA3TR</th>\n",
       "      <th>Date</th>\n",
       "      <th>Heure</th>\n",
       "      <th>Heure_num</th>\n",
       "    </tr>\n",
       "  </thead>\n",
       "  <tbody>\n",
       "    <tr>\n",
       "      <th>0</th>\n",
       "      <td>0</td>\n",
       "      <td>20.00</td>\n",
       "      <td>0</td>\n",
       "      <td>551</td>\n",
       "      <td>0.000000</td>\n",
       "      <td>0.000000</td>\n",
       "      <td>0.000000</td>\n",
       "      <td>52.076034</td>\n",
       "      <td>0</td>\n",
       "      <td>1</td>\n",
       "      <td>4.0</td>\n",
       "      <td>0.00</td>\n",
       "      <td>2017-02-01</td>\n",
       "      <td>07:32:14</td>\n",
       "      <td>7</td>\n",
       "    </tr>\n",
       "    <tr>\n",
       "      <th>1</th>\n",
       "      <td>0</td>\n",
       "      <td>20.00</td>\n",
       "      <td>0</td>\n",
       "      <td>551</td>\n",
       "      <td>0.000000</td>\n",
       "      <td>0.000000</td>\n",
       "      <td>0.000000</td>\n",
       "      <td>52.076034</td>\n",
       "      <td>1</td>\n",
       "      <td>2</td>\n",
       "      <td>4.0</td>\n",
       "      <td>8.61</td>\n",
       "      <td>2017-02-01</td>\n",
       "      <td>07:43:37</td>\n",
       "      <td>7</td>\n",
       "    </tr>\n",
       "    <tr>\n",
       "      <th>2</th>\n",
       "      <td>0</td>\n",
       "      <td>57.64</td>\n",
       "      <td>0</td>\n",
       "      <td>549</td>\n",
       "      <td>0.000000</td>\n",
       "      <td>0.000000</td>\n",
       "      <td>0.000000</td>\n",
       "      <td>52.076034</td>\n",
       "      <td>0</td>\n",
       "      <td>1</td>\n",
       "      <td>4.0</td>\n",
       "      <td>0.00</td>\n",
       "      <td>2017-02-01</td>\n",
       "      <td>07:47:38</td>\n",
       "      <td>7</td>\n",
       "    </tr>\n",
       "    <tr>\n",
       "      <th>3</th>\n",
       "      <td>0</td>\n",
       "      <td>54.29</td>\n",
       "      <td>1</td>\n",
       "      <td>267</td>\n",
       "      <td>0.000000</td>\n",
       "      <td>0.000000</td>\n",
       "      <td>0.000000</td>\n",
       "      <td>53.554234</td>\n",
       "      <td>0</td>\n",
       "      <td>1</td>\n",
       "      <td>4.0</td>\n",
       "      <td>0.00</td>\n",
       "      <td>2017-02-01</td>\n",
       "      <td>07:48:48</td>\n",
       "      <td>7</td>\n",
       "    </tr>\n",
       "    <tr>\n",
       "      <th>4</th>\n",
       "      <td>0</td>\n",
       "      <td>26.90</td>\n",
       "      <td>0</td>\n",
       "      <td>549</td>\n",
       "      <td>0.003769</td>\n",
       "      <td>8.586333</td>\n",
       "      <td>0.001192</td>\n",
       "      <td>52.076034</td>\n",
       "      <td>1</td>\n",
       "      <td>1</td>\n",
       "      <td>4.0</td>\n",
       "      <td>32.25</td>\n",
       "      <td>2017-02-01</td>\n",
       "      <td>08:13:27</td>\n",
       "      <td>8</td>\n",
       "    </tr>\n",
       "  </tbody>\n",
       "</table>\n",
       "</div>"
      ],
      "text/plain": [
       "   FlagImpaye  Montant  VerifianceCPT1  D2CB  ScoringFP1  ScoringFP2  \\\n",
       "0           0    20.00               0   551    0.000000    0.000000   \n",
       "1           0    20.00               0   551    0.000000    0.000000   \n",
       "2           0    57.64               0   549    0.000000    0.000000   \n",
       "3           0    54.29               1   267    0.000000    0.000000   \n",
       "4           0    26.90               0   549    0.003769    8.586333   \n",
       "\n",
       "   ScoringFP3  TauxImpNB_CPM  EcartNumCheq  NbrMagasin3J  DiffDateTr3  CA3TR  \\\n",
       "0    0.000000      52.076034             0             1          4.0   0.00   \n",
       "1    0.000000      52.076034             1             2          4.0   8.61   \n",
       "2    0.000000      52.076034             0             1          4.0   0.00   \n",
       "3    0.000000      53.554234             0             1          4.0   0.00   \n",
       "4    0.001192      52.076034             1             1          4.0  32.25   \n",
       "\n",
       "         Date     Heure  Heure_num  \n",
       "0  2017-02-01  07:32:14          7  \n",
       "1  2017-02-01  07:43:37          7  \n",
       "2  2017-02-01  07:47:38          7  \n",
       "3  2017-02-01  07:48:48          7  \n",
       "4  2017-02-01  08:13:27          8  "
      ]
     },
     "execution_count": 18,
     "metadata": {},
     "output_type": "execute_result"
    }
   ],
   "source": [
    "#En synthèse, suppression de 10 variables ; conservation de 13 variables\n",
    "df.drop(['ZIBZIN', 'IDAvisAutorisationCheque', 'CodeDecision','VerifianceCPT2','VerifianceCPT3','TauxImpNb_RB','DiffDateTr1','DiffDateTr2','CA3TRetMtt'], axis='columns', inplace=True)\n",
    "df.head()"
   ]
  },
  {
   "cell_type": "code",
   "execution_count": 19,
   "id": "b8d67d40",
   "metadata": {},
   "outputs": [
    {
     "data": {
      "text/html": [
       "<div>\n",
       "<style scoped>\n",
       "    .dataframe tbody tr th:only-of-type {\n",
       "        vertical-align: middle;\n",
       "    }\n",
       "\n",
       "    .dataframe tbody tr th {\n",
       "        vertical-align: top;\n",
       "    }\n",
       "\n",
       "    .dataframe thead th {\n",
       "        text-align: right;\n",
       "    }\n",
       "</style>\n",
       "<table border=\"1\" class=\"dataframe\">\n",
       "  <thead>\n",
       "    <tr style=\"text-align: right;\">\n",
       "      <th></th>\n",
       "      <th>FlagImpaye</th>\n",
       "      <th>Montant</th>\n",
       "      <th>VerifianceCPT1</th>\n",
       "      <th>D2CB</th>\n",
       "      <th>ScoringFP1</th>\n",
       "      <th>ScoringFP2</th>\n",
       "      <th>ScoringFP3</th>\n",
       "      <th>TauxImpNB_CPM</th>\n",
       "      <th>EcartNumCheq</th>\n",
       "      <th>NbrMagasin3J</th>\n",
       "      <th>DiffDateTr3</th>\n",
       "      <th>CA3TR</th>\n",
       "      <th>Date</th>\n",
       "      <th>Heure</th>\n",
       "      <th>Heure_num</th>\n",
       "    </tr>\n",
       "  </thead>\n",
       "  <tbody>\n",
       "    <tr>\n",
       "      <th>0</th>\n",
       "      <td>0</td>\n",
       "      <td>20.00</td>\n",
       "      <td>0</td>\n",
       "      <td>551</td>\n",
       "      <td>0.000000</td>\n",
       "      <td>0.000000</td>\n",
       "      <td>0.000000</td>\n",
       "      <td>52.076034</td>\n",
       "      <td>0</td>\n",
       "      <td>1</td>\n",
       "      <td>4.0</td>\n",
       "      <td>0.00</td>\n",
       "      <td>2017-02-01</td>\n",
       "      <td>07:32:14</td>\n",
       "      <td>7</td>\n",
       "    </tr>\n",
       "    <tr>\n",
       "      <th>1</th>\n",
       "      <td>0</td>\n",
       "      <td>20.00</td>\n",
       "      <td>0</td>\n",
       "      <td>551</td>\n",
       "      <td>0.000000</td>\n",
       "      <td>0.000000</td>\n",
       "      <td>0.000000</td>\n",
       "      <td>52.076034</td>\n",
       "      <td>1</td>\n",
       "      <td>2</td>\n",
       "      <td>4.0</td>\n",
       "      <td>8.61</td>\n",
       "      <td>2017-02-01</td>\n",
       "      <td>07:43:37</td>\n",
       "      <td>7</td>\n",
       "    </tr>\n",
       "    <tr>\n",
       "      <th>2</th>\n",
       "      <td>0</td>\n",
       "      <td>57.64</td>\n",
       "      <td>0</td>\n",
       "      <td>549</td>\n",
       "      <td>0.000000</td>\n",
       "      <td>0.000000</td>\n",
       "      <td>0.000000</td>\n",
       "      <td>52.076034</td>\n",
       "      <td>0</td>\n",
       "      <td>1</td>\n",
       "      <td>4.0</td>\n",
       "      <td>0.00</td>\n",
       "      <td>2017-02-01</td>\n",
       "      <td>07:47:38</td>\n",
       "      <td>7</td>\n",
       "    </tr>\n",
       "    <tr>\n",
       "      <th>3</th>\n",
       "      <td>0</td>\n",
       "      <td>54.29</td>\n",
       "      <td>1</td>\n",
       "      <td>267</td>\n",
       "      <td>0.000000</td>\n",
       "      <td>0.000000</td>\n",
       "      <td>0.000000</td>\n",
       "      <td>53.554234</td>\n",
       "      <td>0</td>\n",
       "      <td>1</td>\n",
       "      <td>4.0</td>\n",
       "      <td>0.00</td>\n",
       "      <td>2017-02-01</td>\n",
       "      <td>07:48:48</td>\n",
       "      <td>7</td>\n",
       "    </tr>\n",
       "    <tr>\n",
       "      <th>4</th>\n",
       "      <td>0</td>\n",
       "      <td>26.90</td>\n",
       "      <td>0</td>\n",
       "      <td>549</td>\n",
       "      <td>0.003769</td>\n",
       "      <td>8.586333</td>\n",
       "      <td>0.001192</td>\n",
       "      <td>52.076034</td>\n",
       "      <td>1</td>\n",
       "      <td>1</td>\n",
       "      <td>4.0</td>\n",
       "      <td>32.25</td>\n",
       "      <td>2017-02-01</td>\n",
       "      <td>08:13:27</td>\n",
       "      <td>8</td>\n",
       "    </tr>\n",
       "  </tbody>\n",
       "</table>\n",
       "</div>"
      ],
      "text/plain": [
       "   FlagImpaye  Montant  VerifianceCPT1  D2CB  ScoringFP1  ScoringFP2  \\\n",
       "0           0    20.00               0   551    0.000000    0.000000   \n",
       "1           0    20.00               0   551    0.000000    0.000000   \n",
       "2           0    57.64               0   549    0.000000    0.000000   \n",
       "3           0    54.29               1   267    0.000000    0.000000   \n",
       "4           0    26.90               0   549    0.003769    8.586333   \n",
       "\n",
       "   ScoringFP3  TauxImpNB_CPM  EcartNumCheq  NbrMagasin3J  DiffDateTr3  CA3TR  \\\n",
       "0    0.000000      52.076034             0             1          4.0   0.00   \n",
       "1    0.000000      52.076034             1             2          4.0   8.61   \n",
       "2    0.000000      52.076034             0             1          4.0   0.00   \n",
       "3    0.000000      53.554234             0             1          4.0   0.00   \n",
       "4    0.001192      52.076034             1             1          4.0  32.25   \n",
       "\n",
       "         Date     Heure  Heure_num  \n",
       "0  2017-02-01  07:32:14          7  \n",
       "1  2017-02-01  07:43:37          7  \n",
       "2  2017-02-01  07:47:38          7  \n",
       "3  2017-02-01  07:48:48          7  \n",
       "4  2017-02-01  08:13:27          8  "
      ]
     },
     "execution_count": 19,
     "metadata": {},
     "output_type": "execute_result"
    }
   ],
   "source": [
    "df.head()"
   ]
  },
  {
   "cell_type": "markdown",
   "id": "858cbc65",
   "metadata": {},
   "source": [
    "## III. Création des échantillons d'entraînement et de test"
   ]
  },
  {
   "cell_type": "code",
   "execution_count": 20,
   "id": "93204e6a",
   "metadata": {},
   "outputs": [],
   "source": [
    "#Création du train and test selon les consignes données dans le cahier des charges\n",
    "#les données test = données les plus récentes selon la méthodologie des séries temporelles\n",
    "train=df.loc[df['Date']<='2017-08-31']\n",
    "test=df.loc[df['Date']>='2017-09-01']"
   ]
  },
  {
   "cell_type": "code",
   "execution_count": 21,
   "id": "daca9191",
   "metadata": {},
   "outputs": [
    {
     "name": "stdout",
     "output_type": "stream",
     "text": [
      "<class 'pandas.core.frame.DataFrame'>\n",
      "Int64Index: 747410 entries, 3899362 to 4646772\n",
      "Data columns (total 15 columns):\n",
      " #   Column          Non-Null Count   Dtype  \n",
      "---  ------          --------------   -----  \n",
      " 0   FlagImpaye      747410 non-null  int64  \n",
      " 1   Montant         747410 non-null  float64\n",
      " 2   VerifianceCPT1  747410 non-null  int64  \n",
      " 3   D2CB            747410 non-null  int64  \n",
      " 4   ScoringFP1      747410 non-null  float64\n",
      " 5   ScoringFP2      747410 non-null  float64\n",
      " 6   ScoringFP3      747410 non-null  float64\n",
      " 7   TauxImpNB_CPM   747410 non-null  float64\n",
      " 8   EcartNumCheq    747410 non-null  int64  \n",
      " 9   NbrMagasin3J    747410 non-null  int64  \n",
      " 10  DiffDateTr3     747410 non-null  float64\n",
      " 11  CA3TR           747410 non-null  float64\n",
      " 12  Date            747410 non-null  object \n",
      " 13  Heure           747410 non-null  object \n",
      " 14  Heure_num       747410 non-null  int64  \n",
      "dtypes: float64(7), int64(6), object(2)\n",
      "memory usage: 91.2+ MB\n"
     ]
    }
   ],
   "source": [
    "#Test : 747 410 enregistrements #16%\n",
    "test.info()"
   ]
  },
  {
   "cell_type": "code",
   "execution_count": 22,
   "id": "8ff9ed0f",
   "metadata": {},
   "outputs": [
    {
     "data": {
      "text/plain": [
       "3899362"
      ]
     },
     "execution_count": 22,
     "metadata": {},
     "output_type": "execute_result"
    }
   ],
   "source": [
    "#Train : 3 899 362 enregistrements #84%\n",
    "train.shape[0]"
   ]
  },
  {
   "cell_type": "markdown",
   "id": "02e53b36",
   "metadata": {},
   "source": [
    "En vue d'optimiser les traitements tels les centrages-réductions, nous retirons la date ; nous avons déjà des informations temporelles conservées comme DiffDateTr1 pertinentes (écart en jours avec la précédente transaction)."
   ]
  },
  {
   "cell_type": "code",
   "execution_count": 23,
   "id": "ddd61211",
   "metadata": {},
   "outputs": [],
   "source": [
    "# Supprimer les variables \"Date\" et \"Heure\"(celle issue du split)\n",
    "train = train.drop([\"Date\",\"Heure\"], axis = \"columns\")\n",
    "test = test.drop([\"Date\",\"Heure\"], axis = \"columns\")"
   ]
  },
  {
   "cell_type": "markdown",
   "id": "c083c801",
   "metadata": {},
   "source": [
    "En vue d'optimiser les temps de traitement pour la création des modèles, nous convertissons les dataframes au format Parquet (stockage orienté colonnes)."
   ]
  },
  {
   "cell_type": "code",
   "execution_count": 24,
   "id": "497ffd13",
   "metadata": {},
   "outputs": [
    {
     "name": "stdout",
     "output_type": "stream",
     "text": [
      "FlagImpaye          int64\n",
      "Montant           float64\n",
      "VerifianceCPT1      int64\n",
      "D2CB                int64\n",
      "ScoringFP1        float64\n",
      "ScoringFP2        float64\n",
      "ScoringFP3        float64\n",
      "TauxImpNB_CPM     float64\n",
      "EcartNumCheq        int64\n",
      "NbrMagasin3J        int64\n",
      "DiffDateTr3       float64\n",
      "CA3TR             float64\n",
      "Heure_num           int64\n",
      "dtype: object\n"
     ]
    }
   ],
   "source": [
    "#Transformation en Dask du Train\n",
    "train_d=dd.from_pandas(train,npartitions=20)\n",
    "print(train_d.dtypes)"
   ]
  },
  {
   "cell_type": "code",
   "execution_count": 25,
   "id": "ebcca5af",
   "metadata": {},
   "outputs": [
    {
     "name": "stdout",
     "output_type": "stream",
     "text": [
      "FlagImpaye          int64\n",
      "Montant           float64\n",
      "VerifianceCPT1      int64\n",
      "D2CB                int64\n",
      "ScoringFP1        float64\n",
      "ScoringFP2        float64\n",
      "ScoringFP3        float64\n",
      "TauxImpNB_CPM     float64\n",
      "EcartNumCheq        int64\n",
      "NbrMagasin3J        int64\n",
      "DiffDateTr3       float64\n",
      "CA3TR             float64\n",
      "Heure_num           int64\n",
      "dtype: object\n"
     ]
    }
   ],
   "source": [
    "#Transformation en Dask du Test\n",
    "test_d=dd.from_pandas(test,npartitions=20)\n",
    "print(test_d.dtypes)"
   ]
  },
  {
   "cell_type": "code",
   "execution_count": 26,
   "id": "9229fa77",
   "metadata": {},
   "outputs": [
    {
     "data": {
      "text/plain": [
       "(None,)"
      ]
     },
     "execution_count": 26,
     "metadata": {},
     "output_type": "execute_result"
    }
   ],
   "source": [
    "# Dask en parquet\n",
    "#Train\n",
    "train_d.to_parquet('train_fast')"
   ]
  },
  {
   "cell_type": "code",
   "execution_count": 27,
   "id": "b39989ca",
   "metadata": {},
   "outputs": [
    {
     "data": {
      "text/plain": [
       "(None,)"
      ]
     },
     "execution_count": 27,
     "metadata": {},
     "output_type": "execute_result"
    }
   ],
   "source": [
    "#Test\n",
    "test_d.to_parquet('test_fast')"
   ]
  },
  {
   "cell_type": "markdown",
   "id": "f243a438",
   "metadata": {},
   "source": [
    "## IV. Vérification des datasets au format Parquet"
   ]
  },
  {
   "cell_type": "code",
   "execution_count": 28,
   "id": "7a24ae7c",
   "metadata": {},
   "outputs": [
    {
     "data": {
      "text/html": [
       "<div>\n",
       "<style scoped>\n",
       "    .dataframe tbody tr th:only-of-type {\n",
       "        vertical-align: middle;\n",
       "    }\n",
       "\n",
       "    .dataframe tbody tr th {\n",
       "        vertical-align: top;\n",
       "    }\n",
       "\n",
       "    .dataframe thead th {\n",
       "        text-align: right;\n",
       "    }\n",
       "</style>\n",
       "<table border=\"1\" class=\"dataframe\">\n",
       "  <thead>\n",
       "    <tr style=\"text-align: right;\">\n",
       "      <th></th>\n",
       "      <th>FlagImpaye</th>\n",
       "      <th>Montant</th>\n",
       "      <th>VerifianceCPT1</th>\n",
       "      <th>D2CB</th>\n",
       "      <th>ScoringFP1</th>\n",
       "      <th>ScoringFP2</th>\n",
       "      <th>ScoringFP3</th>\n",
       "      <th>TauxImpNB_CPM</th>\n",
       "      <th>EcartNumCheq</th>\n",
       "      <th>NbrMagasin3J</th>\n",
       "      <th>DiffDateTr3</th>\n",
       "      <th>CA3TR</th>\n",
       "      <th>Heure_num</th>\n",
       "    </tr>\n",
       "  </thead>\n",
       "  <tbody>\n",
       "    <tr>\n",
       "      <th>0</th>\n",
       "      <td>0</td>\n",
       "      <td>20.00</td>\n",
       "      <td>0</td>\n",
       "      <td>551</td>\n",
       "      <td>0.000000</td>\n",
       "      <td>0.000000</td>\n",
       "      <td>0.000000</td>\n",
       "      <td>52.076034</td>\n",
       "      <td>0</td>\n",
       "      <td>1</td>\n",
       "      <td>4.0</td>\n",
       "      <td>0.00</td>\n",
       "      <td>7</td>\n",
       "    </tr>\n",
       "    <tr>\n",
       "      <th>1</th>\n",
       "      <td>0</td>\n",
       "      <td>20.00</td>\n",
       "      <td>0</td>\n",
       "      <td>551</td>\n",
       "      <td>0.000000</td>\n",
       "      <td>0.000000</td>\n",
       "      <td>0.000000</td>\n",
       "      <td>52.076034</td>\n",
       "      <td>1</td>\n",
       "      <td>2</td>\n",
       "      <td>4.0</td>\n",
       "      <td>8.61</td>\n",
       "      <td>7</td>\n",
       "    </tr>\n",
       "    <tr>\n",
       "      <th>2</th>\n",
       "      <td>0</td>\n",
       "      <td>57.64</td>\n",
       "      <td>0</td>\n",
       "      <td>549</td>\n",
       "      <td>0.000000</td>\n",
       "      <td>0.000000</td>\n",
       "      <td>0.000000</td>\n",
       "      <td>52.076034</td>\n",
       "      <td>0</td>\n",
       "      <td>1</td>\n",
       "      <td>4.0</td>\n",
       "      <td>0.00</td>\n",
       "      <td>7</td>\n",
       "    </tr>\n",
       "    <tr>\n",
       "      <th>3</th>\n",
       "      <td>0</td>\n",
       "      <td>54.29</td>\n",
       "      <td>1</td>\n",
       "      <td>267</td>\n",
       "      <td>0.000000</td>\n",
       "      <td>0.000000</td>\n",
       "      <td>0.000000</td>\n",
       "      <td>53.554234</td>\n",
       "      <td>0</td>\n",
       "      <td>1</td>\n",
       "      <td>4.0</td>\n",
       "      <td>0.00</td>\n",
       "      <td>7</td>\n",
       "    </tr>\n",
       "    <tr>\n",
       "      <th>4</th>\n",
       "      <td>0</td>\n",
       "      <td>26.90</td>\n",
       "      <td>0</td>\n",
       "      <td>549</td>\n",
       "      <td>0.003769</td>\n",
       "      <td>8.586333</td>\n",
       "      <td>0.001192</td>\n",
       "      <td>52.076034</td>\n",
       "      <td>1</td>\n",
       "      <td>1</td>\n",
       "      <td>4.0</td>\n",
       "      <td>32.25</td>\n",
       "      <td>8</td>\n",
       "    </tr>\n",
       "  </tbody>\n",
       "</table>\n",
       "</div>"
      ],
      "text/plain": [
       "   FlagImpaye  Montant  VerifianceCPT1  D2CB  ScoringFP1  ScoringFP2  \\\n",
       "0           0    20.00               0   551    0.000000    0.000000   \n",
       "1           0    20.00               0   551    0.000000    0.000000   \n",
       "2           0    57.64               0   549    0.000000    0.000000   \n",
       "3           0    54.29               1   267    0.000000    0.000000   \n",
       "4           0    26.90               0   549    0.003769    8.586333   \n",
       "\n",
       "   ScoringFP3  TauxImpNB_CPM  EcartNumCheq  NbrMagasin3J  DiffDateTr3  CA3TR  \\\n",
       "0    0.000000      52.076034             0             1          4.0   0.00   \n",
       "1    0.000000      52.076034             1             2          4.0   8.61   \n",
       "2    0.000000      52.076034             0             1          4.0   0.00   \n",
       "3    0.000000      53.554234             0             1          4.0   0.00   \n",
       "4    0.001192      52.076034             1             1          4.0  32.25   \n",
       "\n",
       "   Heure_num  \n",
       "0          7  \n",
       "1          7  \n",
       "2          7  \n",
       "3          7  \n",
       "4          8  "
      ]
     },
     "execution_count": 28,
     "metadata": {},
     "output_type": "execute_result"
    }
   ],
   "source": [
    "Train=dd.read_parquet('train_fast')\n",
    "Train.head()"
   ]
  },
  {
   "cell_type": "code",
   "execution_count": 29,
   "id": "857ea6d5",
   "metadata": {},
   "outputs": [
    {
     "name": "stdout",
     "output_type": "stream",
     "text": [
      "<class 'dask.dataframe.core.DataFrame'>\n",
      "Columns: 13 entries, FlagImpaye to Heure_num\n",
      "dtypes: float64(7), int64(6)"
     ]
    }
   ],
   "source": [
    "Test=dd.read_parquet('test_fast')\n",
    "Test.info()"
   ]
  },
  {
   "cell_type": "markdown",
   "id": "3e250758",
   "metadata": {},
   "source": [
    "## V.Recalibrage des données"
   ]
  },
  {
   "cell_type": "markdown",
   "id": "1e479ac7",
   "metadata": {},
   "source": [
    "Le taux de fraudes est de 0.6% dans l'échantillon d'apprentissage. Afin de pouvoir améliorer le taux de détection des fraudes en phase prédictive, une phase de recalibrage est à réaliser. \n",
    "\n",
    "**Nous réaliserons quelques benchmarks des méthodes de recalibrage.** "
   ]
  },
  {
   "cell_type": "code",
   "execution_count": 30,
   "id": "539e6de9",
   "metadata": {},
   "outputs": [
    {
     "name": "stdout",
     "output_type": "stream",
     "text": [
      "0    0.993993\n",
      "1    0.006007\n",
      "Name: FlagImpaye, dtype: float64\n"
     ]
    }
   ],
   "source": [
    "#Quel est le taux de fraudes dans l'échantillon d'apprentissage ?\n",
    "print(Train['FlagImpaye']. value_counts(normalize = True).compute())"
   ]
  },
  {
   "cell_type": "code",
   "execution_count": 31,
   "id": "98748915",
   "metadata": {},
   "outputs": [
    {
     "name": "stdout",
     "output_type": "stream",
     "text": [
      "0    3875940\n",
      "1      23422\n",
      "Name: FlagImpaye, dtype: int64\n"
     ]
    }
   ],
   "source": [
    "#Quel est le nombre de fraudeurs dans l'échantillon d'apprentissage ?\n",
    "print(Train['FlagImpaye']. value_counts(normalize = False).compute())"
   ]
  },
  {
   "cell_type": "code",
   "execution_count": 32,
   "id": "f45aa7e4",
   "metadata": {},
   "outputs": [
    {
     "name": "stdout",
     "output_type": "stream",
     "text": [
      "0    0.991206\n",
      "1    0.008794\n",
      "Name: FlagImpaye, dtype: float64\n"
     ]
    }
   ],
   "source": [
    "#Véerification : quel est le taux de fraudes dans l'échantillon de test ?\n",
    "print(Test['FlagImpaye']. value_counts(normalize = True).compute())"
   ]
  },
  {
   "cell_type": "code",
   "execution_count": 33,
   "id": "40582356",
   "metadata": {},
   "outputs": [
    {
     "name": "stdout",
     "output_type": "stream",
     "text": [
      "0    3875940\n",
      "1      23422\n",
      "Name: FlagImpaye, dtype: int64\n"
     ]
    }
   ],
   "source": [
    "#Quel est le nombre de fraudeurs dans l'échantillon de test ?\n",
    "print(Test['FlagImpaye']. value_counts(normalize = False).compute())"
   ]
  },
  {
   "cell_type": "code",
   "execution_count": 34,
   "id": "6667d084",
   "metadata": {},
   "outputs": [],
   "source": [
    "# Séparation de XTrain et yTrain \n",
    "XTrain = train_d.drop([\"FlagImpaye\"], axis = \"columns\")\n",
    "yTrain = train_d[\"FlagImpaye\"]"
   ]
  },
  {
   "cell_type": "markdown",
   "id": "ac96a47d",
   "metadata": {},
   "source": [
    "**(1) Recalibrage SMOTE simple pour aggrandir la classe positive (classe des fraudeurs, minoritaire) à 50%**"
   ]
  },
  {
   "cell_type": "markdown",
   "id": "551f6cc4",
   "metadata": {},
   "source": [
    "Principe : Les points de données de la classe minoritaire ('Flag_impayé' = 1), sont sur-échantillonnés en introduisant des exemples synthétiques le long des segments de droite joignant les k plus-proches voisins de la classe minoritaire (où k est un paramètre défini par l’utilisateur : nous le fixons à 3)."
   ]
  },
  {
   "cell_type": "code",
   "execution_count": 35,
   "id": "a18c066b",
   "metadata": {},
   "outputs": [],
   "source": [
    "#pip install imblearn"
   ]
  },
  {
   "cell_type": "code",
   "execution_count": 36,
   "id": "53d0b5fe",
   "metadata": {},
   "outputs": [],
   "source": [
    "from imblearn.over_sampling import SMOTE\n",
    "\n",
    "smote = SMOTE(random_state = 0, k_neighbors=3) \n",
    "\n",
    "XTrain_SMOTE, yTrain_SMOTE = smote.fit_resample(XTrain, yTrain)"
   ]
  },
  {
   "cell_type": "code",
   "execution_count": 37,
   "id": "66ff6894",
   "metadata": {},
   "outputs": [
    {
     "data": {
      "text/html": [
       "<div>\n",
       "<style scoped>\n",
       "    .dataframe tbody tr th:only-of-type {\n",
       "        vertical-align: middle;\n",
       "    }\n",
       "\n",
       "    .dataframe tbody tr th {\n",
       "        vertical-align: top;\n",
       "    }\n",
       "\n",
       "    .dataframe thead th {\n",
       "        text-align: right;\n",
       "    }\n",
       "</style>\n",
       "<table border=\"1\" class=\"dataframe\">\n",
       "  <thead>\n",
       "    <tr style=\"text-align: right;\">\n",
       "      <th></th>\n",
       "      <th>Montant</th>\n",
       "      <th>VerifianceCPT1</th>\n",
       "      <th>D2CB</th>\n",
       "      <th>ScoringFP1</th>\n",
       "      <th>ScoringFP2</th>\n",
       "      <th>ScoringFP3</th>\n",
       "      <th>TauxImpNB_CPM</th>\n",
       "      <th>EcartNumCheq</th>\n",
       "      <th>NbrMagasin3J</th>\n",
       "      <th>DiffDateTr3</th>\n",
       "      <th>CA3TR</th>\n",
       "      <th>Heure_num</th>\n",
       "    </tr>\n",
       "  </thead>\n",
       "  <tbody>\n",
       "    <tr>\n",
       "      <th>0</th>\n",
       "      <td>20.00</td>\n",
       "      <td>0</td>\n",
       "      <td>551</td>\n",
       "      <td>0.000000</td>\n",
       "      <td>0.000000</td>\n",
       "      <td>0.000000</td>\n",
       "      <td>52.076034</td>\n",
       "      <td>0</td>\n",
       "      <td>1</td>\n",
       "      <td>4.0</td>\n",
       "      <td>0.00</td>\n",
       "      <td>7</td>\n",
       "    </tr>\n",
       "    <tr>\n",
       "      <th>1</th>\n",
       "      <td>20.00</td>\n",
       "      <td>0</td>\n",
       "      <td>551</td>\n",
       "      <td>0.000000</td>\n",
       "      <td>0.000000</td>\n",
       "      <td>0.000000</td>\n",
       "      <td>52.076034</td>\n",
       "      <td>1</td>\n",
       "      <td>2</td>\n",
       "      <td>4.0</td>\n",
       "      <td>8.61</td>\n",
       "      <td>7</td>\n",
       "    </tr>\n",
       "    <tr>\n",
       "      <th>2</th>\n",
       "      <td>57.64</td>\n",
       "      <td>0</td>\n",
       "      <td>549</td>\n",
       "      <td>0.000000</td>\n",
       "      <td>0.000000</td>\n",
       "      <td>0.000000</td>\n",
       "      <td>52.076034</td>\n",
       "      <td>0</td>\n",
       "      <td>1</td>\n",
       "      <td>4.0</td>\n",
       "      <td>0.00</td>\n",
       "      <td>7</td>\n",
       "    </tr>\n",
       "    <tr>\n",
       "      <th>3</th>\n",
       "      <td>54.29</td>\n",
       "      <td>1</td>\n",
       "      <td>267</td>\n",
       "      <td>0.000000</td>\n",
       "      <td>0.000000</td>\n",
       "      <td>0.000000</td>\n",
       "      <td>53.554234</td>\n",
       "      <td>0</td>\n",
       "      <td>1</td>\n",
       "      <td>4.0</td>\n",
       "      <td>0.00</td>\n",
       "      <td>7</td>\n",
       "    </tr>\n",
       "    <tr>\n",
       "      <th>4</th>\n",
       "      <td>26.90</td>\n",
       "      <td>0</td>\n",
       "      <td>549</td>\n",
       "      <td>0.003769</td>\n",
       "      <td>8.586333</td>\n",
       "      <td>0.001192</td>\n",
       "      <td>52.076034</td>\n",
       "      <td>1</td>\n",
       "      <td>1</td>\n",
       "      <td>4.0</td>\n",
       "      <td>32.25</td>\n",
       "      <td>8</td>\n",
       "    </tr>\n",
       "  </tbody>\n",
       "</table>\n",
       "</div>"
      ],
      "text/plain": [
       "   Montant  VerifianceCPT1  D2CB  ScoringFP1  ScoringFP2  ScoringFP3  \\\n",
       "0    20.00               0   551    0.000000    0.000000    0.000000   \n",
       "1    20.00               0   551    0.000000    0.000000    0.000000   \n",
       "2    57.64               0   549    0.000000    0.000000    0.000000   \n",
       "3    54.29               1   267    0.000000    0.000000    0.000000   \n",
       "4    26.90               0   549    0.003769    8.586333    0.001192   \n",
       "\n",
       "   TauxImpNB_CPM  EcartNumCheq  NbrMagasin3J  DiffDateTr3  CA3TR  Heure_num  \n",
       "0      52.076034             0             1          4.0   0.00          7  \n",
       "1      52.076034             1             2          4.0   8.61          7  \n",
       "2      52.076034             0             1          4.0   0.00          7  \n",
       "3      53.554234             0             1          4.0   0.00          7  \n",
       "4      52.076034             1             1          4.0  32.25          8  "
      ]
     },
     "execution_count": 37,
     "metadata": {},
     "output_type": "execute_result"
    }
   ],
   "source": [
    "XTrain_SMOTE.head()"
   ]
  },
  {
   "cell_type": "code",
   "execution_count": 38,
   "id": "e1580e74",
   "metadata": {},
   "outputs": [
    {
     "name": "stdout",
     "output_type": "stream",
     "text": [
      "Nombre d'exemples avec SMOTE - 3 plus proches voisins = 7751880\n"
     ]
    }
   ],
   "source": [
    "print(\"Nombre d'exemples avec SMOTE - 3 plus proches voisins = \" + str(XTrain_SMOTE.shape[0]))"
   ]
  },
  {
   "cell_type": "code",
   "execution_count": 39,
   "id": "95695574",
   "metadata": {},
   "outputs": [
    {
     "name": "stdout",
     "output_type": "stream",
     "text": [
      "0    0.5\n",
      "1    0.5\n",
      "Name: FlagImpaye, dtype: float64\n"
     ]
    }
   ],
   "source": [
    "# Répartition fraudeurs / non fraudeurs\n",
    "print(yTrain_SMOTE.value_counts(normalize = True))"
   ]
  },
  {
   "cell_type": "code",
   "execution_count": 40,
   "id": "7cff6fc0",
   "metadata": {},
   "outputs": [
    {
     "data": {
      "text/html": [
       "<div>\n",
       "<style scoped>\n",
       "    .dataframe tbody tr th:only-of-type {\n",
       "        vertical-align: middle;\n",
       "    }\n",
       "\n",
       "    .dataframe tbody tr th {\n",
       "        vertical-align: top;\n",
       "    }\n",
       "\n",
       "    .dataframe thead th {\n",
       "        text-align: right;\n",
       "    }\n",
       "</style>\n",
       "<table border=\"1\" class=\"dataframe\">\n",
       "  <thead>\n",
       "    <tr style=\"text-align: right;\">\n",
       "      <th></th>\n",
       "      <th>Montant</th>\n",
       "      <th>VerifianceCPT1</th>\n",
       "      <th>D2CB</th>\n",
       "      <th>ScoringFP1</th>\n",
       "      <th>ScoringFP2</th>\n",
       "      <th>ScoringFP3</th>\n",
       "      <th>TauxImpNB_CPM</th>\n",
       "      <th>EcartNumCheq</th>\n",
       "      <th>NbrMagasin3J</th>\n",
       "      <th>DiffDateTr3</th>\n",
       "      <th>CA3TR</th>\n",
       "      <th>Heure_num</th>\n",
       "      <th>FlagImpaye</th>\n",
       "    </tr>\n",
       "  </thead>\n",
       "  <tbody>\n",
       "    <tr>\n",
       "      <th>0</th>\n",
       "      <td>20.00</td>\n",
       "      <td>0</td>\n",
       "      <td>551</td>\n",
       "      <td>0.000000</td>\n",
       "      <td>0.000000</td>\n",
       "      <td>0.000000</td>\n",
       "      <td>52.076034</td>\n",
       "      <td>0</td>\n",
       "      <td>1</td>\n",
       "      <td>4.0</td>\n",
       "      <td>0.00</td>\n",
       "      <td>7</td>\n",
       "      <td>0</td>\n",
       "    </tr>\n",
       "    <tr>\n",
       "      <th>1</th>\n",
       "      <td>20.00</td>\n",
       "      <td>0</td>\n",
       "      <td>551</td>\n",
       "      <td>0.000000</td>\n",
       "      <td>0.000000</td>\n",
       "      <td>0.000000</td>\n",
       "      <td>52.076034</td>\n",
       "      <td>1</td>\n",
       "      <td>2</td>\n",
       "      <td>4.0</td>\n",
       "      <td>8.61</td>\n",
       "      <td>7</td>\n",
       "      <td>0</td>\n",
       "    </tr>\n",
       "    <tr>\n",
       "      <th>2</th>\n",
       "      <td>57.64</td>\n",
       "      <td>0</td>\n",
       "      <td>549</td>\n",
       "      <td>0.000000</td>\n",
       "      <td>0.000000</td>\n",
       "      <td>0.000000</td>\n",
       "      <td>52.076034</td>\n",
       "      <td>0</td>\n",
       "      <td>1</td>\n",
       "      <td>4.0</td>\n",
       "      <td>0.00</td>\n",
       "      <td>7</td>\n",
       "      <td>0</td>\n",
       "    </tr>\n",
       "    <tr>\n",
       "      <th>3</th>\n",
       "      <td>54.29</td>\n",
       "      <td>1</td>\n",
       "      <td>267</td>\n",
       "      <td>0.000000</td>\n",
       "      <td>0.000000</td>\n",
       "      <td>0.000000</td>\n",
       "      <td>53.554234</td>\n",
       "      <td>0</td>\n",
       "      <td>1</td>\n",
       "      <td>4.0</td>\n",
       "      <td>0.00</td>\n",
       "      <td>7</td>\n",
       "      <td>0</td>\n",
       "    </tr>\n",
       "    <tr>\n",
       "      <th>4</th>\n",
       "      <td>26.90</td>\n",
       "      <td>0</td>\n",
       "      <td>549</td>\n",
       "      <td>0.003769</td>\n",
       "      <td>8.586333</td>\n",
       "      <td>0.001192</td>\n",
       "      <td>52.076034</td>\n",
       "      <td>1</td>\n",
       "      <td>1</td>\n",
       "      <td>4.0</td>\n",
       "      <td>32.25</td>\n",
       "      <td>8</td>\n",
       "      <td>0</td>\n",
       "    </tr>\n",
       "  </tbody>\n",
       "</table>\n",
       "</div>"
      ],
      "text/plain": [
       "   Montant  VerifianceCPT1  D2CB  ScoringFP1  ScoringFP2  ScoringFP3  \\\n",
       "0    20.00               0   551    0.000000    0.000000    0.000000   \n",
       "1    20.00               0   551    0.000000    0.000000    0.000000   \n",
       "2    57.64               0   549    0.000000    0.000000    0.000000   \n",
       "3    54.29               1   267    0.000000    0.000000    0.000000   \n",
       "4    26.90               0   549    0.003769    8.586333    0.001192   \n",
       "\n",
       "   TauxImpNB_CPM  EcartNumCheq  NbrMagasin3J  DiffDateTr3  CA3TR  Heure_num  \\\n",
       "0      52.076034             0             1          4.0   0.00          7   \n",
       "1      52.076034             1             2          4.0   8.61          7   \n",
       "2      52.076034             0             1          4.0   0.00          7   \n",
       "3      53.554234             0             1          4.0   0.00          7   \n",
       "4      52.076034             1             1          4.0  32.25          8   \n",
       "\n",
       "   FlagImpaye  \n",
       "0           0  \n",
       "1           0  \n",
       "2           0  \n",
       "3           0  \n",
       "4           0  "
      ]
     },
     "execution_count": 40,
     "metadata": {},
     "output_type": "execute_result"
    }
   ],
   "source": [
    "train_SMOTE = XTrain_SMOTE\n",
    "train_SMOTE[\"FlagImpaye\"] = yTrain_SMOTE\n",
    "train_SMOTE.head()"
   ]
  },
  {
   "cell_type": "code",
   "execution_count": 41,
   "id": "04ce5f91",
   "metadata": {},
   "outputs": [
    {
     "name": "stdout",
     "output_type": "stream",
     "text": [
      "Dask DataFrame Structure:\n",
      "                Montant VerifianceCPT1   D2CB ScoringFP1 ScoringFP2 ScoringFP3 TauxImpNB_CPM EcartNumCheq NbrMagasin3J DiffDateTr3    CA3TR Heure_num FlagImpaye\n",
      "npartitions=20                                                                                                                                                  \n",
      "0               float64          int64  int64    float64    float64    float64       float64        int64        int64     float64  float64     int64      int64\n",
      "387594              ...            ...    ...        ...        ...        ...           ...          ...          ...         ...      ...       ...        ...\n",
      "...                 ...            ...    ...        ...        ...        ...           ...          ...          ...         ...      ...       ...        ...\n",
      "7364286             ...            ...    ...        ...        ...        ...           ...          ...          ...         ...      ...       ...        ...\n",
      "7751879             ...            ...    ...        ...        ...        ...           ...          ...          ...         ...      ...       ...        ...\n",
      "Dask Name: from_pandas, 20 tasks\n"
     ]
    }
   ],
   "source": [
    "#Conversion du dataframe suréchantillonné\n",
    "train_SMOTE_d = dd.from_pandas(train_SMOTE, npartitions=20)\n",
    "print(train_SMOTE_d)"
   ]
  },
  {
   "cell_type": "code",
   "execution_count": 42,
   "id": "091b9940",
   "metadata": {},
   "outputs": [
    {
     "data": {
      "text/plain": [
       "(None,)"
      ]
     },
     "execution_count": 42,
     "metadata": {},
     "output_type": "execute_result"
    }
   ],
   "source": [
    "# Le dataframe propre d’apprentissage avec sur-échantillonnage : dfTrain_SMOTE_parquet\n",
    "train_SMOTE_d.to_parquet('train_SMOTE')"
   ]
  },
  {
   "cell_type": "markdown",
   "id": "e776d2eb",
   "metadata": {},
   "source": [
    "**(2) Recalibrage borderline SMOTE pour aggrandir la classe positive (classe des fraudeurs, minoritaire) à 50%, avec meilleure prise en compte des exemples borderline**"
   ]
  },
  {
   "cell_type": "markdown",
   "id": "d0132550",
   "metadata": {},
   "source": [
    "Principe : un deuxième paramètre, k’, fixé à 2, sert à déterminer les exemples borderline - c’est-à-dire les exemples dont la majorité des voisins appartiennent à la classe majoritaire."
   ]
  },
  {
   "cell_type": "code",
   "execution_count": 43,
   "id": "b0e47532",
   "metadata": {},
   "outputs": [],
   "source": [
    "#from imblearn.over_sampling import Bordeline SMOTE# ajout du paramètre : m_neighbors \n",
    "\n",
    "from imblearn.over_sampling import BorderlineSMOTE\n",
    "sm = BorderlineSMOTE(random_state = 0, k_neighbors=3, m_neighbors=2,sampling_strategy ='minority') \n",
    "\n",
    "XTrain_borderS, yTrain_borderS = sm.fit_resample(XTrain, yTrain)"
   ]
  },
  {
   "cell_type": "code",
   "execution_count": 44,
   "id": "40eaf2dd",
   "metadata": {},
   "outputs": [
    {
     "data": {
      "text/html": [
       "<div>\n",
       "<style scoped>\n",
       "    .dataframe tbody tr th:only-of-type {\n",
       "        vertical-align: middle;\n",
       "    }\n",
       "\n",
       "    .dataframe tbody tr th {\n",
       "        vertical-align: top;\n",
       "    }\n",
       "\n",
       "    .dataframe thead th {\n",
       "        text-align: right;\n",
       "    }\n",
       "</style>\n",
       "<table border=\"1\" class=\"dataframe\">\n",
       "  <thead>\n",
       "    <tr style=\"text-align: right;\">\n",
       "      <th></th>\n",
       "      <th>Montant</th>\n",
       "      <th>VerifianceCPT1</th>\n",
       "      <th>D2CB</th>\n",
       "      <th>ScoringFP1</th>\n",
       "      <th>ScoringFP2</th>\n",
       "      <th>ScoringFP3</th>\n",
       "      <th>TauxImpNB_CPM</th>\n",
       "      <th>EcartNumCheq</th>\n",
       "      <th>NbrMagasin3J</th>\n",
       "      <th>DiffDateTr3</th>\n",
       "      <th>CA3TR</th>\n",
       "      <th>Heure_num</th>\n",
       "    </tr>\n",
       "  </thead>\n",
       "  <tbody>\n",
       "    <tr>\n",
       "      <th>0</th>\n",
       "      <td>20.00</td>\n",
       "      <td>0</td>\n",
       "      <td>551</td>\n",
       "      <td>0.000000</td>\n",
       "      <td>0.000000</td>\n",
       "      <td>0.000000</td>\n",
       "      <td>52.076034</td>\n",
       "      <td>0</td>\n",
       "      <td>1</td>\n",
       "      <td>4.0</td>\n",
       "      <td>0.00</td>\n",
       "      <td>7</td>\n",
       "    </tr>\n",
       "    <tr>\n",
       "      <th>1</th>\n",
       "      <td>20.00</td>\n",
       "      <td>0</td>\n",
       "      <td>551</td>\n",
       "      <td>0.000000</td>\n",
       "      <td>0.000000</td>\n",
       "      <td>0.000000</td>\n",
       "      <td>52.076034</td>\n",
       "      <td>1</td>\n",
       "      <td>2</td>\n",
       "      <td>4.0</td>\n",
       "      <td>8.61</td>\n",
       "      <td>7</td>\n",
       "    </tr>\n",
       "    <tr>\n",
       "      <th>2</th>\n",
       "      <td>57.64</td>\n",
       "      <td>0</td>\n",
       "      <td>549</td>\n",
       "      <td>0.000000</td>\n",
       "      <td>0.000000</td>\n",
       "      <td>0.000000</td>\n",
       "      <td>52.076034</td>\n",
       "      <td>0</td>\n",
       "      <td>1</td>\n",
       "      <td>4.0</td>\n",
       "      <td>0.00</td>\n",
       "      <td>7</td>\n",
       "    </tr>\n",
       "    <tr>\n",
       "      <th>3</th>\n",
       "      <td>54.29</td>\n",
       "      <td>1</td>\n",
       "      <td>267</td>\n",
       "      <td>0.000000</td>\n",
       "      <td>0.000000</td>\n",
       "      <td>0.000000</td>\n",
       "      <td>53.554234</td>\n",
       "      <td>0</td>\n",
       "      <td>1</td>\n",
       "      <td>4.0</td>\n",
       "      <td>0.00</td>\n",
       "      <td>7</td>\n",
       "    </tr>\n",
       "    <tr>\n",
       "      <th>4</th>\n",
       "      <td>26.90</td>\n",
       "      <td>0</td>\n",
       "      <td>549</td>\n",
       "      <td>0.003769</td>\n",
       "      <td>8.586333</td>\n",
       "      <td>0.001192</td>\n",
       "      <td>52.076034</td>\n",
       "      <td>1</td>\n",
       "      <td>1</td>\n",
       "      <td>4.0</td>\n",
       "      <td>32.25</td>\n",
       "      <td>8</td>\n",
       "    </tr>\n",
       "  </tbody>\n",
       "</table>\n",
       "</div>"
      ],
      "text/plain": [
       "   Montant  VerifianceCPT1  D2CB  ScoringFP1  ScoringFP2  ScoringFP3  \\\n",
       "0    20.00               0   551    0.000000    0.000000    0.000000   \n",
       "1    20.00               0   551    0.000000    0.000000    0.000000   \n",
       "2    57.64               0   549    0.000000    0.000000    0.000000   \n",
       "3    54.29               1   267    0.000000    0.000000    0.000000   \n",
       "4    26.90               0   549    0.003769    8.586333    0.001192   \n",
       "\n",
       "   TauxImpNB_CPM  EcartNumCheq  NbrMagasin3J  DiffDateTr3  CA3TR  Heure_num  \n",
       "0      52.076034             0             1          4.0   0.00          7  \n",
       "1      52.076034             1             2          4.0   8.61          7  \n",
       "2      52.076034             0             1          4.0   0.00          7  \n",
       "3      53.554234             0             1          4.0   0.00          7  \n",
       "4      52.076034             1             1          4.0  32.25          8  "
      ]
     },
     "execution_count": 44,
     "metadata": {},
     "output_type": "execute_result"
    }
   ],
   "source": [
    "XTrain_borderS.head()"
   ]
  },
  {
   "cell_type": "code",
   "execution_count": 45,
   "id": "5bef2e80",
   "metadata": {},
   "outputs": [
    {
     "name": "stdout",
     "output_type": "stream",
     "text": [
      "Nombre d'exemples avec borderline SMOTE = 7751880\n"
     ]
    }
   ],
   "source": [
    "print(\"Nombre d'exemples avec borderline SMOTE = \" + str(XTrain_borderS.shape[0]))"
   ]
  },
  {
   "cell_type": "code",
   "execution_count": 46,
   "id": "53ca5222",
   "metadata": {},
   "outputs": [
    {
     "name": "stdout",
     "output_type": "stream",
     "text": [
      "0    0.5\n",
      "1    0.5\n",
      "Name: FlagImpaye, dtype: float64\n"
     ]
    }
   ],
   "source": [
    "# Répartition fraudeurs / non fraudeurs\n",
    "print(yTrain_borderS.value_counts(normalize = True))"
   ]
  },
  {
   "cell_type": "code",
   "execution_count": 47,
   "id": "4f8225ce",
   "metadata": {},
   "outputs": [
    {
     "data": {
      "text/html": [
       "<div>\n",
       "<style scoped>\n",
       "    .dataframe tbody tr th:only-of-type {\n",
       "        vertical-align: middle;\n",
       "    }\n",
       "\n",
       "    .dataframe tbody tr th {\n",
       "        vertical-align: top;\n",
       "    }\n",
       "\n",
       "    .dataframe thead th {\n",
       "        text-align: right;\n",
       "    }\n",
       "</style>\n",
       "<table border=\"1\" class=\"dataframe\">\n",
       "  <thead>\n",
       "    <tr style=\"text-align: right;\">\n",
       "      <th></th>\n",
       "      <th>Montant</th>\n",
       "      <th>VerifianceCPT1</th>\n",
       "      <th>D2CB</th>\n",
       "      <th>ScoringFP1</th>\n",
       "      <th>ScoringFP2</th>\n",
       "      <th>ScoringFP3</th>\n",
       "      <th>TauxImpNB_CPM</th>\n",
       "      <th>EcartNumCheq</th>\n",
       "      <th>NbrMagasin3J</th>\n",
       "      <th>DiffDateTr3</th>\n",
       "      <th>CA3TR</th>\n",
       "      <th>Heure_num</th>\n",
       "      <th>FlagImpaye</th>\n",
       "    </tr>\n",
       "  </thead>\n",
       "  <tbody>\n",
       "    <tr>\n",
       "      <th>0</th>\n",
       "      <td>20.00</td>\n",
       "      <td>0</td>\n",
       "      <td>551</td>\n",
       "      <td>0.000000</td>\n",
       "      <td>0.000000</td>\n",
       "      <td>0.000000</td>\n",
       "      <td>52.076034</td>\n",
       "      <td>0</td>\n",
       "      <td>1</td>\n",
       "      <td>4.0</td>\n",
       "      <td>0.00</td>\n",
       "      <td>7</td>\n",
       "      <td>0</td>\n",
       "    </tr>\n",
       "    <tr>\n",
       "      <th>1</th>\n",
       "      <td>20.00</td>\n",
       "      <td>0</td>\n",
       "      <td>551</td>\n",
       "      <td>0.000000</td>\n",
       "      <td>0.000000</td>\n",
       "      <td>0.000000</td>\n",
       "      <td>52.076034</td>\n",
       "      <td>1</td>\n",
       "      <td>2</td>\n",
       "      <td>4.0</td>\n",
       "      <td>8.61</td>\n",
       "      <td>7</td>\n",
       "      <td>0</td>\n",
       "    </tr>\n",
       "    <tr>\n",
       "      <th>2</th>\n",
       "      <td>57.64</td>\n",
       "      <td>0</td>\n",
       "      <td>549</td>\n",
       "      <td>0.000000</td>\n",
       "      <td>0.000000</td>\n",
       "      <td>0.000000</td>\n",
       "      <td>52.076034</td>\n",
       "      <td>0</td>\n",
       "      <td>1</td>\n",
       "      <td>4.0</td>\n",
       "      <td>0.00</td>\n",
       "      <td>7</td>\n",
       "      <td>0</td>\n",
       "    </tr>\n",
       "    <tr>\n",
       "      <th>3</th>\n",
       "      <td>54.29</td>\n",
       "      <td>1</td>\n",
       "      <td>267</td>\n",
       "      <td>0.000000</td>\n",
       "      <td>0.000000</td>\n",
       "      <td>0.000000</td>\n",
       "      <td>53.554234</td>\n",
       "      <td>0</td>\n",
       "      <td>1</td>\n",
       "      <td>4.0</td>\n",
       "      <td>0.00</td>\n",
       "      <td>7</td>\n",
       "      <td>0</td>\n",
       "    </tr>\n",
       "    <tr>\n",
       "      <th>4</th>\n",
       "      <td>26.90</td>\n",
       "      <td>0</td>\n",
       "      <td>549</td>\n",
       "      <td>0.003769</td>\n",
       "      <td>8.586333</td>\n",
       "      <td>0.001192</td>\n",
       "      <td>52.076034</td>\n",
       "      <td>1</td>\n",
       "      <td>1</td>\n",
       "      <td>4.0</td>\n",
       "      <td>32.25</td>\n",
       "      <td>8</td>\n",
       "      <td>0</td>\n",
       "    </tr>\n",
       "  </tbody>\n",
       "</table>\n",
       "</div>"
      ],
      "text/plain": [
       "   Montant  VerifianceCPT1  D2CB  ScoringFP1  ScoringFP2  ScoringFP3  \\\n",
       "0    20.00               0   551    0.000000    0.000000    0.000000   \n",
       "1    20.00               0   551    0.000000    0.000000    0.000000   \n",
       "2    57.64               0   549    0.000000    0.000000    0.000000   \n",
       "3    54.29               1   267    0.000000    0.000000    0.000000   \n",
       "4    26.90               0   549    0.003769    8.586333    0.001192   \n",
       "\n",
       "   TauxImpNB_CPM  EcartNumCheq  NbrMagasin3J  DiffDateTr3  CA3TR  Heure_num  \\\n",
       "0      52.076034             0             1          4.0   0.00          7   \n",
       "1      52.076034             1             2          4.0   8.61          7   \n",
       "2      52.076034             0             1          4.0   0.00          7   \n",
       "3      53.554234             0             1          4.0   0.00          7   \n",
       "4      52.076034             1             1          4.0  32.25          8   \n",
       "\n",
       "   FlagImpaye  \n",
       "0           0  \n",
       "1           0  \n",
       "2           0  \n",
       "3           0  \n",
       "4           0  "
      ]
     },
     "execution_count": 47,
     "metadata": {},
     "output_type": "execute_result"
    }
   ],
   "source": [
    "train_borderS= XTrain_borderS\n",
    "train_borderS[\"FlagImpaye\"] = yTrain_borderS\n",
    "train_borderS.head()"
   ]
  },
  {
   "cell_type": "code",
   "execution_count": 48,
   "id": "12762b92",
   "metadata": {},
   "outputs": [
    {
     "name": "stdout",
     "output_type": "stream",
     "text": [
      "Dask DataFrame Structure:\n",
      "                Montant VerifianceCPT1   D2CB ScoringFP1 ScoringFP2 ScoringFP3 TauxImpNB_CPM EcartNumCheq NbrMagasin3J DiffDateTr3    CA3TR Heure_num FlagImpaye\n",
      "npartitions=20                                                                                                                                                  \n",
      "0               float64          int64  int64    float64    float64    float64       float64        int64        int64     float64  float64     int64      int64\n",
      "387594              ...            ...    ...        ...        ...        ...           ...          ...          ...         ...      ...       ...        ...\n",
      "...                 ...            ...    ...        ...        ...        ...           ...          ...          ...         ...      ...       ...        ...\n",
      "7364286             ...            ...    ...        ...        ...        ...           ...          ...          ...         ...      ...       ...        ...\n",
      "7751879             ...            ...    ...        ...        ...        ...           ...          ...          ...         ...      ...       ...        ...\n",
      "Dask Name: from_pandas, 20 tasks\n"
     ]
    }
   ],
   "source": [
    "train_borderS_d = dd.from_pandas(train_borderS, npartitions=20)\n",
    "print(train_borderS_d)"
   ]
  },
  {
   "cell_type": "code",
   "execution_count": 49,
   "id": "6328f243",
   "metadata": {},
   "outputs": [
    {
     "data": {
      "text/plain": [
       "(None,)"
      ]
     },
     "execution_count": 49,
     "metadata": {},
     "output_type": "execute_result"
    }
   ],
   "source": [
    "# Le dataframe propre d’apprentissage avec sur-échantillonnage : dfTrain_SMOTE_parquet\n",
    "train_borderS_d.to_parquet('train_borderS')"
   ]
  },
  {
   "cell_type": "markdown",
   "id": "a0edef49",
   "metadata": {},
   "source": [
    "**(3). Recalibrage avec Adasyn**"
   ]
  },
  {
   "cell_type": "markdown",
   "id": "ea60034a",
   "metadata": {},
   "source": [
    "Cette méthode génère des exemples en fonction d'une estimation de la distribution locale de la classe à suréchantillonner."
   ]
  },
  {
   "cell_type": "code",
   "execution_count": 57,
   "id": "6862a655",
   "metadata": {},
   "outputs": [],
   "source": [
    "#from imblearn.over_sampling import Adasyn. Paramètre n_neighbors = 3 \n",
    "\n",
    "from imblearn.over_sampling import ADASYN\n",
    "ada = ADASYN(random_state = 0, n_neighbors=3,sampling_strategy ='minority') \n",
    "\n",
    "XTrain_ADA, yTrain_ADA = ada.fit_resample(XTrain, yTrain)"
   ]
  },
  {
   "cell_type": "code",
   "execution_count": 55,
   "id": "7efda4cf",
   "metadata": {},
   "outputs": [
    {
     "data": {
      "text/html": [
       "<div>\n",
       "<style scoped>\n",
       "    .dataframe tbody tr th:only-of-type {\n",
       "        vertical-align: middle;\n",
       "    }\n",
       "\n",
       "    .dataframe tbody tr th {\n",
       "        vertical-align: top;\n",
       "    }\n",
       "\n",
       "    .dataframe thead th {\n",
       "        text-align: right;\n",
       "    }\n",
       "</style>\n",
       "<table border=\"1\" class=\"dataframe\">\n",
       "  <thead>\n",
       "    <tr style=\"text-align: right;\">\n",
       "      <th></th>\n",
       "      <th>Montant</th>\n",
       "      <th>VerifianceCPT1</th>\n",
       "      <th>D2CB</th>\n",
       "      <th>ScoringFP1</th>\n",
       "      <th>ScoringFP2</th>\n",
       "      <th>ScoringFP3</th>\n",
       "      <th>TauxImpNB_CPM</th>\n",
       "      <th>EcartNumCheq</th>\n",
       "      <th>NbrMagasin3J</th>\n",
       "      <th>DiffDateTr3</th>\n",
       "      <th>CA3TR</th>\n",
       "      <th>Heure_num</th>\n",
       "    </tr>\n",
       "  </thead>\n",
       "  <tbody>\n",
       "    <tr>\n",
       "      <th>0</th>\n",
       "      <td>20.00</td>\n",
       "      <td>0</td>\n",
       "      <td>551</td>\n",
       "      <td>0.000000</td>\n",
       "      <td>0.000000</td>\n",
       "      <td>0.000000</td>\n",
       "      <td>52.076034</td>\n",
       "      <td>0</td>\n",
       "      <td>1</td>\n",
       "      <td>4.0</td>\n",
       "      <td>0.00</td>\n",
       "      <td>7</td>\n",
       "    </tr>\n",
       "    <tr>\n",
       "      <th>1</th>\n",
       "      <td>20.00</td>\n",
       "      <td>0</td>\n",
       "      <td>551</td>\n",
       "      <td>0.000000</td>\n",
       "      <td>0.000000</td>\n",
       "      <td>0.000000</td>\n",
       "      <td>52.076034</td>\n",
       "      <td>1</td>\n",
       "      <td>2</td>\n",
       "      <td>4.0</td>\n",
       "      <td>8.61</td>\n",
       "      <td>7</td>\n",
       "    </tr>\n",
       "    <tr>\n",
       "      <th>2</th>\n",
       "      <td>57.64</td>\n",
       "      <td>0</td>\n",
       "      <td>549</td>\n",
       "      <td>0.000000</td>\n",
       "      <td>0.000000</td>\n",
       "      <td>0.000000</td>\n",
       "      <td>52.076034</td>\n",
       "      <td>0</td>\n",
       "      <td>1</td>\n",
       "      <td>4.0</td>\n",
       "      <td>0.00</td>\n",
       "      <td>7</td>\n",
       "    </tr>\n",
       "    <tr>\n",
       "      <th>3</th>\n",
       "      <td>54.29</td>\n",
       "      <td>1</td>\n",
       "      <td>267</td>\n",
       "      <td>0.000000</td>\n",
       "      <td>0.000000</td>\n",
       "      <td>0.000000</td>\n",
       "      <td>53.554234</td>\n",
       "      <td>0</td>\n",
       "      <td>1</td>\n",
       "      <td>4.0</td>\n",
       "      <td>0.00</td>\n",
       "      <td>7</td>\n",
       "    </tr>\n",
       "    <tr>\n",
       "      <th>4</th>\n",
       "      <td>26.90</td>\n",
       "      <td>0</td>\n",
       "      <td>549</td>\n",
       "      <td>0.003769</td>\n",
       "      <td>8.586333</td>\n",
       "      <td>0.001192</td>\n",
       "      <td>52.076034</td>\n",
       "      <td>1</td>\n",
       "      <td>1</td>\n",
       "      <td>4.0</td>\n",
       "      <td>32.25</td>\n",
       "      <td>8</td>\n",
       "    </tr>\n",
       "  </tbody>\n",
       "</table>\n",
       "</div>"
      ],
      "text/plain": [
       "   Montant  VerifianceCPT1  D2CB  ScoringFP1  ScoringFP2  ScoringFP3  \\\n",
       "0    20.00               0   551    0.000000    0.000000    0.000000   \n",
       "1    20.00               0   551    0.000000    0.000000    0.000000   \n",
       "2    57.64               0   549    0.000000    0.000000    0.000000   \n",
       "3    54.29               1   267    0.000000    0.000000    0.000000   \n",
       "4    26.90               0   549    0.003769    8.586333    0.001192   \n",
       "\n",
       "   TauxImpNB_CPM  EcartNumCheq  NbrMagasin3J  DiffDateTr3  CA3TR  Heure_num  \n",
       "0      52.076034             0             1          4.0   0.00          7  \n",
       "1      52.076034             1             2          4.0   8.61          7  \n",
       "2      52.076034             0             1          4.0   0.00          7  \n",
       "3      53.554234             0             1          4.0   0.00          7  \n",
       "4      52.076034             1             1          4.0  32.25          8  "
      ]
     },
     "execution_count": 55,
     "metadata": {},
     "output_type": "execute_result"
    }
   ],
   "source": [
    "XTrain_ADA.head()"
   ]
  },
  {
   "cell_type": "code",
   "execution_count": 52,
   "id": "49b62767",
   "metadata": {},
   "outputs": [
    {
     "name": "stdout",
     "output_type": "stream",
     "text": [
      "Nombre d'exemples avec ADASYN = 7751880\n"
     ]
    }
   ],
   "source": [
    "print(\"Nombre d'exemples avec ADASYN = \" + str(XTrain_ADA.shape[0]))"
   ]
  },
  {
   "cell_type": "code",
   "execution_count": 58,
   "id": "1ae5b156",
   "metadata": {},
   "outputs": [
    {
     "data": {
      "text/html": [
       "<div>\n",
       "<style scoped>\n",
       "    .dataframe tbody tr th:only-of-type {\n",
       "        vertical-align: middle;\n",
       "    }\n",
       "\n",
       "    .dataframe tbody tr th {\n",
       "        vertical-align: top;\n",
       "    }\n",
       "\n",
       "    .dataframe thead th {\n",
       "        text-align: right;\n",
       "    }\n",
       "</style>\n",
       "<table border=\"1\" class=\"dataframe\">\n",
       "  <thead>\n",
       "    <tr style=\"text-align: right;\">\n",
       "      <th></th>\n",
       "      <th>Montant</th>\n",
       "      <th>VerifianceCPT1</th>\n",
       "      <th>D2CB</th>\n",
       "      <th>ScoringFP1</th>\n",
       "      <th>ScoringFP2</th>\n",
       "      <th>ScoringFP3</th>\n",
       "      <th>TauxImpNB_CPM</th>\n",
       "      <th>EcartNumCheq</th>\n",
       "      <th>NbrMagasin3J</th>\n",
       "      <th>DiffDateTr3</th>\n",
       "      <th>CA3TR</th>\n",
       "      <th>Heure_num</th>\n",
       "      <th>FlagImpaye</th>\n",
       "    </tr>\n",
       "  </thead>\n",
       "  <tbody>\n",
       "    <tr>\n",
       "      <th>0</th>\n",
       "      <td>20.00</td>\n",
       "      <td>0</td>\n",
       "      <td>551</td>\n",
       "      <td>0.000000</td>\n",
       "      <td>0.000000</td>\n",
       "      <td>0.000000</td>\n",
       "      <td>52.076034</td>\n",
       "      <td>0</td>\n",
       "      <td>1</td>\n",
       "      <td>4.0</td>\n",
       "      <td>0.00</td>\n",
       "      <td>7</td>\n",
       "      <td>0</td>\n",
       "    </tr>\n",
       "    <tr>\n",
       "      <th>1</th>\n",
       "      <td>20.00</td>\n",
       "      <td>0</td>\n",
       "      <td>551</td>\n",
       "      <td>0.000000</td>\n",
       "      <td>0.000000</td>\n",
       "      <td>0.000000</td>\n",
       "      <td>52.076034</td>\n",
       "      <td>1</td>\n",
       "      <td>2</td>\n",
       "      <td>4.0</td>\n",
       "      <td>8.61</td>\n",
       "      <td>7</td>\n",
       "      <td>0</td>\n",
       "    </tr>\n",
       "    <tr>\n",
       "      <th>2</th>\n",
       "      <td>57.64</td>\n",
       "      <td>0</td>\n",
       "      <td>549</td>\n",
       "      <td>0.000000</td>\n",
       "      <td>0.000000</td>\n",
       "      <td>0.000000</td>\n",
       "      <td>52.076034</td>\n",
       "      <td>0</td>\n",
       "      <td>1</td>\n",
       "      <td>4.0</td>\n",
       "      <td>0.00</td>\n",
       "      <td>7</td>\n",
       "      <td>0</td>\n",
       "    </tr>\n",
       "    <tr>\n",
       "      <th>3</th>\n",
       "      <td>54.29</td>\n",
       "      <td>1</td>\n",
       "      <td>267</td>\n",
       "      <td>0.000000</td>\n",
       "      <td>0.000000</td>\n",
       "      <td>0.000000</td>\n",
       "      <td>53.554234</td>\n",
       "      <td>0</td>\n",
       "      <td>1</td>\n",
       "      <td>4.0</td>\n",
       "      <td>0.00</td>\n",
       "      <td>7</td>\n",
       "      <td>0</td>\n",
       "    </tr>\n",
       "    <tr>\n",
       "      <th>4</th>\n",
       "      <td>26.90</td>\n",
       "      <td>0</td>\n",
       "      <td>549</td>\n",
       "      <td>0.003769</td>\n",
       "      <td>8.586333</td>\n",
       "      <td>0.001192</td>\n",
       "      <td>52.076034</td>\n",
       "      <td>1</td>\n",
       "      <td>1</td>\n",
       "      <td>4.0</td>\n",
       "      <td>32.25</td>\n",
       "      <td>8</td>\n",
       "      <td>0</td>\n",
       "    </tr>\n",
       "  </tbody>\n",
       "</table>\n",
       "</div>"
      ],
      "text/plain": [
       "   Montant  VerifianceCPT1  D2CB  ScoringFP1  ScoringFP2  ScoringFP3  \\\n",
       "0    20.00               0   551    0.000000    0.000000    0.000000   \n",
       "1    20.00               0   551    0.000000    0.000000    0.000000   \n",
       "2    57.64               0   549    0.000000    0.000000    0.000000   \n",
       "3    54.29               1   267    0.000000    0.000000    0.000000   \n",
       "4    26.90               0   549    0.003769    8.586333    0.001192   \n",
       "\n",
       "   TauxImpNB_CPM  EcartNumCheq  NbrMagasin3J  DiffDateTr3  CA3TR  Heure_num  \\\n",
       "0      52.076034             0             1          4.0   0.00          7   \n",
       "1      52.076034             1             2          4.0   8.61          7   \n",
       "2      52.076034             0             1          4.0   0.00          7   \n",
       "3      53.554234             0             1          4.0   0.00          7   \n",
       "4      52.076034             1             1          4.0  32.25          8   \n",
       "\n",
       "   FlagImpaye  \n",
       "0           0  \n",
       "1           0  \n",
       "2           0  \n",
       "3           0  \n",
       "4           0  "
      ]
     },
     "execution_count": 58,
     "metadata": {},
     "output_type": "execute_result"
    }
   ],
   "source": [
    "train_ADA= XTrain_ADA\n",
    "train_ADA[\"FlagImpaye\"] = yTrain_ADA\n",
    "train_ADA.head()"
   ]
  },
  {
   "cell_type": "code",
   "execution_count": 60,
   "id": "3972f0c3",
   "metadata": {},
   "outputs": [
    {
     "name": "stdout",
     "output_type": "stream",
     "text": [
      "Dask DataFrame Structure:\n",
      "                Montant VerifianceCPT1   D2CB ScoringFP1 ScoringFP2 ScoringFP3 TauxImpNB_CPM EcartNumCheq NbrMagasin3J DiffDateTr3    CA3TR Heure_num FlagImpaye\n",
      "npartitions=20                                                                                                                                                  \n",
      "0               float64          int64  int64    float64    float64    float64       float64        int64        int64     float64  float64     int64      int64\n",
      "387594              ...            ...    ...        ...        ...        ...           ...          ...          ...         ...      ...       ...        ...\n",
      "...                 ...            ...    ...        ...        ...        ...           ...          ...          ...         ...      ...       ...        ...\n",
      "7364286             ...            ...    ...        ...        ...        ...           ...          ...          ...         ...      ...       ...        ...\n",
      "7751879             ...            ...    ...        ...        ...        ...           ...          ...          ...         ...      ...       ...        ...\n",
      "Dask Name: from_pandas, 20 tasks\n"
     ]
    }
   ],
   "source": [
    "train_ADA_d = dd.from_pandas(train_ADA, npartitions=20)\n",
    "print(train_ADA_d)"
   ]
  },
  {
   "cell_type": "code",
   "execution_count": 61,
   "id": "2f22859a",
   "metadata": {},
   "outputs": [
    {
     "data": {
      "text/plain": [
       "(None,)"
      ]
     },
     "execution_count": 61,
     "metadata": {},
     "output_type": "execute_result"
    }
   ],
   "source": [
    "# Le dataframe propre d’apprentissage avec sur-échantillonnage : dfTrain_ADA\n",
    "train_ADA_d.to_parquet('train_ADA')"
   ]
  }
 ],
 "metadata": {
  "kernelspec": {
   "display_name": "Python 3 (ipykernel)",
   "language": "python",
   "name": "python3"
  },
  "language_info": {
   "codemirror_mode": {
    "name": "ipython",
    "version": 3
   },
   "file_extension": ".py",
   "mimetype": "text/x-python",
   "name": "python",
   "nbconvert_exporter": "python",
   "pygments_lexer": "ipython3",
   "version": "3.9.12"
  }
 },
 "nbformat": 4,
 "nbformat_minor": 5
}
