{
 "cells": [
  {
   "cell_type": "markdown",
   "id": "64f54583",
   "metadata": {},
   "source": [
    "# Librairies"
   ]
  },
  {
   "cell_type": "code",
   "execution_count": 51,
   "id": "fa56363c",
   "metadata": {},
   "outputs": [
    {
     "name": "stdout",
     "output_type": "stream",
     "text": [
      "Requirement already satisfied: imbalanced-learn in c:\\programdata\\anaconda3\\lib\\site-packages (0.10.0)\n",
      "Requirement already satisfied: scipy>=1.3.2 in c:\\programdata\\anaconda3\\lib\\site-packages (from imbalanced-learn) (1.7.3)\n",
      "Requirement already satisfied: threadpoolctl>=2.0.0 in c:\\programdata\\anaconda3\\lib\\site-packages (from imbalanced-learn) (2.2.0)\n",
      "Requirement already satisfied: scikit-learn>=1.0.2 in c:\\programdata\\anaconda3\\lib\\site-packages (from imbalanced-learn) (1.0.2)\n",
      "Requirement already satisfied: numpy>=1.17.3 in c:\\programdata\\anaconda3\\lib\\site-packages (from imbalanced-learn) (1.21.5)\n",
      "Requirement already satisfied: joblib>=1.1.1 in c:\\programdata\\anaconda3\\lib\\site-packages (from imbalanced-learn) (1.2.0)\n"
     ]
    }
   ],
   "source": [
    "!pip install imbalanced-learn"
   ]
  },
  {
   "cell_type": "code",
   "execution_count": 2,
   "id": "b36ee21b",
   "metadata": {},
   "outputs": [],
   "source": [
    "import os\n",
    "import pandas as pd\n",
    "import numpy as np\n",
    "import time\n",
    "import matplotlib.pyplot as plt\n",
    "from matplotlib import pyplot\n",
    "import sys \n",
    "from sklearn.metrics import *\n",
    "import scikitplot as skplt\n",
    "from sklearn.preprocessing import StandardScaler\n",
    "\n",
    "# Algorithmes\n",
    "from sklearn.tree import DecisionTreeClassifier \n",
    "from sklearn.ensemble import RandomForestClassifier\n",
    "from sklearn.linear_model import LogisticRegression\n",
    "from sklearn.ensemble import AdaBoostClassifier\n",
    "\n",
    "#Imbalanced learn\n",
    "from imblearn.combine import SMOTEENN, SMOTETomek\n",
    "from imblearn.over_sampling import SMOTE, BorderlineSMOTE, ADASYN\n",
    "from imblearn.under_sampling import NearMiss, EditedNearestNeighbours, OneSidedSelection\n",
    "from imblearn.pipeline import Pipeline, make_pipeline\n",
    "\n",
    "#from sklearn.pipeline import Pipeline\n",
    "from sklearn.model_selection import GridSearchCV"
   ]
  },
  {
   "cell_type": "markdown",
   "id": "9add39cb",
   "metadata": {},
   "source": [
    "# Importation des données"
   ]
  },
  {
   "cell_type": "code",
   "execution_count": 3,
   "id": "001e5131",
   "metadata": {},
   "outputs": [],
   "source": [
    "os.chdir(r\"C:\\Users\\cornuch\\Desktop\\SISE\\Fouille_donnees_massives\\projet_fouille\")  "
   ]
  },
  {
   "cell_type": "code",
   "execution_count": 4,
   "id": "e9da7f0f",
   "metadata": {},
   "outputs": [],
   "source": [
    "df = pd.read_table(\"guillaume.txt\", sep=\";\", header=0, decimal=\",\")"
   ]
  },
  {
   "cell_type": "code",
   "execution_count": 5,
   "id": "f11fc53f",
   "metadata": {},
   "outputs": [],
   "source": [
    "df=df.drop(df[df[\"CodeDecision\"]==4].index, axis= 0)"
   ]
  },
  {
   "cell_type": "code",
   "execution_count": 6,
   "id": "a80b13a6",
   "metadata": {},
   "outputs": [
    {
     "name": "stdout",
     "output_type": "stream",
     "text": [
      "<class 'pandas.core.frame.DataFrame'>\n",
      "Int64Index: 4646772 entries, 0 to 4646772\n",
      "Data columns (total 23 columns):\n",
      " #   Column                    Dtype  \n",
      "---  ------                    -----  \n",
      " 0   ZIBZIN                    object \n",
      " 1   IDAvisAutorisationCheque  int64  \n",
      " 2   FlagImpaye                int64  \n",
      " 3   Montant                   float64\n",
      " 4   DateTransaction           object \n",
      " 5   CodeDecision              int64  \n",
      " 6   VerifianceCPT1            int64  \n",
      " 7   VerifianceCPT2            int64  \n",
      " 8   VerifianceCPT3            int64  \n",
      " 9   D2CB                      int64  \n",
      " 10  ScoringFP1                float64\n",
      " 11  ScoringFP2                float64\n",
      " 12  ScoringFP3                float64\n",
      " 13  TauxImpNb_RB              float64\n",
      " 14  TauxImpNB_CPM             float64\n",
      " 15  EcartNumCheq              int64  \n",
      " 16  NbrMagasin3J              int64  \n",
      " 17  DiffDateTr1               float64\n",
      " 18  DiffDateTr2               float64\n",
      " 19  DiffDateTr3               float64\n",
      " 20  CA3TRetMtt                float64\n",
      " 21  CA3TR                     float64\n",
      " 22  Heure                     int64  \n",
      "dtypes: float64(11), int64(10), object(2)\n",
      "memory usage: 850.8+ MB\n"
     ]
    }
   ],
   "source": [
    "df.info()"
   ]
  },
  {
   "cell_type": "code",
   "execution_count": 7,
   "id": "b84baf22",
   "metadata": {},
   "outputs": [],
   "source": [
    "df.drop(['Heure'], axis = \"columns\", inplace=True)"
   ]
  },
  {
   "cell_type": "code",
   "execution_count": 9,
   "id": "db944eb8",
   "metadata": {},
   "outputs": [],
   "source": [
    "DateTransaction_1=df[\"DateTransaction\"].str.split(' ',1)\n",
    "df['Date']=DateTransaction_1.str[0]\n",
    "df['Heure']=DateTransaction_1.str[1]\n",
    "df.drop(['DateTransaction'], axis='columns', inplace=True)"
   ]
  },
  {
   "cell_type": "code",
   "execution_count": 11,
   "id": "00370454",
   "metadata": {},
   "outputs": [],
   "source": [
    "df[\"Heure_num\"] = df['Heure'].str[:2]\n",
    "df[\"Heure_num\"]=df[\"Heure_num\"].astype(\"int64\")"
   ]
  },
  {
   "cell_type": "code",
   "execution_count": 13,
   "id": "d8de1cb9",
   "metadata": {},
   "outputs": [],
   "source": [
    "df.drop(['ZIBZIN', 'IDAvisAutorisationCheque', 'CodeDecision','VerifianceCPT2','VerifianceCPT3','TauxImpNb_RB','DiffDateTr1','DiffDateTr2','CA3TRetMtt'], axis='columns', inplace=True)"
   ]
  },
  {
   "cell_type": "markdown",
   "id": "8a4a9f35",
   "metadata": {},
   "source": [
    "**Train et Test**"
   ]
  },
  {
   "cell_type": "code",
   "execution_count": 14,
   "id": "c9a9603b",
   "metadata": {},
   "outputs": [],
   "source": [
    "train=df.loc[df['Date']<='2017-08-31']\n",
    "test=df.loc[df['Date']>='2017-09-01']"
   ]
  },
  {
   "cell_type": "code",
   "execution_count": 15,
   "id": "850e707a",
   "metadata": {},
   "outputs": [],
   "source": [
    "train = train.drop([\"Date\",\"Heure\"], axis = \"columns\")\n",
    "test = test.drop([\"Date\",\"Heure\"], axis = \"columns\")"
   ]
  },
  {
   "cell_type": "code",
   "execution_count": 35,
   "id": "5c102e95",
   "metadata": {},
   "outputs": [
    {
     "data": {
      "text/plain": [
       "(3899362, 13)"
      ]
     },
     "execution_count": 35,
     "metadata": {},
     "output_type": "execute_result"
    }
   ],
   "source": [
    "train.shape\n",
    "#84%"
   ]
  },
  {
   "cell_type": "code",
   "execution_count": 36,
   "id": "5a9a5d7d",
   "metadata": {},
   "outputs": [
    {
     "data": {
      "text/plain": [
       "(747410, 13)"
      ]
     },
     "execution_count": 36,
     "metadata": {},
     "output_type": "execute_result"
    }
   ],
   "source": [
    "test.shape\n",
    "#16%"
   ]
  },
  {
   "cell_type": "code",
   "execution_count": 38,
   "id": "54f7d5f6",
   "metadata": {},
   "outputs": [
    {
     "data": {
      "text/plain": [
       "0    0.993993\n",
       "1    0.006007\n",
       "Name: FlagImpaye, dtype: float64"
      ]
     },
     "execution_count": 38,
     "metadata": {},
     "output_type": "execute_result"
    }
   ],
   "source": [
    "train['FlagImpaye']. value_counts(normalize = True)"
   ]
  },
  {
   "cell_type": "code",
   "execution_count": 39,
   "id": "8ba92d37",
   "metadata": {},
   "outputs": [
    {
     "data": {
      "text/plain": [
       "0    0.991206\n",
       "1    0.008794\n",
       "Name: FlagImpaye, dtype: float64"
      ]
     },
     "execution_count": 39,
     "metadata": {},
     "output_type": "execute_result"
    }
   ],
   "source": [
    "test['FlagImpaye']. value_counts(normalize = True)"
   ]
  },
  {
   "cell_type": "code",
   "execution_count": 41,
   "id": "0d0f2bce",
   "metadata": {},
   "outputs": [],
   "source": [
    "train_sample=train.sample(10080)"
   ]
  },
  {
   "cell_type": "code",
   "execution_count": 42,
   "id": "96476f36",
   "metadata": {},
   "outputs": [
    {
     "data": {
      "text/plain": [
       "0    0.99494\n",
       "1    0.00506\n",
       "Name: FlagImpaye, dtype: float64"
      ]
     },
     "execution_count": 42,
     "metadata": {},
     "output_type": "execute_result"
    }
   ],
   "source": [
    "train_sample['FlagImpaye']. value_counts(normalize = True)"
   ]
  },
  {
   "cell_type": "code",
   "execution_count": 45,
   "id": "28801b8e",
   "metadata": {},
   "outputs": [],
   "source": [
    "test_sample=test.sample(1920)"
   ]
  },
  {
   "cell_type": "code",
   "execution_count": 46,
   "id": "3ee4559d",
   "metadata": {},
   "outputs": [
    {
     "data": {
      "text/plain": [
       "0    0.991667\n",
       "1    0.008333\n",
       "Name: FlagImpaye, dtype: float64"
      ]
     },
     "execution_count": 46,
     "metadata": {},
     "output_type": "execute_result"
    }
   ],
   "source": [
    "test_sample['FlagImpaye']. value_counts(normalize = True)"
   ]
  },
  {
   "cell_type": "code",
   "execution_count": 47,
   "id": "5ab6620a",
   "metadata": {},
   "outputs": [],
   "source": [
    "# Définir la variable cible \n",
    "y_train = train[\"FlagImpaye\"]\n",
    "y_test = test[\"FlagImpaye\"]"
   ]
  },
  {
   "cell_type": "code",
   "execution_count": 48,
   "id": "45a72a36",
   "metadata": {},
   "outputs": [],
   "source": [
    "# Définir les variables explicatives \n",
    "X_train = train.drop([\"FlagImpaye\"], axis = \"columns\")\n",
    "X_test = test.drop([\"FlagImpaye\"], axis = \"columns\")"
   ]
  },
  {
   "cell_type": "code",
   "execution_count": 49,
   "id": "01379683",
   "metadata": {},
   "outputs": [
    {
     "data": {
      "text/html": [
       "<div>\n",
       "<style scoped>\n",
       "    .dataframe tbody tr th:only-of-type {\n",
       "        vertical-align: middle;\n",
       "    }\n",
       "\n",
       "    .dataframe tbody tr th {\n",
       "        vertical-align: top;\n",
       "    }\n",
       "\n",
       "    .dataframe thead th {\n",
       "        text-align: right;\n",
       "    }\n",
       "</style>\n",
       "<table border=\"1\" class=\"dataframe\">\n",
       "  <thead>\n",
       "    <tr style=\"text-align: right;\">\n",
       "      <th></th>\n",
       "      <th>Montant</th>\n",
       "      <th>VerifianceCPT1</th>\n",
       "      <th>D2CB</th>\n",
       "      <th>ScoringFP1</th>\n",
       "      <th>ScoringFP2</th>\n",
       "      <th>ScoringFP3</th>\n",
       "      <th>TauxImpNB_CPM</th>\n",
       "      <th>EcartNumCheq</th>\n",
       "      <th>NbrMagasin3J</th>\n",
       "      <th>DiffDateTr3</th>\n",
       "      <th>CA3TR</th>\n",
       "      <th>Heure_num</th>\n",
       "    </tr>\n",
       "  </thead>\n",
       "  <tbody>\n",
       "    <tr>\n",
       "      <th>0</th>\n",
       "      <td>20.00</td>\n",
       "      <td>0</td>\n",
       "      <td>551</td>\n",
       "      <td>0.000000</td>\n",
       "      <td>0.000000</td>\n",
       "      <td>0.000000</td>\n",
       "      <td>52.076034</td>\n",
       "      <td>0</td>\n",
       "      <td>1</td>\n",
       "      <td>4.0</td>\n",
       "      <td>0.00</td>\n",
       "      <td>7</td>\n",
       "    </tr>\n",
       "    <tr>\n",
       "      <th>1</th>\n",
       "      <td>20.00</td>\n",
       "      <td>0</td>\n",
       "      <td>551</td>\n",
       "      <td>0.000000</td>\n",
       "      <td>0.000000</td>\n",
       "      <td>0.000000</td>\n",
       "      <td>52.076034</td>\n",
       "      <td>1</td>\n",
       "      <td>2</td>\n",
       "      <td>4.0</td>\n",
       "      <td>8.61</td>\n",
       "      <td>7</td>\n",
       "    </tr>\n",
       "    <tr>\n",
       "      <th>2</th>\n",
       "      <td>57.64</td>\n",
       "      <td>0</td>\n",
       "      <td>549</td>\n",
       "      <td>0.000000</td>\n",
       "      <td>0.000000</td>\n",
       "      <td>0.000000</td>\n",
       "      <td>52.076034</td>\n",
       "      <td>0</td>\n",
       "      <td>1</td>\n",
       "      <td>4.0</td>\n",
       "      <td>0.00</td>\n",
       "      <td>7</td>\n",
       "    </tr>\n",
       "    <tr>\n",
       "      <th>3</th>\n",
       "      <td>54.29</td>\n",
       "      <td>1</td>\n",
       "      <td>267</td>\n",
       "      <td>0.000000</td>\n",
       "      <td>0.000000</td>\n",
       "      <td>0.000000</td>\n",
       "      <td>53.554234</td>\n",
       "      <td>0</td>\n",
       "      <td>1</td>\n",
       "      <td>4.0</td>\n",
       "      <td>0.00</td>\n",
       "      <td>7</td>\n",
       "    </tr>\n",
       "    <tr>\n",
       "      <th>4</th>\n",
       "      <td>26.90</td>\n",
       "      <td>0</td>\n",
       "      <td>549</td>\n",
       "      <td>0.003769</td>\n",
       "      <td>8.586333</td>\n",
       "      <td>0.001192</td>\n",
       "      <td>52.076034</td>\n",
       "      <td>1</td>\n",
       "      <td>1</td>\n",
       "      <td>4.0</td>\n",
       "      <td>32.25</td>\n",
       "      <td>8</td>\n",
       "    </tr>\n",
       "  </tbody>\n",
       "</table>\n",
       "</div>"
      ],
      "text/plain": [
       "   Montant  VerifianceCPT1  D2CB  ScoringFP1  ScoringFP2  ScoringFP3  \\\n",
       "0    20.00               0   551    0.000000    0.000000    0.000000   \n",
       "1    20.00               0   551    0.000000    0.000000    0.000000   \n",
       "2    57.64               0   549    0.000000    0.000000    0.000000   \n",
       "3    54.29               1   267    0.000000    0.000000    0.000000   \n",
       "4    26.90               0   549    0.003769    8.586333    0.001192   \n",
       "\n",
       "   TauxImpNB_CPM  EcartNumCheq  NbrMagasin3J  DiffDateTr3  CA3TR  Heure_num  \n",
       "0      52.076034             0             1          4.0   0.00          7  \n",
       "1      52.076034             1             2          4.0   8.61          7  \n",
       "2      52.076034             0             1          4.0   0.00          7  \n",
       "3      53.554234             0             1          4.0   0.00          7  \n",
       "4      52.076034             1             1          4.0  32.25          8  "
      ]
     },
     "execution_count": 49,
     "metadata": {},
     "output_type": "execute_result"
    }
   ],
   "source": [
    "X_train.head()"
   ]
  },
  {
   "cell_type": "code",
   "execution_count": 50,
   "id": "e7a98bbe",
   "metadata": {},
   "outputs": [],
   "source": [
    "y_train_sample = train_sample[\"FlagImpaye\"]\n",
    "y_test_sample = test_sample[\"FlagImpaye\"]"
   ]
  },
  {
   "cell_type": "code",
   "execution_count": 51,
   "id": "dfb3a2fa",
   "metadata": {},
   "outputs": [],
   "source": [
    "X_train_sample = train_sample.drop([\"FlagImpaye\"], axis = \"columns\")\n",
    "X_test_sample = test_sample.drop([\"FlagImpaye\"], axis = \"columns\")"
   ]
  },
  {
   "cell_type": "markdown",
   "id": "c4c49e17",
   "metadata": {},
   "source": [
    "**Centrage et réduction**"
   ]
  },
  {
   "cell_type": "code",
   "execution_count": 22,
   "id": "b4cb9a49",
   "metadata": {},
   "outputs": [],
   "source": [
    "def mean_norm(df_input):\n",
    "    return df_input.apply(lambda x: (x-x.mean())/ x.std(), axis=0)"
   ]
  },
  {
   "cell_type": "code",
   "execution_count": 23,
   "id": "8be22249",
   "metadata": {},
   "outputs": [],
   "source": [
    "X_train_scale=mean_norm(X_train)"
   ]
  },
  {
   "cell_type": "code",
   "execution_count": 24,
   "id": "4f73f72a",
   "metadata": {},
   "outputs": [
    {
     "data": {
      "text/html": [
       "<div>\n",
       "<style scoped>\n",
       "    .dataframe tbody tr th:only-of-type {\n",
       "        vertical-align: middle;\n",
       "    }\n",
       "\n",
       "    .dataframe tbody tr th {\n",
       "        vertical-align: top;\n",
       "    }\n",
       "\n",
       "    .dataframe thead th {\n",
       "        text-align: right;\n",
       "    }\n",
       "</style>\n",
       "<table border=\"1\" class=\"dataframe\">\n",
       "  <thead>\n",
       "    <tr style=\"text-align: right;\">\n",
       "      <th></th>\n",
       "      <th>Montant</th>\n",
       "      <th>VerifianceCPT1</th>\n",
       "      <th>D2CB</th>\n",
       "      <th>ScoringFP1</th>\n",
       "      <th>ScoringFP2</th>\n",
       "      <th>ScoringFP3</th>\n",
       "      <th>TauxImpNB_CPM</th>\n",
       "      <th>EcartNumCheq</th>\n",
       "      <th>NbrMagasin3J</th>\n",
       "      <th>DiffDateTr3</th>\n",
       "      <th>CA3TR</th>\n",
       "      <th>Heure_num</th>\n",
       "    </tr>\n",
       "  </thead>\n",
       "  <tbody>\n",
       "    <tr>\n",
       "      <th>0</th>\n",
       "      <td>-0.420302</td>\n",
       "      <td>-0.581824</td>\n",
       "      <td>1.017656</td>\n",
       "      <td>-0.084590</td>\n",
       "      <td>-0.239505</td>\n",
       "      <td>-0.275801</td>\n",
       "      <td>0.818043</td>\n",
       "      <td>-0.043817</td>\n",
       "      <td>-0.194165</td>\n",
       "      <td>-0.451325</td>\n",
       "      <td>-0.202861</td>\n",
       "      <td>-2.122399</td>\n",
       "    </tr>\n",
       "    <tr>\n",
       "      <th>1</th>\n",
       "      <td>-0.420302</td>\n",
       "      <td>-0.581824</td>\n",
       "      <td>1.017656</td>\n",
       "      <td>-0.084590</td>\n",
       "      <td>-0.239505</td>\n",
       "      <td>-0.275801</td>\n",
       "      <td>0.818043</td>\n",
       "      <td>-0.043812</td>\n",
       "      <td>4.975724</td>\n",
       "      <td>-0.451325</td>\n",
       "      <td>0.038808</td>\n",
       "      <td>-2.122399</td>\n",
       "    </tr>\n",
       "    <tr>\n",
       "      <th>2</th>\n",
       "      <td>-0.022127</td>\n",
       "      <td>-0.581824</td>\n",
       "      <td>1.008573</td>\n",
       "      <td>-0.084590</td>\n",
       "      <td>-0.239505</td>\n",
       "      <td>-0.275801</td>\n",
       "      <td>0.818043</td>\n",
       "      <td>-0.043817</td>\n",
       "      <td>-0.194165</td>\n",
       "      <td>-0.451325</td>\n",
       "      <td>-0.202861</td>\n",
       "      <td>-2.122399</td>\n",
       "    </tr>\n",
       "    <tr>\n",
       "      <th>3</th>\n",
       "      <td>-0.057565</td>\n",
       "      <td>1.545332</td>\n",
       "      <td>-0.272152</td>\n",
       "      <td>-0.084590</td>\n",
       "      <td>-0.239505</td>\n",
       "      <td>-0.275801</td>\n",
       "      <td>0.906727</td>\n",
       "      <td>-0.043817</td>\n",
       "      <td>-0.194165</td>\n",
       "      <td>-0.451325</td>\n",
       "      <td>-0.202861</td>\n",
       "      <td>-2.122399</td>\n",
       "    </tr>\n",
       "    <tr>\n",
       "      <th>4</th>\n",
       "      <td>-0.347310</td>\n",
       "      <td>-0.581824</td>\n",
       "      <td>1.008573</td>\n",
       "      <td>-0.084434</td>\n",
       "      <td>0.637044</td>\n",
       "      <td>-0.273204</td>\n",
       "      <td>0.818043</td>\n",
       "      <td>-0.043812</td>\n",
       "      <td>-0.194165</td>\n",
       "      <td>-0.451325</td>\n",
       "      <td>0.702346</td>\n",
       "      <td>-1.820898</td>\n",
       "    </tr>\n",
       "  </tbody>\n",
       "</table>\n",
       "</div>"
      ],
      "text/plain": [
       "    Montant  VerifianceCPT1      D2CB  ScoringFP1  ScoringFP2  ScoringFP3  \\\n",
       "0 -0.420302       -0.581824  1.017656   -0.084590   -0.239505   -0.275801   \n",
       "1 -0.420302       -0.581824  1.017656   -0.084590   -0.239505   -0.275801   \n",
       "2 -0.022127       -0.581824  1.008573   -0.084590   -0.239505   -0.275801   \n",
       "3 -0.057565        1.545332 -0.272152   -0.084590   -0.239505   -0.275801   \n",
       "4 -0.347310       -0.581824  1.008573   -0.084434    0.637044   -0.273204   \n",
       "\n",
       "   TauxImpNB_CPM  EcartNumCheq  NbrMagasin3J  DiffDateTr3     CA3TR  Heure_num  \n",
       "0       0.818043     -0.043817     -0.194165    -0.451325 -0.202861  -2.122399  \n",
       "1       0.818043     -0.043812      4.975724    -0.451325  0.038808  -2.122399  \n",
       "2       0.818043     -0.043817     -0.194165    -0.451325 -0.202861  -2.122399  \n",
       "3       0.906727     -0.043817     -0.194165    -0.451325 -0.202861  -2.122399  \n",
       "4       0.818043     -0.043812     -0.194165    -0.451325  0.702346  -1.820898  "
      ]
     },
     "execution_count": 24,
     "metadata": {},
     "output_type": "execute_result"
    }
   ],
   "source": [
    "X_train_scale.head()"
   ]
  },
  {
   "cell_type": "code",
   "execution_count": 64,
   "id": "5f116111",
   "metadata": {},
   "outputs": [],
   "source": [
    "X_train_sample_scale=mean_norm(X_train_sample)\n",
    "X_test_sample_scale=mean_norm(X_test_sample)"
   ]
  },
  {
   "cell_type": "markdown",
   "id": "e6962895",
   "metadata": {},
   "source": [
    "# Définition des critères des performances"
   ]
  },
  {
   "cell_type": "code",
   "execution_count": 25,
   "id": "ca0edcca",
   "metadata": {},
   "outputs": [],
   "source": [
    "def perte(Montant):\n",
    "    if Montant<=20:\n",
    "        Montant=Montant*0\n",
    "    elif 20<Montant<=50:\n",
    "        Montant=0.2*Montant\n",
    "    elif 50<Montant<=100:\n",
    "        Montant=0.3*Montant\n",
    "    elif 100<Montant<=200:\n",
    "        Montant=0.5*Montant\n",
    "    elif Montant>200:\n",
    "        Montant=0.8*Montant\n",
    "    return(Montant)"
   ]
  },
  {
   "cell_type": "code",
   "execution_count": 26,
   "id": "27c22684",
   "metadata": {},
   "outputs": [],
   "source": [
    "def Calcul_Marge(Montant, yReel, yPred):\n",
    "    # Création de dfmerge\n",
    "    dfmerge = pd.concat([Montant, yReel], axis=1)\n",
    "    dfmerge[\"Ypred\"] = yPred\n",
    "    \n",
    "    # Création de la variable Marge\n",
    "    # Création d'une colonne Marge égale au Montant\n",
    "    dfmerge[\"Marge\"] = dfmerge[\"Montant\"]\n",
    "    #Calcul du gain ou de la perte selon la différence entre réel et prédiction\n",
    "    dfmerge.loc[((dfmerge[\"FlagImpaye\"] == 1) & (dfmerge[\"Ypred\"] == 1)), \"Marge\"] = 0\n",
    "    dfmerge.loc[((dfmerge[\"FlagImpaye\"] == 0) & (dfmerge[\"Ypred\"] == 1)), \"Marge\"] = 0.7 * 0.05 * dfmerge[\"Montant\"]\n",
    "    dfmerge.loc[((dfmerge[\"FlagImpaye\"] == 1) & (dfmerge[\"Ypred\"] == 0)), \"Marge\"] = dfmerge[\"Montant\"].apply(lambda x: -perte(x))\n",
    "    dfmerge.loc[((dfmerge[\"FlagImpaye\"] == 0) & (dfmerge[\"Ypred\"] == 0)), \"Marge\"] = 0.05 * dfmerge[\"Montant\"]\n",
    "    \n",
    "    # Calcul du Marge_totale\n",
    "    Marge_totale = dfmerge[\"Marge\"].sum()\n",
    "    \n",
    "    return Marge_totale"
   ]
  },
  {
   "cell_type": "markdown",
   "id": "56e1d9b1",
   "metadata": {},
   "source": [
    "# Modification du seuil d'affectation"
   ]
  },
  {
   "cell_type": "code",
   "execution_count": 28,
   "id": "0f10eac9",
   "metadata": {},
   "outputs": [],
   "source": [
    "from numpy import arange\n",
    "from numpy import argmax"
   ]
  },
  {
   "cell_type": "code",
   "execution_count": 29,
   "id": "6fe9e1d9",
   "metadata": {},
   "outputs": [],
   "source": [
    "# apply threshold to positive probabilities to create labels\n",
    "def to_labels(pos_probs, threshold):\n",
    " return (pos_probs >= threshold).astype('int')"
   ]
  },
  {
   "cell_type": "code",
   "execution_count": 30,
   "id": "b2c99a38",
   "metadata": {},
   "outputs": [],
   "source": [
    "def modif_seuil(classifier,X_test_scale,y_test):\n",
    "    # predict probabilities\n",
    "    yhat = classifier.predict_proba(X_test_scale)\n",
    "    # keep probabilities for the positive outcome only\n",
    "    probs = yhat[:, 1]\n",
    "    # define thresholds\n",
    "    thresholds = arange(0.1, 1, 0.1)\n",
    "    # evaluate each threshold\n",
    "    scores = [f1_score(y_test, to_labels(probs, t)) for t in thresholds]\n",
    "    # get best threshold\n",
    "    ix = argmax(scores)\n",
    "    s=('Threshold=%.3f, F-Score=%.5f' % (thresholds[ix], scores[ix]))\n",
    "    return s"
   ]
  },
  {
   "cell_type": "code",
   "execution_count": 96,
   "id": "0c32a9ed",
   "metadata": {},
   "outputs": [],
   "source": [
    "def resultats(predicted):\n",
    "    conf_mat = confusion_matrix(y_true=y_test_sample, y_pred=predicted)\n",
    "    print('Confusion matrix:\\n', conf_mat)\n",
    "    f1 = f1_score(y_test_sample, y_pred=predicted)\n",
    "    print('F1_score :\\n', f1)\n",
    "    cr=classification_report(y_test_sample,y_pred=predicted)\n",
    "    print('Estimateurs :\\n', cr)\n",
    "    auc = roc_auc_score(y_test_sample, predicted)\n",
    "    print('Auc Score :\\n', auc)\n",
    "    Marge_totale = Calcul_Marge(Montant = X_test_sample[\"Montant\"], yReel = y_test_sample, yPred=predicted)\n",
    "    print(\"Marge = \" + str(round(Marge_totale, 2)) + \" euros\")"
   ]
  },
  {
   "cell_type": "markdown",
   "id": "1a59000c",
   "metadata": {},
   "source": [
    "# 1. Undersampling"
   ]
  },
  {
   "cell_type": "code",
   "execution_count": 32,
   "id": "306ab02e",
   "metadata": {},
   "outputs": [
    {
     "name": "stdout",
     "output_type": "stream",
     "text": [
      "CPU times: total: 40min 58s\n",
      "Wall time: 41min 1s\n"
     ]
    }
   ],
   "source": [
    "%%time\n",
    "sampler1=OneSidedSelection(random_state=0)\n",
    "X_res1, y_res1 = sampler1.fit_resample(X_train_scale, y_train)"
   ]
  },
  {
   "cell_type": "markdown",
   "id": "dc7419b5",
   "metadata": {},
   "source": [
    "**Le ré-échantillonnage est trop long, nous optons pour un échantillon aléatoire du train et test de départ en vérifiant les proportions des FlagImpaye**"
   ]
  },
  {
   "cell_type": "markdown",
   "id": "50eeed53",
   "metadata": {},
   "source": [
    "## 1.1 One Sided Selection"
   ]
  },
  {
   "cell_type": "code",
   "execution_count": 57,
   "id": "6ee4ac8b",
   "metadata": {},
   "outputs": [
    {
     "name": "stdout",
     "output_type": "stream",
     "text": [
      "CPU times: total: 922 ms\n",
      "Wall time: 827 ms\n"
     ]
    }
   ],
   "source": [
    "%%time\n",
    "\n",
    "resampling1 = OneSidedSelection(random_state=0)\n",
    "\n",
    "model1 = LogisticRegression(random_state=0)\n",
    "\n",
    "clf1 = Pipeline([('One Sided Selection', resampling1), ('Logistic Regression', model1)])\n",
    "\n",
    "classifier1=clf1.fit(X_train_sample_scale, y_train_sample)"
   ]
  },
  {
   "cell_type": "code",
   "execution_count": 81,
   "id": "3420ea0b",
   "metadata": {},
   "outputs": [
    {
     "name": "stdout",
     "output_type": "stream",
     "text": [
      "CPU times: total: 0 ns\n",
      "Wall time: 0 ns\n"
     ]
    }
   ],
   "source": [
    "%%time\n",
    "predicted1=clf1.predict(X_test_sample)"
   ]
  },
  {
   "cell_type": "code",
   "execution_count": 97,
   "id": "1fa1495d",
   "metadata": {},
   "outputs": [
    {
     "name": "stdout",
     "output_type": "stream",
     "text": [
      "Confusion matrix:\n",
      " [[1242  662]\n",
      " [   7    9]]\n",
      "F1_score :\n",
      " 0.02620087336244542\n",
      "Estimateurs :\n",
      "               precision    recall  f1-score   support\n",
      "\n",
      "           0       0.99      0.65      0.79      1904\n",
      "           1       0.01      0.56      0.03        16\n",
      "\n",
      "    accuracy                           0.65      1920\n",
      "   macro avg       0.50      0.61      0.41      1920\n",
      "weighted avg       0.99      0.65      0.78      1920\n",
      "\n",
      "Auc Score :\n",
      " 0.6074054621848739\n",
      "Marge = 5246.5 euros\n"
     ]
    }
   ],
   "source": [
    "resultats(predicted1)"
   ]
  },
  {
   "cell_type": "markdown",
   "id": "2f0604e1",
   "metadata": {},
   "source": [
    "## 1.2 Edited Nearest Neighbours"
   ]
  },
  {
   "cell_type": "code",
   "execution_count": 102,
   "id": "107d72a1",
   "metadata": {},
   "outputs": [
    {
     "name": "stdout",
     "output_type": "stream",
     "text": [
      "CPU times: total: 828 ms\n",
      "Wall time: 790 ms\n"
     ]
    }
   ],
   "source": [
    "%%time\n",
    "\n",
    "resampling2 = EditedNearestNeighbours()\n",
    "\n",
    "model1 = LogisticRegression(random_state=0)\n",
    "\n",
    "clf2 = Pipeline([('ENN', resampling2), ('Logistic Regression', model1)])\n",
    "\n",
    "classifier2=clf2.fit(X_train_sample_scale, y_train_sample)"
   ]
  },
  {
   "cell_type": "code",
   "execution_count": 86,
   "id": "82074ec8",
   "metadata": {},
   "outputs": [],
   "source": [
    "predicted2=clf2.predict(X_test_sample)"
   ]
  },
  {
   "cell_type": "code",
   "execution_count": 98,
   "id": "8c899c41",
   "metadata": {},
   "outputs": [
    {
     "name": "stdout",
     "output_type": "stream",
     "text": [
      "Confusion matrix:\n",
      " [[1264  640]\n",
      " [   8    8]]\n",
      "F1_score :\n",
      " 0.024096385542168672\n",
      "Estimateurs :\n",
      "               precision    recall  f1-score   support\n",
      "\n",
      "           0       0.99      0.66      0.80      1904\n",
      "           1       0.01      0.50      0.02        16\n",
      "\n",
      "    accuracy                           0.66      1920\n",
      "   macro avg       0.50      0.58      0.41      1920\n",
      "weighted avg       0.99      0.66      0.79      1920\n",
      "\n",
      "Auc Score :\n",
      " 0.5819327731092437\n",
      "Marge = 5254.16 euros\n"
     ]
    }
   ],
   "source": [
    "resultats(predicted2)"
   ]
  },
  {
   "cell_type": "markdown",
   "id": "8710f241",
   "metadata": {},
   "source": [
    "# 2. Over and Under sampling"
   ]
  },
  {
   "cell_type": "markdown",
   "id": "18a638fc",
   "metadata": {},
   "source": [
    "## 2.1 SMOTEENN"
   ]
  },
  {
   "cell_type": "code",
   "execution_count": 106,
   "id": "755177ce",
   "metadata": {},
   "outputs": [
    {
     "name": "stdout",
     "output_type": "stream",
     "text": [
      "CPU times: total: 1.34 s\n",
      "Wall time: 1.3 s\n"
     ]
    }
   ],
   "source": [
    "%%time\n",
    "\n",
    "resampling3 = SMOTEENN(random_state=0)\n",
    "\n",
    "model1 = LogisticRegression(random_state=0)\n",
    "\n",
    "clf3 = Pipeline([('SMOTEENN', resampling3), ('Logistic Regression', model1)])\n",
    "\n",
    "classifier3=clf3.fit(X_train_sample_scale, y_train_sample)"
   ]
  },
  {
   "cell_type": "code",
   "execution_count": 107,
   "id": "d21b550d",
   "metadata": {},
   "outputs": [],
   "source": [
    "predicted3=clf3.predict(X_test_sample)"
   ]
  },
  {
   "cell_type": "code",
   "execution_count": 108,
   "id": "eb6992fd",
   "metadata": {},
   "outputs": [
    {
     "name": "stdout",
     "output_type": "stream",
     "text": [
      "Confusion matrix:\n",
      " [[ 858 1046]\n",
      " [   1   15]]\n",
      "F1_score :\n",
      " 0.027855153203342614\n",
      "Estimateurs :\n",
      "               precision    recall  f1-score   support\n",
      "\n",
      "           0       1.00      0.45      0.62      1904\n",
      "           1       0.01      0.94      0.03        16\n",
      "\n",
      "    accuracy                           0.45      1920\n",
      "   macro avg       0.51      0.69      0.32      1920\n",
      "weighted avg       0.99      0.45      0.62      1920\n",
      "\n",
      "Auc Score :\n",
      " 0.6940651260504201\n",
      "Marge = 4963.44 euros\n"
     ]
    }
   ],
   "source": [
    "resultats(predicted3)"
   ]
  },
  {
   "cell_type": "markdown",
   "id": "5dbccb86",
   "metadata": {},
   "source": [
    "## 2.2 SMOTETomek"
   ]
  },
  {
   "cell_type": "code",
   "execution_count": 124,
   "id": "72f4e630",
   "metadata": {},
   "outputs": [
    {
     "name": "stdout",
     "output_type": "stream",
     "text": [
      "CPU times: total: 1.45 s\n",
      "Wall time: 1.36 s\n"
     ]
    }
   ],
   "source": [
    "%%time\n",
    "\n",
    "resampling4 = SMOTEENN(random_state=0)\n",
    "\n",
    "model1 = LogisticRegression(random_state=0)\n",
    "\n",
    "clf4 = Pipeline([('SMOTETomek', resampling4), ('Logistic Regression', model1)])\n",
    "\n",
    "classifier4=clf4.fit(X_train_sample_scale, y_train_sample)"
   ]
  },
  {
   "cell_type": "code",
   "execution_count": 125,
   "id": "92793893",
   "metadata": {},
   "outputs": [],
   "source": [
    "predicted4=clf4.predict(X_test_sample)"
   ]
  },
  {
   "cell_type": "code",
   "execution_count": 126,
   "id": "f837832d",
   "metadata": {},
   "outputs": [
    {
     "name": "stdout",
     "output_type": "stream",
     "text": [
      "Confusion matrix:\n",
      " [[ 858 1046]\n",
      " [   1   15]]\n",
      "F1_score :\n",
      " 0.027855153203342614\n",
      "Estimateurs :\n",
      "               precision    recall  f1-score   support\n",
      "\n",
      "           0       1.00      0.45      0.62      1904\n",
      "           1       0.01      0.94      0.03        16\n",
      "\n",
      "    accuracy                           0.45      1920\n",
      "   macro avg       0.51      0.69      0.32      1920\n",
      "weighted avg       0.99      0.45      0.62      1920\n",
      "\n",
      "Auc Score :\n",
      " 0.6940651260504201\n",
      "Marge = 4963.44 euros\n"
     ]
    }
   ],
   "source": [
    "resultats(predicted4)"
   ]
  },
  {
   "cell_type": "markdown",
   "id": "68b1bf0d",
   "metadata": {},
   "source": [
    "# 3. Point de comparaison avec les méthodes testées en oversampling sur le même sampling data set"
   ]
  },
  {
   "cell_type": "markdown",
   "id": "0e37932a",
   "metadata": {},
   "source": [
    "# 3.1 SMOTE"
   ]
  },
  {
   "cell_type": "code",
   "execution_count": 118,
   "id": "bb4a0abd",
   "metadata": {},
   "outputs": [
    {
     "name": "stdout",
     "output_type": "stream",
     "text": [
      "CPU times: total: 141 ms\n",
      "Wall time: 46.9 ms\n"
     ]
    }
   ],
   "source": [
    "%%time\n",
    "\n",
    "resampling5 = SMOTE(random_state=0)\n",
    "\n",
    "model1 = LogisticRegression(random_state=0)\n",
    "\n",
    "clf5 = Pipeline([('SMOTE', resampling5), ('Logistic Regression', model1)])\n",
    "\n",
    "classifier5=clf5.fit(X_train_sample_scale, y_train_sample)"
   ]
  },
  {
   "cell_type": "code",
   "execution_count": 119,
   "id": "146fd7a3",
   "metadata": {},
   "outputs": [],
   "source": [
    "predicted5=clf5.predict(X_test_sample)"
   ]
  },
  {
   "cell_type": "code",
   "execution_count": 120,
   "id": "cc7cc7d8",
   "metadata": {},
   "outputs": [
    {
     "name": "stdout",
     "output_type": "stream",
     "text": [
      "Confusion matrix:\n",
      " [[ 875 1029]\n",
      " [   1   15]]\n",
      "F1_score :\n",
      " 0.028301886792452827\n",
      "Estimateurs :\n",
      "               precision    recall  f1-score   support\n",
      "\n",
      "           0       1.00      0.46      0.63      1904\n",
      "           1       0.01      0.94      0.03        16\n",
      "\n",
      "    accuracy                           0.46      1920\n",
      "   macro avg       0.51      0.70      0.33      1920\n",
      "weighted avg       0.99      0.46      0.62      1920\n",
      "\n",
      "Auc Score :\n",
      " 0.6985294117647058\n",
      "Marge = 4979.73 euros\n"
     ]
    }
   ],
   "source": [
    "resultats(predicted5)"
   ]
  },
  {
   "cell_type": "markdown",
   "id": "5f5a818a",
   "metadata": {},
   "source": [
    "# 3.2 Borderline SMOTE"
   ]
  },
  {
   "cell_type": "code",
   "execution_count": 121,
   "id": "b93c1b36",
   "metadata": {},
   "outputs": [
    {
     "name": "stdout",
     "output_type": "stream",
     "text": [
      "CPU times: total: 359 ms\n",
      "Wall time: 132 ms\n"
     ]
    }
   ],
   "source": [
    "%%time\n",
    "\n",
    "resampling6 = BorderlineSMOTE(random_state=0)\n",
    "\n",
    "model1 = LogisticRegression(random_state=0)\n",
    "\n",
    "clf6 = Pipeline([('BorderlineSMOTE', resampling6), ('Logistic Regression', model1)])\n",
    "\n",
    "classifier6=clf6.fit(X_train_sample_scale, y_train_sample)"
   ]
  },
  {
   "cell_type": "code",
   "execution_count": 122,
   "id": "77f41af9",
   "metadata": {},
   "outputs": [],
   "source": [
    "predicted6=clf6.predict(X_test_sample)"
   ]
  },
  {
   "cell_type": "code",
   "execution_count": 123,
   "id": "2b850a1b",
   "metadata": {},
   "outputs": [
    {
     "name": "stdout",
     "output_type": "stream",
     "text": [
      "Confusion matrix:\n",
      " [[1556  348]\n",
      " [  11    5]]\n",
      "F1_score :\n",
      " 0.027100271002710025\n",
      "Estimateurs :\n",
      "               precision    recall  f1-score   support\n",
      "\n",
      "           0       0.99      0.82      0.90      1904\n",
      "           1       0.01      0.31      0.03        16\n",
      "\n",
      "    accuracy                           0.81      1920\n",
      "   macro avg       0.50      0.56      0.46      1920\n",
      "weighted avg       0.98      0.81      0.89      1920\n",
      "\n",
      "Auc Score :\n",
      " 0.5648634453781513\n",
      "Marge = 5376.7 euros\n"
     ]
    }
   ],
   "source": [
    "resultats(predicted6)"
   ]
  },
  {
   "cell_type": "markdown",
   "id": "56cd5382",
   "metadata": {},
   "source": [
    "## 3.3 ADASYN"
   ]
  },
  {
   "cell_type": "code",
   "execution_count": 127,
   "id": "561ecfe5",
   "metadata": {},
   "outputs": [
    {
     "name": "stdout",
     "output_type": "stream",
     "text": [
      "CPU times: total: 188 ms\n",
      "Wall time: 84.7 ms\n"
     ]
    }
   ],
   "source": [
    "%%time\n",
    "\n",
    "resampling7 = ADASYN(random_state=0)\n",
    "\n",
    "model1 = LogisticRegression(random_state=0)\n",
    "\n",
    "clf7 = Pipeline([('ADASYN', resampling7), ('Logistic Regression', model1)])\n",
    "\n",
    "classifier7=clf7.fit(X_train_sample_scale, y_train_sample)"
   ]
  },
  {
   "cell_type": "code",
   "execution_count": 128,
   "id": "feef35f1",
   "metadata": {},
   "outputs": [],
   "source": [
    "predicted7=clf7.predict(X_test_sample)"
   ]
  },
  {
   "cell_type": "code",
   "execution_count": 129,
   "id": "5a8afba6",
   "metadata": {},
   "outputs": [
    {
     "name": "stdout",
     "output_type": "stream",
     "text": [
      "Confusion matrix:\n",
      " [[ 885 1019]\n",
      " [   1   15]]\n",
      "F1_score :\n",
      " 0.02857142857142857\n",
      "Estimateurs :\n",
      "               precision    recall  f1-score   support\n",
      "\n",
      "           0       1.00      0.46      0.63      1904\n",
      "           1       0.01      0.94      0.03        16\n",
      "\n",
      "    accuracy                           0.47      1920\n",
      "   macro avg       0.51      0.70      0.33      1920\n",
      "weighted avg       0.99      0.47      0.63      1920\n",
      "\n",
      "Auc Score :\n",
      " 0.7011554621848739\n",
      "Marge = 4993.58 euros\n"
     ]
    }
   ],
   "source": [
    "resultats(predicted7)"
   ]
  },
  {
   "cell_type": "markdown",
   "id": "87387ff4",
   "metadata": {},
   "source": [
    "**Les résulats en under et over-and-under sampling ne semble pas apporter pas améliore de manière significative, ne terme de performances, les résultats obtenus avec BorderlineSMOTE**"
   ]
  },
  {
   "cell_type": "code",
   "execution_count": null,
   "id": "1462c300",
   "metadata": {},
   "outputs": [],
   "source": []
  }
 ],
 "metadata": {
  "kernelspec": {
   "display_name": "Python 3 (ipykernel)",
   "language": "python",
   "name": "python3"
  },
  "language_info": {
   "codemirror_mode": {
    "name": "ipython",
    "version": 3
   },
   "file_extension": ".py",
   "mimetype": "text/x-python",
   "name": "python",
   "nbconvert_exporter": "python",
   "pygments_lexer": "ipython3",
   "version": "3.9.12"
  }
 },
 "nbformat": 4,
 "nbformat_minor": 5
}
