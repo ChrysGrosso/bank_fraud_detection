{
 "cells": [
  {
   "cell_type": "code",
   "execution_count": 1,
   "id": "b55f6234",
   "metadata": {},
   "outputs": [],
   "source": [
    "import os\n",
    "import pandas as pd\n",
    "import numpy as np\n",
    "import dask.dataframe as dd\n",
    "import matplotlib.pyplot as plt\n",
    "import sys \n",
    "import fastparquet"
   ]
  },
  {
   "cell_type": "code",
   "execution_count": null,
   "id": "bd468338",
   "metadata": {},
   "outputs": [],
   "source": [
    "#pip install dask.ml"
   ]
  },
  {
   "cell_type": "code",
   "execution_count": null,
   "id": "0bbe588f",
   "metadata": {},
   "outputs": [],
   "source": [
    "#pip install scikit-plot"
   ]
  },
  {
   "cell_type": "code",
   "execution_count": 4,
   "id": "f99a1b19",
   "metadata": {},
   "outputs": [],
   "source": [
    "from dask_ml.preprocessing import DummyEncoder\n",
    "import pickle\n",
    "import dask_ml \n",
    "from dask import delayed\n",
    "from sklearn.metrics import *\n",
    "import scikitplot as skplt\n",
    "from dask_ml.preprocessing import StandardScaler"
   ]
  },
  {
   "cell_type": "code",
   "execution_count": 5,
   "id": "8c25ced4",
   "metadata": {},
   "outputs": [
    {
     "name": "stderr",
     "output_type": "stream",
     "text": [
      "C:\\Users\\chrys\\anaconda3\\lib\\site-packages\\dask_xgboost\\__init__.py:7: UserWarning: Dask-XGBoost has been deprecated and is no longer maintained. The functionality of this project has been included directly in XGBoost. To use Dask and XGBoost together, please use ``xgboost.dask`` instead https://xgboost.readthedocs.io/en/latest/tutorials/dask.html.\n",
      "  warnings.warn(\n"
     ]
    }
   ],
   "source": [
    "from dask_ml.xgboost import XGBRegressor"
   ]
  },
  {
   "cell_type": "code",
   "execution_count": 10,
   "id": "7ad3f632",
   "metadata": {},
   "outputs": [],
   "source": [
    "import dask\n",
    "import xgboost\n",
    "import dask_xgboost"
   ]
  },
  {
   "cell_type": "code",
   "execution_count": null,
   "id": "475b7ada",
   "metadata": {},
   "outputs": [],
   "source": [
    "params = {'objective': 'binary:logistic',\n",
    "          'max_depth': 4, 'eta': 0.01, 'subsample': 0.5,\n",
    "          'min_child_weight': 0.5}\n",
    "\n",
    "bst = dask_xgboost.train(client, params, X_train, y_train, num_boost_round=10)"
   ]
  },
  {
   "cell_type": "code",
   "execution_count": 13,
   "id": "2a7200c4",
   "metadata": {},
   "outputs": [],
   "source": [
    "# Algorithmes\n",
    "from sklearn.tree import DecisionTreeClassifier \n",
    "from sklearn.ensemble import RandomForestClassifier\n",
    "from sklearn.linear_model import LogisticRegression\n",
    "from sklearn.ensemble import AdaBoostClassifier\n",
    "from dask_xgboost import XGBRegressor"
   ]
  },
  {
   "cell_type": "code",
   "execution_count": 14,
   "id": "a9ad043b",
   "metadata": {},
   "outputs": [],
   "source": [
    "import os\n",
    "os.chdir(\"C:/Fouille-donnees-massives\")"
   ]
  },
  {
   "cell_type": "code",
   "execution_count": 21,
   "id": "74bac687",
   "metadata": {},
   "outputs": [
    {
     "name": "stdout",
     "output_type": "stream",
     "text": [
      "<class 'dask.dataframe.core.DataFrame'>\n",
      "Columns: 13 entries, FlagImpaye to Heure\n",
      "dtypes: object(2), float64(7), int64(4)"
     ]
    }
   ],
   "source": [
    "# Dataframe d’apprentissage\n",
    "dfTrain = dd.read_parquet(\"train_fast\")\n",
    "dfTrain.info()"
   ]
  },
  {
   "cell_type": "code",
   "execution_count": 17,
   "id": "53232750",
   "metadata": {},
   "outputs": [
    {
     "data": {
      "text/html": [
       "<div>\n",
       "<style scoped>\n",
       "    .dataframe tbody tr th:only-of-type {\n",
       "        vertical-align: middle;\n",
       "    }\n",
       "\n",
       "    .dataframe tbody tr th {\n",
       "        vertical-align: top;\n",
       "    }\n",
       "\n",
       "    .dataframe thead th {\n",
       "        text-align: right;\n",
       "    }\n",
       "</style>\n",
       "<table border=\"1\" class=\"dataframe\">\n",
       "  <thead>\n",
       "    <tr style=\"text-align: right;\">\n",
       "      <th></th>\n",
       "      <th>FlagImpaye</th>\n",
       "      <th>Montant</th>\n",
       "      <th>VerifianceCPT1</th>\n",
       "      <th>D2CB</th>\n",
       "      <th>ScoringFP1</th>\n",
       "      <th>ScoringFP2</th>\n",
       "      <th>ScoringFP3</th>\n",
       "      <th>TauxImpNB_CPM</th>\n",
       "      <th>NbrMagasin3J</th>\n",
       "      <th>DiffDateTr3</th>\n",
       "      <th>CA3TR</th>\n",
       "      <th>Date</th>\n",
       "      <th>Heure</th>\n",
       "    </tr>\n",
       "  </thead>\n",
       "  <tbody>\n",
       "    <tr>\n",
       "      <th>3899362</th>\n",
       "      <td>0</td>\n",
       "      <td>60.00</td>\n",
       "      <td>0</td>\n",
       "      <td>302</td>\n",
       "      <td>0.000000</td>\n",
       "      <td>0.000000</td>\n",
       "      <td>0.000000</td>\n",
       "      <td>52.076034</td>\n",
       "      <td>1</td>\n",
       "      <td>4.000000</td>\n",
       "      <td>0.00</td>\n",
       "      <td>2017-09-01</td>\n",
       "      <td>07:34:17</td>\n",
       "    </tr>\n",
       "    <tr>\n",
       "      <th>3899363</th>\n",
       "      <td>0</td>\n",
       "      <td>25.00</td>\n",
       "      <td>0</td>\n",
       "      <td>547</td>\n",
       "      <td>0.000000</td>\n",
       "      <td>0.000000</td>\n",
       "      <td>0.000000</td>\n",
       "      <td>52.076034</td>\n",
       "      <td>1</td>\n",
       "      <td>4.000000</td>\n",
       "      <td>0.00</td>\n",
       "      <td>2017-09-01</td>\n",
       "      <td>08:06:17</td>\n",
       "    </tr>\n",
       "    <tr>\n",
       "      <th>3899364</th>\n",
       "      <td>0</td>\n",
       "      <td>32.00</td>\n",
       "      <td>0</td>\n",
       "      <td>152</td>\n",
       "      <td>0.000000</td>\n",
       "      <td>0.000000</td>\n",
       "      <td>0.000000</td>\n",
       "      <td>52.076034</td>\n",
       "      <td>1</td>\n",
       "      <td>4.000000</td>\n",
       "      <td>0.00</td>\n",
       "      <td>2017-09-01</td>\n",
       "      <td>08:08:03</td>\n",
       "    </tr>\n",
       "    <tr>\n",
       "      <th>3899365</th>\n",
       "      <td>0</td>\n",
       "      <td>20.88</td>\n",
       "      <td>0</td>\n",
       "      <td>393</td>\n",
       "      <td>0.007590</td>\n",
       "      <td>0.182221</td>\n",
       "      <td>0.002092</td>\n",
       "      <td>34.118277</td>\n",
       "      <td>1</td>\n",
       "      <td>1.539155</td>\n",
       "      <td>71.51</td>\n",
       "      <td>2017-09-01</td>\n",
       "      <td>08:09:03</td>\n",
       "    </tr>\n",
       "    <tr>\n",
       "      <th>3899366</th>\n",
       "      <td>0</td>\n",
       "      <td>20.21</td>\n",
       "      <td>0</td>\n",
       "      <td>152</td>\n",
       "      <td>0.018994</td>\n",
       "      <td>-1.024399</td>\n",
       "      <td>0.005682</td>\n",
       "      <td>52.076034</td>\n",
       "      <td>1</td>\n",
       "      <td>4.000000</td>\n",
       "      <td>0.00</td>\n",
       "      <td>2017-09-01</td>\n",
       "      <td>08:11:37</td>\n",
       "    </tr>\n",
       "  </tbody>\n",
       "</table>\n",
       "</div>"
      ],
      "text/plain": [
       "         FlagImpaye  Montant  VerifianceCPT1  D2CB  ScoringFP1  ScoringFP2  \\\n",
       "3899362           0    60.00               0   302    0.000000    0.000000   \n",
       "3899363           0    25.00               0   547    0.000000    0.000000   \n",
       "3899364           0    32.00               0   152    0.000000    0.000000   \n",
       "3899365           0    20.88               0   393    0.007590    0.182221   \n",
       "3899366           0    20.21               0   152    0.018994   -1.024399   \n",
       "\n",
       "         ScoringFP3  TauxImpNB_CPM  NbrMagasin3J  DiffDateTr3  CA3TR  \\\n",
       "3899362    0.000000      52.076034             1     4.000000   0.00   \n",
       "3899363    0.000000      52.076034             1     4.000000   0.00   \n",
       "3899364    0.000000      52.076034             1     4.000000   0.00   \n",
       "3899365    0.002092      34.118277             1     1.539155  71.51   \n",
       "3899366    0.005682      52.076034             1     4.000000   0.00   \n",
       "\n",
       "               Date     Heure  \n",
       "3899362  2017-09-01  07:34:17  \n",
       "3899363  2017-09-01  08:06:17  \n",
       "3899364  2017-09-01  08:08:03  \n",
       "3899365  2017-09-01  08:09:03  \n",
       "3899366  2017-09-01  08:11:37  "
      ]
     },
     "execution_count": 17,
     "metadata": {},
     "output_type": "execute_result"
    }
   ],
   "source": [
    "# Dataframe de test\n",
    "dfTest = dd.read_parquet(\"test_fast\")\n",
    "dfTest.head()"
   ]
  },
  {
   "cell_type": "markdown",
   "id": "aba3a5fb",
   "metadata": {},
   "source": [
    "# II. Préparation : variables explicatives, variable à prédire et centrage-réduction"
   ]
  },
  {
   "cell_type": "code",
   "execution_count": 23,
   "id": "4d3a9f02",
   "metadata": {},
   "outputs": [],
   "source": [
    "# Définir la variable cible \n",
    "XTrain = dfTrain.drop([\"FlagImpaye\"], axis = \"columns\")\n",
    "XTest = dfTest.drop([\"FlagImpaye\"], axis = \"columns\")\n",
    "\n",
    "yTrain = dfTrain[\"FlagImpaye\"]\n",
    "yTest = dfTest[\"FlagImpaye\"]"
   ]
  },
  {
   "cell_type": "code",
   "execution_count": 27,
   "id": "731d3d1b",
   "metadata": {},
   "outputs": [
    {
     "name": "stdout",
     "output_type": "stream",
     "text": [
      "<class 'dask.dataframe.core.DataFrame'>\n",
      "Columns: 12 entries, Montant to Heure\n",
      "dtypes: object(2), float64(7), int64(3)"
     ]
    }
   ],
   "source": [
    "XTrain.info()"
   ]
  },
  {
   "cell_type": "code",
   "execution_count": 24,
   "id": "9d97dd18",
   "metadata": {},
   "outputs": [],
   "source": [
    "# Instanciation de StandardScaler pour centrer-réduire les données\n",
    "scaler = StandardScaler()"
   ]
  },
  {
   "cell_type": "code",
   "execution_count": 28,
   "id": "027f11af",
   "metadata": {},
   "outputs": [
    {
     "ename": "TypeError",
     "evalue": "unsupported operand type(s) for /: 'NoneType' and 'int'",
     "output_type": "error",
     "traceback": [
      "\u001b[1;31m---------------------------------------------------------------------------\u001b[0m",
      "\u001b[1;31mTypeError\u001b[0m                                 Traceback (most recent call last)",
      "Input \u001b[1;32mIn [28]\u001b[0m, in \u001b[0;36m<cell line: 2>\u001b[1;34m()\u001b[0m\n\u001b[0;32m      1\u001b[0m \u001b[38;5;66;03m# Centrer-réduire les dataframe d'apprentissage\u001b[39;00m\n\u001b[1;32m----> 2\u001b[0m XTrain_scale \u001b[38;5;241m=\u001b[39m \u001b[43mscaler\u001b[49m\u001b[38;5;241;43m.\u001b[39;49m\u001b[43mfit_transform\u001b[49m\u001b[43m(\u001b[49m\u001b[43mXTrain\u001b[49m\u001b[43m)\u001b[49m\n\u001b[0;32m      3\u001b[0m XTrain_scale\u001b[38;5;241m.\u001b[39mhead()\n",
      "File \u001b[1;32m~\\anaconda3\\lib\\site-packages\\sklearn\\base.py:852\u001b[0m, in \u001b[0;36mTransformerMixin.fit_transform\u001b[1;34m(self, X, y, **fit_params)\u001b[0m\n\u001b[0;32m    848\u001b[0m \u001b[38;5;66;03m# non-optimized default implementation; override when a better\u001b[39;00m\n\u001b[0;32m    849\u001b[0m \u001b[38;5;66;03m# method is possible for a given clustering algorithm\u001b[39;00m\n\u001b[0;32m    850\u001b[0m \u001b[38;5;28;01mif\u001b[39;00m y \u001b[38;5;129;01mis\u001b[39;00m \u001b[38;5;28;01mNone\u001b[39;00m:\n\u001b[0;32m    851\u001b[0m     \u001b[38;5;66;03m# fit method of arity 1 (unsupervised transformation)\u001b[39;00m\n\u001b[1;32m--> 852\u001b[0m     \u001b[38;5;28;01mreturn\u001b[39;00m \u001b[38;5;28mself\u001b[39m\u001b[38;5;241m.\u001b[39mfit(X, \u001b[38;5;241m*\u001b[39m\u001b[38;5;241m*\u001b[39mfit_params)\u001b[38;5;241m.\u001b[39mtransform(X)\n\u001b[0;32m    853\u001b[0m \u001b[38;5;28;01melse\u001b[39;00m:\n\u001b[0;32m    854\u001b[0m     \u001b[38;5;66;03m# fit method of arity 2 (supervised transformation)\u001b[39;00m\n\u001b[0;32m    855\u001b[0m     \u001b[38;5;28;01mreturn\u001b[39;00m \u001b[38;5;28mself\u001b[39m\u001b[38;5;241m.\u001b[39mfit(X, y, \u001b[38;5;241m*\u001b[39m\u001b[38;5;241m*\u001b[39mfit_params)\u001b[38;5;241m.\u001b[39mtransform(X)\n",
      "File \u001b[1;32m~\\anaconda3\\lib\\site-packages\\dask_ml\\preprocessing\\data.py:76\u001b[0m, in \u001b[0;36mStandardScaler.fit\u001b[1;34m(self, X, y)\u001b[0m\n\u001b[0;32m     73\u001b[0m     X \u001b[38;5;241m=\u001b[39m X\u001b[38;5;241m.\u001b[39mvalues\n\u001b[0;32m     75\u001b[0m \u001b[38;5;28;01mif\u001b[39;00m \u001b[38;5;28mself\u001b[39m\u001b[38;5;241m.\u001b[39mwith_mean:\n\u001b[1;32m---> 76\u001b[0m     mean_ \u001b[38;5;241m=\u001b[39m \u001b[43mnanmean\u001b[49m\u001b[43m(\u001b[49m\u001b[43mX\u001b[49m\u001b[43m,\u001b[49m\u001b[43m \u001b[49m\u001b[38;5;241;43m0\u001b[39;49m\u001b[43m)\u001b[49m\n\u001b[0;32m     77\u001b[0m     attributes[\u001b[38;5;124m\"\u001b[39m\u001b[38;5;124mmean_\u001b[39m\u001b[38;5;124m\"\u001b[39m] \u001b[38;5;241m=\u001b[39m mean_\n\u001b[0;32m     78\u001b[0m \u001b[38;5;28;01mif\u001b[39;00m \u001b[38;5;28mself\u001b[39m\u001b[38;5;241m.\u001b[39mwith_std:\n",
      "File \u001b[1;32m~\\anaconda3\\lib\\site-packages\\dask\\array\\reductions.py:691\u001b[0m, in \u001b[0;36mnanmean\u001b[1;34m(a, axis, dtype, keepdims, split_every, out)\u001b[0m\n\u001b[0;32m    689\u001b[0m     dt \u001b[38;5;241m=\u001b[39m dtype\n\u001b[0;32m    690\u001b[0m \u001b[38;5;28;01melse\u001b[39;00m:\n\u001b[1;32m--> 691\u001b[0m     dt \u001b[38;5;241m=\u001b[39m \u001b[38;5;28mgetattr\u001b[39m(\u001b[43mnp\u001b[49m\u001b[38;5;241;43m.\u001b[39;49m\u001b[43mmean\u001b[49m\u001b[43m(\u001b[49m\u001b[43mnp\u001b[49m\u001b[38;5;241;43m.\u001b[39;49m\u001b[43mempty\u001b[49m\u001b[43m(\u001b[49m\u001b[43mshape\u001b[49m\u001b[38;5;241;43m=\u001b[39;49m\u001b[43m(\u001b[49m\u001b[38;5;241;43m1\u001b[39;49m\u001b[43m,\u001b[49m\u001b[43m)\u001b[49m\u001b[43m,\u001b[49m\u001b[43m \u001b[49m\u001b[43mdtype\u001b[49m\u001b[38;5;241;43m=\u001b[39;49m\u001b[43ma\u001b[49m\u001b[38;5;241;43m.\u001b[39;49m\u001b[43mdtype\u001b[49m\u001b[43m)\u001b[49m\u001b[43m)\u001b[49m, \u001b[38;5;124m\"\u001b[39m\u001b[38;5;124mdtype\u001b[39m\u001b[38;5;124m\"\u001b[39m, \u001b[38;5;28mobject\u001b[39m)\n\u001b[0;32m    692\u001b[0m \u001b[38;5;28;01mreturn\u001b[39;00m reduction(\n\u001b[0;32m    693\u001b[0m     a,\n\u001b[0;32m    694\u001b[0m     partial(mean_chunk, \u001b[38;5;28msum\u001b[39m\u001b[38;5;241m=\u001b[39mchunk\u001b[38;5;241m.\u001b[39mnansum, numel\u001b[38;5;241m=\u001b[39mnannumel),\n\u001b[1;32m   (...)\u001b[0m\n\u001b[0;32m    702\u001b[0m     combine\u001b[38;5;241m=\u001b[39mpartial(mean_combine, \u001b[38;5;28msum\u001b[39m\u001b[38;5;241m=\u001b[39mchunk\u001b[38;5;241m.\u001b[39mnansum, numel\u001b[38;5;241m=\u001b[39mnannumel),\n\u001b[0;32m    703\u001b[0m )\n",
      "File \u001b[1;32m<__array_function__ internals>:5\u001b[0m, in \u001b[0;36mmean\u001b[1;34m(*args, **kwargs)\u001b[0m\n",
      "File \u001b[1;32m~\\anaconda3\\lib\\site-packages\\numpy\\core\\fromnumeric.py:3440\u001b[0m, in \u001b[0;36mmean\u001b[1;34m(a, axis, dtype, out, keepdims, where)\u001b[0m\n\u001b[0;32m   3437\u001b[0m     \u001b[38;5;28;01melse\u001b[39;00m:\n\u001b[0;32m   3438\u001b[0m         \u001b[38;5;28;01mreturn\u001b[39;00m mean(axis\u001b[38;5;241m=\u001b[39maxis, dtype\u001b[38;5;241m=\u001b[39mdtype, out\u001b[38;5;241m=\u001b[39mout, \u001b[38;5;241m*\u001b[39m\u001b[38;5;241m*\u001b[39mkwargs)\n\u001b[1;32m-> 3440\u001b[0m \u001b[38;5;28;01mreturn\u001b[39;00m _methods\u001b[38;5;241m.\u001b[39m_mean(a, axis\u001b[38;5;241m=\u001b[39maxis, dtype\u001b[38;5;241m=\u001b[39mdtype,\n\u001b[0;32m   3441\u001b[0m                       out\u001b[38;5;241m=\u001b[39mout, \u001b[38;5;241m*\u001b[39m\u001b[38;5;241m*\u001b[39mkwargs)\n",
      "File \u001b[1;32m~\\anaconda3\\lib\\site-packages\\numpy\\core\\_methods.py:191\u001b[0m, in \u001b[0;36m_mean\u001b[1;34m(a, axis, dtype, out, keepdims, where)\u001b[0m\n\u001b[0;32m    189\u001b[0m         ret \u001b[38;5;241m=\u001b[39m ret\u001b[38;5;241m.\u001b[39mdtype\u001b[38;5;241m.\u001b[39mtype(ret \u001b[38;5;241m/\u001b[39m rcount)\n\u001b[0;32m    190\u001b[0m \u001b[38;5;28;01melse\u001b[39;00m:\n\u001b[1;32m--> 191\u001b[0m     ret \u001b[38;5;241m=\u001b[39m \u001b[43mret\u001b[49m\u001b[43m \u001b[49m\u001b[38;5;241;43m/\u001b[39;49m\u001b[43m \u001b[49m\u001b[43mrcount\u001b[49m\n\u001b[0;32m    193\u001b[0m \u001b[38;5;28;01mreturn\u001b[39;00m ret\n",
      "\u001b[1;31mTypeError\u001b[0m: unsupported operand type(s) for /: 'NoneType' and 'int'"
     ]
    }
   ],
   "source": [
    "# Centrer-réduire le dataframe d'apprentissage\n",
    "XTrain_scale = scaler.fit_transform(XTrain)\n",
    "XTrain_scale.head()"
   ]
  },
  {
   "cell_type": "code",
   "execution_count": null,
   "id": "ec1b2ab4",
   "metadata": {},
   "outputs": [],
   "source": [
    "#est = XGBRegressor(...)\n",
    "\"est.fit(train, train_labels)"
   ]
  }
 ],
 "metadata": {
  "kernelspec": {
   "display_name": "Python 3 (ipykernel)",
   "language": "python",
   "name": "python3"
  },
  "language_info": {
   "codemirror_mode": {
    "name": "ipython",
    "version": 3
   },
   "file_extension": ".py",
   "mimetype": "text/x-python",
   "name": "python",
   "nbconvert_exporter": "python",
   "pygments_lexer": "ipython3",
   "version": "3.9.12"
  }
 },
 "nbformat": 4,
 "nbformat_minor": 5
}
