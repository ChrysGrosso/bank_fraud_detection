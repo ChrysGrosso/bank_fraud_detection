{
 "cells": [
  {
   "cell_type": "code",
   "execution_count": 1,
   "id": "c0357e9c",
   "metadata": {},
   "outputs": [
    {
     "name": "stdout",
     "output_type": "stream",
     "text": [
      "Requirement already satisfied: scikit-plot in c:\\programdata\\anaconda3\\lib\\site-packages (0.3.7)\n",
      "Requirement already satisfied: matplotlib>=1.4.0 in c:\\programdata\\anaconda3\\lib\\site-packages (from scikit-plot) (3.5.1)\n",
      "Requirement already satisfied: scipy>=0.9 in c:\\programdata\\anaconda3\\lib\\site-packages (from scikit-plot) (1.7.3)\n",
      "Requirement already satisfied: scikit-learn>=0.18 in c:\\programdata\\anaconda3\\lib\\site-packages (from scikit-plot) (1.0.2)\n",
      "Requirement already satisfied: joblib>=0.10 in c:\\programdata\\anaconda3\\lib\\site-packages (from scikit-plot) (1.2.0)\n",
      "Requirement already satisfied: fonttools>=4.22.0 in c:\\programdata\\anaconda3\\lib\\site-packages (from matplotlib>=1.4.0->scikit-plot) (4.25.0)\n",
      "Requirement already satisfied: cycler>=0.10 in c:\\programdata\\anaconda3\\lib\\site-packages (from matplotlib>=1.4.0->scikit-plot) (0.11.0)\n",
      "Requirement already satisfied: kiwisolver>=1.0.1 in c:\\programdata\\anaconda3\\lib\\site-packages (from matplotlib>=1.4.0->scikit-plot) (1.3.2)\n",
      "Requirement already satisfied: python-dateutil>=2.7 in c:\\programdata\\anaconda3\\lib\\site-packages (from matplotlib>=1.4.0->scikit-plot) (2.8.2)\n",
      "Requirement already satisfied: packaging>=20.0 in c:\\programdata\\anaconda3\\lib\\site-packages (from matplotlib>=1.4.0->scikit-plot) (21.3)\n",
      "Requirement already satisfied: pyparsing>=2.2.1 in c:\\programdata\\anaconda3\\lib\\site-packages (from matplotlib>=1.4.0->scikit-plot) (3.0.4)\n",
      "Requirement already satisfied: pillow>=6.2.0 in c:\\programdata\\anaconda3\\lib\\site-packages (from matplotlib>=1.4.0->scikit-plot) (9.0.1)\n",
      "Requirement already satisfied: numpy>=1.17 in c:\\programdata\\anaconda3\\lib\\site-packages (from matplotlib>=1.4.0->scikit-plot) (1.21.5)\n",
      "Requirement already satisfied: six>=1.5 in c:\\programdata\\anaconda3\\lib\\site-packages (from python-dateutil>=2.7->matplotlib>=1.4.0->scikit-plot) (1.16.0)\n",
      "Requirement already satisfied: threadpoolctl>=2.0.0 in c:\\programdata\\anaconda3\\lib\\site-packages (from scikit-learn>=0.18->scikit-plot) (2.2.0)\n"
     ]
    }
   ],
   "source": [
    "!pip install scikit-plot"
   ]
  },
  {
   "cell_type": "code",
   "execution_count": 2,
   "id": "a1e7a41e",
   "metadata": {},
   "outputs": [
    {
     "name": "stdout",
     "output_type": "stream",
     "text": [
      "Requirement already satisfied: dask-ml in c:\\programdata\\anaconda3\\lib\\site-packages (2022.5.27)\n",
      "Requirement already satisfied: scikit-learn>=1.0.0 in c:\\programdata\\anaconda3\\lib\\site-packages (from dask-ml) (1.0.2)\n",
      "Requirement already satisfied: distributed>=2.4.0 in c:\\programdata\\anaconda3\\lib\\site-packages (from dask-ml) (2022.2.1)\n",
      "Requirement already satisfied: dask[array,dataframe]>=2.4.0 in c:\\programdata\\anaconda3\\lib\\site-packages (from dask-ml) (2022.2.1)\n",
      "Requirement already satisfied: dask-glm>=0.2.0 in c:\\programdata\\anaconda3\\lib\\site-packages (from dask-ml) (0.2.0)\n",
      "Requirement already satisfied: scipy in c:\\programdata\\anaconda3\\lib\\site-packages (from dask-ml) (1.7.3)\n",
      "Requirement already satisfied: multipledispatch>=0.4.9 in c:\\programdata\\anaconda3\\lib\\site-packages (from dask-ml) (0.6.0)\n",
      "Requirement already satisfied: packaging in c:\\programdata\\anaconda3\\lib\\site-packages (from dask-ml) (21.3)\n",
      "Requirement already satisfied: pandas>=0.24.2 in c:\\programdata\\anaconda3\\lib\\site-packages (from dask-ml) (1.5.2)\n",
      "Requirement already satisfied: numpy>=1.20.0 in c:\\programdata\\anaconda3\\lib\\site-packages (from dask-ml) (1.21.5)\n",
      "Requirement already satisfied: numba>=0.51.0 in c:\\programdata\\anaconda3\\lib\\site-packages (from dask-ml) (0.55.1)\n",
      "Requirement already satisfied: cloudpickle>=0.2.2 in c:\\programdata\\anaconda3\\lib\\site-packages (from dask-glm>=0.2.0->dask-ml) (2.0.0)\n",
      "Requirement already satisfied: toolz>=0.8.2 in c:\\programdata\\anaconda3\\lib\\site-packages (from dask[array,dataframe]>=2.4.0->dask-ml) (0.11.2)\n",
      "Requirement already satisfied: pyyaml>=5.3.1 in c:\\programdata\\anaconda3\\lib\\site-packages (from dask[array,dataframe]>=2.4.0->dask-ml) (6.0)\n",
      "Requirement already satisfied: fsspec>=0.6.0 in c:\\programdata\\anaconda3\\lib\\site-packages (from dask[array,dataframe]>=2.4.0->dask-ml) (2022.2.0)\n",
      "Requirement already satisfied: partd>=0.3.10 in c:\\programdata\\anaconda3\\lib\\site-packages (from dask[array,dataframe]>=2.4.0->dask-ml) (1.2.0)\n",
      "Requirement already satisfied: click>=6.6 in c:\\programdata\\anaconda3\\lib\\site-packages (from distributed>=2.4.0->dask-ml) (8.0.4)\n",
      "Requirement already satisfied: jinja2 in c:\\programdata\\anaconda3\\lib\\site-packages (from distributed>=2.4.0->dask-ml) (2.11.3)\n",
      "Requirement already satisfied: sortedcontainers!=2.0.0,!=2.0.1 in c:\\programdata\\anaconda3\\lib\\site-packages (from distributed>=2.4.0->dask-ml) (2.4.0)\n",
      "Requirement already satisfied: tblib>=1.6.0 in c:\\programdata\\anaconda3\\lib\\site-packages (from distributed>=2.4.0->dask-ml) (1.7.0)\n",
      "Requirement already satisfied: setuptools in c:\\programdata\\anaconda3\\lib\\site-packages (from distributed>=2.4.0->dask-ml) (61.2.0)\n",
      "Requirement already satisfied: tornado>=6.0.3 in c:\\programdata\\anaconda3\\lib\\site-packages (from distributed>=2.4.0->dask-ml) (6.1)\n",
      "Requirement already satisfied: msgpack>=0.6.0 in c:\\programdata\\anaconda3\\lib\\site-packages (from distributed>=2.4.0->dask-ml) (1.0.2)\n",
      "Requirement already satisfied: psutil>=5.0 in c:\\programdata\\anaconda3\\lib\\site-packages (from distributed>=2.4.0->dask-ml) (5.8.0)\n",
      "Requirement already satisfied: zict>=0.1.3 in c:\\programdata\\anaconda3\\lib\\site-packages (from distributed>=2.4.0->dask-ml) (2.0.0)\n",
      "Requirement already satisfied: colorama in c:\\programdata\\anaconda3\\lib\\site-packages (from click>=6.6->distributed>=2.4.0->dask-ml) (0.4.4)\n",
      "Requirement already satisfied: six in c:\\programdata\\anaconda3\\lib\\site-packages (from multipledispatch>=0.4.9->dask-ml) (1.16.0)\n",
      "Requirement already satisfied: llvmlite<0.39,>=0.38.0rc1 in c:\\programdata\\anaconda3\\lib\\site-packages (from numba>=0.51.0->dask-ml) (0.38.0)\n",
      "Requirement already satisfied: pyparsing!=3.0.5,>=2.0.2 in c:\\programdata\\anaconda3\\lib\\site-packages (from packaging->dask-ml) (3.0.4)\n",
      "Requirement already satisfied: python-dateutil>=2.8.1 in c:\\programdata\\anaconda3\\lib\\site-packages (from pandas>=0.24.2->dask-ml) (2.8.2)\n",
      "Requirement already satisfied: pytz>=2020.1 in c:\\programdata\\anaconda3\\lib\\site-packages (from pandas>=0.24.2->dask-ml) (2021.3)\n",
      "Requirement already satisfied: locket in c:\\programdata\\anaconda3\\lib\\site-packages (from partd>=0.3.10->dask[array,dataframe]>=2.4.0->dask-ml) (0.2.1)\n",
      "Requirement already satisfied: threadpoolctl>=2.0.0 in c:\\programdata\\anaconda3\\lib\\site-packages (from scikit-learn>=1.0.0->dask-ml) (2.2.0)\n",
      "Requirement already satisfied: joblib>=0.11 in c:\\programdata\\anaconda3\\lib\\site-packages (from scikit-learn>=1.0.0->dask-ml) (1.2.0)\n",
      "Requirement already satisfied: heapdict in c:\\programdata\\anaconda3\\lib\\site-packages (from zict>=0.1.3->distributed>=2.4.0->dask-ml) (1.0.1)\n",
      "Requirement already satisfied: MarkupSafe>=0.23 in c:\\programdata\\anaconda3\\lib\\site-packages (from jinja2->distributed>=2.4.0->dask-ml) (2.0.1)\n"
     ]
    }
   ],
   "source": [
    "!pip install dask-ml"
   ]
  },
  {
   "cell_type": "code",
   "execution_count": 3,
   "id": "0f83c2e3",
   "metadata": {},
   "outputs": [
    {
     "name": "stdout",
     "output_type": "stream",
     "text": [
      "Requirement already satisfied: pyod in c:\\programdata\\anaconda3\\lib\\site-packages (1.0.7)\n",
      "Requirement already satisfied: statsmodels in c:\\programdata\\anaconda3\\lib\\site-packages (from pyod) (0.13.2)\n",
      "Requirement already satisfied: joblib in c:\\programdata\\anaconda3\\lib\\site-packages (from pyod) (1.2.0)\n",
      "Requirement already satisfied: matplotlib in c:\\programdata\\anaconda3\\lib\\site-packages (from pyod) (3.5.1)\n",
      "Requirement already satisfied: numpy>=1.19 in c:\\programdata\\anaconda3\\lib\\site-packages (from pyod) (1.21.5)\n",
      "Requirement already satisfied: scikit-learn>=0.20.0 in c:\\programdata\\anaconda3\\lib\\site-packages (from pyod) (1.0.2)\n",
      "Requirement already satisfied: numba>=0.51 in c:\\programdata\\anaconda3\\lib\\site-packages (from pyod) (0.55.1)\n",
      "Requirement already satisfied: six in c:\\programdata\\anaconda3\\lib\\site-packages (from pyod) (1.16.0)\n",
      "Requirement already satisfied: scipy>=1.5.1 in c:\\programdata\\anaconda3\\lib\\site-packages (from pyod) (1.7.3)\n",
      "Requirement already satisfied: llvmlite<0.39,>=0.38.0rc1 in c:\\programdata\\anaconda3\\lib\\site-packages (from numba>=0.51->pyod) (0.38.0)\n",
      "Requirement already satisfied: setuptools in c:\\programdata\\anaconda3\\lib\\site-packages (from numba>=0.51->pyod) (61.2.0)\n",
      "Requirement already satisfied: threadpoolctl>=2.0.0 in c:\\programdata\\anaconda3\\lib\\site-packages (from scikit-learn>=0.20.0->pyod) (2.2.0)\n",
      "Requirement already satisfied: packaging>=20.0 in c:\\programdata\\anaconda3\\lib\\site-packages (from matplotlib->pyod) (21.3)\n",
      "Requirement already satisfied: pillow>=6.2.0 in c:\\programdata\\anaconda3\\lib\\site-packages (from matplotlib->pyod) (9.0.1)\n",
      "Requirement already satisfied: python-dateutil>=2.7 in c:\\programdata\\anaconda3\\lib\\site-packages (from matplotlib->pyod) (2.8.2)\n",
      "Requirement already satisfied: fonttools>=4.22.0 in c:\\programdata\\anaconda3\\lib\\site-packages (from matplotlib->pyod) (4.25.0)\n",
      "Requirement already satisfied: cycler>=0.10 in c:\\programdata\\anaconda3\\lib\\site-packages (from matplotlib->pyod) (0.11.0)\n",
      "Requirement already satisfied: pyparsing>=2.2.1 in c:\\programdata\\anaconda3\\lib\\site-packages (from matplotlib->pyod) (3.0.4)\n",
      "Requirement already satisfied: kiwisolver>=1.0.1 in c:\\programdata\\anaconda3\\lib\\site-packages (from matplotlib->pyod) (1.3.2)\n",
      "Requirement already satisfied: pandas>=0.25 in c:\\programdata\\anaconda3\\lib\\site-packages (from statsmodels->pyod) (1.5.2)\n",
      "Requirement already satisfied: patsy>=0.5.2 in c:\\programdata\\anaconda3\\lib\\site-packages (from statsmodels->pyod) (0.5.2)\n",
      "Requirement already satisfied: pytz>=2020.1 in c:\\programdata\\anaconda3\\lib\\site-packages (from pandas>=0.25->statsmodels->pyod) (2021.3)\n"
     ]
    }
   ],
   "source": [
    "!pip install pyod"
   ]
  },
  {
   "cell_type": "code",
   "execution_count": 4,
   "id": "5051883f",
   "metadata": {},
   "outputs": [
    {
     "name": "stdout",
     "output_type": "stream",
     "text": [
      "Requirement already satisfied: imbalanced-learn in c:\\programdata\\anaconda3\\lib\\site-packages (0.10.0)\n",
      "Requirement already satisfied: scipy>=1.3.2 in c:\\programdata\\anaconda3\\lib\\site-packages (from imbalanced-learn) (1.7.3)\n",
      "Requirement already satisfied: scikit-learn>=1.0.2 in c:\\programdata\\anaconda3\\lib\\site-packages (from imbalanced-learn) (1.0.2)\n",
      "Requirement already satisfied: joblib>=1.1.1 in c:\\programdata\\anaconda3\\lib\\site-packages (from imbalanced-learn) (1.2.0)\n",
      "Requirement already satisfied: threadpoolctl>=2.0.0 in c:\\programdata\\anaconda3\\lib\\site-packages (from imbalanced-learn) (2.2.0)\n",
      "Requirement already satisfied: numpy>=1.17.3 in c:\\programdata\\anaconda3\\lib\\site-packages (from imbalanced-learn) (1.21.5)\n"
     ]
    }
   ],
   "source": [
    "!pip install imbalanced-learn"
   ]
  },
  {
   "cell_type": "code",
   "execution_count": 5,
   "id": "8c548c6a",
   "metadata": {},
   "outputs": [
    {
     "name": "stdout",
     "output_type": "stream",
     "text": [
      "Requirement already satisfied: fastparquet in c:\\programdata\\anaconda3\\lib\\site-packages (2022.12.0)\n",
      "Requirement already satisfied: pandas>=1.5.0 in c:\\programdata\\anaconda3\\lib\\site-packages (from fastparquet) (1.5.2)\n",
      "Requirement already satisfied: fsspec in c:\\programdata\\anaconda3\\lib\\site-packages (from fastparquet) (2022.2.0)\n",
      "Requirement already satisfied: cramjam>=2.3 in c:\\programdata\\anaconda3\\lib\\site-packages (from fastparquet) (2.6.2)\n",
      "Requirement already satisfied: packaging in c:\\programdata\\anaconda3\\lib\\site-packages (from fastparquet) (21.3)\n",
      "Requirement already satisfied: numpy>=1.20.3 in c:\\programdata\\anaconda3\\lib\\site-packages (from fastparquet) (1.21.5)\n",
      "Requirement already satisfied: python-dateutil>=2.8.1 in c:\\programdata\\anaconda3\\lib\\site-packages (from pandas>=1.5.0->fastparquet) (2.8.2)\n",
      "Requirement already satisfied: pytz>=2020.1 in c:\\programdata\\anaconda3\\lib\\site-packages (from pandas>=1.5.0->fastparquet) (2021.3)\n",
      "Requirement already satisfied: six>=1.5 in c:\\programdata\\anaconda3\\lib\\site-packages (from python-dateutil>=2.8.1->pandas>=1.5.0->fastparquet) (1.16.0)\n",
      "Requirement already satisfied: pyparsing!=3.0.5,>=2.0.2 in c:\\programdata\\anaconda3\\lib\\site-packages (from packaging->fastparquet) (3.0.4)\n"
     ]
    }
   ],
   "source": [
    "!pip install fastparquet"
   ]
  },
  {
   "cell_type": "code",
   "execution_count": 6,
   "id": "aeefd211",
   "metadata": {},
   "outputs": [
    {
     "name": "stdout",
     "output_type": "stream",
     "text": [
      "Requirement already satisfied: scikit-plot in c:\\programdata\\anaconda3\\lib\\site-packages (0.3.7)\n",
      "Requirement already satisfied: matplotlib>=1.4.0 in c:\\programdata\\anaconda3\\lib\\site-packages (from scikit-plot) (3.5.1)\n",
      "Requirement already satisfied: scikit-learn>=0.18 in c:\\programdata\\anaconda3\\lib\\site-packages (from scikit-plot) (1.0.2)\n",
      "Requirement already satisfied: joblib>=0.10 in c:\\programdata\\anaconda3\\lib\\site-packages (from scikit-plot) (1.2.0)\n",
      "Requirement already satisfied: scipy>=0.9 in c:\\programdata\\anaconda3\\lib\\site-packages (from scikit-plot) (1.7.3)\n",
      "Requirement already satisfied: pillow>=6.2.0 in c:\\programdata\\anaconda3\\lib\\site-packages (from matplotlib>=1.4.0->scikit-plot) (9.0.1)\n",
      "Requirement already satisfied: numpy>=1.17 in c:\\programdata\\anaconda3\\lib\\site-packages (from matplotlib>=1.4.0->scikit-plot) (1.21.5)\n",
      "Requirement already satisfied: cycler>=0.10 in c:\\programdata\\anaconda3\\lib\\site-packages (from matplotlib>=1.4.0->scikit-plot) (0.11.0)\n",
      "Requirement already satisfied: kiwisolver>=1.0.1 in c:\\programdata\\anaconda3\\lib\\site-packages (from matplotlib>=1.4.0->scikit-plot) (1.3.2)\n",
      "Requirement already satisfied: pyparsing>=2.2.1 in c:\\programdata\\anaconda3\\lib\\site-packages (from matplotlib>=1.4.0->scikit-plot) (3.0.4)\n",
      "Requirement already satisfied: packaging>=20.0 in c:\\programdata\\anaconda3\\lib\\site-packages (from matplotlib>=1.4.0->scikit-plot) (21.3)\n",
      "Requirement already satisfied: fonttools>=4.22.0 in c:\\programdata\\anaconda3\\lib\\site-packages (from matplotlib>=1.4.0->scikit-plot) (4.25.0)\n",
      "Requirement already satisfied: python-dateutil>=2.7 in c:\\programdata\\anaconda3\\lib\\site-packages (from matplotlib>=1.4.0->scikit-plot) (2.8.2)\n",
      "Requirement already satisfied: six>=1.5 in c:\\programdata\\anaconda3\\lib\\site-packages (from python-dateutil>=2.7->matplotlib>=1.4.0->scikit-plot) (1.16.0)\n",
      "Requirement already satisfied: threadpoolctl>=2.0.0 in c:\\programdata\\anaconda3\\lib\\site-packages (from scikit-learn>=0.18->scikit-plot) (2.2.0)\n"
     ]
    }
   ],
   "source": [
    "!pip install scikit-plot"
   ]
  },
  {
   "cell_type": "code",
   "execution_count": 7,
   "id": "62ed1105",
   "metadata": {},
   "outputs": [],
   "source": [
    "import time\n",
    "import os\n",
    "import pandas as pd\n",
    "import numpy as np\n",
    "import matplotlib.pyplot as plt\n",
    "from matplotlib import pyplot\n",
    "import sys \n",
    "#Sklearn\n",
    "from sklearn.metrics import *\n",
    "import scikitplot as skplt\n",
    "from sklearn.preprocessing import StandardScaler\n",
    "from sklearn.linear_model import LogisticRegression\n",
    "from sklearn.model_selection import GridSearchCV\n",
    "#Imbalanced learn\n",
    "from imblearn.combine import SMOTEENN, SMOTETomek\n",
    "from imblearn.over_sampling import SMOTE, BorderlineSMOTE, ADASYN\n",
    "from imblearn.under_sampling import NearMiss, EditedNearestNeighbours, OneSidedSelection\n",
    "from imblearn.pipeline import Pipeline, make_pipeline\n",
    "#Dask et Parquet\n",
    "import dask.dataframe as dd \n",
    "import fastparquet\n",
    "from dask_ml.preprocessing import DummyEncoder\n",
    "import pickle\n",
    "import dask_ml \n",
    "from dask import delayed\n",
    "from dask_ml.preprocessing import StandardScaler"
   ]
  },
  {
   "cell_type": "code",
   "execution_count": 8,
   "id": "312c77c0",
   "metadata": {},
   "outputs": [],
   "source": [
    "os.chdir('C:\\\\Users\\\\cornuch\\\\Desktop\\\\SISE\\\\Fouille_donnees_massives\\\\projet_fouille')"
   ]
  },
  {
   "cell_type": "markdown",
   "id": "b8f0b23c",
   "metadata": {},
   "source": [
    "# 1. Importation des fichiers et préparation"
   ]
  },
  {
   "cell_type": "markdown",
   "id": "b5ca1454",
   "metadata": {},
   "source": [
    "## 1.1 Importation"
   ]
  },
  {
   "cell_type": "code",
   "execution_count": 9,
   "id": "70c575c8",
   "metadata": {},
   "outputs": [
    {
     "data": {
      "text/html": [
       "<div>\n",
       "<style scoped>\n",
       "    .dataframe tbody tr th:only-of-type {\n",
       "        vertical-align: middle;\n",
       "    }\n",
       "\n",
       "    .dataframe tbody tr th {\n",
       "        vertical-align: top;\n",
       "    }\n",
       "\n",
       "    .dataframe thead th {\n",
       "        text-align: right;\n",
       "    }\n",
       "</style>\n",
       "<table border=\"1\" class=\"dataframe\">\n",
       "  <thead>\n",
       "    <tr style=\"text-align: right;\">\n",
       "      <th></th>\n",
       "      <th>FlagImpaye</th>\n",
       "      <th>Montant</th>\n",
       "      <th>VerifianceCPT1</th>\n",
       "      <th>D2CB</th>\n",
       "      <th>ScoringFP1</th>\n",
       "      <th>ScoringFP2</th>\n",
       "      <th>ScoringFP3</th>\n",
       "      <th>TauxImpNB_CPM</th>\n",
       "      <th>EcartNumCheq</th>\n",
       "      <th>NbrMagasin3J</th>\n",
       "      <th>DiffDateTr3</th>\n",
       "      <th>CA3TR</th>\n",
       "      <th>Heure_num</th>\n",
       "    </tr>\n",
       "  </thead>\n",
       "  <tbody>\n",
       "    <tr>\n",
       "      <th>0</th>\n",
       "      <td>0</td>\n",
       "      <td>20.00</td>\n",
       "      <td>0</td>\n",
       "      <td>551</td>\n",
       "      <td>0.000000</td>\n",
       "      <td>0.000000</td>\n",
       "      <td>0.000000</td>\n",
       "      <td>52.076034</td>\n",
       "      <td>0</td>\n",
       "      <td>1</td>\n",
       "      <td>4.0</td>\n",
       "      <td>0.00</td>\n",
       "      <td>7</td>\n",
       "    </tr>\n",
       "    <tr>\n",
       "      <th>1</th>\n",
       "      <td>0</td>\n",
       "      <td>20.00</td>\n",
       "      <td>0</td>\n",
       "      <td>551</td>\n",
       "      <td>0.000000</td>\n",
       "      <td>0.000000</td>\n",
       "      <td>0.000000</td>\n",
       "      <td>52.076034</td>\n",
       "      <td>1</td>\n",
       "      <td>2</td>\n",
       "      <td>4.0</td>\n",
       "      <td>8.61</td>\n",
       "      <td>7</td>\n",
       "    </tr>\n",
       "    <tr>\n",
       "      <th>2</th>\n",
       "      <td>0</td>\n",
       "      <td>57.64</td>\n",
       "      <td>0</td>\n",
       "      <td>549</td>\n",
       "      <td>0.000000</td>\n",
       "      <td>0.000000</td>\n",
       "      <td>0.000000</td>\n",
       "      <td>52.076034</td>\n",
       "      <td>0</td>\n",
       "      <td>1</td>\n",
       "      <td>4.0</td>\n",
       "      <td>0.00</td>\n",
       "      <td>7</td>\n",
       "    </tr>\n",
       "    <tr>\n",
       "      <th>3</th>\n",
       "      <td>0</td>\n",
       "      <td>54.29</td>\n",
       "      <td>1</td>\n",
       "      <td>267</td>\n",
       "      <td>0.000000</td>\n",
       "      <td>0.000000</td>\n",
       "      <td>0.000000</td>\n",
       "      <td>53.554234</td>\n",
       "      <td>0</td>\n",
       "      <td>1</td>\n",
       "      <td>4.0</td>\n",
       "      <td>0.00</td>\n",
       "      <td>7</td>\n",
       "    </tr>\n",
       "    <tr>\n",
       "      <th>4</th>\n",
       "      <td>0</td>\n",
       "      <td>26.90</td>\n",
       "      <td>0</td>\n",
       "      <td>549</td>\n",
       "      <td>0.003769</td>\n",
       "      <td>8.586333</td>\n",
       "      <td>0.001192</td>\n",
       "      <td>52.076034</td>\n",
       "      <td>1</td>\n",
       "      <td>1</td>\n",
       "      <td>4.0</td>\n",
       "      <td>32.25</td>\n",
       "      <td>8</td>\n",
       "    </tr>\n",
       "  </tbody>\n",
       "</table>\n",
       "</div>"
      ],
      "text/plain": [
       "   FlagImpaye  Montant  VerifianceCPT1  D2CB  ScoringFP1  ScoringFP2  \\\n",
       "0           0    20.00               0   551    0.000000    0.000000   \n",
       "1           0    20.00               0   551    0.000000    0.000000   \n",
       "2           0    57.64               0   549    0.000000    0.000000   \n",
       "3           0    54.29               1   267    0.000000    0.000000   \n",
       "4           0    26.90               0   549    0.003769    8.586333   \n",
       "\n",
       "   ScoringFP3  TauxImpNB_CPM  EcartNumCheq  NbrMagasin3J  DiffDateTr3  CA3TR  \\\n",
       "0    0.000000      52.076034             0             1          4.0   0.00   \n",
       "1    0.000000      52.076034             1             2          4.0   8.61   \n",
       "2    0.000000      52.076034             0             1          4.0   0.00   \n",
       "3    0.000000      53.554234             0             1          4.0   0.00   \n",
       "4    0.001192      52.076034             1             1          4.0  32.25   \n",
       "\n",
       "   Heure_num  \n",
       "0          7  \n",
       "1          7  \n",
       "2          7  \n",
       "3          7  \n",
       "4          8  "
      ]
     },
     "execution_count": 9,
     "metadata": {},
     "output_type": "execute_result"
    }
   ],
   "source": [
    "df_train=dd.read_parquet('train_fast')\n",
    "df_train.head()"
   ]
  },
  {
   "cell_type": "code",
   "execution_count": 10,
   "id": "302272ff",
   "metadata": {},
   "outputs": [
    {
     "data": {
      "text/html": [
       "<div>\n",
       "<style scoped>\n",
       "    .dataframe tbody tr th:only-of-type {\n",
       "        vertical-align: middle;\n",
       "    }\n",
       "\n",
       "    .dataframe tbody tr th {\n",
       "        vertical-align: top;\n",
       "    }\n",
       "\n",
       "    .dataframe thead th {\n",
       "        text-align: right;\n",
       "    }\n",
       "</style>\n",
       "<table border=\"1\" class=\"dataframe\">\n",
       "  <thead>\n",
       "    <tr style=\"text-align: right;\">\n",
       "      <th></th>\n",
       "      <th>FlagImpaye</th>\n",
       "      <th>Montant</th>\n",
       "      <th>VerifianceCPT1</th>\n",
       "      <th>D2CB</th>\n",
       "      <th>ScoringFP1</th>\n",
       "      <th>ScoringFP2</th>\n",
       "      <th>ScoringFP3</th>\n",
       "      <th>TauxImpNB_CPM</th>\n",
       "      <th>EcartNumCheq</th>\n",
       "      <th>NbrMagasin3J</th>\n",
       "      <th>DiffDateTr3</th>\n",
       "      <th>CA3TR</th>\n",
       "      <th>Heure_num</th>\n",
       "    </tr>\n",
       "  </thead>\n",
       "  <tbody>\n",
       "    <tr>\n",
       "      <th>3899362</th>\n",
       "      <td>0</td>\n",
       "      <td>60.00</td>\n",
       "      <td>0</td>\n",
       "      <td>302</td>\n",
       "      <td>0.000000</td>\n",
       "      <td>0.000000</td>\n",
       "      <td>0.000000</td>\n",
       "      <td>52.076034</td>\n",
       "      <td>0</td>\n",
       "      <td>1</td>\n",
       "      <td>4.000000</td>\n",
       "      <td>0.00</td>\n",
       "      <td>7</td>\n",
       "    </tr>\n",
       "    <tr>\n",
       "      <th>3899363</th>\n",
       "      <td>0</td>\n",
       "      <td>25.00</td>\n",
       "      <td>0</td>\n",
       "      <td>547</td>\n",
       "      <td>0.000000</td>\n",
       "      <td>0.000000</td>\n",
       "      <td>0.000000</td>\n",
       "      <td>52.076034</td>\n",
       "      <td>0</td>\n",
       "      <td>1</td>\n",
       "      <td>4.000000</td>\n",
       "      <td>0.00</td>\n",
       "      <td>8</td>\n",
       "    </tr>\n",
       "    <tr>\n",
       "      <th>3899364</th>\n",
       "      <td>0</td>\n",
       "      <td>32.00</td>\n",
       "      <td>0</td>\n",
       "      <td>152</td>\n",
       "      <td>0.000000</td>\n",
       "      <td>0.000000</td>\n",
       "      <td>0.000000</td>\n",
       "      <td>52.076034</td>\n",
       "      <td>0</td>\n",
       "      <td>1</td>\n",
       "      <td>4.000000</td>\n",
       "      <td>0.00</td>\n",
       "      <td>8</td>\n",
       "    </tr>\n",
       "    <tr>\n",
       "      <th>3899365</th>\n",
       "      <td>0</td>\n",
       "      <td>20.88</td>\n",
       "      <td>0</td>\n",
       "      <td>393</td>\n",
       "      <td>0.007590</td>\n",
       "      <td>0.182221</td>\n",
       "      <td>0.002092</td>\n",
       "      <td>34.118277</td>\n",
       "      <td>4</td>\n",
       "      <td>1</td>\n",
       "      <td>1.539155</td>\n",
       "      <td>71.51</td>\n",
       "      <td>8</td>\n",
       "    </tr>\n",
       "    <tr>\n",
       "      <th>3899366</th>\n",
       "      <td>0</td>\n",
       "      <td>20.21</td>\n",
       "      <td>0</td>\n",
       "      <td>152</td>\n",
       "      <td>0.018994</td>\n",
       "      <td>-1.024399</td>\n",
       "      <td>0.005682</td>\n",
       "      <td>52.076034</td>\n",
       "      <td>0</td>\n",
       "      <td>1</td>\n",
       "      <td>4.000000</td>\n",
       "      <td>0.00</td>\n",
       "      <td>8</td>\n",
       "    </tr>\n",
       "  </tbody>\n",
       "</table>\n",
       "</div>"
      ],
      "text/plain": [
       "         FlagImpaye  Montant  VerifianceCPT1  D2CB  ScoringFP1  ScoringFP2  \\\n",
       "3899362           0    60.00               0   302    0.000000    0.000000   \n",
       "3899363           0    25.00               0   547    0.000000    0.000000   \n",
       "3899364           0    32.00               0   152    0.000000    0.000000   \n",
       "3899365           0    20.88               0   393    0.007590    0.182221   \n",
       "3899366           0    20.21               0   152    0.018994   -1.024399   \n",
       "\n",
       "         ScoringFP3  TauxImpNB_CPM  EcartNumCheq  NbrMagasin3J  DiffDateTr3  \\\n",
       "3899362    0.000000      52.076034             0             1     4.000000   \n",
       "3899363    0.000000      52.076034             0             1     4.000000   \n",
       "3899364    0.000000      52.076034             0             1     4.000000   \n",
       "3899365    0.002092      34.118277             4             1     1.539155   \n",
       "3899366    0.005682      52.076034             0             1     4.000000   \n",
       "\n",
       "         CA3TR  Heure_num  \n",
       "3899362   0.00          7  \n",
       "3899363   0.00          8  \n",
       "3899364   0.00          8  \n",
       "3899365  71.51          8  \n",
       "3899366   0.00          8  "
      ]
     },
     "execution_count": 10,
     "metadata": {},
     "output_type": "execute_result"
    }
   ],
   "source": [
    "df_test=dd.read_parquet('test_fast')\n",
    "df_test.head()"
   ]
  },
  {
   "cell_type": "code",
   "execution_count": 11,
   "id": "41c534cc",
   "metadata": {},
   "outputs": [],
   "source": [
    "# Définir la variable cible \n",
    "y_train = df_train[\"FlagImpaye\"]\n",
    "y_test = df_test[\"FlagImpaye\"]"
   ]
  },
  {
   "cell_type": "code",
   "execution_count": 12,
   "id": "20502365",
   "metadata": {},
   "outputs": [],
   "source": [
    "# Définir les variables explicatives \n",
    "X_train = df_train.drop([\"FlagImpaye\"], axis = \"columns\")\n",
    "X_test = df_test.drop([\"FlagImpaye\"], axis = \"columns\")"
   ]
  },
  {
   "cell_type": "markdown",
   "id": "7d40e469",
   "metadata": {},
   "source": [
    "## 1.2 Centrage et réduction"
   ]
  },
  {
   "cell_type": "code",
   "execution_count": 13,
   "id": "f60cc275",
   "metadata": {},
   "outputs": [],
   "source": [
    "# Instanciation de StandardScaler pour centrer-réduire les données\n",
    "scaler = StandardScaler()"
   ]
  },
  {
   "cell_type": "code",
   "execution_count": 14,
   "id": "efaa16c0",
   "metadata": {},
   "outputs": [
    {
     "data": {
      "text/html": [
       "<div>\n",
       "<style scoped>\n",
       "    .dataframe tbody tr th:only-of-type {\n",
       "        vertical-align: middle;\n",
       "    }\n",
       "\n",
       "    .dataframe tbody tr th {\n",
       "        vertical-align: top;\n",
       "    }\n",
       "\n",
       "    .dataframe thead th {\n",
       "        text-align: right;\n",
       "    }\n",
       "</style>\n",
       "<table border=\"1\" class=\"dataframe\">\n",
       "  <thead>\n",
       "    <tr style=\"text-align: right;\">\n",
       "      <th></th>\n",
       "      <th>Montant</th>\n",
       "      <th>VerifianceCPT1</th>\n",
       "      <th>D2CB</th>\n",
       "      <th>ScoringFP1</th>\n",
       "      <th>ScoringFP2</th>\n",
       "      <th>ScoringFP3</th>\n",
       "      <th>TauxImpNB_CPM</th>\n",
       "      <th>EcartNumCheq</th>\n",
       "      <th>NbrMagasin3J</th>\n",
       "      <th>DiffDateTr3</th>\n",
       "      <th>CA3TR</th>\n",
       "      <th>Heure_num</th>\n",
       "    </tr>\n",
       "  </thead>\n",
       "  <tbody>\n",
       "    <tr>\n",
       "      <th>0</th>\n",
       "      <td>-0.420302</td>\n",
       "      <td>-0.581824</td>\n",
       "      <td>1.017656</td>\n",
       "      <td>-0.084590</td>\n",
       "      <td>-0.239505</td>\n",
       "      <td>-0.275801</td>\n",
       "      <td>0.818043</td>\n",
       "      <td>-0.043817</td>\n",
       "      <td>-0.194165</td>\n",
       "      <td>-0.451325</td>\n",
       "      <td>-0.202861</td>\n",
       "      <td>-2.122399</td>\n",
       "    </tr>\n",
       "    <tr>\n",
       "      <th>1</th>\n",
       "      <td>-0.420302</td>\n",
       "      <td>-0.581824</td>\n",
       "      <td>1.017656</td>\n",
       "      <td>-0.084590</td>\n",
       "      <td>-0.239505</td>\n",
       "      <td>-0.275801</td>\n",
       "      <td>0.818043</td>\n",
       "      <td>-0.043812</td>\n",
       "      <td>4.975724</td>\n",
       "      <td>-0.451325</td>\n",
       "      <td>0.038808</td>\n",
       "      <td>-2.122399</td>\n",
       "    </tr>\n",
       "    <tr>\n",
       "      <th>2</th>\n",
       "      <td>-0.022127</td>\n",
       "      <td>-0.581824</td>\n",
       "      <td>1.008573</td>\n",
       "      <td>-0.084590</td>\n",
       "      <td>-0.239505</td>\n",
       "      <td>-0.275801</td>\n",
       "      <td>0.818043</td>\n",
       "      <td>-0.043817</td>\n",
       "      <td>-0.194165</td>\n",
       "      <td>-0.451325</td>\n",
       "      <td>-0.202861</td>\n",
       "      <td>-2.122399</td>\n",
       "    </tr>\n",
       "    <tr>\n",
       "      <th>3</th>\n",
       "      <td>-0.057565</td>\n",
       "      <td>1.545332</td>\n",
       "      <td>-0.272152</td>\n",
       "      <td>-0.084590</td>\n",
       "      <td>-0.239505</td>\n",
       "      <td>-0.275801</td>\n",
       "      <td>0.906727</td>\n",
       "      <td>-0.043817</td>\n",
       "      <td>-0.194165</td>\n",
       "      <td>-0.451325</td>\n",
       "      <td>-0.202861</td>\n",
       "      <td>-2.122399</td>\n",
       "    </tr>\n",
       "    <tr>\n",
       "      <th>4</th>\n",
       "      <td>-0.347310</td>\n",
       "      <td>-0.581824</td>\n",
       "      <td>1.008573</td>\n",
       "      <td>-0.084434</td>\n",
       "      <td>0.637044</td>\n",
       "      <td>-0.273204</td>\n",
       "      <td>0.818043</td>\n",
       "      <td>-0.043812</td>\n",
       "      <td>-0.194165</td>\n",
       "      <td>-0.451325</td>\n",
       "      <td>0.702346</td>\n",
       "      <td>-1.820898</td>\n",
       "    </tr>\n",
       "  </tbody>\n",
       "</table>\n",
       "</div>"
      ],
      "text/plain": [
       "    Montant  VerifianceCPT1      D2CB  ScoringFP1  ScoringFP2  ScoringFP3  \\\n",
       "0 -0.420302       -0.581824  1.017656   -0.084590   -0.239505   -0.275801   \n",
       "1 -0.420302       -0.581824  1.017656   -0.084590   -0.239505   -0.275801   \n",
       "2 -0.022127       -0.581824  1.008573   -0.084590   -0.239505   -0.275801   \n",
       "3 -0.057565        1.545332 -0.272152   -0.084590   -0.239505   -0.275801   \n",
       "4 -0.347310       -0.581824  1.008573   -0.084434    0.637044   -0.273204   \n",
       "\n",
       "   TauxImpNB_CPM  EcartNumCheq  NbrMagasin3J  DiffDateTr3     CA3TR  Heure_num  \n",
       "0       0.818043     -0.043817     -0.194165    -0.451325 -0.202861  -2.122399  \n",
       "1       0.818043     -0.043812      4.975724    -0.451325  0.038808  -2.122399  \n",
       "2       0.818043     -0.043817     -0.194165    -0.451325 -0.202861  -2.122399  \n",
       "3       0.906727     -0.043817     -0.194165    -0.451325 -0.202861  -2.122399  \n",
       "4       0.818043     -0.043812     -0.194165    -0.451325  0.702346  -1.820898  "
      ]
     },
     "execution_count": 14,
     "metadata": {},
     "output_type": "execute_result"
    }
   ],
   "source": [
    "# Centrer-réduire les dataframe d'apprentissage\n",
    "X_train_scale = scaler.fit_transform(X_train)\n",
    "X_train_scale.head()"
   ]
  },
  {
   "cell_type": "code",
   "execution_count": 15,
   "id": "d8184e13",
   "metadata": {},
   "outputs": [
    {
     "data": {
      "text/html": [
       "<div>\n",
       "<style scoped>\n",
       "    .dataframe tbody tr th:only-of-type {\n",
       "        vertical-align: middle;\n",
       "    }\n",
       "\n",
       "    .dataframe tbody tr th {\n",
       "        vertical-align: top;\n",
       "    }\n",
       "\n",
       "    .dataframe thead th {\n",
       "        text-align: right;\n",
       "    }\n",
       "</style>\n",
       "<table border=\"1\" class=\"dataframe\">\n",
       "  <thead>\n",
       "    <tr style=\"text-align: right;\">\n",
       "      <th></th>\n",
       "      <th>Montant</th>\n",
       "      <th>VerifianceCPT1</th>\n",
       "      <th>D2CB</th>\n",
       "      <th>ScoringFP1</th>\n",
       "      <th>ScoringFP2</th>\n",
       "      <th>ScoringFP3</th>\n",
       "      <th>TauxImpNB_CPM</th>\n",
       "      <th>EcartNumCheq</th>\n",
       "      <th>NbrMagasin3J</th>\n",
       "      <th>DiffDateTr3</th>\n",
       "      <th>CA3TR</th>\n",
       "      <th>Heure_num</th>\n",
       "    </tr>\n",
       "  </thead>\n",
       "  <tbody>\n",
       "    <tr>\n",
       "      <th>3899362</th>\n",
       "      <td>-0.016999</td>\n",
       "      <td>0.0</td>\n",
       "      <td>0.265719</td>\n",
       "      <td>-0.080269</td>\n",
       "      <td>-0.043960</td>\n",
       "      <td>-0.317899</td>\n",
       "      <td>0.774799</td>\n",
       "      <td>-0.036921</td>\n",
       "      <td>-0.18432</td>\n",
       "      <td>-0.568544</td>\n",
       "      <td>-0.132257</td>\n",
       "      <td>-2.235916</td>\n",
       "    </tr>\n",
       "    <tr>\n",
       "      <th>3899363</th>\n",
       "      <td>-0.277531</td>\n",
       "      <td>0.0</td>\n",
       "      <td>1.427785</td>\n",
       "      <td>-0.080269</td>\n",
       "      <td>-0.043960</td>\n",
       "      <td>-0.317899</td>\n",
       "      <td>0.774799</td>\n",
       "      <td>-0.036921</td>\n",
       "      <td>-0.18432</td>\n",
       "      <td>-0.568544</td>\n",
       "      <td>-0.132257</td>\n",
       "      <td>-1.929154</td>\n",
       "    </tr>\n",
       "    <tr>\n",
       "      <th>3899364</th>\n",
       "      <td>-0.225425</td>\n",
       "      <td>0.0</td>\n",
       "      <td>-0.445750</td>\n",
       "      <td>-0.080269</td>\n",
       "      <td>-0.043960</td>\n",
       "      <td>-0.317899</td>\n",
       "      <td>0.774799</td>\n",
       "      <td>-0.036921</td>\n",
       "      <td>-0.18432</td>\n",
       "      <td>-0.568544</td>\n",
       "      <td>-0.132257</td>\n",
       "      <td>-1.929154</td>\n",
       "    </tr>\n",
       "    <tr>\n",
       "      <th>3899365</th>\n",
       "      <td>-0.308200</td>\n",
       "      <td>0.0</td>\n",
       "      <td>0.697344</td>\n",
       "      <td>-0.080074</td>\n",
       "      <td>-0.023966</td>\n",
       "      <td>-0.314458</td>\n",
       "      <td>-0.277090</td>\n",
       "      <td>-0.036897</td>\n",
       "      <td>-0.18432</td>\n",
       "      <td>-5.906429</td>\n",
       "      <td>1.259186</td>\n",
       "      <td>-1.929154</td>\n",
       "    </tr>\n",
       "    <tr>\n",
       "      <th>3899366</th>\n",
       "      <td>-0.313187</td>\n",
       "      <td>0.0</td>\n",
       "      <td>-0.445750</td>\n",
       "      <td>-0.079781</td>\n",
       "      <td>-0.156360</td>\n",
       "      <td>-0.308551</td>\n",
       "      <td>0.774799</td>\n",
       "      <td>-0.036921</td>\n",
       "      <td>-0.18432</td>\n",
       "      <td>-0.568544</td>\n",
       "      <td>-0.132257</td>\n",
       "      <td>-1.929154</td>\n",
       "    </tr>\n",
       "  </tbody>\n",
       "</table>\n",
       "</div>"
      ],
      "text/plain": [
       "          Montant  VerifianceCPT1      D2CB  ScoringFP1  ScoringFP2  \\\n",
       "3899362 -0.016999             0.0  0.265719   -0.080269   -0.043960   \n",
       "3899363 -0.277531             0.0  1.427785   -0.080269   -0.043960   \n",
       "3899364 -0.225425             0.0 -0.445750   -0.080269   -0.043960   \n",
       "3899365 -0.308200             0.0  0.697344   -0.080074   -0.023966   \n",
       "3899366 -0.313187             0.0 -0.445750   -0.079781   -0.156360   \n",
       "\n",
       "         ScoringFP3  TauxImpNB_CPM  EcartNumCheq  NbrMagasin3J  DiffDateTr3  \\\n",
       "3899362   -0.317899       0.774799     -0.036921      -0.18432    -0.568544   \n",
       "3899363   -0.317899       0.774799     -0.036921      -0.18432    -0.568544   \n",
       "3899364   -0.317899       0.774799     -0.036921      -0.18432    -0.568544   \n",
       "3899365   -0.314458      -0.277090     -0.036897      -0.18432    -5.906429   \n",
       "3899366   -0.308551       0.774799     -0.036921      -0.18432    -0.568544   \n",
       "\n",
       "            CA3TR  Heure_num  \n",
       "3899362 -0.132257  -2.235916  \n",
       "3899363 -0.132257  -1.929154  \n",
       "3899364 -0.132257  -1.929154  \n",
       "3899365  1.259186  -1.929154  \n",
       "3899366 -0.132257  -1.929154  "
      ]
     },
     "execution_count": 15,
     "metadata": {},
     "output_type": "execute_result"
    }
   ],
   "source": [
    "# Centrer-réduire les dataframe de test\n",
    "X_test_scale = scaler.fit_transform(X_test)\n",
    "X_test_scale.head()"
   ]
  },
  {
   "cell_type": "markdown",
   "id": "b3d24b67",
   "metadata": {},
   "source": [
    "## 1.3 Modification du seuil d'affectation "
   ]
  },
  {
   "cell_type": "code",
   "execution_count": 16,
   "id": "fc438611",
   "metadata": {},
   "outputs": [],
   "source": [
    "from numpy import arange\n",
    "from numpy import argmax"
   ]
  },
  {
   "cell_type": "code",
   "execution_count": 17,
   "id": "1e199c32",
   "metadata": {},
   "outputs": [],
   "source": [
    "# apply threshold to positive probabilities to create labels\n",
    "def to_labels(pos_probs, threshold):\n",
    " return (pos_probs >= threshold).astype('int')"
   ]
  },
  {
   "cell_type": "code",
   "execution_count": 18,
   "id": "acfd62c5",
   "metadata": {},
   "outputs": [],
   "source": [
    "def modif_seuil(classifier,X_test_scale,y_test):\n",
    "    # predict probabilities\n",
    "    yhat = delayed(classifier.predict_proba)(X_test_scale).compute()\n",
    "    # keep probabilities for the positive outcome only\n",
    "    probs = yhat[:, 1]\n",
    "    # define thresholds\n",
    "    thresholds = arange(0.1, 1, 0.1)\n",
    "    # evaluate each threshold\n",
    "    scores = [f1_score(y_test, to_labels(probs, t)) for t in thresholds]\n",
    "    # get best threshold\n",
    "    ix = argmax(scores)\n",
    "    s=('Threshold=%.3f, F-Score=%.5f' % (thresholds[ix], scores[ix]))\n",
    "    return s"
   ]
  },
  {
   "cell_type": "markdown",
   "id": "0104b628",
   "metadata": {},
   "source": [
    "Dans le cas où on conserve les données de départ sans startégie d'échantillonnage :\n",
    "Si la courbe ROC tient la route avec un critère AUC éleve, cela signifie que l'apprentissage a bien fonctionné\n",
    "Si le F1_score est très mauvais, cela signifie alors que c'est le processus d'affectation qui n'a pas fonctionné\n",
    "On cherchera alors à effectuer un post-traitement en modifiant le seuil d'affectation"
   ]
  },
  {
   "cell_type": "markdown",
   "id": "c6c9883f",
   "metadata": {},
   "source": [
    "# 2. Mesures de performances"
   ]
  },
  {
   "cell_type": "markdown",
   "id": "5106a777",
   "metadata": {},
   "source": [
    "**Maximisation de la marge**"
   ]
  },
  {
   "cell_type": "code",
   "execution_count": 19,
   "id": "8842fb32",
   "metadata": {},
   "outputs": [],
   "source": [
    "def perte(Montant):\n",
    "    if Montant<=20:\n",
    "        Montant=Montant*0\n",
    "    elif 20<Montant<=50:\n",
    "        Montant=0.2*Montant\n",
    "    elif 50<Montant<=100:\n",
    "        Montant=0.3*Montant\n",
    "    elif 100<Montant<=200:\n",
    "        Montant=0.5*Montant\n",
    "    elif Montant>200:\n",
    "        Montant=0.8*Montant\n",
    "    return(Montant)"
   ]
  },
  {
   "cell_type": "code",
   "execution_count": 20,
   "id": "76634242",
   "metadata": {},
   "outputs": [],
   "source": [
    "def Calcul_Marge(Montant, yReel, yPred):\n",
    "    # Création de dfmerge\n",
    "    dfmerge = pd.concat([Montant, yReel], axis=1)\n",
    "    dfmerge[\"Ypred\"] = yPred\n",
    "    \n",
    "    # Création de la variable Marge\n",
    "    # Création d'une colonne Marge égale au Montant\n",
    "    dfmerge[\"Marge\"] = dfmerge[\"Montant\"]\n",
    "    #Calcul du gain ou de la perte selon la différence entre réel et prédiction\n",
    "    dfmerge.loc[((dfmerge[\"FlagImpaye\"] == 1) & (dfmerge[\"Ypred\"] == 1)), \"Marge\"] = 0\n",
    "    dfmerge.loc[((dfmerge[\"FlagImpaye\"] == 0) & (dfmerge[\"Ypred\"] == 1)), \"Marge\"] = 0.7 * 0.05 * dfmerge[\"Montant\"]\n",
    "    dfmerge.loc[((dfmerge[\"FlagImpaye\"] == 1) & (dfmerge[\"Ypred\"] == 0)), \"Marge\"] = dfmerge[\"Montant\"].apply(lambda x: -perte(x))\n",
    "    dfmerge.loc[((dfmerge[\"FlagImpaye\"] == 0) & (dfmerge[\"Ypred\"] == 0)), \"Marge\"] = 0.05 * dfmerge[\"Montant\"]\n",
    "    \n",
    "    # Calcul du Marge_totale\n",
    "    Marge_totale = dfmerge[\"Marge\"].sum()\n",
    "    \n",
    "    return Marge_totale"
   ]
  },
  {
   "cell_type": "code",
   "execution_count": 21,
   "id": "884371ba",
   "metadata": {},
   "outputs": [],
   "source": [
    "# Création de la fonction de performance d'un modèle sur les données de test\n",
    "\n",
    "def performances(modele, X_test, y_test, scale):\n",
    "    \n",
    "    X_test_ = X_test\n",
    "    \n",
    "    print(\"-------------------------------------------------------\")\n",
    "  \n",
    "    if scale == True:\n",
    "        X_test = scaler.transform(X_test) # scaler a été entrainé sur les données d'apprentissage\n",
    "        \n",
    "    # Affichage du modèle \n",
    "    print('Modèle :\\n', modele)\n",
    "    print(\"-------------------------------------------------------\")\n",
    "    # Prédiction\n",
    "    y_pred = delayed(modele.predict)(X_test).compute()\n",
    "    # Prédiction des scores\n",
    "    y_score = delayed(modele.predict_proba)(X_test).compute()\n",
    "    \n",
    "    # Estimateurs, matrice de confusion et AUC\n",
    "    cm = delayed(confusion_matrix)(y_test, y_pred).compute()\n",
    "    cr = delayed(classification_report)(y_test, y_pred).compute()\n",
    "    auc = delayed(roc_auc_score)(y_test, y_pred).compute()\n",
    "    f1 = delayed(f1_score)(y_test, y_pred).compute()\n",
    "   \n",
    "    print('F1_score :\\n', f1)\n",
    "    print(\"-------------------------------------------------------\")\n",
    "    print('Estimateurs :\\n', cr)\n",
    "    print(\"-------------------------------------------------------\")\n",
    "    print('Matrice de confusion :\\n', cm)\n",
    "    print(\"-------------------------------------------------------\")\n",
    "    print('Auc Score :\\n', auc)\n",
    "    print(\"-------------------------------------------------------\")\n",
    "    \n",
    "    #Calcul de la Marge\n",
    "    Marge_totale = Calcul_Marge(Montant = X_test_[\"Montant\"].compute(), yReel = y_test.compute(), yPred = y_pred)\n",
    "    print(\"Marge = \" + str(round(Marge_totale, 2)) + \" euros\")\n",
    "    \n",
    "    print(\"-------------------------------------------------------\")\n",
    "    \n",
    "    # Courbe ROC\n",
    "    skplt.metrics.plot_roc(y_test, y_score, classes_to_plot = 1, plot_micro = False, plot_macro = False)\n",
    "    # Courbe Précision-Rappel\n",
    "    skplt.metrics.plot_precision_recall(y_test, y_score, classes_to_plot = 1, plot_micro = False)\n",
    "\n",
    "    #return y_score,Marge_totale,auc,cr,cm"
   ]
  },
  {
   "cell_type": "markdown",
   "id": "dc94390d",
   "metadata": {},
   "source": [
    "# 3. Algorithmes testés"
   ]
  },
  {
   "cell_type": "markdown",
   "id": "320ce983",
   "metadata": {},
   "source": [
    "## 3.1 Regression linéaire \"de base\""
   ]
  },
  {
   "cell_type": "code",
   "execution_count": 22,
   "id": "f919a5df",
   "metadata": {},
   "outputs": [
    {
     "name": "stdout",
     "output_type": "stream",
     "text": [
      "CPU times: total: 34.7 s\n",
      "Wall time: 11.2 s\n"
     ]
    }
   ],
   "source": [
    "%%time\n",
    "\n",
    "#instanciation du modèle\n",
    "clf0 = LogisticRegression(random_state=0)\n",
    "\n",
    "#Structure de l'entrainement \n",
    "classifier0=delayed(clf0.fit)(X_train_scale, y_train).compute()"
   ]
  },
  {
   "cell_type": "code",
   "execution_count": 23,
   "id": "ef726839",
   "metadata": {},
   "outputs": [
    {
     "name": "stdout",
     "output_type": "stream",
     "text": [
      "-------------------------------------------------------\n",
      "Modèle :\n",
      " LogisticRegression(random_state=0)\n",
      "-------------------------------------------------------\n",
      "F1_score :\n",
      " 0.0006067961165048543\n",
      "-------------------------------------------------------\n",
      "Estimateurs :\n",
      "               precision    recall  f1-score   support\n",
      "\n",
      "           0       0.99      1.00      1.00    740837\n",
      "           1       0.11      0.00      0.00      6573\n",
      "\n",
      "    accuracy                           0.99    747410\n",
      "   macro avg       0.55      0.50      0.50    747410\n",
      "weighted avg       0.98      0.99      0.99    747410\n",
      "\n",
      "-------------------------------------------------------\n",
      "Matrice de confusion :\n",
      " [[740820     17]\n",
      " [  6571      2]]\n",
      "-------------------------------------------------------\n",
      "Auc Score :\n",
      " 0.5001406640233118\n",
      "-------------------------------------------------------\n",
      "Marge = 1940083.62 euros\n",
      "-------------------------------------------------------\n",
      "CPU times: total: 7.27 s\n",
      "Wall time: 5.35 s\n"
     ]
    },
    {
     "data": {
      "image/png": "[encoded data removed]",
      "text/plain": [
       "<Figure size 432x288 with 1 Axes>"
      ]
     },
     "metadata": {
      "needs_background": "light"
     },
     "output_type": "display_data"
    },
    {
     "data": {
      "image/png": "[encoded data removed]",
      "text/plain": [
       "<Figure size 432x288 with 1 Axes>"
      ]
     },
     "metadata": {
      "needs_background": "light"
     },
     "output_type": "display_data"
    }
   ],
   "source": [
    "%%time\n",
    "#Calculs des performances du modèles\n",
    "performances(classifier0, X_test, y_test,scale=True)"
   ]
  },
  {
   "cell_type": "markdown",
   "id": "ddf8956d",
   "metadata": {},
   "source": [
    "Résultats catastrophiques en terme de performances du f1-score et du critère AUC, on va essayer d'utiliser SMOTE et le solveur saga indiquer dans le cas des données volumineuses et qui accepte elasticnet. Attention saga ne converge que si les deux échnatillons sont à peu près de même taille."
   ]
  },
  {
   "cell_type": "markdown",
   "id": "75475df4",
   "metadata": {},
   "source": [
    "## 3.2 En utilisant SMOTE "
   ]
  },
  {
   "cell_type": "code",
   "execution_count": 24,
   "id": "18733245",
   "metadata": {},
   "outputs": [
    {
     "name": "stdout",
     "output_type": "stream",
     "text": [
      "CPU times: total: 1min 35s\n",
      "Wall time: 1min 34s\n"
     ]
    }
   ],
   "source": [
    "%%time\n",
    "\n",
    "#Oversampling\n",
    "resampling1 = SMOTE(random_state=0)\n",
    "\n",
    "#instanciation du modèle\n",
    "model1 = LogisticRegression(solver='saga',random_state=0)\n",
    "\n",
    "# Definir une pipeline, indiquer de combiner SMOTE avec le modèle de Régression Logistique\n",
    "clf1 = Pipeline([('SMOTE', resampling1), ('Logistic Regression', model1)])\n",
    "\n",
    "#Structure de l'entrainement \n",
    "classifier1=delayed(clf1.fit)(X_train_scale, y_train).compute()"
   ]
  },
  {
   "cell_type": "code",
   "execution_count": 25,
   "id": "5f55367e",
   "metadata": {},
   "outputs": [
    {
     "name": "stdout",
     "output_type": "stream",
     "text": [
      "-------------------------------------------------------\n",
      "Modèle :\n",
      " Pipeline(steps=[('SMOTE', SMOTE(random_state=0)),\n",
      "                ('Logistic Regression',\n",
      "                 LogisticRegression(random_state=0, solver='saga'))])\n",
      "-------------------------------------------------------\n",
      "F1_score :\n",
      " 0.03964035964035963\n",
      "-------------------------------------------------------\n",
      "Estimateurs :\n",
      "               precision    recall  f1-score   support\n",
      "\n",
      "           0       0.99      0.78      0.87    740837\n",
      "           1       0.02      0.53      0.04      6573\n",
      "\n",
      "    accuracy                           0.77    747410\n",
      "   macro avg       0.51      0.65      0.46    747410\n",
      "weighted avg       0.99      0.77      0.87    747410\n",
      "\n",
      "-------------------------------------------------------\n",
      "Matrice de confusion :\n",
      " [[575707 165130]\n",
      " [  3101   3472]]\n",
      "-------------------------------------------------------\n",
      "Auc Score :\n",
      " 0.652662488825871\n",
      "-------------------------------------------------------\n",
      "Marge = 2013968.66 euros\n",
      "-------------------------------------------------------\n"
     ]
    },
    {
     "data": {
      "image/png": "[encoded data removed]",
      "text/plain": [
       "<Figure size 432x288 with 1 Axes>"
      ]
     },
     "metadata": {
      "needs_background": "light"
     },
     "output_type": "display_data"
    },
    {
     "data": {
      "image/png": "[encoded data removed]",
      "text/plain": [
       "<Figure size 432x288 with 1 Axes>"
      ]
     },
     "metadata": {
      "needs_background": "light"
     },
     "output_type": "display_data"
    }
   ],
   "source": [
    "%%time\n",
    "#Calculs des performances du modèles\n",
    "performances(classifier1, X_test, y_test,scale=True)"
   ]
  },
  {
   "cell_type": "markdown",
   "id": "77655247",
   "metadata": {},
   "source": [
    "Nous avons amélioré le f1-score, le critère AUC et la marge.\n",
    "Nous allons essayer d'améliorer ces performances utilisant BorderlineSMOTE qui se focalise sur les points mal classés."
   ]
  },
  {
   "cell_type": "markdown",
   "id": "a40fc9f0",
   "metadata": {},
   "source": [
    "## 3.2 Régression logistique avec BorderlineSMOTE"
   ]
  },
  {
   "cell_type": "code",
   "execution_count": 26,
   "id": "5cccaf6e",
   "metadata": {},
   "outputs": [
    {
     "name": "stdout",
     "output_type": "stream",
     "text": [
      "CPU times: total: 2min 37s\n",
      "Wall time: 2min 37s\n"
     ]
    }
   ],
   "source": [
    "%%time\n",
    "\n",
    "#Oversampling\n",
    "resampling2 = BorderlineSMOTE(random_state=0)\n",
    "\n",
    "#instanciation du modèle\n",
    "model1 = LogisticRegression(solver='saga',random_state=0)\n",
    "\n",
    "# Definir une pipeline, indiquer de combiner SMOTE avec le modèle de Régression Logistique\n",
    "clf2 = Pipeline([('BorderlineSMOTE', resampling2), ('Logistic Regression', model1)])\n",
    "\n",
    "#Structure de l'entrainement \n",
    "classifier2=delayed(clf2.fit)(X_train_scale, y_train).compute()"
   ]
  },
  {
   "cell_type": "code",
   "execution_count": 27,
   "id": "a8db0c89",
   "metadata": {},
   "outputs": [
    {
     "name": "stdout",
     "output_type": "stream",
     "text": [
      "-------------------------------------------------------\n",
      "Modèle :\n",
      " Pipeline(steps=[('BorderlineSMOTE', BorderlineSMOTE(random_state=0)),\n",
      "                ('Logistic Regression',\n",
      "                 LogisticRegression(random_state=0, solver='saga'))])\n",
      "-------------------------------------------------------\n",
      "F1_score :\n",
      " 0.041140224168510355\n",
      "-------------------------------------------------------\n",
      "Estimateurs :\n",
      "               precision    recall  f1-score   support\n",
      "\n",
      "           0       0.99      0.79      0.88    740837\n",
      "           1       0.02      0.51      0.04      6573\n",
      "\n",
      "    accuracy                           0.79    747410\n",
      "   macro avg       0.51      0.65      0.46    747410\n",
      "weighted avg       0.99      0.79      0.87    747410\n",
      "\n",
      "-------------------------------------------------------\n",
      "Matrice de confusion :\n",
      " [[586712 154125]\n",
      " [  3198   3375]]\n",
      "-------------------------------------------------------\n",
      "Auc Score :\n",
      " 0.652711228315999\n",
      "-------------------------------------------------------\n",
      "Marge = 2020970.26 euros\n",
      "-------------------------------------------------------\n",
      "CPU times: total: 7.14 s\n",
      "Wall time: 5.57 s\n"
     ]
    },
    {
     "data": {
      "image/png": "[encoded data removed]",
      "text/plain": [
       "<Figure size 432x288 with 1 Axes>"
      ]
     },
     "metadata": {
      "needs_background": "light"
     },
     "output_type": "display_data"
    },
    {
     "data": {
      "image/png": "[encoded data removed]",
      "text/plain": [
       "<Figure size 432x288 with 1 Axes>"
      ]
     },
     "metadata": {
      "needs_background": "light"
     },
     "output_type": "display_data"
    }
   ],
   "source": [
    "%%time\n",
    "#Calculs des performances du modèles\n",
    "performances(classifier2, X_test, y_test,scale=True)"
   ]
  },
  {
   "cell_type": "markdown",
   "id": "4950870c",
   "metadata": {},
   "source": [
    "Les résultats sont améliorés au niveau du f1-score et de la marge. Nous allons essayer de les améliorer encore en utilisant une régréssion avec C=0,01 et elasticnet."
   ]
  },
  {
   "cell_type": "code",
   "execution_count": 28,
   "id": "c415cf77",
   "metadata": {},
   "outputs": [
    {
     "name": "stdout",
     "output_type": "stream",
     "text": [
      "CPU times: total: 2min 44s\n",
      "Wall time: 2min 43s\n"
     ]
    }
   ],
   "source": [
    "%%time\n",
    "\n",
    "#Oversampling\n",
    "resampling3 = ADASYN(random_state=0)\n",
    "\n",
    "#instanciation du modèle\n",
    "model1 = LogisticRegression(solver='saga',random_state=0)\n",
    "\n",
    "# Definir une pipeline, indiquer de combiner SMOTE avec le modèle de Régression Logistique\n",
    "clf3 = Pipeline([('ADASYN', resampling3), ('Logistic Regression', model1)])\n",
    "\n",
    "#Structure de l'entrainement \n",
    "classifier3=delayed(clf3.fit)(X_train_scale, y_train).compute()"
   ]
  },
  {
   "cell_type": "code",
   "execution_count": 29,
   "id": "9f849c06",
   "metadata": {},
   "outputs": [
    {
     "name": "stdout",
     "output_type": "stream",
     "text": [
      "-------------------------------------------------------\n",
      "Modèle :\n",
      " Pipeline(steps=[('ADASYN', ADASYN(random_state=0)),\n",
      "                ('Logistic Regression',\n",
      "                 LogisticRegression(random_state=0, solver='saga'))])\n",
      "-------------------------------------------------------\n",
      "F1_score :\n",
      " 0.03875833424417969\n",
      "-------------------------------------------------------\n",
      "Estimateurs :\n",
      "               precision    recall  f1-score   support\n",
      "\n",
      "           0       0.99      0.77      0.87    740837\n",
      "           1       0.02      0.54      0.04      6573\n",
      "\n",
      "    accuracy                           0.76    747410\n",
      "   macro avg       0.51      0.65      0.45    747410\n",
      "weighted avg       0.99      0.76      0.86    747410\n",
      "\n",
      "-------------------------------------------------------\n",
      "Matrice de confusion :\n",
      " [[567976 172861]\n",
      " [  3027   3546]]\n",
      "-------------------------------------------------------\n",
      "Auc Score :\n",
      " 0.6530738305682691\n",
      "-------------------------------------------------------\n",
      "Marge = 2009300.84 euros\n",
      "-------------------------------------------------------\n",
      "CPU times: total: 6.77 s\n",
      "Wall time: 5.15 s\n"
     ]
    },
    {
     "data": {
      "image/png": "[encoded data removed]",
      "text/plain": [
       "<Figure size 432x288 with 1 Axes>"
      ]
     },
     "metadata": {
      "needs_background": "light"
     },
     "output_type": "display_data"
    },
    {
     "data": {
      "image/png": "[encoded data removed]",
      "text/plain": [
       "<Figure size 432x288 with 1 Axes>"
      ]
     },
     "metadata": {
      "needs_background": "light"
     },
     "output_type": "display_data"
    }
   ],
   "source": [
    "%%time\n",
    "#Calculs des performances du modèles\n",
    "performances(classifier3, X_test, y_test,scale=True)"
   ]
  },
  {
   "cell_type": "markdown",
   "id": "c83e343a",
   "metadata": {},
   "source": [
    "## 3.2 Régression logistique avec BorderlineSMOTE et régularisation (C=0,01 et Elasticnet)"
   ]
  },
  {
   "cell_type": "code",
   "execution_count": 32,
   "id": "49d24141",
   "metadata": {},
   "outputs": [
    {
     "name": "stdout",
     "output_type": "stream",
     "text": [
      "CPU times: total: 6min 9s\n",
      "Wall time: 3min 4s\n"
     ]
    }
   ],
   "source": [
    "%%time\n",
    "\n",
    "#Oversampling\n",
    "resampling2 = BorderlineSMOTE(random_state=0)\n",
    "\n",
    "#instanciation du modèle\n",
    "model2 = LogisticRegression(random_state=0, penalty='elasticnet', l1_ratio=0.5, solver='saga', C=0.01, max_iter=100)\n",
    "\n",
    "# Definir une pipeline, indiquer de combiner SMOTE avec le modèle de Régression Logistique\n",
    "clf5 = Pipeline([('SMOTE', resampling2), ('Logistic Regression', model2)])\n",
    "\n",
    "#Structure de l'entrainement \n",
    "classifier5=delayed(clf5.fit)(X_train_scale, y_train).compute()"
   ]
  },
  {
   "cell_type": "code",
   "execution_count": 33,
   "id": "106a88dd",
   "metadata": {},
   "outputs": [
    {
     "name": "stdout",
     "output_type": "stream",
     "text": [
      "-------------------------------------------------------\n",
      "Modèle :\n",
      " Pipeline(steps=[('SMOTE', BorderlineSMOTE(random_state=0)),\n",
      "                ('Logistic Regression',\n",
      "                 LogisticRegression(C=0.01, l1_ratio=0.5, penalty='elasticnet',\n",
      "                                    random_state=0, solver='saga'))])\n",
      "-------------------------------------------------------\n",
      "F1_score :\n",
      " 0.04114047491345263\n",
      "-------------------------------------------------------\n",
      "Estimateurs :\n",
      "               precision    recall  f1-score   support\n",
      "\n",
      "           0       0.99      0.79      0.88    740837\n",
      "           1       0.02      0.51      0.04      6573\n",
      "\n",
      "    accuracy                           0.79    747410\n",
      "   macro avg       0.51      0.65      0.46    747410\n",
      "weighted avg       0.99      0.79      0.87    747410\n",
      "\n",
      "-------------------------------------------------------\n",
      "Matrice de confusion :\n",
      " [[586713 154124]\n",
      " [  3198   3375]]\n",
      "-------------------------------------------------------\n",
      "Auc Score :\n",
      " 0.6527119032282941\n",
      "-------------------------------------------------------\n",
      "Marge = 2020988.61 euros\n",
      "-------------------------------------------------------\n",
      "CPU times: total: 14.2 s\n",
      "Wall time: 6.42 s\n"
     ]
    },
    {
     "data": {
      "image/png": "[encoded data removed]",
      "text/plain": [
       "<Figure size 432x288 with 1 Axes>"
      ]
     },
     "metadata": {
      "needs_background": "light"
     },
     "output_type": "display_data"
    },
    {
     "data": {
      "image/png": "[encoded data removed]",
      "text/plain": [
       "<Figure size 432x288 with 1 Axes>"
      ]
     },
     "metadata": {
      "needs_background": "light"
     },
     "output_type": "display_data"
    }
   ],
   "source": [
    "%%time\n",
    "#Calculs des performances du modèles\n",
    "performances(classifier5, X_test, y_test,scale=True)"
   ]
  },
  {
   "cell_type": "markdown",
   "id": "4722d821",
   "metadata": {},
   "source": [
    "Le f1_score est amélioré, en revanche ni le critère AUC, ni la maximisation de la marge ne bénéficie de cette modification."
   ]
  },
  {
   "cell_type": "raw",
   "id": "850a2a7c",
   "metadata": {},
   "source": [
    "En post-traitement, nous allons essayer de modifier le seuil pour l'affectation. Pour cela, nous allons utiliser la régression logistique de base avec un post-traitement sur le seuil d'affectation si le critère AUC le permet. "
   ]
  },
  {
   "cell_type": "markdown",
   "id": "91e2bfeb",
   "metadata": {},
   "source": [
    "## 3.3 Régression Logistique sans stratégie d'échantillonnage mais un class_weight balanced"
   ]
  },
  {
   "cell_type": "code",
   "execution_count": 34,
   "id": "23e6b123",
   "metadata": {},
   "outputs": [
    {
     "name": "stdout",
     "output_type": "stream",
     "text": [
      "CPU times: total: 32.3 s\n",
      "Wall time: 8.86 s\n"
     ]
    }
   ],
   "source": [
    "%%time\n",
    "\n",
    "#instanciation du modèle\n",
    "clf6 = LogisticRegression(random_state=0,class_weight='balanced')\n",
    "\n",
    "#Structure de l'entrainement \n",
    "classifier6=delayed(clf6.fit)(X_train_scale, y_train).compute()"
   ]
  },
  {
   "cell_type": "code",
   "execution_count": 35,
   "id": "edb9f265",
   "metadata": {},
   "outputs": [
    {
     "name": "stdout",
     "output_type": "stream",
     "text": [
      "-------------------------------------------------------\n",
      "Modèle :\n",
      " LogisticRegression(class_weight='balanced', random_state=0)\n",
      "-------------------------------------------------------\n",
      "F1_score :\n",
      " 0.03996314637797996\n",
      "-------------------------------------------------------\n",
      "Estimateurs :\n",
      "               precision    recall  f1-score   support\n",
      "\n",
      "           0       0.99      0.78      0.87    740837\n",
      "           1       0.02      0.53      0.04      6573\n",
      "\n",
      "    accuracy                           0.78    747410\n",
      "   macro avg       0.51      0.65      0.46    747410\n",
      "weighted avg       0.99      0.78      0.87    747410\n",
      "\n",
      "-------------------------------------------------------\n",
      "Matrice de confusion :\n",
      " [[577220 163617]\n",
      " [  3103   3470]]\n",
      "-------------------------------------------------------\n",
      "Auc Score :\n",
      " 0.6535314935960995\n",
      "-------------------------------------------------------\n",
      "Marge = 2013481.83 euros\n",
      "-------------------------------------------------------\n",
      "CPU times: total: 13.4 s\n",
      "Wall time: 5.75 s\n"
     ]
    },
    {
     "data": {
      "image/png": "[encoded data removed]",
      "text/plain": [
       "<Figure size 432x288 with 1 Axes>"
      ]
     },
     "metadata": {
      "needs_background": "light"
     },
     "output_type": "display_data"
    },
    {
     "data": {
      "image/png": "[encoded data removed]",
      "text/plain": [
       "<Figure size 432x288 with 1 Axes>"
      ]
     },
     "metadata": {
      "needs_background": "light"
     },
     "output_type": "display_data"
    }
   ],
   "source": [
    "%%time\n",
    "#Calculs des performances du modèles\n",
    "performances(classifier6, X_test, y_test,scale=True)"
   ]
  },
  {
   "cell_type": "code",
   "execution_count": 38,
   "id": "2318d6a8",
   "metadata": {},
   "outputs": [
    {
     "name": "stdout",
     "output_type": "stream",
     "text": [
      "CPU times: total: 19.1 s\n",
      "Wall time: 8.97 s\n"
     ]
    },
    {
     "data": {
      "text/plain": [
       "'Threshold=0.800, F-Score=0.09809'"
      ]
     },
     "execution_count": 38,
     "metadata": {},
     "output_type": "execute_result"
    }
   ],
   "source": [
    "%%time\n",
    "seuil=modif_seuil(classifier3,X_test_scale,y_test)\n",
    "seuil"
   ]
  },
  {
   "cell_type": "markdown",
   "id": "b7d200d6",
   "metadata": {},
   "source": [
    "**Visualisation de l'importance des variables pour le meilleur modèle de regression linéaire**"
   ]
  },
  {
   "cell_type": "code",
   "execution_count": 37,
   "id": "969e9ffd",
   "metadata": {},
   "outputs": [
    {
     "data": {
      "image/png": "[encoded data removed]",
      "text/plain": [
       "<Figure size 432x288 with 1 Axes>"
      ]
     },
     "metadata": {
      "needs_background": "light"
     },
     "output_type": "display_data"
    }
   ],
   "source": [
    "importances = pd.Series(clf6.coef_[0], index = X_test.columns)\n",
    "sorted_importances = importances.sort_values()\n",
    "sorted_importances.plot(kind='barh', color='blue')\n",
    "plt.show()"
   ]
  }
 ],
 "metadata": {
  "kernelspec": {
   "display_name": "Python 3 (ipykernel)",
   "language": "python",
   "name": "python3"
  },
  "language_info": {
   "codemirror_mode": {
    "name": "ipython",
    "version": 3
   },
   "file_extension": ".py",
   "mimetype": "text/x-python",
   "name": "python",
   "nbconvert_exporter": "python",
   "pygments_lexer": "ipython3",
   "version": "3.9.12"
  },
  "vscode": {
   "interpreter": {
    "hash": "570feb405e2e27c949193ac68f46852414290d515b0ba6e5d90d076ed2284471"
   }
  }
 },
 "nbformat": 4,
 "nbformat_minor": 5
}
