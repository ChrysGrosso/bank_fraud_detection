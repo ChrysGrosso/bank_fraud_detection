{
 "cells": [
  {
   "cell_type": "code",
   "execution_count": 51,
   "id": "4846755b",
   "metadata": {},
   "outputs": [
    {
     "name": "stdout",
     "output_type": "stream",
     "text": [
      "Requirement already satisfied: imbalanced-learn in c:\\programdata\\anaconda3\\lib\\site-packages (0.10.0)\n",
      "Requirement already satisfied: scipy>=1.3.2 in c:\\programdata\\anaconda3\\lib\\site-packages (from imbalanced-learn) (1.7.3)\n",
      "Requirement already satisfied: threadpoolctl>=2.0.0 in c:\\programdata\\anaconda3\\lib\\site-packages (from imbalanced-learn) (2.2.0)\n",
      "Requirement already satisfied: scikit-learn>=1.0.2 in c:\\programdata\\anaconda3\\lib\\site-packages (from imbalanced-learn) (1.0.2)\n",
      "Requirement already satisfied: numpy>=1.17.3 in c:\\programdata\\anaconda3\\lib\\site-packages (from imbalanced-learn) (1.21.5)\n",
      "Requirement already satisfied: joblib>=1.1.1 in c:\\programdata\\anaconda3\\lib\\site-packages (from imbalanced-learn) (1.2.0)\n"
     ]
    }
   ],
   "source": [
    "!pip install imbalanced-learn"
   ]
  },
  {
   "cell_type": "code",
   "execution_count": 53,
   "id": "35d21b4e",
   "metadata": {},
   "outputs": [],
   "source": [
    "import os\n",
    "import pandas as pd\n",
    "import numpy as np\n",
    "import time\n",
    "import matplotlib.pyplot as plt\n",
    "from matplotlib import pyplot\n",
    "import sys \n",
    "from sklearn.metrics import *\n",
    "import scikitplot as skplt\n",
    "from sklearn.preprocessing import StandardScaler\n",
    "\n",
    "# Algorithmes\n",
    "from sklearn.tree import DecisionTreeClassifier \n",
    "from sklearn.ensemble import RandomForestClassifier\n",
    "from sklearn.linear_model import LogisticRegression\n",
    "from sklearn.ensemble import AdaBoostClassifier\n",
    "\n",
    "#Imbalanced learn\n",
    "from imblearn.combine import SMOTEENN, SMOTETomek\n",
    "from imblearn.over_sampling import SMOTE, BorderlineSMOTE, ADASYN\n",
    "from imblearn.under_sampling import NearMiss, EditedNearestNeighbours, OneSidedSelection\n",
    "from imblearn.pipeline import Pipeline, make_pipeline\n",
    "\n",
    "#from sklearn.pipeline import Pipeline\n",
    "from sklearn.model_selection import GridSearchCV"
   ]
  },
  {
   "cell_type": "code",
   "execution_count": 2,
   "id": "6f7141be",
   "metadata": {},
   "outputs": [],
   "source": [
    "os.chdir(r\"C:\\Users\\cornuch\\Desktop\\SISE\\Fouille_donnees_massives\\projet_fouille\")  "
   ]
  },
  {
   "cell_type": "code",
   "execution_count": 3,
   "id": "d6186124",
   "metadata": {},
   "outputs": [],
   "source": [
    "df = pd.read_table(\"guillaume.txt\", sep=\";\", header=0, decimal=\",\")"
   ]
  },
  {
   "cell_type": "code",
   "execution_count": 4,
   "id": "7a5c49f8",
   "metadata": {},
   "outputs": [
    {
     "data": {
      "text/html": [
       "<div>\n",
       "<style scoped>\n",
       "    .dataframe tbody tr th:only-of-type {\n",
       "        vertical-align: middle;\n",
       "    }\n",
       "\n",
       "    .dataframe tbody tr th {\n",
       "        vertical-align: top;\n",
       "    }\n",
       "\n",
       "    .dataframe thead th {\n",
       "        text-align: right;\n",
       "    }\n",
       "</style>\n",
       "<table border=\"1\" class=\"dataframe\">\n",
       "  <thead>\n",
       "    <tr style=\"text-align: right;\">\n",
       "      <th></th>\n",
       "      <th>ZIBZIN</th>\n",
       "      <th>IDAvisAutorisationCheque</th>\n",
       "      <th>FlagImpaye</th>\n",
       "      <th>Montant</th>\n",
       "      <th>CodeDecision</th>\n",
       "      <th>VerifianceCPT1</th>\n",
       "      <th>VerifianceCPT2</th>\n",
       "      <th>VerifianceCPT3</th>\n",
       "      <th>D2CB</th>\n",
       "      <th>ScoringFP1</th>\n",
       "      <th>...</th>\n",
       "      <th>TauxImpNB_CPM</th>\n",
       "      <th>EcartNumCheq</th>\n",
       "      <th>NbrMagasin3J</th>\n",
       "      <th>DiffDateTr1</th>\n",
       "      <th>DiffDateTr2</th>\n",
       "      <th>DiffDateTr3</th>\n",
       "      <th>CA3TRetMtt</th>\n",
       "      <th>CA3TR</th>\n",
       "      <th>Heure</th>\n",
       "      <th>Date</th>\n",
       "    </tr>\n",
       "  </thead>\n",
       "  <tbody>\n",
       "    <tr>\n",
       "      <th>0</th>\n",
       "      <td>A013010004908126703060931</td>\n",
       "      <td>78643044</td>\n",
       "      <td>0</td>\n",
       "      <td>20.00</td>\n",
       "      <td>1</td>\n",
       "      <td>0</td>\n",
       "      <td>0</td>\n",
       "      <td>0</td>\n",
       "      <td>551</td>\n",
       "      <td>0.000000</td>\n",
       "      <td>...</td>\n",
       "      <td>52.076034</td>\n",
       "      <td>0</td>\n",
       "      <td>1</td>\n",
       "      <td>4.000000</td>\n",
       "      <td>4.0</td>\n",
       "      <td>4.0</td>\n",
       "      <td>20.00</td>\n",
       "      <td>0.00</td>\n",
       "      <td>07:32:14</td>\n",
       "      <td>2017-02-01</td>\n",
       "    </tr>\n",
       "    <tr>\n",
       "      <th>1</th>\n",
       "      <td>A013011306908024927155000</td>\n",
       "      <td>78643045</td>\n",
       "      <td>0</td>\n",
       "      <td>20.00</td>\n",
       "      <td>1</td>\n",
       "      <td>0</td>\n",
       "      <td>0</td>\n",
       "      <td>0</td>\n",
       "      <td>551</td>\n",
       "      <td>0.000000</td>\n",
       "      <td>...</td>\n",
       "      <td>52.076034</td>\n",
       "      <td>1</td>\n",
       "      <td>2</td>\n",
       "      <td>1.797685</td>\n",
       "      <td>4.0</td>\n",
       "      <td>4.0</td>\n",
       "      <td>28.61</td>\n",
       "      <td>8.61</td>\n",
       "      <td>07:43:37</td>\n",
       "      <td>2017-02-01</td>\n",
       "    </tr>\n",
       "    <tr>\n",
       "      <th>2</th>\n",
       "      <td>A013010002908283134592527</td>\n",
       "      <td>78643046</td>\n",
       "      <td>0</td>\n",
       "      <td>57.64</td>\n",
       "      <td>1</td>\n",
       "      <td>0</td>\n",
       "      <td>0</td>\n",
       "      <td>0</td>\n",
       "      <td>549</td>\n",
       "      <td>0.000000</td>\n",
       "      <td>...</td>\n",
       "      <td>52.076034</td>\n",
       "      <td>0</td>\n",
       "      <td>1</td>\n",
       "      <td>4.000000</td>\n",
       "      <td>4.0</td>\n",
       "      <td>4.0</td>\n",
       "      <td>57.64</td>\n",
       "      <td>0.00</td>\n",
       "      <td>07:47:38</td>\n",
       "      <td>2017-02-01</td>\n",
       "    </tr>\n",
       "    <tr>\n",
       "      <th>3</th>\n",
       "      <td>A011010002908105209831316</td>\n",
       "      <td>78643047</td>\n",
       "      <td>0</td>\n",
       "      <td>54.29</td>\n",
       "      <td>0</td>\n",
       "      <td>1</td>\n",
       "      <td>1</td>\n",
       "      <td>1</td>\n",
       "      <td>267</td>\n",
       "      <td>0.000000</td>\n",
       "      <td>...</td>\n",
       "      <td>53.554234</td>\n",
       "      <td>0</td>\n",
       "      <td>1</td>\n",
       "      <td>4.000000</td>\n",
       "      <td>4.0</td>\n",
       "      <td>4.0</td>\n",
       "      <td>54.29</td>\n",
       "      <td>0.00</td>\n",
       "      <td>07:48:48</td>\n",
       "      <td>2017-02-01</td>\n",
       "    </tr>\n",
       "    <tr>\n",
       "      <th>4</th>\n",
       "      <td>A013010041908000125652029</td>\n",
       "      <td>78643048</td>\n",
       "      <td>0</td>\n",
       "      <td>26.90</td>\n",
       "      <td>1</td>\n",
       "      <td>0</td>\n",
       "      <td>0</td>\n",
       "      <td>0</td>\n",
       "      <td>549</td>\n",
       "      <td>0.003769</td>\n",
       "      <td>...</td>\n",
       "      <td>52.076034</td>\n",
       "      <td>1</td>\n",
       "      <td>1</td>\n",
       "      <td>1.997106</td>\n",
       "      <td>4.0</td>\n",
       "      <td>4.0</td>\n",
       "      <td>59.15</td>\n",
       "      <td>32.25</td>\n",
       "      <td>08:13:27</td>\n",
       "      <td>2017-02-01</td>\n",
       "    </tr>\n",
       "  </tbody>\n",
       "</table>\n",
       "<p>5 rows × 23 columns</p>\n",
       "</div>"
      ],
      "text/plain": [
       "                      ZIBZIN  IDAvisAutorisationCheque  FlagImpaye  Montant  \\\n",
       "0  A013010004908126703060931                  78643044           0    20.00   \n",
       "1  A013011306908024927155000                  78643045           0    20.00   \n",
       "2  A013010002908283134592527                  78643046           0    57.64   \n",
       "3  A011010002908105209831316                  78643047           0    54.29   \n",
       "4  A013010041908000125652029                  78643048           0    26.90   \n",
       "\n",
       "   CodeDecision  VerifianceCPT1  VerifianceCPT2  VerifianceCPT3  D2CB  \\\n",
       "0             1               0               0               0   551   \n",
       "1             1               0               0               0   551   \n",
       "2             1               0               0               0   549   \n",
       "3             0               1               1               1   267   \n",
       "4             1               0               0               0   549   \n",
       "\n",
       "   ScoringFP1  ...  TauxImpNB_CPM  EcartNumCheq  NbrMagasin3J  DiffDateTr1  \\\n",
       "0    0.000000  ...      52.076034             0             1     4.000000   \n",
       "1    0.000000  ...      52.076034             1             2     1.797685   \n",
       "2    0.000000  ...      52.076034             0             1     4.000000   \n",
       "3    0.000000  ...      53.554234             0             1     4.000000   \n",
       "4    0.003769  ...      52.076034             1             1     1.997106   \n",
       "\n",
       "   DiffDateTr2  DiffDateTr3  CA3TRetMtt  CA3TR     Heure        Date  \n",
       "0          4.0          4.0       20.00   0.00  07:32:14  2017-02-01  \n",
       "1          4.0          4.0       28.61   8.61  07:43:37  2017-02-01  \n",
       "2          4.0          4.0       57.64   0.00  07:47:38  2017-02-01  \n",
       "3          4.0          4.0       54.29   0.00  07:48:48  2017-02-01  \n",
       "4          4.0          4.0       59.15  32.25  08:13:27  2017-02-01  \n",
       "\n",
       "[5 rows x 23 columns]"
      ]
     },
     "execution_count": 4,
     "metadata": {},
     "output_type": "execute_result"
    }
   ],
   "source": [
    "# Convertir DateTransaction en 2 colonnes : Date et Heure\n",
    "DateTransaction_temp = df['DateTransaction'].str.split(' ', n=1)\n",
    "df['Date'] = DateTransaction_temp.str[0]\n",
    "df['Heure'] = DateTransaction_temp.str[1]\n",
    "# Supprimer la colonne\n",
    "df.drop([\"DateTransaction\"], axis = \"columns\", inplace = True)\n",
    "df.head()"
   ]
  },
  {
   "cell_type": "code",
   "execution_count": 5,
   "id": "649d1057",
   "metadata": {},
   "outputs": [],
   "source": [
    "df.drop(['ZIBZIN','IDAvisAutorisationCheque','VerifianceCPT2','VerifianceCPT3','TauxImpNb_RB','DiffDateTr1','DiffDateTr2','CA3TRetMtt','Heure','CodeDecision'],axis = \"columns\", inplace = True)"
   ]
  },
  {
   "cell_type": "code",
   "execution_count": 6,
   "id": "d397f2cc",
   "metadata": {},
   "outputs": [
    {
     "name": "stdout",
     "output_type": "stream",
     "text": [
      "<class 'pandas.core.frame.DataFrame'>\n",
      "RangeIndex: 4646773 entries, 0 to 4646772\n",
      "Data columns (total 13 columns):\n",
      " #   Column          Dtype  \n",
      "---  ------          -----  \n",
      " 0   FlagImpaye      int64  \n",
      " 1   Montant         float64\n",
      " 2   VerifianceCPT1  int64  \n",
      " 3   D2CB            int64  \n",
      " 4   ScoringFP1      float64\n",
      " 5   ScoringFP2      float64\n",
      " 6   ScoringFP3      float64\n",
      " 7   TauxImpNB_CPM   float64\n",
      " 8   EcartNumCheq    int64  \n",
      " 9   NbrMagasin3J    int64  \n",
      " 10  DiffDateTr3     float64\n",
      " 11  CA3TR           float64\n",
      " 12  Date            object \n",
      "dtypes: float64(7), int64(5), object(1)\n",
      "memory usage: 460.9+ MB\n"
     ]
    }
   ],
   "source": [
    "df.info()"
   ]
  },
  {
   "cell_type": "code",
   "execution_count": 7,
   "id": "386c8261",
   "metadata": {},
   "outputs": [],
   "source": [
    "df_train=df.loc[df['Date']<='2017-08-31']\n",
    "df_test=df.loc[df['Date']>='2017-09-01']"
   ]
  },
  {
   "cell_type": "code",
   "execution_count": 8,
   "id": "0067c3cc",
   "metadata": {},
   "outputs": [],
   "source": [
    "df_train0=df.drop(['Date'],axis = \"columns\", inplace = False)\n",
    "df_test0=df.drop(['Date'],axis=\"columns\",inplace=False)"
   ]
  },
  {
   "cell_type": "code",
   "execution_count": 9,
   "id": "89d0131a",
   "metadata": {},
   "outputs": [],
   "source": [
    "# Définir la variable cible \n",
    "y_train = df_train0[\"FlagImpaye\"]\n",
    "y_test = df_test0[\"FlagImpaye\"]"
   ]
  },
  {
   "cell_type": "code",
   "execution_count": 10,
   "id": "0aecd7a5",
   "metadata": {},
   "outputs": [],
   "source": [
    "# Définir les variables explicatives \n",
    "X_train = df_train0.drop([\"FlagImpaye\"], axis = \"columns\")\n",
    "X_test = df_test0.drop([\"FlagImpaye\"], axis = \"columns\")"
   ]
  },
  {
   "cell_type": "code",
   "execution_count": 14,
   "id": "65a19beb",
   "metadata": {},
   "outputs": [
    {
     "data": {
      "text/html": [
       "<div>\n",
       "<style scoped>\n",
       "    .dataframe tbody tr th:only-of-type {\n",
       "        vertical-align: middle;\n",
       "    }\n",
       "\n",
       "    .dataframe tbody tr th {\n",
       "        vertical-align: top;\n",
       "    }\n",
       "\n",
       "    .dataframe thead th {\n",
       "        text-align: right;\n",
       "    }\n",
       "</style>\n",
       "<table border=\"1\" class=\"dataframe\">\n",
       "  <thead>\n",
       "    <tr style=\"text-align: right;\">\n",
       "      <th></th>\n",
       "      <th>Montant</th>\n",
       "      <th>VerifianceCPT1</th>\n",
       "      <th>D2CB</th>\n",
       "      <th>ScoringFP1</th>\n",
       "      <th>ScoringFP2</th>\n",
       "      <th>ScoringFP3</th>\n",
       "      <th>TauxImpNB_CPM</th>\n",
       "      <th>EcartNumCheq</th>\n",
       "      <th>NbrMagasin3J</th>\n",
       "      <th>DiffDateTr3</th>\n",
       "      <th>CA3TR</th>\n",
       "    </tr>\n",
       "  </thead>\n",
       "  <tbody>\n",
       "    <tr>\n",
       "      <th>0</th>\n",
       "      <td>20.00</td>\n",
       "      <td>0</td>\n",
       "      <td>551</td>\n",
       "      <td>0.000000</td>\n",
       "      <td>0.000000</td>\n",
       "      <td>0.000000</td>\n",
       "      <td>52.076034</td>\n",
       "      <td>0</td>\n",
       "      <td>1</td>\n",
       "      <td>4.0</td>\n",
       "      <td>0.00</td>\n",
       "    </tr>\n",
       "    <tr>\n",
       "      <th>1</th>\n",
       "      <td>20.00</td>\n",
       "      <td>0</td>\n",
       "      <td>551</td>\n",
       "      <td>0.000000</td>\n",
       "      <td>0.000000</td>\n",
       "      <td>0.000000</td>\n",
       "      <td>52.076034</td>\n",
       "      <td>1</td>\n",
       "      <td>2</td>\n",
       "      <td>4.0</td>\n",
       "      <td>8.61</td>\n",
       "    </tr>\n",
       "    <tr>\n",
       "      <th>2</th>\n",
       "      <td>57.64</td>\n",
       "      <td>0</td>\n",
       "      <td>549</td>\n",
       "      <td>0.000000</td>\n",
       "      <td>0.000000</td>\n",
       "      <td>0.000000</td>\n",
       "      <td>52.076034</td>\n",
       "      <td>0</td>\n",
       "      <td>1</td>\n",
       "      <td>4.0</td>\n",
       "      <td>0.00</td>\n",
       "    </tr>\n",
       "    <tr>\n",
       "      <th>3</th>\n",
       "      <td>54.29</td>\n",
       "      <td>1</td>\n",
       "      <td>267</td>\n",
       "      <td>0.000000</td>\n",
       "      <td>0.000000</td>\n",
       "      <td>0.000000</td>\n",
       "      <td>53.554234</td>\n",
       "      <td>0</td>\n",
       "      <td>1</td>\n",
       "      <td>4.0</td>\n",
       "      <td>0.00</td>\n",
       "    </tr>\n",
       "    <tr>\n",
       "      <th>4</th>\n",
       "      <td>26.90</td>\n",
       "      <td>0</td>\n",
       "      <td>549</td>\n",
       "      <td>0.003769</td>\n",
       "      <td>8.586333</td>\n",
       "      <td>0.001192</td>\n",
       "      <td>52.076034</td>\n",
       "      <td>1</td>\n",
       "      <td>1</td>\n",
       "      <td>4.0</td>\n",
       "      <td>32.25</td>\n",
       "    </tr>\n",
       "  </tbody>\n",
       "</table>\n",
       "</div>"
      ],
      "text/plain": [
       "   Montant  VerifianceCPT1  D2CB  ScoringFP1  ScoringFP2  ScoringFP3  \\\n",
       "0    20.00               0   551    0.000000    0.000000    0.000000   \n",
       "1    20.00               0   551    0.000000    0.000000    0.000000   \n",
       "2    57.64               0   549    0.000000    0.000000    0.000000   \n",
       "3    54.29               1   267    0.000000    0.000000    0.000000   \n",
       "4    26.90               0   549    0.003769    8.586333    0.001192   \n",
       "\n",
       "   TauxImpNB_CPM  EcartNumCheq  NbrMagasin3J  DiffDateTr3  CA3TR  \n",
       "0      52.076034             0             1          4.0   0.00  \n",
       "1      52.076034             1             2          4.0   8.61  \n",
       "2      52.076034             0             1          4.0   0.00  \n",
       "3      53.554234             0             1          4.0   0.00  \n",
       "4      52.076034             1             1          4.0  32.25  "
      ]
     },
     "execution_count": 14,
     "metadata": {},
     "output_type": "execute_result"
    }
   ],
   "source": [
    "X_train.head()"
   ]
  },
  {
   "cell_type": "code",
   "execution_count": 27,
   "id": "9c4c858b",
   "metadata": {},
   "outputs": [],
   "source": [
    "def mean_norm(df_input):\n",
    "    return df_input.apply(lambda x: (x-x.mean())/ x.std(), axis=0)"
   ]
  },
  {
   "cell_type": "code",
   "execution_count": 28,
   "id": "3e48f08d",
   "metadata": {},
   "outputs": [],
   "source": [
    "X_train_scale=mean_norm(X_train)"
   ]
  },
  {
   "cell_type": "code",
   "execution_count": 29,
   "id": "d6e602c6",
   "metadata": {},
   "outputs": [
    {
     "data": {
      "text/html": [
       "<div>\n",
       "<style scoped>\n",
       "    .dataframe tbody tr th:only-of-type {\n",
       "        vertical-align: middle;\n",
       "    }\n",
       "\n",
       "    .dataframe tbody tr th {\n",
       "        vertical-align: top;\n",
       "    }\n",
       "\n",
       "    .dataframe thead th {\n",
       "        text-align: right;\n",
       "    }\n",
       "</style>\n",
       "<table border=\"1\" class=\"dataframe\">\n",
       "  <thead>\n",
       "    <tr style=\"text-align: right;\">\n",
       "      <th></th>\n",
       "      <th>Montant</th>\n",
       "      <th>VerifianceCPT1</th>\n",
       "      <th>D2CB</th>\n",
       "      <th>ScoringFP1</th>\n",
       "      <th>ScoringFP2</th>\n",
       "      <th>ScoringFP3</th>\n",
       "      <th>TauxImpNB_CPM</th>\n",
       "      <th>EcartNumCheq</th>\n",
       "      <th>NbrMagasin3J</th>\n",
       "      <th>DiffDateTr3</th>\n",
       "      <th>CA3TR</th>\n",
       "    </tr>\n",
       "  </thead>\n",
       "  <tbody>\n",
       "    <tr>\n",
       "      <th>0</th>\n",
       "      <td>-0.393578</td>\n",
       "      <td>-0.519039</td>\n",
       "      <td>1.074179</td>\n",
       "      <td>-0.081852</td>\n",
       "      <td>-0.209271</td>\n",
       "      <td>-0.282163</td>\n",
       "      <td>0.810882</td>\n",
       "      <td>-0.042780</td>\n",
       "      <td>-0.192611</td>\n",
       "      <td>-0.470527</td>\n",
       "      <td>-0.185443</td>\n",
       "    </tr>\n",
       "    <tr>\n",
       "      <th>1</th>\n",
       "      <td>-0.393578</td>\n",
       "      <td>-0.519039</td>\n",
       "      <td>1.074179</td>\n",
       "      <td>-0.081852</td>\n",
       "      <td>-0.209271</td>\n",
       "      <td>-0.282163</td>\n",
       "      <td>0.810882</td>\n",
       "      <td>-0.042775</td>\n",
       "      <td>5.014647</td>\n",
       "      <td>-0.470527</td>\n",
       "      <td>0.037612</td>\n",
       "    </tr>\n",
       "    <tr>\n",
       "      <th>2</th>\n",
       "      <td>-0.024533</td>\n",
       "      <td>-0.519039</td>\n",
       "      <td>1.065117</td>\n",
       "      <td>-0.081852</td>\n",
       "      <td>-0.209271</td>\n",
       "      <td>-0.282163</td>\n",
       "      <td>0.810882</td>\n",
       "      <td>-0.042780</td>\n",
       "      <td>-0.192611</td>\n",
       "      <td>-0.470527</td>\n",
       "      <td>-0.185443</td>\n",
       "    </tr>\n",
       "    <tr>\n",
       "      <th>3</th>\n",
       "      <td>-0.057378</td>\n",
       "      <td>1.742299</td>\n",
       "      <td>-0.212505</td>\n",
       "      <td>-0.081852</td>\n",
       "      <td>-0.209271</td>\n",
       "      <td>-0.282163</td>\n",
       "      <td>0.899215</td>\n",
       "      <td>-0.042780</td>\n",
       "      <td>-0.192611</td>\n",
       "      <td>-0.470527</td>\n",
       "      <td>-0.185443</td>\n",
       "    </tr>\n",
       "    <tr>\n",
       "      <th>4</th>\n",
       "      <td>-0.325927</td>\n",
       "      <td>-0.519039</td>\n",
       "      <td>1.065117</td>\n",
       "      <td>-0.081713</td>\n",
       "      <td>0.674504</td>\n",
       "      <td>-0.279713</td>\n",
       "      <td>0.810882</td>\n",
       "      <td>-0.042775</td>\n",
       "      <td>-0.192611</td>\n",
       "      <td>-0.470527</td>\n",
       "      <td>0.650042</td>\n",
       "    </tr>\n",
       "  </tbody>\n",
       "</table>\n",
       "</div>"
      ],
      "text/plain": [
       "    Montant  VerifianceCPT1      D2CB  ScoringFP1  ScoringFP2  ScoringFP3  \\\n",
       "0 -0.393578       -0.519039  1.074179   -0.081852   -0.209271   -0.282163   \n",
       "1 -0.393578       -0.519039  1.074179   -0.081852   -0.209271   -0.282163   \n",
       "2 -0.024533       -0.519039  1.065117   -0.081852   -0.209271   -0.282163   \n",
       "3 -0.057378        1.742299 -0.212505   -0.081852   -0.209271   -0.282163   \n",
       "4 -0.325927       -0.519039  1.065117   -0.081713    0.674504   -0.279713   \n",
       "\n",
       "   TauxImpNB_CPM  EcartNumCheq  NbrMagasin3J  DiffDateTr3     CA3TR  \n",
       "0       0.810882     -0.042780     -0.192611    -0.470527 -0.185443  \n",
       "1       0.810882     -0.042775      5.014647    -0.470527  0.037612  \n",
       "2       0.810882     -0.042780     -0.192611    -0.470527 -0.185443  \n",
       "3       0.899215     -0.042780     -0.192611    -0.470527 -0.185443  \n",
       "4       0.810882     -0.042775     -0.192611    -0.470527  0.650042  "
      ]
     },
     "execution_count": 29,
     "metadata": {},
     "output_type": "execute_result"
    }
   ],
   "source": [
    "X_train_scale.head()"
   ]
  },
  {
   "cell_type": "code",
   "execution_count": 17,
   "id": "459fe5eb",
   "metadata": {},
   "outputs": [],
   "source": [
    "def perte(Montant):\n",
    "    if Montant<=20:\n",
    "        Montant=Montant*0\n",
    "    elif 20<Montant<=50:\n",
    "        Montant=0.2*Montant\n",
    "    elif 50<Montant<=100:\n",
    "        Montant=0.3*Montant\n",
    "    elif 100<Montant<=200:\n",
    "        Montant=0.5*Montant\n",
    "    elif Montant>200:\n",
    "        Montant=0.8*Montant\n",
    "    return(Montant)"
   ]
  },
  {
   "cell_type": "code",
   "execution_count": 18,
   "id": "72df024e",
   "metadata": {},
   "outputs": [],
   "source": [
    "def Calcul_Marge(Montant, yReel, yPred):\n",
    "    # Création de dfmerge\n",
    "    dfmerge = pd.concat([Montant, yReel], axis=1)\n",
    "    dfmerge[\"Ypred\"] = yPred\n",
    "    \n",
    "    # Création de la variable Marge\n",
    "    # Création d'une colonne Marge égale au Montant\n",
    "    dfmerge[\"Marge\"] = dfmerge[\"Montant\"]\n",
    "    #Calcul du gain ou de la perte selon la différence entre réel et prédiction\n",
    "    dfmerge.loc[((dfmerge[\"FlagImpaye\"] == 1) & (dfmerge[\"Ypred\"] == 1)), \"Marge\"] = 0\n",
    "    dfmerge.loc[((dfmerge[\"FlagImpaye\"] == 0) & (dfmerge[\"Ypred\"] == 1)), \"Marge\"] = 0.7 * 0.05 * dfmerge[\"Montant\"]\n",
    "    dfmerge.loc[((dfmerge[\"FlagImpaye\"] == 1) & (dfmerge[\"Ypred\"] == 0)), \"Marge\"] = dfmerge[\"Montant\"].apply(lambda x: -perte(x))\n",
    "    dfmerge.loc[((dfmerge[\"FlagImpaye\"] == 0) & (dfmerge[\"Ypred\"] == 0)), \"Marge\"] = 0.05 * dfmerge[\"Montant\"]\n",
    "    \n",
    "    # Calcul du Marge_totale\n",
    "    Marge_totale = dfmerge[\"Marge\"].sum()\n",
    "    \n",
    "    return Marge_totale"
   ]
  },
  {
   "cell_type": "code",
   "execution_count": 30,
   "id": "2a05136f",
   "metadata": {},
   "outputs": [],
   "source": [
    "# Création de la fonction de performance d'un modèle sur les données de test\n",
    "\n",
    "def performances(modele, X_test, y_test, scale):\n",
    "    \n",
    "    X_test_ = X_test\n",
    "    \n",
    "    print(\"-------------------------------------------------------\")\n",
    "    # Importation du modèle \n",
    "    #fichier = open(modele, \"rb\")\n",
    "    #modele = pickle.load(fichier)\n",
    "    #fichier.close()\n",
    "    \n",
    "    if scale == True:\n",
    "        X_test = mean_norm(X_test)\n",
    "        \n",
    "    # Affichage du modèle \n",
    "    print('Modèle :\\n', modele)\n",
    "    print(\"-------------------------------------------------------\")\n",
    "    # Prédiction\n",
    "    y_pred = modele.predict(X_test)\n",
    "    # Prédiction des scores\n",
    "    y_score = modele.predict_proba(X_test)\n",
    "    \n",
    "    # Estimateurs, matrice de confusion et AUC\n",
    "    cm = confusion_matrix(y_test, y_pred)\n",
    "    cr = classification_report(y_test, y_pred)\n",
    "    auc = roc_auc_score(y_test, y_pred)\n",
    "    f1 = f1_score(y_test, y_pred)\n",
    "   \n",
    "    print('F1_score :\\n', f1)\n",
    "    print(\"-------------------------------------------------------\")\n",
    "    print('Estimateurs :\\n', cr)\n",
    "    print(\"-------------------------------------------------------\")\n",
    "    print('Matrice de confusion :\\n', cm)\n",
    "    print(\"-------------------------------------------------------\")\n",
    "    print('Auc Score :\\n', auc)\n",
    "    print(\"-------------------------------------------------------\")\n",
    "    \n",
    "    #Calcul de la Marge\n",
    "    Marge_totale = Calcul_Marge(Montant = X_test_[\"Montant\"], yReel = y_test, yPred = y_pred)\n",
    "    print(\"Marge = \" + str(round(Marge_totale, 2)) + \" euros\")\n",
    "    \n",
    "    print(\"-------------------------------------------------------\")\n",
    "    \n",
    "    # Courbe ROC\n",
    "    skplt.metrics.plot_roc(y_test, y_score, classes_to_plot = 1, plot_micro = False, plot_macro = False)\n",
    "    # Courbe Précision-Rappel\n",
    "    skplt.metrics.plot_precision_recall(y_test, y_score, classes_to_plot = 1, plot_micro = False)\n",
    "\n",
    "    #return y_score,Marge_totale,auc,cr,cm"
   ]
  },
  {
   "cell_type": "code",
   "execution_count": null,
   "id": "8a11f320",
   "metadata": {},
   "outputs": [],
   "source": [
    "def experience(sampler,classifier,X_train,y_train,X_test,y_test):\n",
    "    X_res, y_res = sampler.fit_resample(X_train_scale, y_train)\n",
    "    clf = classifieur.fit(X_res, y_res)\n",
    "    performances(clf, X_test, y_test,scale=True)"
   ]
  },
  {
   "cell_type": "code",
   "execution_count": 20,
   "id": "fe24563b",
   "metadata": {},
   "outputs": [],
   "source": [
    "sampler=SMOTE(random_state=0)\n",
    "X_res, y_res = sampler.fit_resample(X_train_scale, y_train)"
   ]
  },
  {
   "cell_type": "code",
   "execution_count": 21,
   "id": "687ef154",
   "metadata": {},
   "outputs": [],
   "source": [
    "clf = LogisticRegression(solver='saga',random_state=0).fit(X_res, y_res)"
   ]
  },
  {
   "cell_type": "code",
   "execution_count": 31,
   "id": "12a90e3d",
   "metadata": {},
   "outputs": [
    {
     "name": "stdout",
     "output_type": "stream",
     "text": [
      "-------------------------------------------------------\n",
      "Modèle :\n",
      " LogisticRegression(random_state=0, solver='saga')\n",
      "-------------------------------------------------------\n",
      "F1_score :\n",
      " 0.029950350668497706\n",
      "-------------------------------------------------------\n",
      "Estimateurs :\n",
      "               precision    recall  f1-score   support\n",
      "\n",
      "           0       1.00      0.73      0.84   4616778\n",
      "           1       0.02      0.65      0.03     29995\n",
      "\n",
      "    accuracy                           0.73   4646773\n",
      "   macro avg       0.51      0.69      0.44   4646773\n",
      "weighted avg       0.99      0.73      0.84   4646773\n",
      "\n",
      "-------------------------------------------------------\n",
      "Matrice de confusion :\n",
      " [[3359974 1256804]\n",
      " [  10432   19563]]\n",
      "-------------------------------------------------------\n",
      "Auc Score :\n",
      " 0.6899916764748104\n",
      "-------------------------------------------------------\n",
      "Marge = 12062534.71 euros\n",
      "-------------------------------------------------------\n"
     ]
    },
    {
     "data": {
      "image/png": "[encoded data removed]",
      "text/plain": [
       "<Figure size 432x288 with 1 Axes>"
      ]
     },
     "metadata": {
      "needs_background": "light"
     },
     "output_type": "display_data"
    },
    {
     "data": {
      "image/png": "[encoded data removed]",
      "text/plain": [
       "<Figure size 432x288 with 1 Axes>"
      ]
     },
     "metadata": {
      "needs_background": "light"
     },
     "output_type": "display_data"
    }
   ],
   "source": [
    "performances(clf, X_test, y_test,scale=True)"
   ]
  },
  {
   "cell_type": "markdown",
   "id": "c057f620",
   "metadata": {},
   "source": [
    "**Modifier le seuil d'affectation**"
   ]
  },
  {
   "cell_type": "code",
   "execution_count": 33,
   "id": "81639a1d",
   "metadata": {},
   "outputs": [],
   "source": [
    "from numpy import arange\n",
    "from numpy import argmax"
   ]
  },
  {
   "cell_type": "code",
   "execution_count": 34,
   "id": "e99b434b",
   "metadata": {},
   "outputs": [],
   "source": [
    "# apply threshold to positive probabilities to create labels\n",
    "def to_labels(pos_probs, threshold):\n",
    " return (pos_probs >= threshold).astype('int')"
   ]
  },
  {
   "cell_type": "code",
   "execution_count": 38,
   "id": "a7353ba4",
   "metadata": {},
   "outputs": [],
   "source": [
    "def modif_seuil(classifier,X_test_scale,y_test):\n",
    "    # predict probabilities\n",
    "    yhat = classifier.predict_proba(X_test_scale)\n",
    "    # keep probabilities for the positive outcome only\n",
    "    probs = yhat[:, 1]\n",
    "    # define thresholds\n",
    "    thresholds = arange(0.1, 1, 0.1)\n",
    "    # evaluate each threshold\n",
    "    scores = [f1_score(y_test, to_labels(probs, t)) for t in thresholds]\n",
    "    # get best threshold\n",
    "    ix = argmax(scores)\n",
    "    s=('Threshold=%.3f, F-Score=%.5f' % (thresholds[ix], scores[ix]))\n",
    "    return s"
   ]
  },
  {
   "cell_type": "code",
   "execution_count": 39,
   "id": "5358f2c9",
   "metadata": {},
   "outputs": [
    {
     "data": {
      "text/plain": [
       "'Threshold=0.900, F-Score=0.10882'"
      ]
     },
     "execution_count": 39,
     "metadata": {},
     "output_type": "execute_result"
    }
   ],
   "source": [
    "modif_seuil(clf,mean_norm(X_test),y_test)"
   ]
  },
  {
   "cell_type": "code",
   "execution_count": 41,
   "id": "99ec47c6",
   "metadata": {},
   "outputs": [
    {
     "name": "stdout",
     "output_type": "stream",
     "text": [
      "-------------------------------------------------------\n",
      "Modèle :\n",
      " LogisticRegression(random_state=0, solver='saga')\n",
      "-------------------------------------------------------\n",
      "F1_score :\n",
      " 0.028957004897883745\n",
      "-------------------------------------------------------\n",
      "Estimateurs :\n",
      "               precision    recall  f1-score   support\n",
      "\n",
      "           0       1.00      0.71      0.83   4616778\n",
      "           1       0.01      0.67      0.03     29995\n",
      "\n",
      "    accuracy                           0.71   4646773\n",
      "   macro avg       0.51      0.69      0.43   4646773\n",
      "weighted avg       0.99      0.71      0.82   4646773\n",
      "\n",
      "-------------------------------------------------------\n",
      "Matrice de confusion :\n",
      " [[3281739 1335039]\n",
      " [   9941   20054]]\n",
      "-------------------------------------------------------\n",
      "Auc Score :\n",
      " 0.689703473559672\n",
      "-------------------------------------------------------\n",
      "Marge = 11999926.51 euros\n",
      "-------------------------------------------------------\n"
     ]
    },
    {
     "data": {
      "image/png": "[encoded data removed]",
      "text/plain": [
       "<Figure size 432x288 with 1 Axes>"
      ]
     },
     "metadata": {
      "needs_background": "light"
     },
     "output_type": "display_data"
    },
    {
     "data": {
      "image/png": "[encoded data removed]",
      "text/plain": [
       "<Figure size 432x288 with 1 Axes>"
      ]
     },
     "metadata": {
      "needs_background": "light"
     },
     "output_type": "display_data"
    }
   ],
   "source": [
    "sampler1=SMOTEENN(random_state=0)\n",
    "X_res1, y_res1 = sampler1.fit_resample(X_train_scale, y_train)\n",
    "clf1 = LogisticRegression(solver='saga',random_state=0).fit(X_res1, y_res1)\n",
    "performances(clf1, X_test, y_test,scale=True)"
   ]
  },
  {
   "cell_type": "code",
   "execution_count": 42,
   "id": "fd47e6bd",
   "metadata": {},
   "outputs": [
    {
     "name": "stdout",
     "output_type": "stream",
     "text": [
      "-------------------------------------------------------\n",
      "Modèle :\n",
      " LogisticRegression(random_state=0, solver='saga')\n",
      "-------------------------------------------------------\n",
      "F1_score :\n",
      " 0.029365106900652485\n",
      "-------------------------------------------------------\n",
      "Estimateurs :\n",
      "               precision    recall  f1-score   support\n",
      "\n",
      "           0       1.00      0.72      0.83   4616778\n",
      "           1       0.02      0.66      0.03     29995\n",
      "\n",
      "    accuracy                           0.72   4646773\n",
      "   macro avg       0.51      0.69      0.43   4646773\n",
      "weighted avg       0.99      0.72      0.83   4646773\n",
      "\n",
      "-------------------------------------------------------\n",
      "Matrice de confusion :\n",
      " [[3311994 1304784]\n",
      " [  10105   19890]]\n",
      "-------------------------------------------------------\n",
      "Auc Score :\n",
      " 0.6902463203785015\n",
      "-------------------------------------------------------\n",
      "Marge = 12032083.94 euros\n",
      "-------------------------------------------------------\n"
     ]
    },
    {
     "data": {
      "image/png": "[encoded data removed]",
      "text/plain": [
       "<Figure size 432x288 with 1 Axes>"
      ]
     },
     "metadata": {
      "needs_background": "light"
     },
     "output_type": "display_data"
    },
    {
     "data": {
      "image/png": "[encoded data removed]",
      "text/plain": [
       "<Figure size 432x288 with 1 Axes>"
      ]
     },
     "metadata": {
      "needs_background": "light"
     },
     "output_type": "display_data"
    }
   ],
   "source": [
    "sampler2=ADASYN(random_state=0)\n",
    "X_res2, y_res2 = sampler2.fit_resample(X_train_scale, y_train)\n",
    "clf2 = LogisticRegression(solver='saga',random_state=0).fit(X_res2, y_res2)\n",
    "performances(clf2, X_test, y_test,scale=True)"
   ]
  },
  {
   "cell_type": "code",
   "execution_count": 44,
   "id": "901ec6a5",
   "metadata": {},
   "outputs": [
    {
     "data": {
      "text/plain": [
       "'Threshold=0.900, F-Score=0.10699'"
      ]
     },
     "execution_count": 44,
     "metadata": {},
     "output_type": "execute_result"
    }
   ],
   "source": [
    "modif_seuil(clf2,mean_norm(X_test),y_test)"
   ]
  },
  {
   "cell_type": "code",
   "execution_count": 54,
   "id": "540dc606",
   "metadata": {},
   "outputs": [],
   "source": [
    "start = time.time()"
   ]
  },
  {
   "cell_type": "code",
   "execution_count": null,
   "id": "eb39a35d",
   "metadata": {},
   "outputs": [],
   "source": [
    "sampler3=OneSidedSelection(random_state=0)\n",
    "X_res3, y_res3 = sampler3.fit_resample(X_train_scale, y_train)\n",
    "clf3 = LogisticRegression(solver='saga',random_state=0).fit(X_res3, y_res3)\n",
    "performances(clf3, X_test, y_test,scale=True)"
   ]
  },
  {
   "cell_type": "code",
   "execution_count": null,
   "id": "2ef5c501",
   "metadata": {},
   "outputs": [],
   "source": [
    "end = time.time()\n",
    "elapsed = end - start\n",
    "\n",
    "print(f'Temps d\\'exécution : {elapsed:.2}ms')"
   ]
  },
  {
   "cell_type": "code",
   "execution_count": null,
   "id": "9984c173",
   "metadata": {},
   "outputs": [],
   "source": [
    "sampler4=SMOTETomek(random_state=0)\n",
    "classifier4=LogisticRegression(solver='saga',random_state=0)\n",
    "experience(sampler4,classifier4,X_train_sclae,y_train,X_test,y_test)"
   ]
  },
  {
   "cell_type": "code",
   "execution_count": null,
   "id": "04dd3981",
   "metadata": {},
   "outputs": [],
   "source": []
  }
 ],
 "metadata": {
  "kernelspec": {
   "display_name": "Python 3 (ipykernel)",
   "language": "python",
   "name": "python3"
  },
  "language_info": {
   "codemirror_mode": {
    "name": "ipython",
    "version": 3
   },
   "file_extension": ".py",
   "mimetype": "text/x-python",
   "name": "python",
   "nbconvert_exporter": "python",
   "pygments_lexer": "ipython3",
   "version": "3.9.12"
  }
 },
 "nbformat": 4,
 "nbformat_minor": 5
}
