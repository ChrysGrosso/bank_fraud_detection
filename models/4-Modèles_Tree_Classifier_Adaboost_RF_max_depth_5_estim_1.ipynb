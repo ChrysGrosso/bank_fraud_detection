{
 "cells": [
  {
   "cell_type": "markdown",
   "id": "584d780f",
   "metadata": {},
   "source": [
    "# Modèles basés sur des arbres en classifieurs faibles\n",
    "   Méthode de recalibrage : bordeline SMOTE (augmentation de la classe minoritaire à 50%). Paramètres : k=3 ; m=2.\n",
    "   \n",
    "# Partie 4 : contrôle de la profondeur de l'arbre : 5  et réduction du nombre d'arbres à 1 (nb_estimators=1)"
   ]
  },
  {
   "cell_type": "markdown",
   "id": "70058773",
   "metadata": {},
   "source": [
    "**(1) Importation des librairies**"
   ]
  },
  {
   "cell_type": "code",
   "execution_count": 1,
   "id": "b55f6234",
   "metadata": {},
   "outputs": [],
   "source": [
    "import os\n",
    "import pandas as pd\n",
    "import numpy as np\n",
    "import dask.dataframe as dd\n",
    "import matplotlib.pyplot as plt\n",
    "import sys \n",
    "import fastparquet\n",
    "import dask_ml \n",
    "from dask import delayed\n",
    "from sklearn.metrics import *\n",
    "import scikitplot as skplt\n",
    "from dask_ml.preprocessing import StandardScaler\n",
    "import pickle"
   ]
  },
  {
   "cell_type": "markdown",
   "id": "2a735a7a",
   "metadata": {},
   "source": [
    "**(2) Import des algorithmes random forest, adaboost, Extrème Gradient Boosting**\n",
    "\n",
    "**random forest** :  plusieurs arbres sont créés et chaque arbre est formé sur un échantillon du jeu d’entraînement avec bagging.\n",
    "\n",
    "**adaboost** : avantages (1) simple d'utilisation (2) convergence de l'erreur d'entraînement / faible risque de sur-apprentissage. Principe : repose sur la sélection itérative du classifieur faible (un arbre) en fonction d'une distribution des exemples d'apprentissage. Chaque exemple est pondéré en fonction de sa difficulté avec le classifieur courant.\n",
    "\n",
    "**XGBoost(extreme gradient boosting)** : Cette méthode repose sur les arbres de décision et s'améliore à partir d'autres méthodes telles que la forêt aléatoire. Elle est efficace avec les jeux de données volumineux et complexes en faisant appel à diverses méthodes d'optimisation. "
   ]
  },
  {
   "cell_type": "code",
   "execution_count": 2,
   "id": "f153a2cb",
   "metadata": {},
   "outputs": [
    {
     "name": "stderr",
     "output_type": "stream",
     "text": [
      "C:\\Users\\chrys\\anaconda3\\lib\\site-packages\\dask_xgboost\\__init__.py:7: UserWarning: Dask-XGBoost has been deprecated and is no longer maintained. The functionality of this project has been included directly in XGBoost. To use Dask and XGBoost together, please use ``xgboost.dask`` instead https://xgboost.readthedocs.io/en/latest/tutorials/dask.html.\n",
      "  warnings.warn(\n"
     ]
    }
   ],
   "source": [
    "from sklearn.ensemble import RandomForestClassifier\n",
    "from sklearn.tree import DecisionTreeClassifier\n",
    "from sklearn.ensemble import AdaBoostClassifier\n",
    "\n",
    "import dask\n",
    "import dask\n",
    "import xgboost\n",
    "import dask_xgboost"
   ]
  },
  {
   "cell_type": "code",
   "execution_count": 3,
   "id": "bd468338",
   "metadata": {},
   "outputs": [],
   "source": [
    "#pip install dask.ml"
   ]
  },
  {
   "cell_type": "code",
   "execution_count": 4,
   "id": "0bbe588f",
   "metadata": {},
   "outputs": [],
   "source": [
    "#pip install scikit-plot"
   ]
  },
  {
   "cell_type": "markdown",
   "id": "aba3a5fb",
   "metadata": {},
   "source": [
    "# I. Préparation"
   ]
  },
  {
   "cell_type": "markdown",
   "id": "f6bd2673",
   "metadata": {},
   "source": [
    "**(1) variables explicatives, variable à prédire et centrage-réduction**"
   ]
  },
  {
   "cell_type": "code",
   "execution_count": 5,
   "id": "a9ad043b",
   "metadata": {},
   "outputs": [],
   "source": [
    "import os\n",
    "os.chdir(\"C:/Fouille-donnees-massives\")"
   ]
  },
  {
   "cell_type": "code",
   "execution_count": 6,
   "id": "74bac687",
   "metadata": {},
   "outputs": [
    {
     "name": "stdout",
     "output_type": "stream",
     "text": [
      "<class 'dask.dataframe.core.DataFrame'>\n",
      "Columns: 12 entries, Montant to FlagImpaye\n",
      "dtypes: float64(7), int64(5)"
     ]
    }
   ],
   "source": [
    "# Dataframe d’apprentissage recalibré avec borderline SMOTE (k=3 ; k'=2)\n",
    "df_train = dd.read_parquet(\"train_borderS\")\n",
    "df_train.info()"
   ]
  },
  {
   "cell_type": "code",
   "execution_count": 7,
   "id": "53232750",
   "metadata": {},
   "outputs": [
    {
     "data": {
      "text/html": [
       "<div>\n",
       "<style scoped>\n",
       "    .dataframe tbody tr th:only-of-type {\n",
       "        vertical-align: middle;\n",
       "    }\n",
       "\n",
       "    .dataframe tbody tr th {\n",
       "        vertical-align: top;\n",
       "    }\n",
       "\n",
       "    .dataframe thead th {\n",
       "        text-align: right;\n",
       "    }\n",
       "</style>\n",
       "<table border=\"1\" class=\"dataframe\">\n",
       "  <thead>\n",
       "    <tr style=\"text-align: right;\">\n",
       "      <th></th>\n",
       "      <th>FlagImpaye</th>\n",
       "      <th>Montant</th>\n",
       "      <th>VerifianceCPT1</th>\n",
       "      <th>D2CB</th>\n",
       "      <th>ScoringFP1</th>\n",
       "      <th>ScoringFP2</th>\n",
       "      <th>ScoringFP3</th>\n",
       "      <th>TauxImpNB_CPM</th>\n",
       "      <th>EcartNumCheq</th>\n",
       "      <th>NbrMagasin3J</th>\n",
       "      <th>DiffDateTr3</th>\n",
       "      <th>CA3TR</th>\n",
       "    </tr>\n",
       "  </thead>\n",
       "  <tbody>\n",
       "    <tr>\n",
       "      <th>3899362</th>\n",
       "      <td>0</td>\n",
       "      <td>60.00</td>\n",
       "      <td>0</td>\n",
       "      <td>302</td>\n",
       "      <td>0.000000</td>\n",
       "      <td>0.000000</td>\n",
       "      <td>0.000000</td>\n",
       "      <td>52.076034</td>\n",
       "      <td>0</td>\n",
       "      <td>1</td>\n",
       "      <td>4.000000</td>\n",
       "      <td>0.00</td>\n",
       "    </tr>\n",
       "    <tr>\n",
       "      <th>3899363</th>\n",
       "      <td>0</td>\n",
       "      <td>25.00</td>\n",
       "      <td>0</td>\n",
       "      <td>547</td>\n",
       "      <td>0.000000</td>\n",
       "      <td>0.000000</td>\n",
       "      <td>0.000000</td>\n",
       "      <td>52.076034</td>\n",
       "      <td>0</td>\n",
       "      <td>1</td>\n",
       "      <td>4.000000</td>\n",
       "      <td>0.00</td>\n",
       "    </tr>\n",
       "    <tr>\n",
       "      <th>3899364</th>\n",
       "      <td>0</td>\n",
       "      <td>32.00</td>\n",
       "      <td>0</td>\n",
       "      <td>152</td>\n",
       "      <td>0.000000</td>\n",
       "      <td>0.000000</td>\n",
       "      <td>0.000000</td>\n",
       "      <td>52.076034</td>\n",
       "      <td>0</td>\n",
       "      <td>1</td>\n",
       "      <td>4.000000</td>\n",
       "      <td>0.00</td>\n",
       "    </tr>\n",
       "    <tr>\n",
       "      <th>3899365</th>\n",
       "      <td>0</td>\n",
       "      <td>20.88</td>\n",
       "      <td>0</td>\n",
       "      <td>393</td>\n",
       "      <td>0.007590</td>\n",
       "      <td>0.182221</td>\n",
       "      <td>0.002092</td>\n",
       "      <td>34.118277</td>\n",
       "      <td>4</td>\n",
       "      <td>1</td>\n",
       "      <td>1.539155</td>\n",
       "      <td>71.51</td>\n",
       "    </tr>\n",
       "    <tr>\n",
       "      <th>3899366</th>\n",
       "      <td>0</td>\n",
       "      <td>20.21</td>\n",
       "      <td>0</td>\n",
       "      <td>152</td>\n",
       "      <td>0.018994</td>\n",
       "      <td>-1.024399</td>\n",
       "      <td>0.005682</td>\n",
       "      <td>52.076034</td>\n",
       "      <td>0</td>\n",
       "      <td>1</td>\n",
       "      <td>4.000000</td>\n",
       "      <td>0.00</td>\n",
       "    </tr>\n",
       "  </tbody>\n",
       "</table>\n",
       "</div>"
      ],
      "text/plain": [
       "         FlagImpaye  Montant  VerifianceCPT1  D2CB  ScoringFP1  ScoringFP2  \\\n",
       "3899362           0    60.00               0   302    0.000000    0.000000   \n",
       "3899363           0    25.00               0   547    0.000000    0.000000   \n",
       "3899364           0    32.00               0   152    0.000000    0.000000   \n",
       "3899365           0    20.88               0   393    0.007590    0.182221   \n",
       "3899366           0    20.21               0   152    0.018994   -1.024399   \n",
       "\n",
       "         ScoringFP3  TauxImpNB_CPM  EcartNumCheq  NbrMagasin3J  DiffDateTr3  \\\n",
       "3899362    0.000000      52.076034             0             1     4.000000   \n",
       "3899363    0.000000      52.076034             0             1     4.000000   \n",
       "3899364    0.000000      52.076034             0             1     4.000000   \n",
       "3899365    0.002092      34.118277             4             1     1.539155   \n",
       "3899366    0.005682      52.076034             0             1     4.000000   \n",
       "\n",
       "         CA3TR  \n",
       "3899362   0.00  \n",
       "3899363   0.00  \n",
       "3899364   0.00  \n",
       "3899365  71.51  \n",
       "3899366   0.00  "
      ]
     },
     "execution_count": 7,
     "metadata": {},
     "output_type": "execute_result"
    }
   ],
   "source": [
    "# Dataframe de test\n",
    "df_test = dd.read_parquet(\"test_fast\")\n",
    "df_test.head()"
   ]
  },
  {
   "cell_type": "code",
   "execution_count": 8,
   "id": "4d3a9f02",
   "metadata": {},
   "outputs": [],
   "source": [
    "# Définir les variables explicatives et la variable cible \n",
    "X_train = df_train.drop([\"FlagImpaye\"], axis = \"columns\")\n",
    "X_test = df_test.drop([\"FlagImpaye\"], axis = \"columns\")\n",
    "\n",
    "y_train = df_train[\"FlagImpaye\"]\n",
    "y_test = df_test[\"FlagImpaye\"]"
   ]
  },
  {
   "cell_type": "code",
   "execution_count": 9,
   "id": "731d3d1b",
   "metadata": {},
   "outputs": [
    {
     "name": "stdout",
     "output_type": "stream",
     "text": [
      "<class 'dask.dataframe.core.DataFrame'>\n",
      "Columns: 11 entries, Montant to CA3TR\n",
      "dtypes: float64(7), int64(4)"
     ]
    }
   ],
   "source": [
    "X_train.info()"
   ]
  },
  {
   "cell_type": "code",
   "execution_count": 10,
   "id": "9d97dd18",
   "metadata": {},
   "outputs": [],
   "source": [
    "# Instanciation de StandardScaler pour centrer-réduire les données\n",
    "scaler = StandardScaler()"
   ]
  },
  {
   "cell_type": "code",
   "execution_count": 11,
   "id": "027f11af",
   "metadata": {},
   "outputs": [
    {
     "data": {
      "text/html": [
       "<div>\n",
       "<style scoped>\n",
       "    .dataframe tbody tr th:only-of-type {\n",
       "        vertical-align: middle;\n",
       "    }\n",
       "\n",
       "    .dataframe tbody tr th {\n",
       "        vertical-align: top;\n",
       "    }\n",
       "\n",
       "    .dataframe thead th {\n",
       "        text-align: right;\n",
       "    }\n",
       "</style>\n",
       "<table border=\"1\" class=\"dataframe\">\n",
       "  <thead>\n",
       "    <tr style=\"text-align: right;\">\n",
       "      <th></th>\n",
       "      <th>Montant</th>\n",
       "      <th>VerifianceCPT1</th>\n",
       "      <th>D2CB</th>\n",
       "      <th>ScoringFP1</th>\n",
       "      <th>ScoringFP2</th>\n",
       "      <th>ScoringFP3</th>\n",
       "      <th>TauxImpNB_CPM</th>\n",
       "      <th>EcartNumCheq</th>\n",
       "      <th>NbrMagasin3J</th>\n",
       "      <th>DiffDateTr3</th>\n",
       "      <th>CA3TR</th>\n",
       "    </tr>\n",
       "  </thead>\n",
       "  <tbody>\n",
       "    <tr>\n",
       "      <th>0</th>\n",
       "      <td>-0.513979</td>\n",
       "      <td>-0.637594</td>\n",
       "      <td>1.268576</td>\n",
       "      <td>-0.118636</td>\n",
       "      <td>0.091466</td>\n",
       "      <td>-0.264064</td>\n",
       "      <td>0.629959</td>\n",
       "      <td>-0.047307</td>\n",
       "      <td>-0.191723</td>\n",
       "      <td>-0.430768</td>\n",
       "      <td>-0.187944</td>\n",
       "    </tr>\n",
       "    <tr>\n",
       "      <th>1</th>\n",
       "      <td>-0.513979</td>\n",
       "      <td>-0.637594</td>\n",
       "      <td>1.268576</td>\n",
       "      <td>-0.118636</td>\n",
       "      <td>0.091466</td>\n",
       "      <td>-0.264064</td>\n",
       "      <td>0.629959</td>\n",
       "      <td>-0.047302</td>\n",
       "      <td>4.691334</td>\n",
       "      <td>-0.430768</td>\n",
       "      <td>-0.094289</td>\n",
       "    </tr>\n",
       "    <tr>\n",
       "      <th>2</th>\n",
       "      <td>-0.169118</td>\n",
       "      <td>-0.637594</td>\n",
       "      <td>1.259694</td>\n",
       "      <td>-0.118636</td>\n",
       "      <td>0.091466</td>\n",
       "      <td>-0.264064</td>\n",
       "      <td>0.629959</td>\n",
       "      <td>-0.047307</td>\n",
       "      <td>-0.191723</td>\n",
       "      <td>-0.430768</td>\n",
       "      <td>-0.187944</td>\n",
       "    </tr>\n",
       "    <tr>\n",
       "      <th>3</th>\n",
       "      <td>-0.199811</td>\n",
       "      <td>1.157893</td>\n",
       "      <td>0.007401</td>\n",
       "      <td>-0.118636</td>\n",
       "      <td>0.091466</td>\n",
       "      <td>-0.264064</td>\n",
       "      <td>0.719130</td>\n",
       "      <td>-0.047307</td>\n",
       "      <td>-0.191723</td>\n",
       "      <td>-0.430768</td>\n",
       "      <td>-0.187944</td>\n",
       "    </tr>\n",
       "    <tr>\n",
       "      <th>4</th>\n",
       "      <td>-0.450761</td>\n",
       "      <td>-0.637594</td>\n",
       "      <td>1.259694</td>\n",
       "      <td>-0.118561</td>\n",
       "      <td>0.890092</td>\n",
       "      <td>-0.262793</td>\n",
       "      <td>0.629959</td>\n",
       "      <td>-0.047302</td>\n",
       "      <td>-0.191723</td>\n",
       "      <td>-0.430768</td>\n",
       "      <td>0.162853</td>\n",
       "    </tr>\n",
       "  </tbody>\n",
       "</table>\n",
       "</div>"
      ],
      "text/plain": [
       "    Montant  VerifianceCPT1      D2CB  ScoringFP1  ScoringFP2  ScoringFP3  \\\n",
       "0 -0.513979       -0.637594  1.268576   -0.118636    0.091466   -0.264064   \n",
       "1 -0.513979       -0.637594  1.268576   -0.118636    0.091466   -0.264064   \n",
       "2 -0.169118       -0.637594  1.259694   -0.118636    0.091466   -0.264064   \n",
       "3 -0.199811        1.157893  0.007401   -0.118636    0.091466   -0.264064   \n",
       "4 -0.450761       -0.637594  1.259694   -0.118561    0.890092   -0.262793   \n",
       "\n",
       "   TauxImpNB_CPM  EcartNumCheq  NbrMagasin3J  DiffDateTr3     CA3TR  \n",
       "0       0.629959     -0.047307     -0.191723    -0.430768 -0.187944  \n",
       "1       0.629959     -0.047302      4.691334    -0.430768 -0.094289  \n",
       "2       0.629959     -0.047307     -0.191723    -0.430768 -0.187944  \n",
       "3       0.719130     -0.047307     -0.191723    -0.430768 -0.187944  \n",
       "4       0.629959     -0.047302     -0.191723    -0.430768  0.162853  "
      ]
     },
     "execution_count": 11,
     "metadata": {},
     "output_type": "execute_result"
    }
   ],
   "source": [
    "# Centrer-réduire le dataframe d'apprentissage\n",
    "X_train = scaler.fit_transform(X_train)\n",
    "X_train.head()"
   ]
  },
  {
   "cell_type": "code",
   "execution_count": 12,
   "id": "1839cff4",
   "metadata": {},
   "outputs": [
    {
     "data": {
      "text/html": [
       "<div>\n",
       "<style scoped>\n",
       "    .dataframe tbody tr th:only-of-type {\n",
       "        vertical-align: middle;\n",
       "    }\n",
       "\n",
       "    .dataframe tbody tr th {\n",
       "        vertical-align: top;\n",
       "    }\n",
       "\n",
       "    .dataframe thead th {\n",
       "        text-align: right;\n",
       "    }\n",
       "</style>\n",
       "<table border=\"1\" class=\"dataframe\">\n",
       "  <thead>\n",
       "    <tr style=\"text-align: right;\">\n",
       "      <th></th>\n",
       "      <th>Montant</th>\n",
       "      <th>VerifianceCPT1</th>\n",
       "      <th>D2CB</th>\n",
       "      <th>ScoringFP1</th>\n",
       "      <th>ScoringFP2</th>\n",
       "      <th>ScoringFP3</th>\n",
       "      <th>TauxImpNB_CPM</th>\n",
       "      <th>EcartNumCheq</th>\n",
       "      <th>NbrMagasin3J</th>\n",
       "      <th>DiffDateTr3</th>\n",
       "      <th>CA3TR</th>\n",
       "    </tr>\n",
       "  </thead>\n",
       "  <tbody>\n",
       "    <tr>\n",
       "      <th>3899362</th>\n",
       "      <td>-0.016999</td>\n",
       "      <td>0.0</td>\n",
       "      <td>0.265719</td>\n",
       "      <td>-0.080269</td>\n",
       "      <td>-0.043960</td>\n",
       "      <td>-0.317899</td>\n",
       "      <td>0.774799</td>\n",
       "      <td>-0.036921</td>\n",
       "      <td>-0.18432</td>\n",
       "      <td>-0.568544</td>\n",
       "      <td>-0.132257</td>\n",
       "    </tr>\n",
       "    <tr>\n",
       "      <th>3899363</th>\n",
       "      <td>-0.277531</td>\n",
       "      <td>0.0</td>\n",
       "      <td>1.427785</td>\n",
       "      <td>-0.080269</td>\n",
       "      <td>-0.043960</td>\n",
       "      <td>-0.317899</td>\n",
       "      <td>0.774799</td>\n",
       "      <td>-0.036921</td>\n",
       "      <td>-0.18432</td>\n",
       "      <td>-0.568544</td>\n",
       "      <td>-0.132257</td>\n",
       "    </tr>\n",
       "    <tr>\n",
       "      <th>3899364</th>\n",
       "      <td>-0.225425</td>\n",
       "      <td>0.0</td>\n",
       "      <td>-0.445750</td>\n",
       "      <td>-0.080269</td>\n",
       "      <td>-0.043960</td>\n",
       "      <td>-0.317899</td>\n",
       "      <td>0.774799</td>\n",
       "      <td>-0.036921</td>\n",
       "      <td>-0.18432</td>\n",
       "      <td>-0.568544</td>\n",
       "      <td>-0.132257</td>\n",
       "    </tr>\n",
       "    <tr>\n",
       "      <th>3899365</th>\n",
       "      <td>-0.308200</td>\n",
       "      <td>0.0</td>\n",
       "      <td>0.697344</td>\n",
       "      <td>-0.080074</td>\n",
       "      <td>-0.023966</td>\n",
       "      <td>-0.314458</td>\n",
       "      <td>-0.277090</td>\n",
       "      <td>-0.036897</td>\n",
       "      <td>-0.18432</td>\n",
       "      <td>-5.906429</td>\n",
       "      <td>1.259186</td>\n",
       "    </tr>\n",
       "    <tr>\n",
       "      <th>3899366</th>\n",
       "      <td>-0.313187</td>\n",
       "      <td>0.0</td>\n",
       "      <td>-0.445750</td>\n",
       "      <td>-0.079781</td>\n",
       "      <td>-0.156360</td>\n",
       "      <td>-0.308551</td>\n",
       "      <td>0.774799</td>\n",
       "      <td>-0.036921</td>\n",
       "      <td>-0.18432</td>\n",
       "      <td>-0.568544</td>\n",
       "      <td>-0.132257</td>\n",
       "    </tr>\n",
       "  </tbody>\n",
       "</table>\n",
       "</div>"
      ],
      "text/plain": [
       "          Montant  VerifianceCPT1      D2CB  ScoringFP1  ScoringFP2  \\\n",
       "3899362 -0.016999             0.0  0.265719   -0.080269   -0.043960   \n",
       "3899363 -0.277531             0.0  1.427785   -0.080269   -0.043960   \n",
       "3899364 -0.225425             0.0 -0.445750   -0.080269   -0.043960   \n",
       "3899365 -0.308200             0.0  0.697344   -0.080074   -0.023966   \n",
       "3899366 -0.313187             0.0 -0.445750   -0.079781   -0.156360   \n",
       "\n",
       "         ScoringFP3  TauxImpNB_CPM  EcartNumCheq  NbrMagasin3J  DiffDateTr3  \\\n",
       "3899362   -0.317899       0.774799     -0.036921      -0.18432    -0.568544   \n",
       "3899363   -0.317899       0.774799     -0.036921      -0.18432    -0.568544   \n",
       "3899364   -0.317899       0.774799     -0.036921      -0.18432    -0.568544   \n",
       "3899365   -0.314458      -0.277090     -0.036897      -0.18432    -5.906429   \n",
       "3899366   -0.308551       0.774799     -0.036921      -0.18432    -0.568544   \n",
       "\n",
       "            CA3TR  \n",
       "3899362 -0.132257  \n",
       "3899363 -0.132257  \n",
       "3899364 -0.132257  \n",
       "3899365  1.259186  \n",
       "3899366 -0.132257  "
      ]
     },
     "execution_count": 12,
     "metadata": {},
     "output_type": "execute_result"
    }
   ],
   "source": [
    "# Centrer-réduire les dataframe de test\n",
    "X_test = scaler.fit_transform(X_test)\n",
    "X_test.head()"
   ]
  },
  {
   "cell_type": "markdown",
   "id": "738077ac",
   "metadata": {},
   "source": [
    "**(2) Maximisation de la marge**"
   ]
  },
  {
   "cell_type": "code",
   "execution_count": 13,
   "id": "3ac9ff89",
   "metadata": {},
   "outputs": [],
   "source": [
    "def perte(Montant):\n",
    "    if Montant<=20:\n",
    "        Montant=Montant*0\n",
    "    elif 20<Montant<=50:\n",
    "        Montant=0.2*Montant\n",
    "    elif 50<Montant<=100:\n",
    "        Montant=0.3*Montant\n",
    "    elif 100<Montant<=200:\n",
    "        Montant=0.5*Montant\n",
    "    elif Montant>200:\n",
    "        Montant=0.8*Montant\n",
    "    return(Montant)"
   ]
  },
  {
   "cell_type": "code",
   "execution_count": 14,
   "id": "e3d7dab7",
   "metadata": {},
   "outputs": [],
   "source": [
    "def Calcul_Marge(Montant, yReel, yPred):\n",
    "    # Création de dfmerge\n",
    "    dfmerge = pd.concat([Montant, yReel], axis=1)\n",
    "    dfmerge[\"Ypred\"] = yPred\n",
    "    \n",
    "    # Création de la variable Marge\n",
    "    # Création d'une colonne Marge égale au Montant\n",
    "    dfmerge[\"Marge\"] = dfmerge[\"Montant\"]\n",
    "    #Calcul du gain ou de la perte selon la différence entre réel et prédiction\n",
    "    dfmerge.loc[((dfmerge[\"FlagImpaye\"] == 1) & (dfmerge[\"Ypred\"] == 1)), \"Marge\"] = 0\n",
    "    dfmerge.loc[((dfmerge[\"FlagImpaye\"] == 0) & (dfmerge[\"Ypred\"] == 1)), \"Marge\"] = 0.7 * 0.05 * dfmerge[\"Montant\"]\n",
    "    dfmerge.loc[((dfmerge[\"FlagImpaye\"] == 1) & (dfmerge[\"Ypred\"] == 0)), \"Marge\"] = dfmerge[\"Montant\"].apply(lambda x: -perte(x))\n",
    "    dfmerge.loc[((dfmerge[\"FlagImpaye\"] == 0) & (dfmerge[\"Ypred\"] == 0)), \"Marge\"] = 0.05 * dfmerge[\"Montant\"]\n",
    "    \n",
    "    # Calcul du Marge_totale\n",
    "    Marge_totale = dfmerge[\"Marge\"].sum()\n",
    "    \n",
    "    return Marge_totale"
   ]
  },
  {
   "cell_type": "markdown",
   "id": "086d65fa",
   "metadata": {},
   "source": [
    "**(3) Modèles et performances**"
   ]
  },
  {
   "cell_type": "code",
   "execution_count": 15,
   "id": "86ae0095",
   "metadata": {},
   "outputs": [],
   "source": [
    "# Fonction de déploiement d'un modèle sur les données de test\n",
    "\n",
    "# Création de la fonction de performance d'un modèle sur les données de test\n",
    "\n",
    "def performances(modele, X_test, y_test, scale):\n",
    "    \n",
    "    X_test_ = X_test\n",
    "    \n",
    "    print(\"-------------------------------------------------------\")\n",
    "   \n",
    "    \n",
    "    if scale == True:\n",
    "        X_test = scaler.transform(X_test) # scaler a été entrainé sur les données d'apprentissage\n",
    "        \n",
    "    # Affichage du modèle \n",
    "    print('Modèle :\\n', modele)\n",
    "    print(\"-------------------------------------------------------\")\n",
    "    # Prédiction\n",
    "    y_pred = delayed(modele.predict)(X_test).compute()\n",
    "    # Prédiction des scores\n",
    "    y_score = delayed(modele.predict_proba)(X_test).compute()\n",
    "    \n",
    "    # Estimateurs, matrice de confusion et AUC\n",
    "    cm = delayed(confusion_matrix)(y_test, y_pred).compute()\n",
    "    cr = delayed(classification_report)(y_test, y_pred).compute()\n",
    "    auc = delayed(roc_auc_score)(y_test, y_pred).compute()\n",
    "    f1 = delayed(f1_score)(y_test, y_pred).compute()\n",
    "   \n",
    "    print('F1_score :\\n', f1)\n",
    "    print(\"-------------------------------------------------------\")\n",
    "    print('Estimateurs :\\n', cr)\n",
    "    print(\"-------------------------------------------------------\")\n",
    "    print('Matrice de confusion :\\n', cm)\n",
    "    print(\"-------------------------------------------------------\")\n",
    "    print('Auc Score :\\n', auc)\n",
    "    print(\"-------------------------------------------------------\")\n",
    "    \n",
    "    #Calcul de la Marge\n",
    "    Marge_totale = Calcul_Marge(Montant = X_test_[\"Montant\"].compute(), yReel = y_test.compute(), yPred = y_pred)\n",
    "    print(\"Marge = \" + str(round(Marge_totale, 2)) + \" euros\")\n",
    "    \n",
    "    print(\"-------------------------------------------------------\")\n",
    "    \n",
    "    # Courbe ROC\n",
    "    skplt.metrics.plot_roc(y_test, y_score, classes_to_plot = 1, plot_micro = False, plot_macro = False)\n",
    "    # Courbe Précision-Rappel\n",
    "    skplt.metrics.plot_precision_recall(y_test, y_score, classes_to_plot = 1, plot_micro = False)\n",
    "\n",
    "    #return y_score,Marge_totale,auc,cr,cm"
   ]
  },
  {
   "cell_type": "markdown",
   "id": "4e65b674",
   "metadata": {},
   "source": [
    "Si la courbe ROC tient la route avec un critère AUC élevé, cela signifie que l'apprentissage a bien fonctionné Si le F1_score est très mauvais, cela signifie alors que c'est le processus d'affectation qui n'a pas fonctionné."
   ]
  },
  {
   "cell_type": "markdown",
   "id": "88087a96",
   "metadata": {},
   "source": [
    "# III. Algorithmes"
   ]
  },
  {
   "cell_type": "markdown",
   "id": "1ffb444d",
   "metadata": {},
   "source": [
    "# A. Random forest"
   ]
  },
  {
   "cell_type": "markdown",
   "id": "6a4199bd",
   "metadata": {},
   "source": [
    "GridSearch n'a pu être implémenté en raison des temps de traitement (tentative : pas de sortie au bout de 5h)."
   ]
  },
  {
   "cell_type": "code",
   "execution_count": 16,
   "id": "b7b926cb",
   "metadata": {},
   "outputs": [
    {
     "name": "stdout",
     "output_type": "stream",
     "text": [
      "CPU times: total: 0 ns\n",
      "Wall time: 0 ns\n"
     ]
    }
   ],
   "source": [
    "#Instanciation # 10 arbres #critère d'évaluation : indice de Gini (log_loss) # nb_mini_individus dans 1 feuille : 10\n",
    "#Bootstrap = True (par défaut) #random_state= 0 déjà testé - 42 : le plus souvent utilisé avec \"0\"\n",
    "\n",
    "RandomForest = RandomForestClassifier(n_estimators = 1, random_state = 0, max_depth=5)\n",
    "\n",
    "# Fit your pipeline onto your training set (centré-réduit) and obtain predictions by fitting the model onto the test data\n",
    "%time classifier1 = delayed(RandomForest.fit)(X_train, y_train)"
   ]
  },
  {
   "cell_type": "code",
   "execution_count": 17,
   "id": "580e6b75",
   "metadata": {},
   "outputs": [
    {
     "name": "stdout",
     "output_type": "stream",
     "text": [
      "-------------------------------------------------------\n",
      "Modèle :\n",
      " Delayed('fit-db9afe80-a9ed-4115-82ca-a36e05ac92ad')\n",
      "-------------------------------------------------------\n"
     ]
    },
    {
     "name": "stderr",
     "output_type": "stream",
     "text": [
      "C:\\Users\\chrys\\anaconda3\\lib\\site-packages\\sklearn\\metrics\\_classification.py:1318: UndefinedMetricWarning: Precision and F-score are ill-defined and being set to 0.0 in labels with no predicted samples. Use `zero_division` parameter to control this behavior.\n",
      "  _warn_prf(average, modifier, msg_start, len(result))\n",
      "C:\\Users\\chrys\\anaconda3\\lib\\site-packages\\sklearn\\metrics\\_classification.py:1318: UndefinedMetricWarning: Precision and F-score are ill-defined and being set to 0.0 in labels with no predicted samples. Use `zero_division` parameter to control this behavior.\n",
      "  _warn_prf(average, modifier, msg_start, len(result))\n",
      "C:\\Users\\chrys\\anaconda3\\lib\\site-packages\\sklearn\\metrics\\_classification.py:1318: UndefinedMetricWarning: Precision and F-score are ill-defined and being set to 0.0 in labels with no predicted samples. Use `zero_division` parameter to control this behavior.\n",
      "  _warn_prf(average, modifier, msg_start, len(result))\n"
     ]
    },
    {
     "name": "stdout",
     "output_type": "stream",
     "text": [
      "F1_score :\n",
      " 0.0\n",
      "-------------------------------------------------------\n",
      "Estimateurs :\n",
      "               precision    recall  f1-score   support\n",
      "\n",
      "           0       0.99      1.00      1.00    740837\n",
      "           1       0.00      0.00      0.00      6573\n",
      "\n",
      "    accuracy                           0.99    747410\n",
      "   macro avg       0.50      0.50      0.50    747410\n",
      "weighted avg       0.98      0.99      0.99    747410\n",
      "\n",
      "-------------------------------------------------------\n",
      "Matrice de confusion :\n",
      " [[740837      0]\n",
      " [  6573      0]]\n",
      "-------------------------------------------------------\n",
      "Auc Score :\n",
      " 0.5\n",
      "-------------------------------------------------------\n",
      "Marge = -98.31 euros\n",
      "-------------------------------------------------------\n",
      "CPU times: total: 50.9 s\n",
      "Wall time: 47.6 s\n"
     ]
    },
    {
     "data": {
      "image/png": "[encoded data removed]",
      "text/plain": [
       "<Figure size 432x288 with 1 Axes>"
      ]
     },
     "metadata": {
      "needs_background": "light"
     },
     "output_type": "display_data"
    },
    {
     "data": {
      "image/png": "[encoded data removed]",
      "text/plain": [
       "<Figure size 432x288 with 1 Axes>"
      ]
     },
     "metadata": {
      "needs_background": "light"
     },
     "output_type": "display_data"
    }
   ],
   "source": [
    "%time performances(classifier1, X_test, y_test,scale=True)"
   ]
  },
  {
   "cell_type": "code",
   "execution_count": 18,
   "id": "1cf4c824",
   "metadata": {},
   "outputs": [],
   "source": [
    "#dir(RandomForest)"
   ]
  },
  {
   "cell_type": "code",
   "execution_count": 19,
   "id": "47bfa0cc",
   "metadata": {},
   "outputs": [
    {
     "data": {
      "image/png": "[encoded data removed]",
      "text/plain": [
       "<Figure size 432x288 with 1 Axes>"
      ]
     },
     "metadata": {
      "needs_background": "light"
     },
     "output_type": "display_data"
    }
   ],
   "source": [
    "importances = pd.Series(RandomForest.feature_importances_, index = X_test.columns)\n",
    "sorted_importances = importances.sort_values()\n",
    "sorted_importances.plot(kind='barh', color='blue')\n",
    "plt.show()"
   ]
  },
  {
   "cell_type": "markdown",
   "id": "d962dc51",
   "metadata": {},
   "source": [
    "**Conclusion :sur les 3 modèles, la marge = -98.31€ (2) et le bagging ne produit donc pas de gain. Réduire le nombre d'estimateurs à 1 permet de réduire le temps de calcul à 21 secondes.**"
   ]
  },
  {
   "cell_type": "code",
   "execution_count": 20,
   "id": "0fe2d7fe",
   "metadata": {},
   "outputs": [],
   "source": [
    "from sklearn.ensemble import BaggingClassifier\n",
    "#from sklearn.model_selection import GridSearchCV # annulé pour cause de durée de traitement"
   ]
  },
  {
   "cell_type": "code",
   "execution_count": 21,
   "id": "0f89b24c",
   "metadata": {},
   "outputs": [],
   "source": [
    "#avec bagging \n",
    "model_best= RandomForestClassifier(n_estimators = 1, random_state = 0, max_depth=5)\n",
    "\n",
    "modele_best =BaggingClassifier(base_estimator=model_best,n_estimators = 1, random_state = 0,n_jobs=-1)"
   ]
  },
  {
   "cell_type": "code",
   "execution_count": 22,
   "id": "b5e80c9a",
   "metadata": {},
   "outputs": [
    {
     "name": "stdout",
     "output_type": "stream",
     "text": [
      "CPU times: total: 23.1 s\n",
      "Wall time: 21 s\n"
     ]
    }
   ],
   "source": [
    "# Fit your pipeline onto your training set and obtain predictions by fitting the model onto the test data\n",
    "%time classifierb = delayed(model_best.fit)(X_train, y_train).compute()"
   ]
  },
  {
   "cell_type": "code",
   "execution_count": 23,
   "id": "fad8f55a",
   "metadata": {},
   "outputs": [
    {
     "name": "stdout",
     "output_type": "stream",
     "text": [
      "-------------------------------------------------------\n",
      "Modèle :\n",
      " RandomForestClassifier(max_depth=5, n_estimators=1, random_state=0)\n",
      "-------------------------------------------------------\n"
     ]
    },
    {
     "name": "stderr",
     "output_type": "stream",
     "text": [
      "C:\\Users\\chrys\\anaconda3\\lib\\site-packages\\sklearn\\metrics\\_classification.py:1318: UndefinedMetricWarning: Precision and F-score are ill-defined and being set to 0.0 in labels with no predicted samples. Use `zero_division` parameter to control this behavior.\n",
      "  _warn_prf(average, modifier, msg_start, len(result))\n",
      "C:\\Users\\chrys\\anaconda3\\lib\\site-packages\\sklearn\\metrics\\_classification.py:1318: UndefinedMetricWarning: Precision and F-score are ill-defined and being set to 0.0 in labels with no predicted samples. Use `zero_division` parameter to control this behavior.\n",
      "  _warn_prf(average, modifier, msg_start, len(result))\n",
      "C:\\Users\\chrys\\anaconda3\\lib\\site-packages\\sklearn\\metrics\\_classification.py:1318: UndefinedMetricWarning: Precision and F-score are ill-defined and being set to 0.0 in labels with no predicted samples. Use `zero_division` parameter to control this behavior.\n",
      "  _warn_prf(average, modifier, msg_start, len(result))\n"
     ]
    },
    {
     "name": "stdout",
     "output_type": "stream",
     "text": [
      "F1_score :\n",
      " 0.0\n",
      "-------------------------------------------------------\n",
      "Estimateurs :\n",
      "               precision    recall  f1-score   support\n",
      "\n",
      "           0       0.99      1.00      1.00    740837\n",
      "           1       0.00      0.00      0.00      6573\n",
      "\n",
      "    accuracy                           0.99    747410\n",
      "   macro avg       0.50      0.50      0.50    747410\n",
      "weighted avg       0.98      0.99      0.99    747410\n",
      "\n",
      "-------------------------------------------------------\n",
      "Matrice de confusion :\n",
      " [[740837      0]\n",
      " [  6573      0]]\n",
      "-------------------------------------------------------\n",
      "Auc Score :\n",
      " 0.5\n",
      "-------------------------------------------------------\n",
      "Marge = -98.31 euros\n",
      "-------------------------------------------------------\n",
      "CPU times: total: 7.17 s\n",
      "Wall time: 6.64 s\n"
     ]
    },
    {
     "data": {
      "image/png": "[encoded data removed]",
      "text/plain": [
       "<Figure size 432x288 with 1 Axes>"
      ]
     },
     "metadata": {
      "needs_background": "light"
     },
     "output_type": "display_data"
    },
    {
     "data": {
      "image/png": "[encoded data removed]",
      "text/plain": [
       "<Figure size 432x288 with 1 Axes>"
      ]
     },
     "metadata": {
      "needs_background": "light"
     },
     "output_type": "display_data"
    }
   ],
   "source": [
    "%time performances(classifierb, X_test, y_test,scale=True)"
   ]
  },
  {
   "cell_type": "code",
   "execution_count": 24,
   "id": "a6ed5919",
   "metadata": {},
   "outputs": [
    {
     "data": {
      "image/png": "[encoded data removed]",
      "text/plain": [
       "<Figure size 432x288 with 1 Axes>"
      ]
     },
     "metadata": {
      "needs_background": "light"
     },
     "output_type": "display_data"
    }
   ],
   "source": [
    "importances = pd.Series(model_best.feature_importances_, index = X_test.columns)\n",
    "sorted_importances = importances.sort_values()\n",
    "sorted_importances.plot(kind='barh', color='blue')\n",
    "plt.show()"
   ]
  },
  {
   "cell_type": "markdown",
   "id": "b01168af",
   "metadata": {},
   "source": [
    "# B. Adaboost"
   ]
  },
  {
   "cell_type": "markdown",
   "id": "74d272ab",
   "metadata": {},
   "source": [
    "**Mêmes performances globalement avec les 3 types de pramétrage testés.**"
   ]
  },
  {
   "cell_type": "code",
   "execution_count": 25,
   "id": "ec72be7e",
   "metadata": {},
   "outputs": [
    {
     "name": "stdout",
     "output_type": "stream",
     "text": [
      "CPU times: total: 1min 9s\n",
      "Wall time: 1min 7s\n"
     ]
    }
   ],
   "source": [
    "# Instanciation avec les mêmes paramètres\n",
    "dtree = DecisionTreeClassifier(random_state = 0, max_depth = 5)\n",
    "\n",
    "AdaBoost = AdaBoostClassifier(base_estimator = dtree, random_state = 0, n_estimators = 1)\n",
    "\n",
    "# Fit your pipeline onto your training set and obtain predictions by fitting the model onto the test data\n",
    "%time classifier4 = delayed(AdaBoost.fit)(X_train, y_train).compute()"
   ]
  },
  {
   "cell_type": "code",
   "execution_count": 26,
   "id": "dd148883",
   "metadata": {},
   "outputs": [
    {
     "name": "stdout",
     "output_type": "stream",
     "text": [
      "-------------------------------------------------------\n",
      "Modèle :\n",
      " AdaBoostClassifier(base_estimator=DecisionTreeClassifier(max_depth=5,\n",
      "                                                         random_state=0),\n",
      "                   n_estimators=1, random_state=0)\n",
      "-------------------------------------------------------\n"
     ]
    },
    {
     "name": "stderr",
     "output_type": "stream",
     "text": [
      "C:\\Users\\chrys\\anaconda3\\lib\\site-packages\\sklearn\\metrics\\_classification.py:1318: UndefinedMetricWarning: Precision and F-score are ill-defined and being set to 0.0 in labels with no predicted samples. Use `zero_division` parameter to control this behavior.\n",
      "  _warn_prf(average, modifier, msg_start, len(result))\n",
      "C:\\Users\\chrys\\anaconda3\\lib\\site-packages\\sklearn\\metrics\\_classification.py:1318: UndefinedMetricWarning: Precision and F-score are ill-defined and being set to 0.0 in labels with no predicted samples. Use `zero_division` parameter to control this behavior.\n",
      "  _warn_prf(average, modifier, msg_start, len(result))\n",
      "C:\\Users\\chrys\\anaconda3\\lib\\site-packages\\sklearn\\metrics\\_classification.py:1318: UndefinedMetricWarning: Precision and F-score are ill-defined and being set to 0.0 in labels with no predicted samples. Use `zero_division` parameter to control this behavior.\n",
      "  _warn_prf(average, modifier, msg_start, len(result))\n"
     ]
    },
    {
     "name": "stdout",
     "output_type": "stream",
     "text": [
      "F1_score :\n",
      " 0.0\n",
      "-------------------------------------------------------\n",
      "Estimateurs :\n",
      "               precision    recall  f1-score   support\n",
      "\n",
      "           0       0.99      1.00      1.00    740837\n",
      "           1       0.00      0.00      0.00      6573\n",
      "\n",
      "    accuracy                           0.99    747410\n",
      "   macro avg       0.50      0.50      0.50    747410\n",
      "weighted avg       0.98      0.99      0.99    747410\n",
      "\n",
      "-------------------------------------------------------\n",
      "Matrice de confusion :\n",
      " [[740837      0]\n",
      " [  6573      0]]\n",
      "-------------------------------------------------------\n",
      "Auc Score :\n",
      " 0.5\n",
      "-------------------------------------------------------\n",
      "Marge = -98.31 euros\n",
      "-------------------------------------------------------\n",
      "CPU times: total: 5.8 s\n",
      "Wall time: 5.2 s\n"
     ]
    },
    {
     "data": {
      "image/png": "[encoded data removed]",
      "text/plain": [
       "<Figure size 432x288 with 1 Axes>"
      ]
     },
     "metadata": {
      "needs_background": "light"
     },
     "output_type": "display_data"
    },
    {
     "data": {
      "image/png": "[encoded data removed]",
      "text/plain": [
       "<Figure size 432x288 with 1 Axes>"
      ]
     },
     "metadata": {
      "needs_background": "light"
     },
     "output_type": "display_data"
    }
   ],
   "source": [
    "%time performances(classifier4, X_test, y_test,scale=True)"
   ]
  },
  {
   "cell_type": "code",
   "execution_count": 27,
   "id": "803bb927",
   "metadata": {},
   "outputs": [
    {
     "data": {
      "image/png": "[encoded data removed]",
      "text/plain": [
       "<Figure size 432x288 with 1 Axes>"
      ]
     },
     "metadata": {
      "needs_background": "light"
     },
     "output_type": "display_data"
    }
   ],
   "source": [
    "importances = pd.Series(AdaBoost.feature_importances_, index = X_test.columns)\n",
    "sorted_importances = importances.sort_values()\n",
    "sorted_importances.plot(kind='barh', color='blue')\n",
    "plt.show()"
   ]
  },
  {
   "cell_type": "markdown",
   "id": "208930cd",
   "metadata": {},
   "source": [
    "# C. XGradient boosting"
   ]
  },
  {
   "cell_type": "markdown",
   "id": "03ffaa5a",
   "metadata": {},
   "source": [
    "**XGBoost est confirmé comme le meilleur modèle de cette famille, parmi les 3 testés. Le temps d'exécution est court (une trentaine de secondes) et la marge générée est de  166.64 euros.**"
   ]
  },
  {
   "cell_type": "code",
   "execution_count": 28,
   "id": "2b2f5fb8",
   "metadata": {},
   "outputs": [
    {
     "name": "stdout",
     "output_type": "stream",
     "text": [
      "CPU times: total: 30.8 s\n",
      "Wall time: 29.1 s\n"
     ]
    }
   ],
   "source": [
    "# En pratique, ces arbres sont peu profonds, nous mettons max_depth=5 pour suivre le protocole\n",
    "\n",
    "from xgboost import XGBClassifier \n",
    "\n",
    "dtree = DecisionTreeClassifier(max_depth = 5, random_state = 0)\n",
    "\n",
    "modele = XGBClassifier(base_estimator = dtree, n_estimators = 1, random_state = 0) \n",
    "# Fit your pipeline onto your training set and obtain predictions by fitting the model onto the test data\n",
    "%time classifier5 = delayed(modele.fit)(X_train, y_train).compute()"
   ]
  },
  {
   "cell_type": "code",
   "execution_count": 29,
   "id": "f97565bc",
   "metadata": {},
   "outputs": [
    {
     "name": "stdout",
     "output_type": "stream",
     "text": [
      "-------------------------------------------------------\n",
      "Modèle :\n",
      " XGBClassifier(base_estimator=DecisionTreeClassifier(max_depth=5,\n",
      "                                                    random_state=0),\n",
      "              n_estimators=1)\n",
      "-------------------------------------------------------\n",
      "F1_score :\n",
      " 0.018304870674375865\n",
      "-------------------------------------------------------\n",
      "Estimateurs :\n",
      "               precision    recall  f1-score   support\n",
      "\n",
      "           0       0.99      0.11      0.20    740837\n",
      "           1       0.01      0.93      0.02      6573\n",
      "\n",
      "    accuracy                           0.12    747410\n",
      "   macro avg       0.50      0.52      0.11    747410\n",
      "weighted avg       0.99      0.12      0.20    747410\n",
      "\n",
      "-------------------------------------------------------\n",
      "Matrice de confusion :\n",
      " [[ 82149 658688]\n",
      " [   428   6145]]\n",
      "-------------------------------------------------------\n",
      "Auc Score :\n",
      " 0.5228859382155968\n",
      "-------------------------------------------------------\n",
      "Marge = 166.64 euros\n",
      "-------------------------------------------------------\n",
      "CPU times: total: 6.02 s\n",
      "Wall time: 5.39 s\n"
     ]
    },
    {
     "data": {
      "image/png": "[encoded data removed]",
      "text/plain": [
       "<Figure size 432x288 with 1 Axes>"
      ]
     },
     "metadata": {
      "needs_background": "light"
     },
     "output_type": "display_data"
    },
    {
     "data": {
      "image/png": "[encoded data removed]",
      "text/plain": [
       "<Figure size 432x288 with 1 Axes>"
      ]
     },
     "metadata": {
      "needs_background": "light"
     },
     "output_type": "display_data"
    }
   ],
   "source": [
    "%time performances(classifier5, X_test, y_test,scale=True)"
   ]
  },
  {
   "cell_type": "code",
   "execution_count": 30,
   "id": "0878168e",
   "metadata": {},
   "outputs": [
    {
     "data": {
      "image/png": "[encoded data removed]",
      "text/plain": [
       "<Figure size 432x288 with 1 Axes>"
      ]
     },
     "metadata": {
      "needs_background": "light"
     },
     "output_type": "display_data"
    }
   ],
   "source": [
    "#importances = pd.Series(modele.feature_importances_, index = X_test.columns)\n",
    "sorted_importances = importances.sort_values()\n",
    "sorted_importances.plot(kind='barh', color='blue')\n",
    "plt.show()"
   ]
  }
 ],
 "metadata": {
  "kernelspec": {
   "display_name": "Python 3 (ipykernel)",
   "language": "python",
   "name": "python3"
  },
  "language_info": {
   "codemirror_mode": {
    "name": "ipython",
    "version": 3
   },
   "file_extension": ".py",
   "mimetype": "text/x-python",
   "name": "python",
   "nbconvert_exporter": "python",
   "pygments_lexer": "ipython3",
   "version": "3.9.12"
  }
 },
 "nbformat": 4,
 "nbformat_minor": 5
}
