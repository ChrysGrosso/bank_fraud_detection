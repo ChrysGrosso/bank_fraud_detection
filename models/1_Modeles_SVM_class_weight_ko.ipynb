{
  "cells": [
    {
      "cell_type": "markdown",
      "id": "0eb66983",
      "metadata": {
        "id": "0eb66983"
      },
      "source": [
        "# Modèles basés sur des SVM\n",
        "   Avec benchmark des méthodes de recalibrage."
      ]
    },
    {
      "cell_type": "markdown",
      "id": "84cc4363",
      "metadata": {
        "id": "84cc4363"
      },
      "source": [
        "**(1) Importation des librairies**"
      ]
    },
    {
      "cell_type": "code",
      "source": [
        "from google.colab import drive\n",
        "drive.mount('/content/drive')"
      ],
      "metadata": {
        "colab": {
          "base_uri": "https://localhost:8080/"
        },
        "id": "sMfkgMgnUPhV",
        "outputId": "09fc4edc-3df9-4474-eba6-ce106602f45c"
      },
      "id": "sMfkgMgnUPhV",
      "execution_count": 16,
      "outputs": [
        {
          "output_type": "stream",
          "name": "stdout",
          "text": [
            "Mounted at /content/drive\n"
          ]
        }
      ]
    },
    {
      "cell_type": "code",
      "source": [
        "pip install fastparquet"
      ],
      "metadata": {
        "colab": {
          "base_uri": "https://localhost:8080/"
        },
        "id": "DQDRhNnnSWKo",
        "outputId": "186d5d06-57ab-47f4-f821-8e31d338addb"
      },
      "id": "DQDRhNnnSWKo",
      "execution_count": 17,
      "outputs": [
        {
          "output_type": "stream",
          "name": "stdout",
          "text": [
            "Looking in indexes: https://pypi.org/simple, https://us-python.pkg.dev/colab-wheels/public/simple/\n",
            "Requirement already satisfied: fastparquet in /usr/local/lib/python3.8/dist-packages (2022.12.0)\n",
            "Requirement already satisfied: packaging in /usr/local/lib/python3.8/dist-packages (from fastparquet) (21.3)\n",
            "Requirement already satisfied: numpy>=1.20.3 in /usr/local/lib/python3.8/dist-packages (from fastparquet) (1.21.6)\n",
            "Requirement already satisfied: pandas>=1.5.0 in /usr/local/lib/python3.8/dist-packages (from fastparquet) (1.5.2)\n",
            "Requirement already satisfied: fsspec in /usr/local/lib/python3.8/dist-packages (from fastparquet) (2022.11.0)\n",
            "Requirement already satisfied: cramjam>=2.3 in /usr/local/lib/python3.8/dist-packages (from fastparquet) (2.6.2)\n",
            "Requirement already satisfied: pytz>=2020.1 in /usr/local/lib/python3.8/dist-packages (from pandas>=1.5.0->fastparquet) (2022.6)\n",
            "Requirement already satisfied: python-dateutil>=2.8.1 in /usr/local/lib/python3.8/dist-packages (from pandas>=1.5.0->fastparquet) (2.8.2)\n",
            "Requirement already satisfied: six>=1.5 in /usr/local/lib/python3.8/dist-packages (from python-dateutil>=2.8.1->pandas>=1.5.0->fastparquet) (1.15.0)\n",
            "Requirement already satisfied: pyparsing!=3.0.5,>=2.0.2 in /usr/local/lib/python3.8/dist-packages (from packaging->fastparquet) (3.0.9)\n"
          ]
        }
      ]
    },
    {
      "cell_type": "code",
      "source": [
        "pip install dask_ml"
      ],
      "metadata": {
        "colab": {
          "base_uri": "https://localhost:8080/"
        },
        "id": "fw7oHspPSjhD",
        "outputId": "bf239889-9d20-43b6-c147-184b89d8c073"
      },
      "id": "fw7oHspPSjhD",
      "execution_count": 2,
      "outputs": [
        {
          "output_type": "stream",
          "name": "stdout",
          "text": [
            "Looking in indexes: https://pypi.org/simple, https://us-python.pkg.dev/colab-wheels/public/simple/\n",
            "Collecting dask_ml\n",
            "  Downloading dask_ml-2022.5.27-py3-none-any.whl (148 kB)\n",
            "\u001b[K     |████████████████████████████████| 148 kB 29.0 MB/s \n",
            "\u001b[?25hRequirement already satisfied: numpy>=1.20.0 in /usr/local/lib/python3.8/dist-packages (from dask_ml) (1.21.6)\n",
            "Requirement already satisfied: packaging in /usr/local/lib/python3.8/dist-packages (from dask_ml) (21.3)\n",
            "Requirement already satisfied: pandas>=0.24.2 in /usr/local/lib/python3.8/dist-packages (from dask_ml) (1.5.2)\n",
            "Requirement already satisfied: multipledispatch>=0.4.9 in /usr/local/lib/python3.8/dist-packages (from dask_ml) (0.6.0)\n",
            "Requirement already satisfied: scipy in /usr/local/lib/python3.8/dist-packages (from dask_ml) (1.7.3)\n",
            "Requirement already satisfied: dask[array,dataframe]>=2.4.0 in /usr/local/lib/python3.8/dist-packages (from dask_ml) (2022.2.1)\n",
            "Requirement already satisfied: numba>=0.51.0 in /usr/local/lib/python3.8/dist-packages (from dask_ml) (0.56.4)\n",
            "Requirement already satisfied: scikit-learn>=1.0.0 in /usr/local/lib/python3.8/dist-packages (from dask_ml) (1.0.2)\n",
            "Requirement already satisfied: distributed>=2.4.0 in /usr/local/lib/python3.8/dist-packages (from dask_ml) (2022.2.1)\n",
            "Collecting dask-glm>=0.2.0\n",
            "  Downloading dask_glm-0.2.0-py2.py3-none-any.whl (12 kB)\n",
            "Requirement already satisfied: cloudpickle>=0.2.2 in /usr/local/lib/python3.8/dist-packages (from dask-glm>=0.2.0->dask_ml) (1.5.0)\n",
            "Requirement already satisfied: fsspec>=0.6.0 in /usr/local/lib/python3.8/dist-packages (from dask[array,dataframe]>=2.4.0->dask_ml) (2022.11.0)\n",
            "Requirement already satisfied: toolz>=0.8.2 in /usr/local/lib/python3.8/dist-packages (from dask[array,dataframe]>=2.4.0->dask_ml) (0.12.0)\n",
            "Requirement already satisfied: pyyaml>=5.3.1 in /usr/local/lib/python3.8/dist-packages (from dask[array,dataframe]>=2.4.0->dask_ml) (6.0)\n",
            "Requirement already satisfied: partd>=0.3.10 in /usr/local/lib/python3.8/dist-packages (from dask[array,dataframe]>=2.4.0->dask_ml) (1.3.0)\n",
            "Requirement already satisfied: tornado>=6.0.3 in /usr/local/lib/python3.8/dist-packages (from distributed>=2.4.0->dask_ml) (6.0.4)\n",
            "Requirement already satisfied: msgpack>=0.6.0 in /usr/local/lib/python3.8/dist-packages (from distributed>=2.4.0->dask_ml) (1.0.4)\n",
            "Requirement already satisfied: sortedcontainers!=2.0.0,!=2.0.1 in /usr/local/lib/python3.8/dist-packages (from distributed>=2.4.0->dask_ml) (2.4.0)\n",
            "Requirement already satisfied: zict>=0.1.3 in /usr/local/lib/python3.8/dist-packages (from distributed>=2.4.0->dask_ml) (2.2.0)\n",
            "Requirement already satisfied: setuptools in /usr/local/lib/python3.8/dist-packages (from distributed>=2.4.0->dask_ml) (57.4.0)\n",
            "Requirement already satisfied: jinja2 in /usr/local/lib/python3.8/dist-packages (from distributed>=2.4.0->dask_ml) (2.11.3)\n",
            "Requirement already satisfied: tblib>=1.6.0 in /usr/local/lib/python3.8/dist-packages (from distributed>=2.4.0->dask_ml) (1.7.0)\n",
            "Requirement already satisfied: click>=6.6 in /usr/local/lib/python3.8/dist-packages (from distributed>=2.4.0->dask_ml) (7.1.2)\n",
            "Requirement already satisfied: psutil>=5.0 in /usr/local/lib/python3.8/dist-packages (from distributed>=2.4.0->dask_ml) (5.4.8)\n",
            "Requirement already satisfied: six in /usr/local/lib/python3.8/dist-packages (from multipledispatch>=0.4.9->dask_ml) (1.15.0)\n",
            "Requirement already satisfied: importlib-metadata in /usr/local/lib/python3.8/dist-packages (from numba>=0.51.0->dask_ml) (5.1.0)\n",
            "Requirement already satisfied: llvmlite<0.40,>=0.39.0dev0 in /usr/local/lib/python3.8/dist-packages (from numba>=0.51.0->dask_ml) (0.39.1)\n",
            "Requirement already satisfied: pyparsing!=3.0.5,>=2.0.2 in /usr/local/lib/python3.8/dist-packages (from packaging->dask_ml) (3.0.9)\n",
            "Requirement already satisfied: python-dateutil>=2.8.1 in /usr/local/lib/python3.8/dist-packages (from pandas>=0.24.2->dask_ml) (2.8.2)\n",
            "Requirement already satisfied: pytz>=2020.1 in /usr/local/lib/python3.8/dist-packages (from pandas>=0.24.2->dask_ml) (2022.6)\n",
            "Requirement already satisfied: locket in /usr/local/lib/python3.8/dist-packages (from partd>=0.3.10->dask[array,dataframe]>=2.4.0->dask_ml) (1.0.0)\n",
            "Requirement already satisfied: threadpoolctl>=2.0.0 in /usr/local/lib/python3.8/dist-packages (from scikit-learn>=1.0.0->dask_ml) (3.1.0)\n",
            "Requirement already satisfied: joblib>=0.11 in /usr/local/lib/python3.8/dist-packages (from scikit-learn>=1.0.0->dask_ml) (1.2.0)\n",
            "Requirement already satisfied: heapdict in /usr/local/lib/python3.8/dist-packages (from zict>=0.1.3->distributed>=2.4.0->dask_ml) (1.0.1)\n",
            "Requirement already satisfied: zipp>=0.5 in /usr/local/lib/python3.8/dist-packages (from importlib-metadata->numba>=0.51.0->dask_ml) (3.11.0)\n",
            "Requirement already satisfied: MarkupSafe>=0.23 in /usr/local/lib/python3.8/dist-packages (from jinja2->distributed>=2.4.0->dask_ml) (2.0.1)\n",
            "Installing collected packages: dask-glm, dask-ml\n",
            "Successfully installed dask-glm-0.2.0 dask-ml-2022.5.27\n"
          ]
        }
      ]
    },
    {
      "cell_type": "code",
      "source": [
        "pip install scikit_plot"
      ],
      "metadata": {
        "colab": {
          "base_uri": "https://localhost:8080/"
        },
        "id": "f-zPg86iSsSE",
        "outputId": "9532f3de-ca04-403b-8b5f-e0b5d46fca91"
      },
      "id": "f-zPg86iSsSE",
      "execution_count": 4,
      "outputs": [
        {
          "output_type": "stream",
          "name": "stdout",
          "text": [
            "Looking in indexes: https://pypi.org/simple, https://us-python.pkg.dev/colab-wheels/public/simple/\n",
            "Collecting scikit_plot\n",
            "  Downloading scikit_plot-0.3.7-py3-none-any.whl (33 kB)\n",
            "Requirement already satisfied: joblib>=0.10 in /usr/local/lib/python3.8/dist-packages (from scikit_plot) (1.2.0)\n",
            "Requirement already satisfied: scikit-learn>=0.18 in /usr/local/lib/python3.8/dist-packages (from scikit_plot) (1.0.2)\n",
            "Requirement already satisfied: matplotlib>=1.4.0 in /usr/local/lib/python3.8/dist-packages (from scikit_plot) (3.2.2)\n",
            "Requirement already satisfied: scipy>=0.9 in /usr/local/lib/python3.8/dist-packages (from scikit_plot) (1.7.3)\n",
            "Requirement already satisfied: cycler>=0.10 in /usr/local/lib/python3.8/dist-packages (from matplotlib>=1.4.0->scikit_plot) (0.11.0)\n",
            "Requirement already satisfied: python-dateutil>=2.1 in /usr/local/lib/python3.8/dist-packages (from matplotlib>=1.4.0->scikit_plot) (2.8.2)\n",
            "Requirement already satisfied: numpy>=1.11 in /usr/local/lib/python3.8/dist-packages (from matplotlib>=1.4.0->scikit_plot) (1.21.6)\n",
            "Requirement already satisfied: pyparsing!=2.0.4,!=2.1.2,!=2.1.6,>=2.0.1 in /usr/local/lib/python3.8/dist-packages (from matplotlib>=1.4.0->scikit_plot) (3.0.9)\n",
            "Requirement already satisfied: kiwisolver>=1.0.1 in /usr/local/lib/python3.8/dist-packages (from matplotlib>=1.4.0->scikit_plot) (1.4.4)\n",
            "Requirement already satisfied: six>=1.5 in /usr/local/lib/python3.8/dist-packages (from python-dateutil>=2.1->matplotlib>=1.4.0->scikit_plot) (1.15.0)\n",
            "Requirement already satisfied: threadpoolctl>=2.0.0 in /usr/local/lib/python3.8/dist-packages (from scikit-learn>=0.18->scikit_plot) (3.1.0)\n",
            "Installing collected packages: scikit-plot\n",
            "Successfully installed scikit-plot-0.3.7\n"
          ]
        }
      ]
    },
    {
      "cell_type": "code",
      "execution_count": 6,
      "id": "b55f6234",
      "metadata": {
        "id": "b55f6234"
      },
      "outputs": [],
      "source": [
        "\n",
        "import pandas as pd\n",
        "import numpy as np\n",
        "import dask.dataframe as dd\n",
        "import matplotlib.pyplot as plt\n",
        "import sys \n",
        "import fastparquet\n",
        "import dask_ml \n",
        "from dask import delayed\n",
        "from sklearn.metrics import *\n",
        "import scikitplot as skplt\n",
        "from dask_ml.preprocessing import StandardScaler\n",
        "import pickle\n",
        "import dask\n",
        "from sklearn.tree import DecisionTreeClassifier"
      ]
    },
    {
      "cell_type": "markdown",
      "id": "2231ae53",
      "metadata": {
        "id": "2231ae53"
      },
      "source": [
        "**(2) Import de l'algorithme SVM**"
      ]
    },
    {
      "cell_type": "code",
      "execution_count": 7,
      "id": "bd183d96",
      "metadata": {
        "id": "bd183d96"
      },
      "outputs": [],
      "source": [
        "from sklearn import svm\n",
        "from sklearn.svm import SVC"
      ]
    },
    {
      "cell_type": "code",
      "execution_count": null,
      "id": "bd468338",
      "metadata": {
        "id": "bd468338"
      },
      "outputs": [],
      "source": [
        "#pip install dask.ml"
      ]
    },
    {
      "cell_type": "code",
      "execution_count": null,
      "id": "0bbe588f",
      "metadata": {
        "id": "0bbe588f"
      },
      "outputs": [],
      "source": [
        "#pip install scikit-plot"
      ]
    },
    {
      "cell_type": "markdown",
      "id": "aba3a5fb",
      "metadata": {
        "id": "aba3a5fb"
      },
      "source": [
        "# I. Préparation"
      ]
    },
    {
      "cell_type": "markdown",
      "id": "35baaa9e",
      "metadata": {
        "id": "35baaa9e"
      },
      "source": [
        "**(1) variables explicatives, variable à prédire et centrage-réduction**"
      ]
    },
    {
      "cell_type": "code",
      "execution_count": 18,
      "id": "74bac687",
      "metadata": {
        "colab": {
          "base_uri": "https://localhost:8080/"
        },
        "id": "74bac687",
        "outputId": "7c2d9442-8dda-48cf-baeb-02448ed1d3e2"
      },
      "outputs": [
        {
          "output_type": "stream",
          "name": "stdout",
          "text": [
            "<class 'dask.dataframe.core.DataFrame'>\n",
            "Columns: 12 entries, FlagImpaye to CA3TR\n",
            "dtypes: float64(7), int64(5)"
          ]
        }
      ],
      "source": [
        "# Dataframe d’apprentissage brut\n",
        "df_train = dd.read_parquet('/content/drive/MyDrive/ab/train_fast')\n",
        "df_train.info()"
      ]
    },
    {
      "cell_type": "code",
      "execution_count": 19,
      "id": "53232750",
      "metadata": {
        "colab": {
          "base_uri": "https://localhost:8080/",
          "height": 206
        },
        "id": "53232750",
        "outputId": "b503bcbd-8c89-46e8-ebbc-deeec06814ff"
      },
      "outputs": [
        {
          "output_type": "execute_result",
          "data": {
            "text/plain": [
              "         FlagImpaye  Montant  VerifianceCPT1  D2CB  ScoringFP1  ScoringFP2  \\\n",
              "3899362           0    60.00               0   302    0.000000    0.000000   \n",
              "3899363           0    25.00               0   547    0.000000    0.000000   \n",
              "3899364           0    32.00               0   152    0.000000    0.000000   \n",
              "3899365           0    20.88               0   393    0.007590    0.182221   \n",
              "3899366           0    20.21               0   152    0.018994   -1.024399   \n",
              "\n",
              "         ScoringFP3  TauxImpNB_CPM  EcartNumCheq  NbrMagasin3J  DiffDateTr3  \\\n",
              "3899362    0.000000      52.076034             0             1     4.000000   \n",
              "3899363    0.000000      52.076034             0             1     4.000000   \n",
              "3899364    0.000000      52.076034             0             1     4.000000   \n",
              "3899365    0.002092      34.118277             4             1     1.539155   \n",
              "3899366    0.005682      52.076034             0             1     4.000000   \n",
              "\n",
              "         CA3TR  \n",
              "3899362   0.00  \n",
              "3899363   0.00  \n",
              "3899364   0.00  \n",
              "3899365  71.51  \n",
              "3899366   0.00  "
            ],
            "text/html": [
              "\n",
              "  <div id=\"df-fb0c3cd3-4029-4138-a1e6-9c81d2e2f856\">\n",
              "    <div class=\"colab-df-container\">\n",
              "      <div>\n",
              "<style scoped>\n",
              "    .dataframe tbody tr th:only-of-type {\n",
              "        vertical-align: middle;\n",
              "    }\n",
              "\n",
              "    .dataframe tbody tr th {\n",
              "        vertical-align: top;\n",
              "    }\n",
              "\n",
              "    .dataframe thead th {\n",
              "        text-align: right;\n",
              "    }\n",
              "</style>\n",
              "<table border=\"1\" class=\"dataframe\">\n",
              "  <thead>\n",
              "    <tr style=\"text-align: right;\">\n",
              "      <th></th>\n",
              "      <th>FlagImpaye</th>\n",
              "      <th>Montant</th>\n",
              "      <th>VerifianceCPT1</th>\n",
              "      <th>D2CB</th>\n",
              "      <th>ScoringFP1</th>\n",
              "      <th>ScoringFP2</th>\n",
              "      <th>ScoringFP3</th>\n",
              "      <th>TauxImpNB_CPM</th>\n",
              "      <th>EcartNumCheq</th>\n",
              "      <th>NbrMagasin3J</th>\n",
              "      <th>DiffDateTr3</th>\n",
              "      <th>CA3TR</th>\n",
              "    </tr>\n",
              "  </thead>\n",
              "  <tbody>\n",
              "    <tr>\n",
              "      <th>3899362</th>\n",
              "      <td>0</td>\n",
              "      <td>60.00</td>\n",
              "      <td>0</td>\n",
              "      <td>302</td>\n",
              "      <td>0.000000</td>\n",
              "      <td>0.000000</td>\n",
              "      <td>0.000000</td>\n",
              "      <td>52.076034</td>\n",
              "      <td>0</td>\n",
              "      <td>1</td>\n",
              "      <td>4.000000</td>\n",
              "      <td>0.00</td>\n",
              "    </tr>\n",
              "    <tr>\n",
              "      <th>3899363</th>\n",
              "      <td>0</td>\n",
              "      <td>25.00</td>\n",
              "      <td>0</td>\n",
              "      <td>547</td>\n",
              "      <td>0.000000</td>\n",
              "      <td>0.000000</td>\n",
              "      <td>0.000000</td>\n",
              "      <td>52.076034</td>\n",
              "      <td>0</td>\n",
              "      <td>1</td>\n",
              "      <td>4.000000</td>\n",
              "      <td>0.00</td>\n",
              "    </tr>\n",
              "    <tr>\n",
              "      <th>3899364</th>\n",
              "      <td>0</td>\n",
              "      <td>32.00</td>\n",
              "      <td>0</td>\n",
              "      <td>152</td>\n",
              "      <td>0.000000</td>\n",
              "      <td>0.000000</td>\n",
              "      <td>0.000000</td>\n",
              "      <td>52.076034</td>\n",
              "      <td>0</td>\n",
              "      <td>1</td>\n",
              "      <td>4.000000</td>\n",
              "      <td>0.00</td>\n",
              "    </tr>\n",
              "    <tr>\n",
              "      <th>3899365</th>\n",
              "      <td>0</td>\n",
              "      <td>20.88</td>\n",
              "      <td>0</td>\n",
              "      <td>393</td>\n",
              "      <td>0.007590</td>\n",
              "      <td>0.182221</td>\n",
              "      <td>0.002092</td>\n",
              "      <td>34.118277</td>\n",
              "      <td>4</td>\n",
              "      <td>1</td>\n",
              "      <td>1.539155</td>\n",
              "      <td>71.51</td>\n",
              "    </tr>\n",
              "    <tr>\n",
              "      <th>3899366</th>\n",
              "      <td>0</td>\n",
              "      <td>20.21</td>\n",
              "      <td>0</td>\n",
              "      <td>152</td>\n",
              "      <td>0.018994</td>\n",
              "      <td>-1.024399</td>\n",
              "      <td>0.005682</td>\n",
              "      <td>52.076034</td>\n",
              "      <td>0</td>\n",
              "      <td>1</td>\n",
              "      <td>4.000000</td>\n",
              "      <td>0.00</td>\n",
              "    </tr>\n",
              "  </tbody>\n",
              "</table>\n",
              "</div>\n",
              "      <button class=\"colab-df-convert\" onclick=\"convertToInteractive('df-fb0c3cd3-4029-4138-a1e6-9c81d2e2f856')\"\n",
              "              title=\"Convert this dataframe to an interactive table.\"\n",
              "              style=\"display:none;\">\n",
              "        \n",
              "  <svg xmlns=\"http://www.w3.org/2000/svg\" height=\"24px\"viewBox=\"0 0 24 24\"\n",
              "       width=\"24px\">\n",
              "    <path d=\"M0 0h24v24H0V0z\" fill=\"none\"/>\n",
              "    <path d=\"M18.56 5.44l.94 2.06.94-2.06 2.06-.94-2.06-.94-.94-2.06-.94 2.06-2.06.94zm-11 1L8.5 8.5l.94-2.06 2.06-.94-2.06-.94L8.5 2.5l-.94 2.06-2.06.94zm10 10l.94 2.06.94-2.06 2.06-.94-2.06-.94-.94-2.06-.94 2.06-2.06.94z\"/><path d=\"M17.41 7.96l-1.37-1.37c-.4-.4-.92-.59-1.43-.59-.52 0-1.04.2-1.43.59L10.3 9.45l-7.72 7.72c-.78.78-.78 2.05 0 2.83L4 21.41c.39.39.9.59 1.41.59.51 0 1.02-.2 1.41-.59l7.78-7.78 2.81-2.81c.8-.78.8-2.07 0-2.86zM5.41 20L4 18.59l7.72-7.72 1.47 1.35L5.41 20z\"/>\n",
              "  </svg>\n",
              "      </button>\n",
              "      \n",
              "  <style>\n",
              "    .colab-df-container {\n",
              "      display:flex;\n",
              "      flex-wrap:wrap;\n",
              "      gap: 12px;\n",
              "    }\n",
              "\n",
              "    .colab-df-convert {\n",
              "      background-color: #E8F0FE;\n",
              "      border: none;\n",
              "      border-radius: 50%;\n",
              "      cursor: pointer;\n",
              "      display: none;\n",
              "      fill: #1967D2;\n",
              "      height: 32px;\n",
              "      padding: 0 0 0 0;\n",
              "      width: 32px;\n",
              "    }\n",
              "\n",
              "    .colab-df-convert:hover {\n",
              "      background-color: #E2EBFA;\n",
              "      box-shadow: 0px 1px 2px rgba(60, 64, 67, 0.3), 0px 1px 3px 1px rgba(60, 64, 67, 0.15);\n",
              "      fill: #174EA6;\n",
              "    }\n",
              "\n",
              "    [theme=dark] .colab-df-convert {\n",
              "      background-color: #3B4455;\n",
              "      fill: #D2E3FC;\n",
              "    }\n",
              "\n",
              "    [theme=dark] .colab-df-convert:hover {\n",
              "      background-color: #434B5C;\n",
              "      box-shadow: 0px 1px 3px 1px rgba(0, 0, 0, 0.15);\n",
              "      filter: drop-shadow(0px 1px 2px rgba(0, 0, 0, 0.3));\n",
              "      fill: #FFFFFF;\n",
              "    }\n",
              "  </style>\n",
              "\n",
              "      <script>\n",
              "        const buttonEl =\n",
              "          document.querySelector('#df-fb0c3cd3-4029-4138-a1e6-9c81d2e2f856 button.colab-df-convert');\n",
              "        buttonEl.style.display =\n",
              "          google.colab.kernel.accessAllowed ? 'block' : 'none';\n",
              "\n",
              "        async function convertToInteractive(key) {\n",
              "          const element = document.querySelector('#df-fb0c3cd3-4029-4138-a1e6-9c81d2e2f856');\n",
              "          const dataTable =\n",
              "            await google.colab.kernel.invokeFunction('convertToInteractive',\n",
              "                                                     [key], {});\n",
              "          if (!dataTable) return;\n",
              "\n",
              "          const docLinkHtml = 'Like what you see? Visit the ' +\n",
              "            '<a target=\"_blank\" href=https://colab.research.google.com/notebooks/data_table.ipynb>data table notebook</a>'\n",
              "            + ' to learn more about interactive tables.';\n",
              "          element.innerHTML = '';\n",
              "          dataTable['output_type'] = 'display_data';\n",
              "          await google.colab.output.renderOutput(dataTable, element);\n",
              "          const docLink = document.createElement('div');\n",
              "          docLink.innerHTML = docLinkHtml;\n",
              "          element.appendChild(docLink);\n",
              "        }\n",
              "      </script>\n",
              "    </div>\n",
              "  </div>\n",
              "  "
            ]
          },
          "metadata": {},
          "execution_count": 19
        }
      ],
      "source": [
        "# Dataframe de test\n",
        "df_test = dd.read_parquet('/content/drive/MyDrive/ab/test_fast')\n",
        "df_test.head()"
      ]
    },
    {
      "cell_type": "code",
      "execution_count": 20,
      "id": "4d3a9f02",
      "metadata": {
        "id": "4d3a9f02"
      },
      "outputs": [],
      "source": [
        "# Définir les variables explicatives et la variable cible \n",
        "X_train = df_train.drop([\"FlagImpaye\"], axis = \"columns\")\n",
        "X_test = df_test.drop([\"FlagImpaye\"], axis = \"columns\")\n",
        "\n",
        "y_train = df_train[\"FlagImpaye\"]\n",
        "y_test = df_test[\"FlagImpaye\"]"
      ]
    },
    {
      "cell_type": "code",
      "execution_count": 21,
      "id": "731d3d1b",
      "metadata": {
        "colab": {
          "base_uri": "https://localhost:8080/"
        },
        "id": "731d3d1b",
        "outputId": "9f18c354-9344-4aaf-fcbd-240245d515e3"
      },
      "outputs": [
        {
          "output_type": "stream",
          "name": "stdout",
          "text": [
            "<class 'dask.dataframe.core.DataFrame'>\n",
            "Columns: 11 entries, Montant to CA3TR\n",
            "dtypes: float64(7), int64(4)"
          ]
        }
      ],
      "source": [
        "X_train.info()"
      ]
    },
    {
      "cell_type": "code",
      "execution_count": 22,
      "id": "9d97dd18",
      "metadata": {
        "id": "9d97dd18"
      },
      "outputs": [],
      "source": [
        "# Instanciation de StandardScaler pour centrer-réduire les données\n",
        "scaler = StandardScaler()"
      ]
    },
    {
      "cell_type": "code",
      "execution_count": 23,
      "id": "027f11af",
      "metadata": {
        "colab": {
          "base_uri": "https://localhost:8080/",
          "height": 206
        },
        "id": "027f11af",
        "outputId": "c968e764-6ba1-4370-9276-f0578cd9449e"
      },
      "outputs": [
        {
          "output_type": "execute_result",
          "data": {
            "text/plain": [
              "    Montant  VerifianceCPT1      D2CB  ScoringFP1  ScoringFP2  ScoringFP3  \\\n",
              "0 -0.420302       -0.581824  1.017656   -0.084590   -0.239505   -0.275801   \n",
              "1 -0.420302       -0.581824  1.017656   -0.084590   -0.239505   -0.275801   \n",
              "2 -0.022127       -0.581824  1.008573   -0.084590   -0.239505   -0.275801   \n",
              "3 -0.057565        1.545332 -0.272152   -0.084590   -0.239505   -0.275801   \n",
              "4 -0.347310       -0.581824  1.008573   -0.084434    0.637044   -0.273204   \n",
              "\n",
              "   TauxImpNB_CPM  EcartNumCheq  NbrMagasin3J  DiffDateTr3     CA3TR  \n",
              "0       0.818043     -0.043817     -0.194165    -0.451325 -0.202861  \n",
              "1       0.818043     -0.043812      4.975724    -0.451325  0.038808  \n",
              "2       0.818043     -0.043817     -0.194165    -0.451325 -0.202861  \n",
              "3       0.906727     -0.043817     -0.194165    -0.451325 -0.202861  \n",
              "4       0.818043     -0.043812     -0.194165    -0.451325  0.702346  "
            ],
            "text/html": [
              "\n",
              "  <div id=\"df-5cdcff85-1443-4bf9-9ccc-e12d5dc686ba\">\n",
              "    <div class=\"colab-df-container\">\n",
              "      <div>\n",
              "<style scoped>\n",
              "    .dataframe tbody tr th:only-of-type {\n",
              "        vertical-align: middle;\n",
              "    }\n",
              "\n",
              "    .dataframe tbody tr th {\n",
              "        vertical-align: top;\n",
              "    }\n",
              "\n",
              "    .dataframe thead th {\n",
              "        text-align: right;\n",
              "    }\n",
              "</style>\n",
              "<table border=\"1\" class=\"dataframe\">\n",
              "  <thead>\n",
              "    <tr style=\"text-align: right;\">\n",
              "      <th></th>\n",
              "      <th>Montant</th>\n",
              "      <th>VerifianceCPT1</th>\n",
              "      <th>D2CB</th>\n",
              "      <th>ScoringFP1</th>\n",
              "      <th>ScoringFP2</th>\n",
              "      <th>ScoringFP3</th>\n",
              "      <th>TauxImpNB_CPM</th>\n",
              "      <th>EcartNumCheq</th>\n",
              "      <th>NbrMagasin3J</th>\n",
              "      <th>DiffDateTr3</th>\n",
              "      <th>CA3TR</th>\n",
              "    </tr>\n",
              "  </thead>\n",
              "  <tbody>\n",
              "    <tr>\n",
              "      <th>0</th>\n",
              "      <td>-0.420302</td>\n",
              "      <td>-0.581824</td>\n",
              "      <td>1.017656</td>\n",
              "      <td>-0.084590</td>\n",
              "      <td>-0.239505</td>\n",
              "      <td>-0.275801</td>\n",
              "      <td>0.818043</td>\n",
              "      <td>-0.043817</td>\n",
              "      <td>-0.194165</td>\n",
              "      <td>-0.451325</td>\n",
              "      <td>-0.202861</td>\n",
              "    </tr>\n",
              "    <tr>\n",
              "      <th>1</th>\n",
              "      <td>-0.420302</td>\n",
              "      <td>-0.581824</td>\n",
              "      <td>1.017656</td>\n",
              "      <td>-0.084590</td>\n",
              "      <td>-0.239505</td>\n",
              "      <td>-0.275801</td>\n",
              "      <td>0.818043</td>\n",
              "      <td>-0.043812</td>\n",
              "      <td>4.975724</td>\n",
              "      <td>-0.451325</td>\n",
              "      <td>0.038808</td>\n",
              "    </tr>\n",
              "    <tr>\n",
              "      <th>2</th>\n",
              "      <td>-0.022127</td>\n",
              "      <td>-0.581824</td>\n",
              "      <td>1.008573</td>\n",
              "      <td>-0.084590</td>\n",
              "      <td>-0.239505</td>\n",
              "      <td>-0.275801</td>\n",
              "      <td>0.818043</td>\n",
              "      <td>-0.043817</td>\n",
              "      <td>-0.194165</td>\n",
              "      <td>-0.451325</td>\n",
              "      <td>-0.202861</td>\n",
              "    </tr>\n",
              "    <tr>\n",
              "      <th>3</th>\n",
              "      <td>-0.057565</td>\n",
              "      <td>1.545332</td>\n",
              "      <td>-0.272152</td>\n",
              "      <td>-0.084590</td>\n",
              "      <td>-0.239505</td>\n",
              "      <td>-0.275801</td>\n",
              "      <td>0.906727</td>\n",
              "      <td>-0.043817</td>\n",
              "      <td>-0.194165</td>\n",
              "      <td>-0.451325</td>\n",
              "      <td>-0.202861</td>\n",
              "    </tr>\n",
              "    <tr>\n",
              "      <th>4</th>\n",
              "      <td>-0.347310</td>\n",
              "      <td>-0.581824</td>\n",
              "      <td>1.008573</td>\n",
              "      <td>-0.084434</td>\n",
              "      <td>0.637044</td>\n",
              "      <td>-0.273204</td>\n",
              "      <td>0.818043</td>\n",
              "      <td>-0.043812</td>\n",
              "      <td>-0.194165</td>\n",
              "      <td>-0.451325</td>\n",
              "      <td>0.702346</td>\n",
              "    </tr>\n",
              "  </tbody>\n",
              "</table>\n",
              "</div>\n",
              "      <button class=\"colab-df-convert\" onclick=\"convertToInteractive('df-5cdcff85-1443-4bf9-9ccc-e12d5dc686ba')\"\n",
              "              title=\"Convert this dataframe to an interactive table.\"\n",
              "              style=\"display:none;\">\n",
              "        \n",
              "  <svg xmlns=\"http://www.w3.org/2000/svg\" height=\"24px\"viewBox=\"0 0 24 24\"\n",
              "       width=\"24px\">\n",
              "    <path d=\"M0 0h24v24H0V0z\" fill=\"none\"/>\n",
              "    <path d=\"M18.56 5.44l.94 2.06.94-2.06 2.06-.94-2.06-.94-.94-2.06-.94 2.06-2.06.94zm-11 1L8.5 8.5l.94-2.06 2.06-.94-2.06-.94L8.5 2.5l-.94 2.06-2.06.94zm10 10l.94 2.06.94-2.06 2.06-.94-2.06-.94-.94-2.06-.94 2.06-2.06.94z\"/><path d=\"M17.41 7.96l-1.37-1.37c-.4-.4-.92-.59-1.43-.59-.52 0-1.04.2-1.43.59L10.3 9.45l-7.72 7.72c-.78.78-.78 2.05 0 2.83L4 21.41c.39.39.9.59 1.41.59.51 0 1.02-.2 1.41-.59l7.78-7.78 2.81-2.81c.8-.78.8-2.07 0-2.86zM5.41 20L4 18.59l7.72-7.72 1.47 1.35L5.41 20z\"/>\n",
              "  </svg>\n",
              "      </button>\n",
              "      \n",
              "  <style>\n",
              "    .colab-df-container {\n",
              "      display:flex;\n",
              "      flex-wrap:wrap;\n",
              "      gap: 12px;\n",
              "    }\n",
              "\n",
              "    .colab-df-convert {\n",
              "      background-color: #E8F0FE;\n",
              "      border: none;\n",
              "      border-radius: 50%;\n",
              "      cursor: pointer;\n",
              "      display: none;\n",
              "      fill: #1967D2;\n",
              "      height: 32px;\n",
              "      padding: 0 0 0 0;\n",
              "      width: 32px;\n",
              "    }\n",
              "\n",
              "    .colab-df-convert:hover {\n",
              "      background-color: #E2EBFA;\n",
              "      box-shadow: 0px 1px 2px rgba(60, 64, 67, 0.3), 0px 1px 3px 1px rgba(60, 64, 67, 0.15);\n",
              "      fill: #174EA6;\n",
              "    }\n",
              "\n",
              "    [theme=dark] .colab-df-convert {\n",
              "      background-color: #3B4455;\n",
              "      fill: #D2E3FC;\n",
              "    }\n",
              "\n",
              "    [theme=dark] .colab-df-convert:hover {\n",
              "      background-color: #434B5C;\n",
              "      box-shadow: 0px 1px 3px 1px rgba(0, 0, 0, 0.15);\n",
              "      filter: drop-shadow(0px 1px 2px rgba(0, 0, 0, 0.3));\n",
              "      fill: #FFFFFF;\n",
              "    }\n",
              "  </style>\n",
              "\n",
              "      <script>\n",
              "        const buttonEl =\n",
              "          document.querySelector('#df-5cdcff85-1443-4bf9-9ccc-e12d5dc686ba button.colab-df-convert');\n",
              "        buttonEl.style.display =\n",
              "          google.colab.kernel.accessAllowed ? 'block' : 'none';\n",
              "\n",
              "        async function convertToInteractive(key) {\n",
              "          const element = document.querySelector('#df-5cdcff85-1443-4bf9-9ccc-e12d5dc686ba');\n",
              "          const dataTable =\n",
              "            await google.colab.kernel.invokeFunction('convertToInteractive',\n",
              "                                                     [key], {});\n",
              "          if (!dataTable) return;\n",
              "\n",
              "          const docLinkHtml = 'Like what you see? Visit the ' +\n",
              "            '<a target=\"_blank\" href=https://colab.research.google.com/notebooks/data_table.ipynb>data table notebook</a>'\n",
              "            + ' to learn more about interactive tables.';\n",
              "          element.innerHTML = '';\n",
              "          dataTable['output_type'] = 'display_data';\n",
              "          await google.colab.output.renderOutput(dataTable, element);\n",
              "          const docLink = document.createElement('div');\n",
              "          docLink.innerHTML = docLinkHtml;\n",
              "          element.appendChild(docLink);\n",
              "        }\n",
              "      </script>\n",
              "    </div>\n",
              "  </div>\n",
              "  "
            ]
          },
          "metadata": {},
          "execution_count": 23
        }
      ],
      "source": [
        "# Centrer-réduire le dataframe d'apprentissage\n",
        "X_train = scaler.fit_transform(X_train)\n",
        "X_train.head()"
      ]
    },
    {
      "cell_type": "code",
      "execution_count": 24,
      "id": "8eee41b9",
      "metadata": {
        "colab": {
          "base_uri": "https://localhost:8080/",
          "height": 206
        },
        "id": "8eee41b9",
        "outputId": "657ea567-b9a0-45ac-86c0-2f6d74682d66"
      },
      "outputs": [
        {
          "output_type": "execute_result",
          "data": {
            "text/plain": [
              "          Montant  VerifianceCPT1      D2CB  ScoringFP1  ScoringFP2  \\\n",
              "3899362 -0.016999             0.0  0.265719   -0.080269   -0.043960   \n",
              "3899363 -0.277531             0.0  1.427785   -0.080269   -0.043960   \n",
              "3899364 -0.225425             0.0 -0.445750   -0.080269   -0.043960   \n",
              "3899365 -0.308200             0.0  0.697344   -0.080074   -0.023966   \n",
              "3899366 -0.313187             0.0 -0.445750   -0.079781   -0.156360   \n",
              "\n",
              "         ScoringFP3  TauxImpNB_CPM  EcartNumCheq  NbrMagasin3J  DiffDateTr3  \\\n",
              "3899362   -0.317899       0.774799     -0.036921      -0.18432    -0.568544   \n",
              "3899363   -0.317899       0.774799     -0.036921      -0.18432    -0.568544   \n",
              "3899364   -0.317899       0.774799     -0.036921      -0.18432    -0.568544   \n",
              "3899365   -0.314458      -0.277090     -0.036897      -0.18432    -5.906429   \n",
              "3899366   -0.308551       0.774799     -0.036921      -0.18432    -0.568544   \n",
              "\n",
              "            CA3TR  \n",
              "3899362 -0.132257  \n",
              "3899363 -0.132257  \n",
              "3899364 -0.132257  \n",
              "3899365  1.259186  \n",
              "3899366 -0.132257  "
            ],
            "text/html": [
              "\n",
              "  <div id=\"df-44fc610a-c47c-42fe-9fdd-5db2654b7786\">\n",
              "    <div class=\"colab-df-container\">\n",
              "      <div>\n",
              "<style scoped>\n",
              "    .dataframe tbody tr th:only-of-type {\n",
              "        vertical-align: middle;\n",
              "    }\n",
              "\n",
              "    .dataframe tbody tr th {\n",
              "        vertical-align: top;\n",
              "    }\n",
              "\n",
              "    .dataframe thead th {\n",
              "        text-align: right;\n",
              "    }\n",
              "</style>\n",
              "<table border=\"1\" class=\"dataframe\">\n",
              "  <thead>\n",
              "    <tr style=\"text-align: right;\">\n",
              "      <th></th>\n",
              "      <th>Montant</th>\n",
              "      <th>VerifianceCPT1</th>\n",
              "      <th>D2CB</th>\n",
              "      <th>ScoringFP1</th>\n",
              "      <th>ScoringFP2</th>\n",
              "      <th>ScoringFP3</th>\n",
              "      <th>TauxImpNB_CPM</th>\n",
              "      <th>EcartNumCheq</th>\n",
              "      <th>NbrMagasin3J</th>\n",
              "      <th>DiffDateTr3</th>\n",
              "      <th>CA3TR</th>\n",
              "    </tr>\n",
              "  </thead>\n",
              "  <tbody>\n",
              "    <tr>\n",
              "      <th>3899362</th>\n",
              "      <td>-0.016999</td>\n",
              "      <td>0.0</td>\n",
              "      <td>0.265719</td>\n",
              "      <td>-0.080269</td>\n",
              "      <td>-0.043960</td>\n",
              "      <td>-0.317899</td>\n",
              "      <td>0.774799</td>\n",
              "      <td>-0.036921</td>\n",
              "      <td>-0.18432</td>\n",
              "      <td>-0.568544</td>\n",
              "      <td>-0.132257</td>\n",
              "    </tr>\n",
              "    <tr>\n",
              "      <th>3899363</th>\n",
              "      <td>-0.277531</td>\n",
              "      <td>0.0</td>\n",
              "      <td>1.427785</td>\n",
              "      <td>-0.080269</td>\n",
              "      <td>-0.043960</td>\n",
              "      <td>-0.317899</td>\n",
              "      <td>0.774799</td>\n",
              "      <td>-0.036921</td>\n",
              "      <td>-0.18432</td>\n",
              "      <td>-0.568544</td>\n",
              "      <td>-0.132257</td>\n",
              "    </tr>\n",
              "    <tr>\n",
              "      <th>3899364</th>\n",
              "      <td>-0.225425</td>\n",
              "      <td>0.0</td>\n",
              "      <td>-0.445750</td>\n",
              "      <td>-0.080269</td>\n",
              "      <td>-0.043960</td>\n",
              "      <td>-0.317899</td>\n",
              "      <td>0.774799</td>\n",
              "      <td>-0.036921</td>\n",
              "      <td>-0.18432</td>\n",
              "      <td>-0.568544</td>\n",
              "      <td>-0.132257</td>\n",
              "    </tr>\n",
              "    <tr>\n",
              "      <th>3899365</th>\n",
              "      <td>-0.308200</td>\n",
              "      <td>0.0</td>\n",
              "      <td>0.697344</td>\n",
              "      <td>-0.080074</td>\n",
              "      <td>-0.023966</td>\n",
              "      <td>-0.314458</td>\n",
              "      <td>-0.277090</td>\n",
              "      <td>-0.036897</td>\n",
              "      <td>-0.18432</td>\n",
              "      <td>-5.906429</td>\n",
              "      <td>1.259186</td>\n",
              "    </tr>\n",
              "    <tr>\n",
              "      <th>3899366</th>\n",
              "      <td>-0.313187</td>\n",
              "      <td>0.0</td>\n",
              "      <td>-0.445750</td>\n",
              "      <td>-0.079781</td>\n",
              "      <td>-0.156360</td>\n",
              "      <td>-0.308551</td>\n",
              "      <td>0.774799</td>\n",
              "      <td>-0.036921</td>\n",
              "      <td>-0.18432</td>\n",
              "      <td>-0.568544</td>\n",
              "      <td>-0.132257</td>\n",
              "    </tr>\n",
              "  </tbody>\n",
              "</table>\n",
              "</div>\n",
              "      <button class=\"colab-df-convert\" onclick=\"convertToInteractive('df-44fc610a-c47c-42fe-9fdd-5db2654b7786')\"\n",
              "              title=\"Convert this dataframe to an interactive table.\"\n",
              "              style=\"display:none;\">\n",
              "        \n",
              "  <svg xmlns=\"http://www.w3.org/2000/svg\" height=\"24px\"viewBox=\"0 0 24 24\"\n",
              "       width=\"24px\">\n",
              "    <path d=\"M0 0h24v24H0V0z\" fill=\"none\"/>\n",
              "    <path d=\"M18.56 5.44l.94 2.06.94-2.06 2.06-.94-2.06-.94-.94-2.06-.94 2.06-2.06.94zm-11 1L8.5 8.5l.94-2.06 2.06-.94-2.06-.94L8.5 2.5l-.94 2.06-2.06.94zm10 10l.94 2.06.94-2.06 2.06-.94-2.06-.94-.94-2.06-.94 2.06-2.06.94z\"/><path d=\"M17.41 7.96l-1.37-1.37c-.4-.4-.92-.59-1.43-.59-.52 0-1.04.2-1.43.59L10.3 9.45l-7.72 7.72c-.78.78-.78 2.05 0 2.83L4 21.41c.39.39.9.59 1.41.59.51 0 1.02-.2 1.41-.59l7.78-7.78 2.81-2.81c.8-.78.8-2.07 0-2.86zM5.41 20L4 18.59l7.72-7.72 1.47 1.35L5.41 20z\"/>\n",
              "  </svg>\n",
              "      </button>\n",
              "      \n",
              "  <style>\n",
              "    .colab-df-container {\n",
              "      display:flex;\n",
              "      flex-wrap:wrap;\n",
              "      gap: 12px;\n",
              "    }\n",
              "\n",
              "    .colab-df-convert {\n",
              "      background-color: #E8F0FE;\n",
              "      border: none;\n",
              "      border-radius: 50%;\n",
              "      cursor: pointer;\n",
              "      display: none;\n",
              "      fill: #1967D2;\n",
              "      height: 32px;\n",
              "      padding: 0 0 0 0;\n",
              "      width: 32px;\n",
              "    }\n",
              "\n",
              "    .colab-df-convert:hover {\n",
              "      background-color: #E2EBFA;\n",
              "      box-shadow: 0px 1px 2px rgba(60, 64, 67, 0.3), 0px 1px 3px 1px rgba(60, 64, 67, 0.15);\n",
              "      fill: #174EA6;\n",
              "    }\n",
              "\n",
              "    [theme=dark] .colab-df-convert {\n",
              "      background-color: #3B4455;\n",
              "      fill: #D2E3FC;\n",
              "    }\n",
              "\n",
              "    [theme=dark] .colab-df-convert:hover {\n",
              "      background-color: #434B5C;\n",
              "      box-shadow: 0px 1px 3px 1px rgba(0, 0, 0, 0.15);\n",
              "      filter: drop-shadow(0px 1px 2px rgba(0, 0, 0, 0.3));\n",
              "      fill: #FFFFFF;\n",
              "    }\n",
              "  </style>\n",
              "\n",
              "      <script>\n",
              "        const buttonEl =\n",
              "          document.querySelector('#df-44fc610a-c47c-42fe-9fdd-5db2654b7786 button.colab-df-convert');\n",
              "        buttonEl.style.display =\n",
              "          google.colab.kernel.accessAllowed ? 'block' : 'none';\n",
              "\n",
              "        async function convertToInteractive(key) {\n",
              "          const element = document.querySelector('#df-44fc610a-c47c-42fe-9fdd-5db2654b7786');\n",
              "          const dataTable =\n",
              "            await google.colab.kernel.invokeFunction('convertToInteractive',\n",
              "                                                     [key], {});\n",
              "          if (!dataTable) return;\n",
              "\n",
              "          const docLinkHtml = 'Like what you see? Visit the ' +\n",
              "            '<a target=\"_blank\" href=https://colab.research.google.com/notebooks/data_table.ipynb>data table notebook</a>'\n",
              "            + ' to learn more about interactive tables.';\n",
              "          element.innerHTML = '';\n",
              "          dataTable['output_type'] = 'display_data';\n",
              "          await google.colab.output.renderOutput(dataTable, element);\n",
              "          const docLink = document.createElement('div');\n",
              "          docLink.innerHTML = docLinkHtml;\n",
              "          element.appendChild(docLink);\n",
              "        }\n",
              "      </script>\n",
              "    </div>\n",
              "  </div>\n",
              "  "
            ]
          },
          "metadata": {},
          "execution_count": 24
        }
      ],
      "source": [
        "# Centrer-réduire les dataframe de test\n",
        "X_test = scaler.fit_transform(X_test)\n",
        "X_test.head()"
      ]
    },
    {
      "cell_type": "markdown",
      "id": "4c2f35b1",
      "metadata": {
        "id": "4c2f35b1"
      },
      "source": [
        "**(2) Maximisation de la marge**"
      ]
    },
    {
      "cell_type": "code",
      "execution_count": 25,
      "id": "3080d17a",
      "metadata": {
        "id": "3080d17a"
      },
      "outputs": [],
      "source": [
        "def perte(Montant):\n",
        "    if Montant<=20:\n",
        "        Montant=Montant*0\n",
        "    elif 20<Montant<=50:\n",
        "        Montant=0.2*Montant\n",
        "    elif 50<Montant<=100:\n",
        "        Montant=0.3*Montant\n",
        "    elif 100<Montant<=200:\n",
        "        Montant=0.5*Montant\n",
        "    elif Montant>200:\n",
        "        Montant=0.8*Montant\n",
        "    return(Montant)"
      ]
    },
    {
      "cell_type": "code",
      "execution_count": 26,
      "id": "b838de5a",
      "metadata": {
        "id": "b838de5a"
      },
      "outputs": [],
      "source": [
        "def Calcul_Marge(Montant, yReel, yPred):\n",
        "    # Création de dfmerge\n",
        "    dfmerge = pd.concat([Montant, yReel], axis=1)\n",
        "    dfmerge[\"Ypred\"] = yPred\n",
        "    \n",
        "    # Création de la variable Marge\n",
        "    # Création d'une colonne Marge égale au Montant\n",
        "    dfmerge[\"Marge\"] = dfmerge[\"Montant\"]\n",
        "    #Calcul du gain ou de la perte selon la différence entre réel et prédiction\n",
        "    dfmerge.loc[((dfmerge[\"FlagImpaye\"] == 1) & (dfmerge[\"Ypred\"] == 1)), \"Marge\"] = 0\n",
        "    dfmerge.loc[((dfmerge[\"FlagImpaye\"] == 0) & (dfmerge[\"Ypred\"] == 1)), \"Marge\"] = 0.7 * 0.05 * dfmerge[\"Montant\"]\n",
        "    dfmerge.loc[((dfmerge[\"FlagImpaye\"] == 1) & (dfmerge[\"Ypred\"] == 0)), \"Marge\"] = dfmerge[\"Montant\"].apply(lambda x: -perte(x))\n",
        "    dfmerge.loc[((dfmerge[\"FlagImpaye\"] == 0) & (dfmerge[\"Ypred\"] == 0)), \"Marge\"] = 0.05 * dfmerge[\"Montant\"]\n",
        "    \n",
        "    # Calcul du Marge_totale\n",
        "    Marge_totale = dfmerge[\"Marge\"].sum()\n",
        "    \n",
        "    return Marge_totale"
      ]
    },
    {
      "cell_type": "markdown",
      "id": "384389e4",
      "metadata": {
        "id": "384389e4"
      },
      "source": [
        "**(3) Modèles et performances**"
      ]
    },
    {
      "cell_type": "code",
      "execution_count": 27,
      "id": "332f51a4",
      "metadata": {
        "id": "332f51a4"
      },
      "outputs": [],
      "source": [
        "# Fonction de déploiement d'un modèle sur les données de test\n",
        "\n",
        "# Création de la fonction de performance d'un modèle sur les données de test\n",
        "\n",
        "def performances(modele, X_test, y_test, scale):\n",
        "    \n",
        "    X_test_ = X_test\n",
        "    \n",
        "    print(\"-------------------------------------------------------\")\n",
        "   \n",
        "    \n",
        "    if scale == True:\n",
        "        X_test = scaler.transform(X_test) # scaler a été entrainé sur les données d'apprentissage\n",
        "        \n",
        "    # Affichage du modèle \n",
        "    print('Modèle :\\n', modele)\n",
        "    print(\"-------------------------------------------------------\")\n",
        "    # Prédiction\n",
        "    y_pred = delayed(modele.predict)(X_test).compute()\n",
        "    # Prédiction des scores\n",
        "    y_score = delayed(modele.predict_proba)(X_test).compute()\n",
        "    \n",
        "    # Estimateurs, matrice de confusion et AUC\n",
        "    cm = delayed(confusion_matrix)(y_test, y_pred).compute()\n",
        "    cr = delayed(classification_report)(y_test, y_pred).compute()\n",
        "    auc = delayed(roc_auc_score)(y_test, y_pred).compute()\n",
        "    f1 = delayed(f1_score)(y_test, y_pred).compute()\n",
        "   \n",
        "    print('F1_score :\\n', f1)\n",
        "    print(\"-------------------------------------------------------\")\n",
        "    print('Estimateurs :\\n', cr)\n",
        "    print(\"-------------------------------------------------------\")\n",
        "    print('Matrice de confusion :\\n', cm)\n",
        "    print(\"-------------------------------------------------------\")\n",
        "    print('Auc Score :\\n', auc)\n",
        "    print(\"-------------------------------------------------------\")\n",
        "    \n",
        "    #Calcul de la Marge\n",
        "    Marge_totale = Calcul_Marge(Montant = X_test_[\"Montant\"].compute(), yReel = y_test.compute(), yPred = y_pred)\n",
        "    print(\"Marge = \" + str(round(Marge_totale, 2)) + \" euros\")\n",
        "    \n",
        "    print(\"-------------------------------------------------------\")\n",
        "    \n",
        "    # Courbe ROC\n",
        "    skplt.metrics.plot_roc(y_test, y_score, classes_to_plot = 1, plot_micro = False, plot_macro = False)\n",
        "    # Courbe Précision-Rappel\n",
        "    skplt.metrics.plot_precision_recall(y_test, y_score, classes_to_plot = 1, plot_micro = False)\n",
        "\n",
        "    #return y_score,Marge_totale,auc,cr,cm"
      ]
    },
    {
      "cell_type": "markdown",
      "id": "a4ec3b03",
      "metadata": {
        "id": "a4ec3b03"
      },
      "source": [
        "Si la courbe ROC tient la route avec un critère AUC élevé, cela signifie que l'apprentissage a bien fonctionné Si le F1_score est très mauvais, cela signifie alors que c'est le processus d'affectation qui n'a pas fonctionné."
      ]
    },
    {
      "cell_type": "markdown",
      "id": "57ce4e4d",
      "metadata": {
        "id": "57ce4e4d"
      },
      "source": [
        "# III. SVM"
      ]
    },
    {
      "cell_type": "markdown",
      "id": "6d4e2e50",
      "metadata": {
        "id": "6d4e2e50"
      },
      "source": [
        "# A. avec paramétrage de class_weight"
      ]
    },
    {
      "cell_type": "markdown",
      "id": "85bddc05",
      "metadata": {
        "id": "85bddc05"
      },
      "source": [
        "Nous faisons l'économie de tester le noyau linéaire, qui n'est pas adapté à la complexité du modèle.\n",
        "Nous testons le noyau polynomial et le noyau gaussien RBF qui est mieux adapté pour résoudre les problèmes de séparabilité linéaire. "
      ]
    },
    {
      "cell_type": "code",
      "execution_count": 31,
      "id": "4c934ff5",
      "metadata": {
        "colab": {
          "base_uri": "https://localhost:8080/",
          "height": 345
        },
        "id": "4c934ff5",
        "outputId": "61c0cdfe-0038-475d-e3b4-a1258840f262"
      },
      "outputs": [
        {
          "output_type": "error",
          "ename": "KeyboardInterrupt",
          "evalue": "ignored",
          "traceback": [
            "\u001b[0;31m---------------------------------------------------------------------------\u001b[0m",
            "\u001b[0;31mKeyboardInterrupt\u001b[0m                         Traceback (most recent call last)",
            "\u001b[0;32m<ipython-input-31-543677768d9a>\u001b[0m in \u001b[0;36m<module>\u001b[0;34m\u001b[0m\n\u001b[1;32m      4\u001b[0m \u001b[0;34m\u001b[0m\u001b[0m\n\u001b[1;32m      5\u001b[0m \u001b[0;31m# Fit your pipeline onto your training set (centré-réduit) and obtain predictions by fitting the model onto the test data\u001b[0m\u001b[0;34m\u001b[0m\u001b[0;34m\u001b[0m\u001b[0;34m\u001b[0m\u001b[0m\n\u001b[0;32m----> 6\u001b[0;31m \u001b[0mclassifier1\u001b[0m \u001b[0;34m=\u001b[0m \u001b[0mdelayed\u001b[0m\u001b[0;34m(\u001b[0m\u001b[0mSVM\u001b[0m\u001b[0;34m.\u001b[0m\u001b[0mfit\u001b[0m\u001b[0;34m)\u001b[0m\u001b[0;34m(\u001b[0m\u001b[0mX_train\u001b[0m\u001b[0;34m,\u001b[0m \u001b[0my_train\u001b[0m\u001b[0;34m)\u001b[0m\u001b[0;34m.\u001b[0m\u001b[0mcompute\u001b[0m\u001b[0;34m(\u001b[0m\u001b[0;34m)\u001b[0m\u001b[0;34m\u001b[0m\u001b[0;34m\u001b[0m\u001b[0m\n\u001b[0m",
            "\u001b[0;32m/usr/local/lib/python3.8/dist-packages/dask/base.py\u001b[0m in \u001b[0;36mcompute\u001b[0;34m(self, **kwargs)\u001b[0m\n\u001b[1;32m    288\u001b[0m         \u001b[0mdask\u001b[0m\u001b[0;34m.\u001b[0m\u001b[0mbase\u001b[0m\u001b[0;34m.\u001b[0m\u001b[0mcompute\u001b[0m\u001b[0;34m\u001b[0m\u001b[0;34m\u001b[0m\u001b[0m\n\u001b[1;32m    289\u001b[0m         \"\"\"\n\u001b[0;32m--> 290\u001b[0;31m         \u001b[0;34m(\u001b[0m\u001b[0mresult\u001b[0m\u001b[0;34m,\u001b[0m\u001b[0;34m)\u001b[0m \u001b[0;34m=\u001b[0m \u001b[0mcompute\u001b[0m\u001b[0;34m(\u001b[0m\u001b[0mself\u001b[0m\u001b[0;34m,\u001b[0m \u001b[0mtraverse\u001b[0m\u001b[0;34m=\u001b[0m\u001b[0;32mFalse\u001b[0m\u001b[0;34m,\u001b[0m \u001b[0;34m**\u001b[0m\u001b[0mkwargs\u001b[0m\u001b[0;34m)\u001b[0m\u001b[0;34m\u001b[0m\u001b[0;34m\u001b[0m\u001b[0m\n\u001b[0m\u001b[1;32m    291\u001b[0m         \u001b[0;32mreturn\u001b[0m \u001b[0mresult\u001b[0m\u001b[0;34m\u001b[0m\u001b[0;34m\u001b[0m\u001b[0m\n\u001b[1;32m    292\u001b[0m \u001b[0;34m\u001b[0m\u001b[0m\n",
            "\u001b[0;32m/usr/local/lib/python3.8/dist-packages/dask/base.py\u001b[0m in \u001b[0;36mcompute\u001b[0;34m(traverse, optimize_graph, scheduler, get, *args, **kwargs)\u001b[0m\n\u001b[1;32m    571\u001b[0m         \u001b[0mpostcomputes\u001b[0m\u001b[0;34m.\u001b[0m\u001b[0mappend\u001b[0m\u001b[0;34m(\u001b[0m\u001b[0mx\u001b[0m\u001b[0;34m.\u001b[0m\u001b[0m__dask_postcompute__\u001b[0m\u001b[0;34m(\u001b[0m\u001b[0;34m)\u001b[0m\u001b[0;34m)\u001b[0m\u001b[0;34m\u001b[0m\u001b[0;34m\u001b[0m\u001b[0m\n\u001b[1;32m    572\u001b[0m \u001b[0;34m\u001b[0m\u001b[0m\n\u001b[0;32m--> 573\u001b[0;31m     \u001b[0mresults\u001b[0m \u001b[0;34m=\u001b[0m \u001b[0mschedule\u001b[0m\u001b[0;34m(\u001b[0m\u001b[0mdsk\u001b[0m\u001b[0;34m,\u001b[0m \u001b[0mkeys\u001b[0m\u001b[0;34m,\u001b[0m \u001b[0;34m**\u001b[0m\u001b[0mkwargs\u001b[0m\u001b[0;34m)\u001b[0m\u001b[0;34m\u001b[0m\u001b[0;34m\u001b[0m\u001b[0m\n\u001b[0m\u001b[1;32m    574\u001b[0m     \u001b[0;32mreturn\u001b[0m \u001b[0mrepack\u001b[0m\u001b[0;34m(\u001b[0m\u001b[0;34m[\u001b[0m\u001b[0mf\u001b[0m\u001b[0;34m(\u001b[0m\u001b[0mr\u001b[0m\u001b[0;34m,\u001b[0m \u001b[0;34m*\u001b[0m\u001b[0ma\u001b[0m\u001b[0;34m)\u001b[0m \u001b[0;32mfor\u001b[0m \u001b[0mr\u001b[0m\u001b[0;34m,\u001b[0m \u001b[0;34m(\u001b[0m\u001b[0mf\u001b[0m\u001b[0;34m,\u001b[0m \u001b[0ma\u001b[0m\u001b[0;34m)\u001b[0m \u001b[0;32min\u001b[0m \u001b[0mzip\u001b[0m\u001b[0;34m(\u001b[0m\u001b[0mresults\u001b[0m\u001b[0;34m,\u001b[0m \u001b[0mpostcomputes\u001b[0m\u001b[0;34m)\u001b[0m\u001b[0;34m]\u001b[0m\u001b[0;34m)\u001b[0m\u001b[0;34m\u001b[0m\u001b[0;34m\u001b[0m\u001b[0m\n\u001b[1;32m    575\u001b[0m \u001b[0;34m\u001b[0m\u001b[0m\n",
            "\u001b[0;32m/usr/local/lib/python3.8/dist-packages/dask/threaded.py\u001b[0m in \u001b[0;36mget\u001b[0;34m(dsk, result, cache, num_workers, pool, **kwargs)\u001b[0m\n\u001b[1;32m     79\u001b[0m             \u001b[0mpool\u001b[0m \u001b[0;34m=\u001b[0m \u001b[0mMultiprocessingPoolExecutor\u001b[0m\u001b[0;34m(\u001b[0m\u001b[0mpool\u001b[0m\u001b[0;34m)\u001b[0m\u001b[0;34m\u001b[0m\u001b[0;34m\u001b[0m\u001b[0m\n\u001b[1;32m     80\u001b[0m \u001b[0;34m\u001b[0m\u001b[0m\n\u001b[0;32m---> 81\u001b[0;31m     results = get_async(\n\u001b[0m\u001b[1;32m     82\u001b[0m         \u001b[0mpool\u001b[0m\u001b[0;34m.\u001b[0m\u001b[0msubmit\u001b[0m\u001b[0;34m,\u001b[0m\u001b[0;34m\u001b[0m\u001b[0;34m\u001b[0m\u001b[0m\n\u001b[1;32m     83\u001b[0m         \u001b[0mpool\u001b[0m\u001b[0;34m.\u001b[0m\u001b[0m_max_workers\u001b[0m\u001b[0;34m,\u001b[0m\u001b[0;34m\u001b[0m\u001b[0;34m\u001b[0m\u001b[0m\n",
            "\u001b[0;32m/usr/local/lib/python3.8/dist-packages/dask/local.py\u001b[0m in \u001b[0;36mget_async\u001b[0;34m(submit, num_workers, dsk, result, cache, get_id, rerun_exceptions_locally, pack_exception, raise_exception, callbacks, dumps, loads, chunksize, **kwargs)\u001b[0m\n\u001b[1;32m    493\u001b[0m             \u001b[0;32mwhile\u001b[0m \u001b[0mstate\u001b[0m\u001b[0;34m[\u001b[0m\u001b[0;34m\"waiting\"\u001b[0m\u001b[0;34m]\u001b[0m \u001b[0;32mor\u001b[0m \u001b[0mstate\u001b[0m\u001b[0;34m[\u001b[0m\u001b[0;34m\"ready\"\u001b[0m\u001b[0;34m]\u001b[0m \u001b[0;32mor\u001b[0m \u001b[0mstate\u001b[0m\u001b[0;34m[\u001b[0m\u001b[0;34m\"running\"\u001b[0m\u001b[0;34m]\u001b[0m\u001b[0;34m:\u001b[0m\u001b[0;34m\u001b[0m\u001b[0;34m\u001b[0m\u001b[0m\n\u001b[1;32m    494\u001b[0m                 \u001b[0mfire_tasks\u001b[0m\u001b[0;34m(\u001b[0m\u001b[0mchunksize\u001b[0m\u001b[0;34m)\u001b[0m\u001b[0;34m\u001b[0m\u001b[0;34m\u001b[0m\u001b[0m\n\u001b[0;32m--> 495\u001b[0;31m                 \u001b[0;32mfor\u001b[0m \u001b[0mkey\u001b[0m\u001b[0;34m,\u001b[0m \u001b[0mres_info\u001b[0m\u001b[0;34m,\u001b[0m \u001b[0mfailed\u001b[0m \u001b[0;32min\u001b[0m \u001b[0mqueue_get\u001b[0m\u001b[0;34m(\u001b[0m\u001b[0mqueue\u001b[0m\u001b[0;34m)\u001b[0m\u001b[0;34m.\u001b[0m\u001b[0mresult\u001b[0m\u001b[0;34m(\u001b[0m\u001b[0;34m)\u001b[0m\u001b[0;34m:\u001b[0m\u001b[0;34m\u001b[0m\u001b[0;34m\u001b[0m\u001b[0m\n\u001b[0m\u001b[1;32m    496\u001b[0m                     \u001b[0;32mif\u001b[0m \u001b[0mfailed\u001b[0m\u001b[0;34m:\u001b[0m\u001b[0;34m\u001b[0m\u001b[0;34m\u001b[0m\u001b[0m\n\u001b[1;32m    497\u001b[0m                         \u001b[0mexc\u001b[0m\u001b[0;34m,\u001b[0m \u001b[0mtb\u001b[0m \u001b[0;34m=\u001b[0m \u001b[0mloads\u001b[0m\u001b[0;34m(\u001b[0m\u001b[0mres_info\u001b[0m\u001b[0;34m)\u001b[0m\u001b[0;34m\u001b[0m\u001b[0;34m\u001b[0m\u001b[0m\n",
            "\u001b[0;32m/usr/local/lib/python3.8/dist-packages/dask/local.py\u001b[0m in \u001b[0;36mqueue_get\u001b[0;34m(q)\u001b[0m\n\u001b[1;32m    131\u001b[0m \u001b[0;34m\u001b[0m\u001b[0m\n\u001b[1;32m    132\u001b[0m     \u001b[0;32mdef\u001b[0m \u001b[0mqueue_get\u001b[0m\u001b[0;34m(\u001b[0m\u001b[0mq\u001b[0m\u001b[0;34m)\u001b[0m\u001b[0;34m:\u001b[0m\u001b[0;34m\u001b[0m\u001b[0;34m\u001b[0m\u001b[0m\n\u001b[0;32m--> 133\u001b[0;31m         \u001b[0;32mreturn\u001b[0m \u001b[0mq\u001b[0m\u001b[0;34m.\u001b[0m\u001b[0mget\u001b[0m\u001b[0;34m(\u001b[0m\u001b[0;34m)\u001b[0m\u001b[0;34m\u001b[0m\u001b[0;34m\u001b[0m\u001b[0m\n\u001b[0m\u001b[1;32m    134\u001b[0m \u001b[0;34m\u001b[0m\u001b[0m\n\u001b[1;32m    135\u001b[0m \u001b[0;34m\u001b[0m\u001b[0m\n",
            "\u001b[0;32m/usr/lib/python3.8/queue.py\u001b[0m in \u001b[0;36mget\u001b[0;34m(self, block, timeout)\u001b[0m\n\u001b[1;32m    168\u001b[0m             \u001b[0;32melif\u001b[0m \u001b[0mtimeout\u001b[0m \u001b[0;32mis\u001b[0m \u001b[0;32mNone\u001b[0m\u001b[0;34m:\u001b[0m\u001b[0;34m\u001b[0m\u001b[0;34m\u001b[0m\u001b[0m\n\u001b[1;32m    169\u001b[0m                 \u001b[0;32mwhile\u001b[0m \u001b[0;32mnot\u001b[0m \u001b[0mself\u001b[0m\u001b[0;34m.\u001b[0m\u001b[0m_qsize\u001b[0m\u001b[0;34m(\u001b[0m\u001b[0;34m)\u001b[0m\u001b[0;34m:\u001b[0m\u001b[0;34m\u001b[0m\u001b[0;34m\u001b[0m\u001b[0m\n\u001b[0;32m--> 170\u001b[0;31m                     \u001b[0mself\u001b[0m\u001b[0;34m.\u001b[0m\u001b[0mnot_empty\u001b[0m\u001b[0;34m.\u001b[0m\u001b[0mwait\u001b[0m\u001b[0;34m(\u001b[0m\u001b[0;34m)\u001b[0m\u001b[0;34m\u001b[0m\u001b[0;34m\u001b[0m\u001b[0m\n\u001b[0m\u001b[1;32m    171\u001b[0m             \u001b[0;32melif\u001b[0m \u001b[0mtimeout\u001b[0m \u001b[0;34m<\u001b[0m \u001b[0;36m0\u001b[0m\u001b[0;34m:\u001b[0m\u001b[0;34m\u001b[0m\u001b[0;34m\u001b[0m\u001b[0m\n\u001b[1;32m    172\u001b[0m                 \u001b[0;32mraise\u001b[0m \u001b[0mValueError\u001b[0m\u001b[0;34m(\u001b[0m\u001b[0;34m\"'timeout' must be a non-negative number\"\u001b[0m\u001b[0;34m)\u001b[0m\u001b[0;34m\u001b[0m\u001b[0;34m\u001b[0m\u001b[0m\n",
            "\u001b[0;32m/usr/lib/python3.8/threading.py\u001b[0m in \u001b[0;36mwait\u001b[0;34m(self, timeout)\u001b[0m\n\u001b[1;32m    300\u001b[0m         \u001b[0;32mtry\u001b[0m\u001b[0;34m:\u001b[0m    \u001b[0;31m# restore state no matter what (e.g., KeyboardInterrupt)\u001b[0m\u001b[0;34m\u001b[0m\u001b[0;34m\u001b[0m\u001b[0m\n\u001b[1;32m    301\u001b[0m             \u001b[0;32mif\u001b[0m \u001b[0mtimeout\u001b[0m \u001b[0;32mis\u001b[0m \u001b[0;32mNone\u001b[0m\u001b[0;34m:\u001b[0m\u001b[0;34m\u001b[0m\u001b[0;34m\u001b[0m\u001b[0m\n\u001b[0;32m--> 302\u001b[0;31m                 \u001b[0mwaiter\u001b[0m\u001b[0;34m.\u001b[0m\u001b[0macquire\u001b[0m\u001b[0;34m(\u001b[0m\u001b[0;34m)\u001b[0m\u001b[0;34m\u001b[0m\u001b[0;34m\u001b[0m\u001b[0m\n\u001b[0m\u001b[1;32m    303\u001b[0m                 \u001b[0mgotit\u001b[0m \u001b[0;34m=\u001b[0m \u001b[0;32mTrue\u001b[0m\u001b[0;34m\u001b[0m\u001b[0;34m\u001b[0m\u001b[0m\n\u001b[1;32m    304\u001b[0m             \u001b[0;32melse\u001b[0m\u001b[0;34m:\u001b[0m\u001b[0;34m\u001b[0m\u001b[0;34m\u001b[0m\u001b[0m\n",
            "\u001b[0;31mKeyboardInterrupt\u001b[0m: "
          ]
        }
      ],
      "source": [
        "# Instanciation \n",
        "#SVM avec un noyau polynomial de degré 5 - temps d'excécution max attendu : 20 min - 30 min : pas terminé\n",
        "SVM= SVC(kernel=\"poly\", class_weight='balanced', degree=5,random_state=0)\n",
        "\n",
        "# Fit your pipeline onto your training set (centré-réduit) and obtain predictions by fitting the model onto the test data\n",
        "classifier1 = delayed(SVM.fit)(X_train, y_train).compute()"
      ]
    },
    {
      "cell_type": "code",
      "execution_count": null,
      "id": "cf7d4af5",
      "metadata": {
        "id": "cf7d4af5"
      },
      "outputs": [],
      "source": [
        "classifier1"
      ]
    },
    {
      "cell_type": "code",
      "execution_count": null,
      "id": "9a7b281d",
      "metadata": {
        "id": "9a7b281d"
      },
      "outputs": [],
      "source": [
        "performances(classifier1, X_test, y_test,scale=True)"
      ]
    },
    {
      "cell_type": "code",
      "execution_count": null,
      "id": "e5b307d3",
      "metadata": {
        "id": "e5b307d3"
      },
      "outputs": [],
      "source": [
        "# Instanciation : tentative annulée en raison des temps de traitement\n",
        "#SVM avec un noyau gaussien pour résoudre les problèmes de non séparabilité linéaire\n",
        "SVM= SVC(kernel='rbf', class_weight='balanced',gamma=0.1)\n",
        "\n",
        "# Fit your pipeline onto your training set (centré-réduit) and obtain predictions by fitting the model onto the test data\n",
        "classifier2 = delayed(SVM.fit)(X_train, y_train).compute()\n"
      ]
    },
    {
      "cell_type": "code",
      "execution_count": null,
      "id": "5f6f3ce6",
      "metadata": {
        "id": "5f6f3ce6"
      },
      "outputs": [],
      "source": [
        "classifier2"
      ]
    },
    {
      "cell_type": "code",
      "execution_count": null,
      "id": "7c6ffc32",
      "metadata": {
        "id": "7c6ffc32"
      },
      "outputs": [],
      "source": [
        "performances(classifier2, X_test, y_test,scale=True)"
      ]
    },
    {
      "cell_type": "markdown",
      "id": "40fa6977",
      "metadata": {
        "id": "40fa6977"
      },
      "source": [
        "# B. avec borderline SMOTE"
      ]
    },
    {
      "cell_type": "code",
      "execution_count": 35,
      "id": "f765522f",
      "metadata": {
        "id": "f765522f"
      },
      "outputs": [],
      "source": [
        "# Dataframe d’apprentissage recalibré avec borderline SMOTE (k=3 ; k'=2) et centré-réduit\n",
        "df_train = dd.read_parquet('/content/drive/MyDrive/ab/train_borderS')\n",
        "X_train = df_train.drop([\"FlagImpaye\"], axis = \"columns\")\n",
        "y_train = df_train[\"FlagImpaye\"]"
      ]
    },
    {
      "cell_type": "code",
      "source": [
        "scaler = StandardScaler()\n",
        "X_train = scaler.fit_transform(X_train)"
      ],
      "metadata": {
        "colab": {
          "base_uri": "https://localhost:8080/",
          "height": 328
        },
        "id": "0GONf4N6f5iF",
        "outputId": "fb81bef2-cf5d-45d4-ceca-9d903c5b2405"
      },
      "id": "0GONf4N6f5iF",
      "execution_count": 36,
      "outputs": [
        {
          "output_type": "error",
          "ename": "KeyboardInterrupt",
          "evalue": "ignored",
          "traceback": [
            "\u001b[0;31m---------------------------------------------------------------------------\u001b[0m",
            "\u001b[0;31mKeyboardInterrupt\u001b[0m                         Traceback (most recent call last)",
            "\u001b[0;32m<ipython-input-36-408b6c1bb56b>\u001b[0m in \u001b[0;36m<module>\u001b[0;34m\u001b[0m\n\u001b[1;32m      1\u001b[0m \u001b[0mscaler\u001b[0m \u001b[0;34m=\u001b[0m \u001b[0mStandardScaler\u001b[0m\u001b[0;34m(\u001b[0m\u001b[0;34m)\u001b[0m\u001b[0;34m\u001b[0m\u001b[0;34m\u001b[0m\u001b[0m\n\u001b[0;32m----> 2\u001b[0;31m \u001b[0mX_train\u001b[0m \u001b[0;34m=\u001b[0m \u001b[0mscaler\u001b[0m\u001b[0;34m.\u001b[0m\u001b[0mfit_transform\u001b[0m\u001b[0;34m(\u001b[0m\u001b[0mX_train\u001b[0m\u001b[0;34m)\u001b[0m\u001b[0;34m\u001b[0m\u001b[0;34m\u001b[0m\u001b[0m\n\u001b[0m",
            "\u001b[0;32m/usr/local/lib/python3.8/dist-packages/sklearn/base.py\u001b[0m in \u001b[0;36mfit_transform\u001b[0;34m(self, X, y, **fit_params)\u001b[0m\n\u001b[1;32m    850\u001b[0m         \u001b[0;32mif\u001b[0m \u001b[0my\u001b[0m \u001b[0;32mis\u001b[0m \u001b[0;32mNone\u001b[0m\u001b[0;34m:\u001b[0m\u001b[0;34m\u001b[0m\u001b[0;34m\u001b[0m\u001b[0m\n\u001b[1;32m    851\u001b[0m             \u001b[0;31m# fit method of arity 1 (unsupervised transformation)\u001b[0m\u001b[0;34m\u001b[0m\u001b[0;34m\u001b[0m\u001b[0;34m\u001b[0m\u001b[0m\n\u001b[0;32m--> 852\u001b[0;31m             \u001b[0;32mreturn\u001b[0m \u001b[0mself\u001b[0m\u001b[0;34m.\u001b[0m\u001b[0mfit\u001b[0m\u001b[0;34m(\u001b[0m\u001b[0mX\u001b[0m\u001b[0;34m,\u001b[0m \u001b[0;34m**\u001b[0m\u001b[0mfit_params\u001b[0m\u001b[0;34m)\u001b[0m\u001b[0;34m.\u001b[0m\u001b[0mtransform\u001b[0m\u001b[0;34m(\u001b[0m\u001b[0mX\u001b[0m\u001b[0;34m)\u001b[0m\u001b[0;34m\u001b[0m\u001b[0;34m\u001b[0m\u001b[0m\n\u001b[0m\u001b[1;32m    853\u001b[0m         \u001b[0;32melse\u001b[0m\u001b[0;34m:\u001b[0m\u001b[0;34m\u001b[0m\u001b[0;34m\u001b[0m\u001b[0m\n\u001b[1;32m    854\u001b[0m             \u001b[0;31m# fit method of arity 2 (supervised transformation)\u001b[0m\u001b[0;34m\u001b[0m\u001b[0;34m\u001b[0m\u001b[0;34m\u001b[0m\u001b[0m\n",
            "\u001b[0;32m/usr/local/lib/python3.8/dist-packages/dask_ml/preprocessing/data.py\u001b[0m in \u001b[0;36mfit\u001b[0;34m(self, X, y)\u001b[0m\n\u001b[1;32m     85\u001b[0m \u001b[0;34m\u001b[0m\u001b[0m\n\u001b[1;32m     86\u001b[0m         \u001b[0mattributes\u001b[0m\u001b[0;34m[\u001b[0m\u001b[0;34m\"n_samples_seen_\"\u001b[0m\u001b[0;34m]\u001b[0m \u001b[0;34m=\u001b[0m \u001b[0mX\u001b[0m\u001b[0;34m.\u001b[0m\u001b[0mshape\u001b[0m\u001b[0;34m[\u001b[0m\u001b[0;36m0\u001b[0m\u001b[0;34m]\u001b[0m\u001b[0;34m\u001b[0m\u001b[0;34m\u001b[0m\u001b[0m\n\u001b[0;32m---> 87\u001b[0;31m         \u001b[0mvalues\u001b[0m \u001b[0;34m=\u001b[0m \u001b[0mcompute\u001b[0m\u001b[0;34m(\u001b[0m\u001b[0;34m*\u001b[0m\u001b[0mattributes\u001b[0m\u001b[0;34m.\u001b[0m\u001b[0mvalues\u001b[0m\u001b[0;34m(\u001b[0m\u001b[0;34m)\u001b[0m\u001b[0;34m)\u001b[0m\u001b[0;34m\u001b[0m\u001b[0;34m\u001b[0m\u001b[0m\n\u001b[0m\u001b[1;32m     88\u001b[0m         \u001b[0;32mfor\u001b[0m \u001b[0mk\u001b[0m\u001b[0;34m,\u001b[0m \u001b[0mv\u001b[0m \u001b[0;32min\u001b[0m \u001b[0mzip\u001b[0m\u001b[0;34m(\u001b[0m\u001b[0mattributes\u001b[0m\u001b[0;34m,\u001b[0m \u001b[0mvalues\u001b[0m\u001b[0;34m)\u001b[0m\u001b[0;34m:\u001b[0m\u001b[0;34m\u001b[0m\u001b[0;34m\u001b[0m\u001b[0m\n\u001b[1;32m     89\u001b[0m             \u001b[0msetattr\u001b[0m\u001b[0;34m(\u001b[0m\u001b[0mself\u001b[0m\u001b[0;34m,\u001b[0m \u001b[0mk\u001b[0m\u001b[0;34m,\u001b[0m \u001b[0mv\u001b[0m\u001b[0;34m)\u001b[0m\u001b[0;34m\u001b[0m\u001b[0;34m\u001b[0m\u001b[0m\n",
            "\u001b[0;32m/usr/local/lib/python3.8/dist-packages/dask/base.py\u001b[0m in \u001b[0;36mcompute\u001b[0;34m(traverse, optimize_graph, scheduler, get, *args, **kwargs)\u001b[0m\n\u001b[1;32m    571\u001b[0m         \u001b[0mpostcomputes\u001b[0m\u001b[0;34m.\u001b[0m\u001b[0mappend\u001b[0m\u001b[0;34m(\u001b[0m\u001b[0mx\u001b[0m\u001b[0;34m.\u001b[0m\u001b[0m__dask_postcompute__\u001b[0m\u001b[0;34m(\u001b[0m\u001b[0;34m)\u001b[0m\u001b[0;34m)\u001b[0m\u001b[0;34m\u001b[0m\u001b[0;34m\u001b[0m\u001b[0m\n\u001b[1;32m    572\u001b[0m \u001b[0;34m\u001b[0m\u001b[0m\n\u001b[0;32m--> 573\u001b[0;31m     \u001b[0mresults\u001b[0m \u001b[0;34m=\u001b[0m \u001b[0mschedule\u001b[0m\u001b[0;34m(\u001b[0m\u001b[0mdsk\u001b[0m\u001b[0;34m,\u001b[0m \u001b[0mkeys\u001b[0m\u001b[0;34m,\u001b[0m \u001b[0;34m**\u001b[0m\u001b[0mkwargs\u001b[0m\u001b[0;34m)\u001b[0m\u001b[0;34m\u001b[0m\u001b[0;34m\u001b[0m\u001b[0m\n\u001b[0m\u001b[1;32m    574\u001b[0m     \u001b[0;32mreturn\u001b[0m \u001b[0mrepack\u001b[0m\u001b[0;34m(\u001b[0m\u001b[0;34m[\u001b[0m\u001b[0mf\u001b[0m\u001b[0;34m(\u001b[0m\u001b[0mr\u001b[0m\u001b[0;34m,\u001b[0m \u001b[0;34m*\u001b[0m\u001b[0ma\u001b[0m\u001b[0;34m)\u001b[0m \u001b[0;32mfor\u001b[0m \u001b[0mr\u001b[0m\u001b[0;34m,\u001b[0m \u001b[0;34m(\u001b[0m\u001b[0mf\u001b[0m\u001b[0;34m,\u001b[0m \u001b[0ma\u001b[0m\u001b[0;34m)\u001b[0m \u001b[0;32min\u001b[0m \u001b[0mzip\u001b[0m\u001b[0;34m(\u001b[0m\u001b[0mresults\u001b[0m\u001b[0;34m,\u001b[0m \u001b[0mpostcomputes\u001b[0m\u001b[0;34m)\u001b[0m\u001b[0;34m]\u001b[0m\u001b[0;34m)\u001b[0m\u001b[0;34m\u001b[0m\u001b[0;34m\u001b[0m\u001b[0m\n\u001b[1;32m    575\u001b[0m \u001b[0;34m\u001b[0m\u001b[0m\n",
            "\u001b[0;32m/usr/local/lib/python3.8/dist-packages/dask/threaded.py\u001b[0m in \u001b[0;36mget\u001b[0;34m(dsk, result, cache, num_workers, pool, **kwargs)\u001b[0m\n\u001b[1;32m     79\u001b[0m             \u001b[0mpool\u001b[0m \u001b[0;34m=\u001b[0m \u001b[0mMultiprocessingPoolExecutor\u001b[0m\u001b[0;34m(\u001b[0m\u001b[0mpool\u001b[0m\u001b[0;34m)\u001b[0m\u001b[0;34m\u001b[0m\u001b[0;34m\u001b[0m\u001b[0m\n\u001b[1;32m     80\u001b[0m \u001b[0;34m\u001b[0m\u001b[0m\n\u001b[0;32m---> 81\u001b[0;31m     results = get_async(\n\u001b[0m\u001b[1;32m     82\u001b[0m         \u001b[0mpool\u001b[0m\u001b[0;34m.\u001b[0m\u001b[0msubmit\u001b[0m\u001b[0;34m,\u001b[0m\u001b[0;34m\u001b[0m\u001b[0;34m\u001b[0m\u001b[0m\n\u001b[1;32m     83\u001b[0m         \u001b[0mpool\u001b[0m\u001b[0;34m.\u001b[0m\u001b[0m_max_workers\u001b[0m\u001b[0;34m,\u001b[0m\u001b[0;34m\u001b[0m\u001b[0;34m\u001b[0m\u001b[0m\n",
            "\u001b[0;32m/usr/local/lib/python3.8/dist-packages/dask/local.py\u001b[0m in \u001b[0;36mget_async\u001b[0;34m(submit, num_workers, dsk, result, cache, get_id, rerun_exceptions_locally, pack_exception, raise_exception, callbacks, dumps, loads, chunksize, **kwargs)\u001b[0m\n\u001b[1;32m    493\u001b[0m             \u001b[0;32mwhile\u001b[0m \u001b[0mstate\u001b[0m\u001b[0;34m[\u001b[0m\u001b[0;34m\"waiting\"\u001b[0m\u001b[0;34m]\u001b[0m \u001b[0;32mor\u001b[0m \u001b[0mstate\u001b[0m\u001b[0;34m[\u001b[0m\u001b[0;34m\"ready\"\u001b[0m\u001b[0;34m]\u001b[0m \u001b[0;32mor\u001b[0m \u001b[0mstate\u001b[0m\u001b[0;34m[\u001b[0m\u001b[0;34m\"running\"\u001b[0m\u001b[0;34m]\u001b[0m\u001b[0;34m:\u001b[0m\u001b[0;34m\u001b[0m\u001b[0;34m\u001b[0m\u001b[0m\n\u001b[1;32m    494\u001b[0m                 \u001b[0mfire_tasks\u001b[0m\u001b[0;34m(\u001b[0m\u001b[0mchunksize\u001b[0m\u001b[0;34m)\u001b[0m\u001b[0;34m\u001b[0m\u001b[0;34m\u001b[0m\u001b[0m\n\u001b[0;32m--> 495\u001b[0;31m                 \u001b[0;32mfor\u001b[0m \u001b[0mkey\u001b[0m\u001b[0;34m,\u001b[0m \u001b[0mres_info\u001b[0m\u001b[0;34m,\u001b[0m \u001b[0mfailed\u001b[0m \u001b[0;32min\u001b[0m \u001b[0mqueue_get\u001b[0m\u001b[0;34m(\u001b[0m\u001b[0mqueue\u001b[0m\u001b[0;34m)\u001b[0m\u001b[0;34m.\u001b[0m\u001b[0mresult\u001b[0m\u001b[0;34m(\u001b[0m\u001b[0;34m)\u001b[0m\u001b[0;34m:\u001b[0m\u001b[0;34m\u001b[0m\u001b[0;34m\u001b[0m\u001b[0m\n\u001b[0m\u001b[1;32m    496\u001b[0m                     \u001b[0;32mif\u001b[0m \u001b[0mfailed\u001b[0m\u001b[0;34m:\u001b[0m\u001b[0;34m\u001b[0m\u001b[0;34m\u001b[0m\u001b[0m\n\u001b[1;32m    497\u001b[0m                         \u001b[0mexc\u001b[0m\u001b[0;34m,\u001b[0m \u001b[0mtb\u001b[0m \u001b[0;34m=\u001b[0m \u001b[0mloads\u001b[0m\u001b[0;34m(\u001b[0m\u001b[0mres_info\u001b[0m\u001b[0;34m)\u001b[0m\u001b[0;34m\u001b[0m\u001b[0;34m\u001b[0m\u001b[0m\n",
            "\u001b[0;32m/usr/local/lib/python3.8/dist-packages/dask/local.py\u001b[0m in \u001b[0;36mqueue_get\u001b[0;34m(q)\u001b[0m\n\u001b[1;32m    131\u001b[0m \u001b[0;34m\u001b[0m\u001b[0m\n\u001b[1;32m    132\u001b[0m     \u001b[0;32mdef\u001b[0m \u001b[0mqueue_get\u001b[0m\u001b[0;34m(\u001b[0m\u001b[0mq\u001b[0m\u001b[0;34m)\u001b[0m\u001b[0;34m:\u001b[0m\u001b[0;34m\u001b[0m\u001b[0;34m\u001b[0m\u001b[0m\n\u001b[0;32m--> 133\u001b[0;31m         \u001b[0;32mreturn\u001b[0m \u001b[0mq\u001b[0m\u001b[0;34m.\u001b[0m\u001b[0mget\u001b[0m\u001b[0;34m(\u001b[0m\u001b[0;34m)\u001b[0m\u001b[0;34m\u001b[0m\u001b[0;34m\u001b[0m\u001b[0m\n\u001b[0m\u001b[1;32m    134\u001b[0m \u001b[0;34m\u001b[0m\u001b[0m\n\u001b[1;32m    135\u001b[0m \u001b[0;34m\u001b[0m\u001b[0m\n",
            "\u001b[0;32m/usr/lib/python3.8/queue.py\u001b[0m in \u001b[0;36mget\u001b[0;34m(self, block, timeout)\u001b[0m\n\u001b[1;32m    168\u001b[0m             \u001b[0;32melif\u001b[0m \u001b[0mtimeout\u001b[0m \u001b[0;32mis\u001b[0m \u001b[0;32mNone\u001b[0m\u001b[0;34m:\u001b[0m\u001b[0;34m\u001b[0m\u001b[0;34m\u001b[0m\u001b[0m\n\u001b[1;32m    169\u001b[0m                 \u001b[0;32mwhile\u001b[0m \u001b[0;32mnot\u001b[0m \u001b[0mself\u001b[0m\u001b[0;34m.\u001b[0m\u001b[0m_qsize\u001b[0m\u001b[0;34m(\u001b[0m\u001b[0;34m)\u001b[0m\u001b[0;34m:\u001b[0m\u001b[0;34m\u001b[0m\u001b[0;34m\u001b[0m\u001b[0m\n\u001b[0;32m--> 170\u001b[0;31m                     \u001b[0mself\u001b[0m\u001b[0;34m.\u001b[0m\u001b[0mnot_empty\u001b[0m\u001b[0;34m.\u001b[0m\u001b[0mwait\u001b[0m\u001b[0;34m(\u001b[0m\u001b[0;34m)\u001b[0m\u001b[0;34m\u001b[0m\u001b[0;34m\u001b[0m\u001b[0m\n\u001b[0m\u001b[1;32m    171\u001b[0m             \u001b[0;32melif\u001b[0m \u001b[0mtimeout\u001b[0m \u001b[0;34m<\u001b[0m \u001b[0;36m0\u001b[0m\u001b[0;34m:\u001b[0m\u001b[0;34m\u001b[0m\u001b[0;34m\u001b[0m\u001b[0m\n\u001b[1;32m    172\u001b[0m                 \u001b[0;32mraise\u001b[0m \u001b[0mValueError\u001b[0m\u001b[0;34m(\u001b[0m\u001b[0;34m\"'timeout' must be a non-negative number\"\u001b[0m\u001b[0;34m)\u001b[0m\u001b[0;34m\u001b[0m\u001b[0;34m\u001b[0m\u001b[0m\n",
            "\u001b[0;32m/usr/lib/python3.8/threading.py\u001b[0m in \u001b[0;36mwait\u001b[0;34m(self, timeout)\u001b[0m\n\u001b[1;32m    300\u001b[0m         \u001b[0;32mtry\u001b[0m\u001b[0;34m:\u001b[0m    \u001b[0;31m# restore state no matter what (e.g., KeyboardInterrupt)\u001b[0m\u001b[0;34m\u001b[0m\u001b[0;34m\u001b[0m\u001b[0m\n\u001b[1;32m    301\u001b[0m             \u001b[0;32mif\u001b[0m \u001b[0mtimeout\u001b[0m \u001b[0;32mis\u001b[0m \u001b[0;32mNone\u001b[0m\u001b[0;34m:\u001b[0m\u001b[0;34m\u001b[0m\u001b[0;34m\u001b[0m\u001b[0m\n\u001b[0;32m--> 302\u001b[0;31m                 \u001b[0mwaiter\u001b[0m\u001b[0;34m.\u001b[0m\u001b[0macquire\u001b[0m\u001b[0;34m(\u001b[0m\u001b[0;34m)\u001b[0m\u001b[0;34m\u001b[0m\u001b[0;34m\u001b[0m\u001b[0m\n\u001b[0m\u001b[1;32m    303\u001b[0m                 \u001b[0mgotit\u001b[0m \u001b[0;34m=\u001b[0m \u001b[0;32mTrue\u001b[0m\u001b[0;34m\u001b[0m\u001b[0;34m\u001b[0m\u001b[0m\n\u001b[1;32m    304\u001b[0m             \u001b[0;32melse\u001b[0m\u001b[0;34m:\u001b[0m\u001b[0;34m\u001b[0m\u001b[0;34m\u001b[0m\u001b[0m\n",
            "\u001b[0;31mKeyboardInterrupt\u001b[0m: "
          ]
        }
      ]
    },
    {
      "cell_type": "code",
      "execution_count": null,
      "id": "a3ad3f09",
      "metadata": {
        "id": "a3ad3f09"
      },
      "outputs": [],
      "source": [
        "# Instanciation \n",
        "#SVM avec un noyau polynomial de degré 5\n",
        "SVM= SVC(kernel=\"poly\", degree=5,random_state=0,gamma=0.1)\n",
        "\n",
        "# Fit your pipeline onto your training set (centré-réduit) and obtain predictions by fitting the model onto the test data\n",
        "classifier1b = delayed(SVM.fit)(X_train, y_train).compute()"
      ]
    },
    {
      "cell_type": "code",
      "execution_count": null,
      "id": "2f186d9c",
      "metadata": {
        "id": "2f186d9c"
      },
      "outputs": [],
      "source": [
        "classifier1b"
      ]
    },
    {
      "cell_type": "code",
      "execution_count": null,
      "id": "f2d1dff4",
      "metadata": {
        "id": "f2d1dff4"
      },
      "outputs": [],
      "source": [
        "performances(classifier1b, X_test, y_test,scale=True)"
      ]
    },
    {
      "cell_type": "code",
      "execution_count": null,
      "id": "b5ceb83f",
      "metadata": {
        "id": "b5ceb83f"
      },
      "outputs": [],
      "source": [
        "# Instanciation \n",
        "#SVM avec un noyau gaussien pour résoudre les problèmes de non séparabilité linéaire\n",
        "SVM= SVC(kernel='rbf',gamma=0.1)\n",
        "\n",
        "# Fit your pipeline onto your training set (centré-réduit) and obtain predictions by fitting the model onto the test data\n",
        "classifier2b = delayed(SVM.fit)(X_train, y_train).compute()"
      ]
    },
    {
      "cell_type": "code",
      "execution_count": null,
      "id": "26088579",
      "metadata": {
        "id": "26088579"
      },
      "outputs": [],
      "source": [
        "classifier2b"
      ]
    },
    {
      "cell_type": "code",
      "execution_count": null,
      "id": "e40be2df",
      "metadata": {
        "id": "e40be2df"
      },
      "outputs": [],
      "source": [
        "performances(classifier2b, X_test, y_test,scale=True)"
      ]
    },
    {
      "cell_type": "markdown",
      "id": "86798c4d",
      "metadata": {
        "id": "86798c4d"
      },
      "source": [
        "# C. avec SMOTE"
      ]
    },
    {
      "cell_type": "code",
      "execution_count": null,
      "id": "6566ca5f",
      "metadata": {
        "id": "6566ca5f"
      },
      "outputs": [],
      "source": [
        "# Dataframe d’apprentissage recalibré avec borderline SMOTE (k=3 ; k'=2) et centré-réduit\n",
        "df_train = dd.read_parquet(\"train_SMOTE\")\n",
        "X_train = df_train.drop([\"FlagImpaye\"], axis = \"columns\")\n",
        "y_train = df_train[\"FlagImpaye\"]\n",
        "scaler = StandardScaler()\n",
        "X_train = scaler.fit_transform(X_train)"
      ]
    },
    {
      "cell_type": "code",
      "execution_count": null,
      "id": "24a440ff",
      "metadata": {
        "id": "24a440ff"
      },
      "outputs": [],
      "source": [
        "# Instanciation \n",
        "#SVM avec un noyau polynomial de degré 5\n",
        "SVM= SVC(kernel=\"poly\", degree=5,random_state=0,gamma=0.1)\n",
        "\n",
        "# Fit your pipeline onto your training set (centré-réduit) and obtain predictions by fitting the model onto the test data\n",
        "classifier1S = delayed(SVM.fit)(X_train, y_train).compute()"
      ]
    },
    {
      "cell_type": "code",
      "execution_count": null,
      "id": "6888baa4",
      "metadata": {
        "id": "6888baa4"
      },
      "outputs": [],
      "source": [
        "classifier1S"
      ]
    },
    {
      "cell_type": "code",
      "execution_count": null,
      "id": "604fde7d",
      "metadata": {
        "id": "604fde7d"
      },
      "outputs": [],
      "source": [
        "performances(classifier1S, X_test, y_test,scale=True)"
      ]
    },
    {
      "cell_type": "code",
      "execution_count": null,
      "id": "6ba0b5f7",
      "metadata": {
        "id": "6ba0b5f7"
      },
      "outputs": [],
      "source": [
        "# Instanciation \n",
        "#SVM avec un noyau gaussien pour résoudre les problèmes de non séparabilité linéaire\n",
        "SVM= SVC(kernel='rbf',gamma=0.1)\n",
        "\n",
        "# Fit your pipeline onto your training set (centré-réduit) and obtain predictions by fitting the model onto the test data\n",
        "classifier2S = delayed(SVM.fit)(X_train, y_train).compute()"
      ]
    },
    {
      "cell_type": "code",
      "execution_count": null,
      "id": "0a5857c1",
      "metadata": {
        "id": "0a5857c1"
      },
      "outputs": [],
      "source": [
        "classifier2S"
      ]
    },
    {
      "cell_type": "code",
      "execution_count": null,
      "id": "543a2e4c",
      "metadata": {
        "id": "543a2e4c"
      },
      "outputs": [],
      "source": [
        "performances(classifier2S, X_test, y_test,scale=True)"
      ]
    }
  ],
  "metadata": {
    "kernelspec": {
      "display_name": "Python 3 (ipykernel)",
      "language": "python",
      "name": "python3"
    },
    "language_info": {
      "codemirror_mode": {
        "name": "ipython",
        "version": 3
      },
      "file_extension": ".py",
      "mimetype": "text/x-python",
      "name": "python",
      "nbconvert_exporter": "python",
      "pygments_lexer": "ipython3",
      "version": "3.9.12"
    },
    "colab": {
      "provenance": []
    }
  },
  "nbformat": 4,
  "nbformat_minor": 5
}