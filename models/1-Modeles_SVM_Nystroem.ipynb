{
 "cells": [
  {
   "cell_type": "markdown",
   "id": "0eb66983",
   "metadata": {},
   "source": [
    "# Modèles basés sur des SVM\n",
    "   Avec benchmark des méthodes de recalibrage."
   ]
  },
  {
   "cell_type": "markdown",
   "id": "84cc4363",
   "metadata": {},
   "source": [
    "**(1) Importation des librairies**"
   ]
  },
  {
   "cell_type": "code",
   "execution_count": 1,
   "id": "b55f6234",
   "metadata": {},
   "outputs": [],
   "source": [
    "import os\n",
    "import pandas as pd\n",
    "import numpy as np\n",
    "import dask.dataframe as dd\n",
    "import matplotlib.pyplot as plt\n",
    "import sys \n",
    "import fastparquet\n",
    "import dask_ml \n",
    "from dask import delayed\n",
    "from sklearn.metrics import *\n",
    "import scikitplot as skplt\n",
    "from dask_ml.preprocessing import StandardScaler\n",
    "import pickle\n",
    "import dask\n",
    "from sklearn.tree import DecisionTreeClassifier"
   ]
  },
  {
   "cell_type": "markdown",
   "id": "2231ae53",
   "metadata": {},
   "source": [
    "**(2) Import de l'algorithme SVM**"
   ]
  },
  {
   "cell_type": "code",
   "execution_count": 2,
   "id": "bd183d96",
   "metadata": {},
   "outputs": [],
   "source": [
    "from sklearn import svm\n",
    "from sklearn.svm import SVC"
   ]
  },
  {
   "cell_type": "code",
   "execution_count": 3,
   "id": "bd468338",
   "metadata": {},
   "outputs": [],
   "source": [
    "#pip install dask.ml"
   ]
  },
  {
   "cell_type": "code",
   "execution_count": 4,
   "id": "0bbe588f",
   "metadata": {},
   "outputs": [],
   "source": [
    "#pip install scikit-plot"
   ]
  },
  {
   "cell_type": "markdown",
   "id": "aba3a5fb",
   "metadata": {},
   "source": [
    "# I. Préparation"
   ]
  },
  {
   "cell_type": "markdown",
   "id": "35baaa9e",
   "metadata": {},
   "source": [
    "**(1) variables explicatives, variable à prédire et centrage-réduction**"
   ]
  },
  {
   "cell_type": "code",
   "execution_count": 5,
   "id": "a9ad043b",
   "metadata": {},
   "outputs": [],
   "source": [
    "import os\n",
    "os.chdir(\"C:/Fouille-donnees-massives\")"
   ]
  },
  {
   "cell_type": "code",
   "execution_count": 6,
   "id": "74bac687",
   "metadata": {},
   "outputs": [
    {
     "name": "stdout",
     "output_type": "stream",
     "text": [
      "<class 'dask.dataframe.core.DataFrame'>\n",
      "Columns: 12 entries, FlagImpaye to CA3TR\n",
      "dtypes: float64(7), int64(5)"
     ]
    }
   ],
   "source": [
    "# Dataframe d’apprentissage brut\n",
    "df_train = dd.read_parquet(\"train_fast\")\n",
    "df_train.info()"
   ]
  },
  {
   "cell_type": "code",
   "execution_count": 7,
   "id": "53232750",
   "metadata": {},
   "outputs": [
    {
     "data": {
      "text/html": [
       "<div>\n",
       "<style scoped>\n",
       "    .dataframe tbody tr th:only-of-type {\n",
       "        vertical-align: middle;\n",
       "    }\n",
       "\n",
       "    .dataframe tbody tr th {\n",
       "        vertical-align: top;\n",
       "    }\n",
       "\n",
       "    .dataframe thead th {\n",
       "        text-align: right;\n",
       "    }\n",
       "</style>\n",
       "<table border=\"1\" class=\"dataframe\">\n",
       "  <thead>\n",
       "    <tr style=\"text-align: right;\">\n",
       "      <th></th>\n",
       "      <th>FlagImpaye</th>\n",
       "      <th>Montant</th>\n",
       "      <th>VerifianceCPT1</th>\n",
       "      <th>D2CB</th>\n",
       "      <th>ScoringFP1</th>\n",
       "      <th>ScoringFP2</th>\n",
       "      <th>ScoringFP3</th>\n",
       "      <th>TauxImpNB_CPM</th>\n",
       "      <th>EcartNumCheq</th>\n",
       "      <th>NbrMagasin3J</th>\n",
       "      <th>DiffDateTr3</th>\n",
       "      <th>CA3TR</th>\n",
       "    </tr>\n",
       "  </thead>\n",
       "  <tbody>\n",
       "    <tr>\n",
       "      <th>3899362</th>\n",
       "      <td>0</td>\n",
       "      <td>60.00</td>\n",
       "      <td>0</td>\n",
       "      <td>302</td>\n",
       "      <td>0.000000</td>\n",
       "      <td>0.000000</td>\n",
       "      <td>0.000000</td>\n",
       "      <td>52.076034</td>\n",
       "      <td>0</td>\n",
       "      <td>1</td>\n",
       "      <td>4.000000</td>\n",
       "      <td>0.00</td>\n",
       "    </tr>\n",
       "    <tr>\n",
       "      <th>3899363</th>\n",
       "      <td>0</td>\n",
       "      <td>25.00</td>\n",
       "      <td>0</td>\n",
       "      <td>547</td>\n",
       "      <td>0.000000</td>\n",
       "      <td>0.000000</td>\n",
       "      <td>0.000000</td>\n",
       "      <td>52.076034</td>\n",
       "      <td>0</td>\n",
       "      <td>1</td>\n",
       "      <td>4.000000</td>\n",
       "      <td>0.00</td>\n",
       "    </tr>\n",
       "    <tr>\n",
       "      <th>3899364</th>\n",
       "      <td>0</td>\n",
       "      <td>32.00</td>\n",
       "      <td>0</td>\n",
       "      <td>152</td>\n",
       "      <td>0.000000</td>\n",
       "      <td>0.000000</td>\n",
       "      <td>0.000000</td>\n",
       "      <td>52.076034</td>\n",
       "      <td>0</td>\n",
       "      <td>1</td>\n",
       "      <td>4.000000</td>\n",
       "      <td>0.00</td>\n",
       "    </tr>\n",
       "    <tr>\n",
       "      <th>3899365</th>\n",
       "      <td>0</td>\n",
       "      <td>20.88</td>\n",
       "      <td>0</td>\n",
       "      <td>393</td>\n",
       "      <td>0.007590</td>\n",
       "      <td>0.182221</td>\n",
       "      <td>0.002092</td>\n",
       "      <td>34.118277</td>\n",
       "      <td>4</td>\n",
       "      <td>1</td>\n",
       "      <td>1.539155</td>\n",
       "      <td>71.51</td>\n",
       "    </tr>\n",
       "    <tr>\n",
       "      <th>3899366</th>\n",
       "      <td>0</td>\n",
       "      <td>20.21</td>\n",
       "      <td>0</td>\n",
       "      <td>152</td>\n",
       "      <td>0.018994</td>\n",
       "      <td>-1.024399</td>\n",
       "      <td>0.005682</td>\n",
       "      <td>52.076034</td>\n",
       "      <td>0</td>\n",
       "      <td>1</td>\n",
       "      <td>4.000000</td>\n",
       "      <td>0.00</td>\n",
       "    </tr>\n",
       "  </tbody>\n",
       "</table>\n",
       "</div>"
      ],
      "text/plain": [
       "         FlagImpaye  Montant  VerifianceCPT1  D2CB  ScoringFP1  ScoringFP2  \\\n",
       "3899362           0    60.00               0   302    0.000000    0.000000   \n",
       "3899363           0    25.00               0   547    0.000000    0.000000   \n",
       "3899364           0    32.00               0   152    0.000000    0.000000   \n",
       "3899365           0    20.88               0   393    0.007590    0.182221   \n",
       "3899366           0    20.21               0   152    0.018994   -1.024399   \n",
       "\n",
       "         ScoringFP3  TauxImpNB_CPM  EcartNumCheq  NbrMagasin3J  DiffDateTr3  \\\n",
       "3899362    0.000000      52.076034             0             1     4.000000   \n",
       "3899363    0.000000      52.076034             0             1     4.000000   \n",
       "3899364    0.000000      52.076034             0             1     4.000000   \n",
       "3899365    0.002092      34.118277             4             1     1.539155   \n",
       "3899366    0.005682      52.076034             0             1     4.000000   \n",
       "\n",
       "         CA3TR  \n",
       "3899362   0.00  \n",
       "3899363   0.00  \n",
       "3899364   0.00  \n",
       "3899365  71.51  \n",
       "3899366   0.00  "
      ]
     },
     "execution_count": 7,
     "metadata": {},
     "output_type": "execute_result"
    }
   ],
   "source": [
    "# Dataframe de test\n",
    "df_test = dd.read_parquet(\"test_fast\")\n",
    "df_test.head()"
   ]
  },
  {
   "cell_type": "code",
   "execution_count": 8,
   "id": "4d3a9f02",
   "metadata": {},
   "outputs": [],
   "source": [
    "# Définir les variables explicatives et la variable cible \n",
    "X_train = df_train.drop([\"FlagImpaye\"], axis = \"columns\")\n",
    "X_test = df_test.drop([\"FlagImpaye\"], axis = \"columns\")\n",
    "\n",
    "y_train = df_train[\"FlagImpaye\"]\n",
    "y_test = df_test[\"FlagImpaye\"]"
   ]
  },
  {
   "cell_type": "code",
   "execution_count": 9,
   "id": "731d3d1b",
   "metadata": {},
   "outputs": [
    {
     "name": "stdout",
     "output_type": "stream",
     "text": [
      "<class 'dask.dataframe.core.DataFrame'>\n",
      "Columns: 11 entries, Montant to CA3TR\n",
      "dtypes: float64(7), int64(4)"
     ]
    }
   ],
   "source": [
    "X_train.info()"
   ]
  },
  {
   "cell_type": "code",
   "execution_count": 10,
   "id": "9d97dd18",
   "metadata": {},
   "outputs": [],
   "source": [
    "# Instanciation de StandardScaler pour centrer-réduire les données\n",
    "scaler = StandardScaler()"
   ]
  },
  {
   "cell_type": "code",
   "execution_count": 11,
   "id": "027f11af",
   "metadata": {},
   "outputs": [
    {
     "data": {
      "text/html": [
       "<div>\n",
       "<style scoped>\n",
       "    .dataframe tbody tr th:only-of-type {\n",
       "        vertical-align: middle;\n",
       "    }\n",
       "\n",
       "    .dataframe tbody tr th {\n",
       "        vertical-align: top;\n",
       "    }\n",
       "\n",
       "    .dataframe thead th {\n",
       "        text-align: right;\n",
       "    }\n",
       "</style>\n",
       "<table border=\"1\" class=\"dataframe\">\n",
       "  <thead>\n",
       "    <tr style=\"text-align: right;\">\n",
       "      <th></th>\n",
       "      <th>Montant</th>\n",
       "      <th>VerifianceCPT1</th>\n",
       "      <th>D2CB</th>\n",
       "      <th>ScoringFP1</th>\n",
       "      <th>ScoringFP2</th>\n",
       "      <th>ScoringFP3</th>\n",
       "      <th>TauxImpNB_CPM</th>\n",
       "      <th>EcartNumCheq</th>\n",
       "      <th>NbrMagasin3J</th>\n",
       "      <th>DiffDateTr3</th>\n",
       "      <th>CA3TR</th>\n",
       "    </tr>\n",
       "  </thead>\n",
       "  <tbody>\n",
       "    <tr>\n",
       "      <th>0</th>\n",
       "      <td>-0.420302</td>\n",
       "      <td>-0.581824</td>\n",
       "      <td>1.017656</td>\n",
       "      <td>-0.084590</td>\n",
       "      <td>-0.239505</td>\n",
       "      <td>-0.275801</td>\n",
       "      <td>0.818043</td>\n",
       "      <td>-0.043817</td>\n",
       "      <td>-0.194165</td>\n",
       "      <td>-0.451325</td>\n",
       "      <td>-0.202861</td>\n",
       "    </tr>\n",
       "    <tr>\n",
       "      <th>1</th>\n",
       "      <td>-0.420302</td>\n",
       "      <td>-0.581824</td>\n",
       "      <td>1.017656</td>\n",
       "      <td>-0.084590</td>\n",
       "      <td>-0.239505</td>\n",
       "      <td>-0.275801</td>\n",
       "      <td>0.818043</td>\n",
       "      <td>-0.043812</td>\n",
       "      <td>4.975724</td>\n",
       "      <td>-0.451325</td>\n",
       "      <td>0.038808</td>\n",
       "    </tr>\n",
       "    <tr>\n",
       "      <th>2</th>\n",
       "      <td>-0.022127</td>\n",
       "      <td>-0.581824</td>\n",
       "      <td>1.008573</td>\n",
       "      <td>-0.084590</td>\n",
       "      <td>-0.239505</td>\n",
       "      <td>-0.275801</td>\n",
       "      <td>0.818043</td>\n",
       "      <td>-0.043817</td>\n",
       "      <td>-0.194165</td>\n",
       "      <td>-0.451325</td>\n",
       "      <td>-0.202861</td>\n",
       "    </tr>\n",
       "    <tr>\n",
       "      <th>3</th>\n",
       "      <td>-0.057565</td>\n",
       "      <td>1.545332</td>\n",
       "      <td>-0.272152</td>\n",
       "      <td>-0.084590</td>\n",
       "      <td>-0.239505</td>\n",
       "      <td>-0.275801</td>\n",
       "      <td>0.906727</td>\n",
       "      <td>-0.043817</td>\n",
       "      <td>-0.194165</td>\n",
       "      <td>-0.451325</td>\n",
       "      <td>-0.202861</td>\n",
       "    </tr>\n",
       "    <tr>\n",
       "      <th>4</th>\n",
       "      <td>-0.347310</td>\n",
       "      <td>-0.581824</td>\n",
       "      <td>1.008573</td>\n",
       "      <td>-0.084434</td>\n",
       "      <td>0.637044</td>\n",
       "      <td>-0.273204</td>\n",
       "      <td>0.818043</td>\n",
       "      <td>-0.043812</td>\n",
       "      <td>-0.194165</td>\n",
       "      <td>-0.451325</td>\n",
       "      <td>0.702346</td>\n",
       "    </tr>\n",
       "  </tbody>\n",
       "</table>\n",
       "</div>"
      ],
      "text/plain": [
       "    Montant  VerifianceCPT1      D2CB  ScoringFP1  ScoringFP2  ScoringFP3  \\\n",
       "0 -0.420302       -0.581824  1.017656   -0.084590   -0.239505   -0.275801   \n",
       "1 -0.420302       -0.581824  1.017656   -0.084590   -0.239505   -0.275801   \n",
       "2 -0.022127       -0.581824  1.008573   -0.084590   -0.239505   -0.275801   \n",
       "3 -0.057565        1.545332 -0.272152   -0.084590   -0.239505   -0.275801   \n",
       "4 -0.347310       -0.581824  1.008573   -0.084434    0.637044   -0.273204   \n",
       "\n",
       "   TauxImpNB_CPM  EcartNumCheq  NbrMagasin3J  DiffDateTr3     CA3TR  \n",
       "0       0.818043     -0.043817     -0.194165    -0.451325 -0.202861  \n",
       "1       0.818043     -0.043812      4.975724    -0.451325  0.038808  \n",
       "2       0.818043     -0.043817     -0.194165    -0.451325 -0.202861  \n",
       "3       0.906727     -0.043817     -0.194165    -0.451325 -0.202861  \n",
       "4       0.818043     -0.043812     -0.194165    -0.451325  0.702346  "
      ]
     },
     "execution_count": 11,
     "metadata": {},
     "output_type": "execute_result"
    }
   ],
   "source": [
    "# Centrer-réduire le dataframe d'apprentissage\n",
    "X_train = scaler.fit_transform(X_train)\n",
    "X_train.head()"
   ]
  },
  {
   "cell_type": "code",
   "execution_count": 40,
   "id": "8eee41b9",
   "metadata": {},
   "outputs": [
    {
     "data": {
      "text/html": [
       "<div>\n",
       "<style scoped>\n",
       "    .dataframe tbody tr th:only-of-type {\n",
       "        vertical-align: middle;\n",
       "    }\n",
       "\n",
       "    .dataframe tbody tr th {\n",
       "        vertical-align: top;\n",
       "    }\n",
       "\n",
       "    .dataframe thead th {\n",
       "        text-align: right;\n",
       "    }\n",
       "</style>\n",
       "<table border=\"1\" class=\"dataframe\">\n",
       "  <thead>\n",
       "    <tr style=\"text-align: right;\">\n",
       "      <th></th>\n",
       "      <th>Montant</th>\n",
       "      <th>VerifianceCPT1</th>\n",
       "      <th>D2CB</th>\n",
       "      <th>ScoringFP1</th>\n",
       "      <th>ScoringFP2</th>\n",
       "      <th>ScoringFP3</th>\n",
       "      <th>TauxImpNB_CPM</th>\n",
       "      <th>EcartNumCheq</th>\n",
       "      <th>NbrMagasin3J</th>\n",
       "      <th>DiffDateTr3</th>\n",
       "      <th>CA3TR</th>\n",
       "    </tr>\n",
       "  </thead>\n",
       "  <tbody>\n",
       "    <tr>\n",
       "      <th>3899362</th>\n",
       "      <td>-0.016999</td>\n",
       "      <td>0.0</td>\n",
       "      <td>0.265719</td>\n",
       "      <td>-0.080269</td>\n",
       "      <td>-0.043960</td>\n",
       "      <td>-0.317899</td>\n",
       "      <td>0.774799</td>\n",
       "      <td>-0.036921</td>\n",
       "      <td>-0.18432</td>\n",
       "      <td>-0.568544</td>\n",
       "      <td>-0.132257</td>\n",
       "    </tr>\n",
       "    <tr>\n",
       "      <th>3899363</th>\n",
       "      <td>-0.277531</td>\n",
       "      <td>0.0</td>\n",
       "      <td>1.427785</td>\n",
       "      <td>-0.080269</td>\n",
       "      <td>-0.043960</td>\n",
       "      <td>-0.317899</td>\n",
       "      <td>0.774799</td>\n",
       "      <td>-0.036921</td>\n",
       "      <td>-0.18432</td>\n",
       "      <td>-0.568544</td>\n",
       "      <td>-0.132257</td>\n",
       "    </tr>\n",
       "    <tr>\n",
       "      <th>3899364</th>\n",
       "      <td>-0.225425</td>\n",
       "      <td>0.0</td>\n",
       "      <td>-0.445750</td>\n",
       "      <td>-0.080269</td>\n",
       "      <td>-0.043960</td>\n",
       "      <td>-0.317899</td>\n",
       "      <td>0.774799</td>\n",
       "      <td>-0.036921</td>\n",
       "      <td>-0.18432</td>\n",
       "      <td>-0.568544</td>\n",
       "      <td>-0.132257</td>\n",
       "    </tr>\n",
       "    <tr>\n",
       "      <th>3899365</th>\n",
       "      <td>-0.308200</td>\n",
       "      <td>0.0</td>\n",
       "      <td>0.697344</td>\n",
       "      <td>-0.080074</td>\n",
       "      <td>-0.023966</td>\n",
       "      <td>-0.314458</td>\n",
       "      <td>-0.277090</td>\n",
       "      <td>-0.036897</td>\n",
       "      <td>-0.18432</td>\n",
       "      <td>-5.906429</td>\n",
       "      <td>1.259186</td>\n",
       "    </tr>\n",
       "    <tr>\n",
       "      <th>3899366</th>\n",
       "      <td>-0.313187</td>\n",
       "      <td>0.0</td>\n",
       "      <td>-0.445750</td>\n",
       "      <td>-0.079781</td>\n",
       "      <td>-0.156360</td>\n",
       "      <td>-0.308551</td>\n",
       "      <td>0.774799</td>\n",
       "      <td>-0.036921</td>\n",
       "      <td>-0.18432</td>\n",
       "      <td>-0.568544</td>\n",
       "      <td>-0.132257</td>\n",
       "    </tr>\n",
       "  </tbody>\n",
       "</table>\n",
       "</div>"
      ],
      "text/plain": [
       "          Montant  VerifianceCPT1      D2CB  ScoringFP1  ScoringFP2  \\\n",
       "3899362 -0.016999             0.0  0.265719   -0.080269   -0.043960   \n",
       "3899363 -0.277531             0.0  1.427785   -0.080269   -0.043960   \n",
       "3899364 -0.225425             0.0 -0.445750   -0.080269   -0.043960   \n",
       "3899365 -0.308200             0.0  0.697344   -0.080074   -0.023966   \n",
       "3899366 -0.313187             0.0 -0.445750   -0.079781   -0.156360   \n",
       "\n",
       "         ScoringFP3  TauxImpNB_CPM  EcartNumCheq  NbrMagasin3J  DiffDateTr3  \\\n",
       "3899362   -0.317899       0.774799     -0.036921      -0.18432    -0.568544   \n",
       "3899363   -0.317899       0.774799     -0.036921      -0.18432    -0.568544   \n",
       "3899364   -0.317899       0.774799     -0.036921      -0.18432    -0.568544   \n",
       "3899365   -0.314458      -0.277090     -0.036897      -0.18432    -5.906429   \n",
       "3899366   -0.308551       0.774799     -0.036921      -0.18432    -0.568544   \n",
       "\n",
       "            CA3TR  \n",
       "3899362 -0.132257  \n",
       "3899363 -0.132257  \n",
       "3899364 -0.132257  \n",
       "3899365  1.259186  \n",
       "3899366 -0.132257  "
      ]
     },
     "execution_count": 40,
     "metadata": {},
     "output_type": "execute_result"
    }
   ],
   "source": [
    "# Centrer-réduire les dataframe de test\n",
    "X_test = scaler.fit_transform(X_test)\n",
    "X_test.head()"
   ]
  },
  {
   "cell_type": "markdown",
   "id": "2b8399a7",
   "metadata": {},
   "source": [
    "**(2) Recodage des modalités de Y en -1 et 1 (scores de séparation de la marge)**"
   ]
  },
  {
   "cell_type": "code",
   "execution_count": 13,
   "id": "59363ac4",
   "metadata": {},
   "outputs": [],
   "source": [
    "# On recode en -1 et 1 pour les besoins de ces algorithmes qui affectent un score de -1 ou 1\n",
    "y_train = y_train.replace({1: -1, 0 : 1})\n",
    "y_Test = y_test.replace({1: -1, 0 : 1})"
   ]
  },
  {
   "cell_type": "markdown",
   "id": "4c2f35b1",
   "metadata": {},
   "source": [
    "**(2) Maximisation de la marge**"
   ]
  },
  {
   "cell_type": "code",
   "execution_count": 14,
   "id": "3080d17a",
   "metadata": {},
   "outputs": [],
   "source": [
    "def perte(Montant):\n",
    "    if Montant<=20:\n",
    "        Montant=Montant*0\n",
    "    elif 20<Montant<=50:\n",
    "        Montant=0.2*Montant\n",
    "    elif 50<Montant<=100:\n",
    "        Montant=0.3*Montant\n",
    "    elif 100<Montant<=200:\n",
    "        Montant=0.5*Montant\n",
    "    elif Montant>200:\n",
    "        Montant=0.8*Montant\n",
    "    return(Montant)"
   ]
  },
  {
   "cell_type": "code",
   "execution_count": 15,
   "id": "b838de5a",
   "metadata": {},
   "outputs": [],
   "source": [
    "def Calcul_Marge(Montant, yReel, yPred):\n",
    "    # Création de dfmerge\n",
    "    dfmerge = pd.concat([Montant, yReel], axis=1)\n",
    "    dfmerge[\"Ypred\"] = yPred\n",
    "    \n",
    "    # Création de la variable Marge\n",
    "    # Création d'une colonne Marge égale au Montant\n",
    "    dfmerge[\"Marge\"] = dfmerge[\"Montant\"]\n",
    "    #Calcul du gain ou de la perte selon la différence entre réel et prédiction\n",
    "    dfmerge.loc[((dfmerge[\"FlagImpaye\"] == 1) & (dfmerge[\"Ypred\"] == 1)), \"Marge\"] = 0\n",
    "    dfmerge.loc[((dfmerge[\"FlagImpaye\"] == 0) & (dfmerge[\"Ypred\"] == 1)), \"Marge\"] = 0.7 * 0.05 * dfmerge[\"Montant\"]\n",
    "    dfmerge.loc[((dfmerge[\"FlagImpaye\"] == 1) & (dfmerge[\"Ypred\"] == 0)), \"Marge\"] = dfmerge[\"Montant\"].apply(lambda x: -perte(x))\n",
    "    dfmerge.loc[((dfmerge[\"FlagImpaye\"] == 0) & (dfmerge[\"Ypred\"] == 0)), \"Marge\"] = 0.05 * dfmerge[\"Montant\"]\n",
    "    \n",
    "    # Calcul du Marge_totale\n",
    "    Marge_totale = dfmerge[\"Marge\"].sum()\n",
    "    \n",
    "    return Marge_totale"
   ]
  },
  {
   "cell_type": "markdown",
   "id": "384389e4",
   "metadata": {},
   "source": [
    "**(3) Modèles et performances**"
   ]
  },
  {
   "cell_type": "code",
   "execution_count": 16,
   "id": "332f51a4",
   "metadata": {},
   "outputs": [],
   "source": [
    "# Fonction de déploiement d'un modèle sur les données de test\n",
    "\n",
    "# Création de la fonction de performance d'un modèle sur les données de test\n",
    "\n",
    "def performances(modele, X_test, y_test, scale):\n",
    "    \n",
    "    X_test_ = X_test\n",
    "    \n",
    "    print(\"-------------------------------------------------------\")\n",
    "   \n",
    "    \n",
    "    if scale == True:\n",
    "        X_test = scaler.transform(X_test) # scaler a été entrainé sur les données d'apprentissage\n",
    "        \n",
    "    # Affichage du modèle \n",
    "    print('Modèle :\\n', modele)\n",
    "    print(\"-------------------------------------------------------\")\n",
    "    # Prédiction\n",
    "    y_pred = delayed(modele.predict)(X_test).compute()\n",
    "    # Prédiction des scores\n",
    "    y_score = delayed(modele.predict_proba)(X_test).compute()\n",
    "    \n",
    "    # Estimateurs, matrice de confusion et AUC\n",
    "    cm = delayed(confusion_matrix)(y_test, y_pred).compute()\n",
    "    cr = delayed(classification_report)(y_test, y_pred).compute()\n",
    "    auc = delayed(roc_auc_score)(y_test, y_pred).compute()\n",
    "    f1 = delayed(f1_score)(y_test, y_pred).compute()\n",
    "   \n",
    "    print('F1_score :\\n', f1)\n",
    "    print(\"-------------------------------------------------------\")\n",
    "    print('Estimateurs :\\n', cr)\n",
    "    print(\"-------------------------------------------------------\")\n",
    "    print('Matrice de confusion :\\n', cm)\n",
    "    print(\"-------------------------------------------------------\")\n",
    "    print('Auc Score :\\n', auc)\n",
    "    print(\"-------------------------------------------------------\")\n",
    "    \n",
    "    #Calcul de la Marge\n",
    "    Marge_totale = Calcul_Marge(Montant = X_test_[\"Montant\"].compute(), yReel = y_test.compute(), yPred = y_pred)\n",
    "    print(\"Marge = \" + str(round(Marge_totale, 2)) + \" euros\")\n",
    "    \n",
    "    print(\"-------------------------------------------------------\")\n",
    "    \n",
    "    # Courbe ROC\n",
    "    skplt.metrics.plot_roc(y_test, y_score, classes_to_plot = 1, plot_micro = False, plot_macro = False)\n",
    "    # Courbe Précision-Rappel\n",
    "    skplt.metrics.plot_precision_recall(y_test, y_score, classes_to_plot = 1, plot_micro = False)\n",
    "\n",
    "    #return y_score,Marge_totale,auc,cr,cm"
   ]
  },
  {
   "cell_type": "markdown",
   "id": "a4ec3b03",
   "metadata": {},
   "source": [
    "Si la courbe ROC tient la route avec un critère AUC élevé, cela signifie que l'apprentissage a bien fonctionné Si le F1_score est très mauvais, cela signifie alors que c'est le processus d'affectation qui n'a pas fonctionné."
   ]
  },
  {
   "cell_type": "markdown",
   "id": "57ce4e4d",
   "metadata": {},
   "source": [
    "# III. SVM"
   ]
  },
  {
   "cell_type": "markdown",
   "id": "6d4e2e50",
   "metadata": {},
   "source": [
    "# A. avec paramétrage de class_weight"
   ]
  },
  {
   "cell_type": "markdown",
   "id": "85bddc05",
   "metadata": {},
   "source": [
    "Nous faisons l'économie de tester le noyau linéaire, qui n'est pas adapté à la complexité du modèle.\n",
    "Nous testons le noyau polynomial et le noyau gaussien RBF qui est mieux adapté pour résoudre les problèmes de séparabilité linéaire. "
   ]
  },
  {
   "cell_type": "markdown",
   "id": "0cffbd70",
   "metadata": {},
   "source": [
    "Plusieurs tentatives / h -> pas de sortie : approche KO"
   ]
  },
  {
   "cell_type": "code",
   "execution_count": 17,
   "id": "4c934ff5",
   "metadata": {},
   "outputs": [],
   "source": [
    "# Instanciation \n",
    "#SVM avec un noyau polynomial de degré 5 #\n",
    "#SVM= SVC(kernel=\"poly\", class_weight='balanced', degree=5,random_state=0)\n",
    "\n",
    "# Fit your pipeline onto your training set (centré-réduit) and obtain predictions by fitting the model onto the test data\n",
    "#classifier1 = delayed(SVM.fit)(X_train, y_train).compute()"
   ]
  },
  {
   "cell_type": "code",
   "execution_count": 18,
   "id": "cf7d4af5",
   "metadata": {},
   "outputs": [],
   "source": [
    "#classifier1"
   ]
  },
  {
   "cell_type": "code",
   "execution_count": 19,
   "id": "9a7b281d",
   "metadata": {},
   "outputs": [],
   "source": [
    "#performances(classifier1, X_test, y_test,scale=True)"
   ]
  },
  {
   "cell_type": "code",
   "execution_count": 20,
   "id": "e5b307d3",
   "metadata": {},
   "outputs": [],
   "source": [
    "# Instanciation \n",
    "#SVM avec un noyau gaussien pour résoudre les problèmes de non séparabilité linéaire\n",
    "#SVM= SVC(kernel='rbf', class_weight='balanced',gamma=0.1)\n",
    "\n",
    "# Fit your pipeline onto your training set (centré-réduit) and obtain predictions by fitting the model onto the test data\n",
    "#classifier2 = delayed(SVM.fit)(X_train, y_train).compute()\n"
   ]
  },
  {
   "cell_type": "code",
   "execution_count": 21,
   "id": "5f6f3ce6",
   "metadata": {},
   "outputs": [],
   "source": [
    "#classifier2"
   ]
  },
  {
   "cell_type": "code",
   "execution_count": 22,
   "id": "7c6ffc32",
   "metadata": {},
   "outputs": [],
   "source": [
    "#performances(classifier2, X_test, y_test,scale=True)"
   ]
  },
  {
   "cell_type": "markdown",
   "id": "40fa6977",
   "metadata": {},
   "source": [
    "# B. avec borderline SMOTE"
   ]
  },
  {
   "cell_type": "code",
   "execution_count": 23,
   "id": "f765522f",
   "metadata": {},
   "outputs": [],
   "source": [
    "# Dataframe d’apprentissage recalibré avec borderline SMOTE (k=3 ; k'=2) et centré-réduit\n",
    "df_train = dd.read_parquet(\"train_borderS\")\n",
    "X_train = df_train.drop([\"FlagImpaye\"], axis = \"columns\")\n",
    "y_train = df_train[\"FlagImpaye\"]\n",
    "scaler = StandardScaler()\n",
    "X_train = scaler.fit_transform(X_train)"
   ]
  },
  {
   "cell_type": "code",
   "execution_count": 24,
   "id": "a3dc8581",
   "metadata": {},
   "outputs": [],
   "source": [
    "y_train = y_train.replace({1: -1, 0 : 1})\n",
    "y_Test = y_test.replace({1: -1, 0 : 1})"
   ]
  },
  {
   "cell_type": "code",
   "execution_count": 25,
   "id": "a3ad3f09",
   "metadata": {},
   "outputs": [],
   "source": [
    "# Instanciation #Modèle pas adapté\n",
    "#SVM avec un noyau polynomial de degré 5\n",
    "#Mobilisation de tous les processeurs (n_jobs=-1)\n",
    "#SVM= SVC(kernel=\"poly\", degree=5,random_state=0,gamma=0.1,n_jobs=-1)\n",
    "\n",
    "# Fit your pipeline onto your training set (centré-réduit) and obtain predictions by fitting the model onto the test data\n",
    "#classifier1b = delayed(SVM.fit)(X_train, y_train).compute()"
   ]
  },
  {
   "cell_type": "code",
   "execution_count": 26,
   "id": "2f186d9c",
   "metadata": {},
   "outputs": [],
   "source": [
    "#classifier1b"
   ]
  },
  {
   "cell_type": "code",
   "execution_count": 27,
   "id": "f2d1dff4",
   "metadata": {},
   "outputs": [],
   "source": [
    "#performances(classifier1b, X_test, y_test,scale=True)"
   ]
  },
  {
   "cell_type": "code",
   "execution_count": 28,
   "id": "b5ceb83f",
   "metadata": {},
   "outputs": [],
   "source": [
    "# Instanciation \n",
    "#SVM avec un noyau gaussien pour résoudre les problèmes de non séparabilité linéaire\n",
    "\n",
    "#SVM= SVC(kernel='rbf',gamma=0.1)\n",
    "\n",
    "# Fit your pipeline onto your training set (centré-réduit) and obtain predictions by fitting the model onto the test data\n",
    "#classifier2b = delayed(SVM.fit)(X_train, y_train).compute()"
   ]
  },
  {
   "cell_type": "code",
   "execution_count": 29,
   "id": "26088579",
   "metadata": {},
   "outputs": [],
   "source": [
    "#classifier2b"
   ]
  },
  {
   "cell_type": "code",
   "execution_count": 30,
   "id": "e40be2df",
   "metadata": {},
   "outputs": [],
   "source": [
    "#performances(classifier2b, X_test, y_test,scale=True)"
   ]
  },
  {
   "cell_type": "code",
   "execution_count": 31,
   "id": "6888baa4",
   "metadata": {},
   "outputs": [],
   "source": [
    "#importances=pd.Series(SVM.feature_importances_, index= X_Test.columns)\n",
    "#sorted_importances=importances.sort_values()\n",
    "#sorted_importances.plot(kind='barh',color='blue')"
   ]
  },
  {
   "cell_type": "markdown",
   "id": "2509a920",
   "metadata": {},
   "source": [
    "**(2) Tentative avec appproximation du noyau**\n",
    "\n",
    "principe : approximer le modèle en faisant travailler le modèle sur un sous-échantillon\n",
    "\n",
    "objectif : réussir à faire apprendre le modèle en moins d'1 heure"
   ]
  },
  {
   "cell_type": "code",
   "execution_count": 32,
   "id": "c72c7a83",
   "metadata": {},
   "outputs": [],
   "source": [
    "from sklearn.kernel_approximation import Nystroem\n",
    "from sklearn.pipeline import make_pipeline"
   ]
  },
  {
   "cell_type": "code",
   "execution_count": 43,
   "id": "45956650",
   "metadata": {},
   "outputs": [
    {
     "ename": "MemoryError",
     "evalue": "Unable to allocate 5.78 GiB for an array with shape (7751880, 100) and data type float64",
     "output_type": "error",
     "traceback": [
      "\u001b[1;31m---------------------------------------------------------------------------\u001b[0m",
      "\u001b[1;31mMemoryError\u001b[0m                               Traceback (most recent call last)",
      "Input \u001b[1;32mIn [43]\u001b[0m, in \u001b[0;36m<cell line: 10>\u001b[1;34m()\u001b[0m\n\u001b[0;32m      7\u001b[0m clf1 \u001b[38;5;241m=\u001b[39m Pipeline([(\u001b[38;5;124m'\u001b[39m\u001b[38;5;124mNystroem\u001b[39m\u001b[38;5;124m'\u001b[39m, transform), (\u001b[38;5;124m'\u001b[39m\u001b[38;5;124msvm_rdf\u001b[39m\u001b[38;5;124m'\u001b[39m, svm_rbf)])\n\u001b[0;32m      9\u001b[0m \u001b[38;5;66;03m# Fit your pipeline onto your training set and obtain predictions by fitting the model onto the test data \u001b[39;00m\n\u001b[1;32m---> 10\u001b[0m classifier1\u001b[38;5;241m=\u001b[39m\u001b[43mdelayed\u001b[49m\u001b[43m(\u001b[49m\u001b[43mclf1\u001b[49m\u001b[38;5;241;43m.\u001b[39;49m\u001b[43mfit\u001b[49m\u001b[43m)\u001b[49m\u001b[43m(\u001b[49m\u001b[43mX_train\u001b[49m\u001b[43m,\u001b[49m\u001b[43m \u001b[49m\u001b[43my_train\u001b[49m\u001b[43m)\u001b[49m\u001b[38;5;241;43m.\u001b[39;49m\u001b[43mcompute\u001b[49m\u001b[43m(\u001b[49m\u001b[43m)\u001b[49m\n",
      "File \u001b[1;32m~\\anaconda3\\lib\\site-packages\\dask\\base.py:290\u001b[0m, in \u001b[0;36mDaskMethodsMixin.compute\u001b[1;34m(self, **kwargs)\u001b[0m\n\u001b[0;32m    266\u001b[0m \u001b[38;5;28;01mdef\u001b[39;00m \u001b[38;5;21mcompute\u001b[39m(\u001b[38;5;28mself\u001b[39m, \u001b[38;5;241m*\u001b[39m\u001b[38;5;241m*\u001b[39mkwargs):\n\u001b[0;32m    267\u001b[0m     \u001b[38;5;124;03m\"\"\"Compute this dask collection\u001b[39;00m\n\u001b[0;32m    268\u001b[0m \n\u001b[0;32m    269\u001b[0m \u001b[38;5;124;03m    This turns a lazy Dask collection into its in-memory equivalent.\u001b[39;00m\n\u001b[1;32m   (...)\u001b[0m\n\u001b[0;32m    288\u001b[0m \u001b[38;5;124;03m    dask.base.compute\u001b[39;00m\n\u001b[0;32m    289\u001b[0m \u001b[38;5;124;03m    \"\"\"\u001b[39;00m\n\u001b[1;32m--> 290\u001b[0m     (result,) \u001b[38;5;241m=\u001b[39m compute(\u001b[38;5;28mself\u001b[39m, traverse\u001b[38;5;241m=\u001b[39m\u001b[38;5;28;01mFalse\u001b[39;00m, \u001b[38;5;241m*\u001b[39m\u001b[38;5;241m*\u001b[39mkwargs)\n\u001b[0;32m    291\u001b[0m     \u001b[38;5;28;01mreturn\u001b[39;00m result\n",
      "File \u001b[1;32m~\\anaconda3\\lib\\site-packages\\dask\\base.py:573\u001b[0m, in \u001b[0;36mcompute\u001b[1;34m(traverse, optimize_graph, scheduler, get, *args, **kwargs)\u001b[0m\n\u001b[0;32m    570\u001b[0m     keys\u001b[38;5;241m.\u001b[39mappend(x\u001b[38;5;241m.\u001b[39m__dask_keys__())\n\u001b[0;32m    571\u001b[0m     postcomputes\u001b[38;5;241m.\u001b[39mappend(x\u001b[38;5;241m.\u001b[39m__dask_postcompute__())\n\u001b[1;32m--> 573\u001b[0m results \u001b[38;5;241m=\u001b[39m schedule(dsk, keys, \u001b[38;5;241m*\u001b[39m\u001b[38;5;241m*\u001b[39mkwargs)\n\u001b[0;32m    574\u001b[0m \u001b[38;5;28;01mreturn\u001b[39;00m repack([f(r, \u001b[38;5;241m*\u001b[39ma) \u001b[38;5;28;01mfor\u001b[39;00m r, (f, a) \u001b[38;5;129;01min\u001b[39;00m \u001b[38;5;28mzip\u001b[39m(results, postcomputes)])\n",
      "File \u001b[1;32m~\\anaconda3\\lib\\site-packages\\dask\\threaded.py:81\u001b[0m, in \u001b[0;36mget\u001b[1;34m(dsk, result, cache, num_workers, pool, **kwargs)\u001b[0m\n\u001b[0;32m     78\u001b[0m     \u001b[38;5;28;01melif\u001b[39;00m \u001b[38;5;28misinstance\u001b[39m(pool, multiprocessing\u001b[38;5;241m.\u001b[39mpool\u001b[38;5;241m.\u001b[39mPool):\n\u001b[0;32m     79\u001b[0m         pool \u001b[38;5;241m=\u001b[39m MultiprocessingPoolExecutor(pool)\n\u001b[1;32m---> 81\u001b[0m results \u001b[38;5;241m=\u001b[39m get_async(\n\u001b[0;32m     82\u001b[0m     pool\u001b[38;5;241m.\u001b[39msubmit,\n\u001b[0;32m     83\u001b[0m     pool\u001b[38;5;241m.\u001b[39m_max_workers,\n\u001b[0;32m     84\u001b[0m     dsk,\n\u001b[0;32m     85\u001b[0m     result,\n\u001b[0;32m     86\u001b[0m     cache\u001b[38;5;241m=\u001b[39mcache,\n\u001b[0;32m     87\u001b[0m     get_id\u001b[38;5;241m=\u001b[39m_thread_get_id,\n\u001b[0;32m     88\u001b[0m     pack_exception\u001b[38;5;241m=\u001b[39mpack_exception,\n\u001b[0;32m     89\u001b[0m     \u001b[38;5;241m*\u001b[39m\u001b[38;5;241m*\u001b[39mkwargs,\n\u001b[0;32m     90\u001b[0m )\n\u001b[0;32m     92\u001b[0m \u001b[38;5;66;03m# Cleanup pools associated to dead threads\u001b[39;00m\n\u001b[0;32m     93\u001b[0m \u001b[38;5;28;01mwith\u001b[39;00m pools_lock:\n",
      "File \u001b[1;32m~\\anaconda3\\lib\\site-packages\\dask\\local.py:506\u001b[0m, in \u001b[0;36mget_async\u001b[1;34m(submit, num_workers, dsk, result, cache, get_id, rerun_exceptions_locally, pack_exception, raise_exception, callbacks, dumps, loads, chunksize, **kwargs)\u001b[0m\n\u001b[0;32m    504\u001b[0m         _execute_task(task, data)  \u001b[38;5;66;03m# Re-execute locally\u001b[39;00m\n\u001b[0;32m    505\u001b[0m     \u001b[38;5;28;01melse\u001b[39;00m:\n\u001b[1;32m--> 506\u001b[0m         \u001b[43mraise_exception\u001b[49m\u001b[43m(\u001b[49m\u001b[43mexc\u001b[49m\u001b[43m,\u001b[49m\u001b[43m \u001b[49m\u001b[43mtb\u001b[49m\u001b[43m)\u001b[49m\n\u001b[0;32m    507\u001b[0m res, worker_id \u001b[38;5;241m=\u001b[39m loads(res_info)\n\u001b[0;32m    508\u001b[0m state[\u001b[38;5;124m\"\u001b[39m\u001b[38;5;124mcache\u001b[39m\u001b[38;5;124m\"\u001b[39m][key] \u001b[38;5;241m=\u001b[39m res\n",
      "File \u001b[1;32m~\\anaconda3\\lib\\site-packages\\dask\\local.py:314\u001b[0m, in \u001b[0;36mreraise\u001b[1;34m(exc, tb)\u001b[0m\n\u001b[0;32m    312\u001b[0m \u001b[38;5;28;01mif\u001b[39;00m exc\u001b[38;5;241m.\u001b[39m__traceback__ \u001b[38;5;129;01mis\u001b[39;00m \u001b[38;5;129;01mnot\u001b[39;00m tb:\n\u001b[0;32m    313\u001b[0m     \u001b[38;5;28;01mraise\u001b[39;00m exc\u001b[38;5;241m.\u001b[39mwith_traceback(tb)\n\u001b[1;32m--> 314\u001b[0m \u001b[38;5;28;01mraise\u001b[39;00m exc\n",
      "File \u001b[1;32m~\\anaconda3\\lib\\site-packages\\dask\\local.py:219\u001b[0m, in \u001b[0;36mexecute_task\u001b[1;34m(key, task_info, dumps, loads, get_id, pack_exception)\u001b[0m\n\u001b[0;32m    217\u001b[0m \u001b[38;5;28;01mtry\u001b[39;00m:\n\u001b[0;32m    218\u001b[0m     task, data \u001b[38;5;241m=\u001b[39m loads(task_info)\n\u001b[1;32m--> 219\u001b[0m     result \u001b[38;5;241m=\u001b[39m \u001b[43m_execute_task\u001b[49m\u001b[43m(\u001b[49m\u001b[43mtask\u001b[49m\u001b[43m,\u001b[49m\u001b[43m \u001b[49m\u001b[43mdata\u001b[49m\u001b[43m)\u001b[49m\n\u001b[0;32m    220\u001b[0m     \u001b[38;5;28mid\u001b[39m \u001b[38;5;241m=\u001b[39m get_id()\n\u001b[0;32m    221\u001b[0m     result \u001b[38;5;241m=\u001b[39m dumps((result, \u001b[38;5;28mid\u001b[39m))\n",
      "File \u001b[1;32m~\\anaconda3\\lib\\site-packages\\dask\\core.py:119\u001b[0m, in \u001b[0;36m_execute_task\u001b[1;34m(arg, cache, dsk)\u001b[0m\n\u001b[0;32m    115\u001b[0m     func, args \u001b[38;5;241m=\u001b[39m arg[\u001b[38;5;241m0\u001b[39m], arg[\u001b[38;5;241m1\u001b[39m:]\n\u001b[0;32m    116\u001b[0m     \u001b[38;5;66;03m# Note: Don't assign the subtask results to a variable. numpy detects\u001b[39;00m\n\u001b[0;32m    117\u001b[0m     \u001b[38;5;66;03m# temporaries by their reference count and can execute certain\u001b[39;00m\n\u001b[0;32m    118\u001b[0m     \u001b[38;5;66;03m# operations in-place.\u001b[39;00m\n\u001b[1;32m--> 119\u001b[0m     \u001b[38;5;28;01mreturn\u001b[39;00m \u001b[43mfunc\u001b[49m\u001b[43m(\u001b[49m\u001b[38;5;241;43m*\u001b[39;49m\u001b[43m(\u001b[49m\u001b[43m_execute_task\u001b[49m\u001b[43m(\u001b[49m\u001b[43ma\u001b[49m\u001b[43m,\u001b[49m\u001b[43m \u001b[49m\u001b[43mcache\u001b[49m\u001b[43m)\u001b[49m\u001b[43m \u001b[49m\u001b[38;5;28;43;01mfor\u001b[39;49;00m\u001b[43m \u001b[49m\u001b[43ma\u001b[49m\u001b[43m \u001b[49m\u001b[38;5;129;43;01min\u001b[39;49;00m\u001b[43m \u001b[49m\u001b[43margs\u001b[49m\u001b[43m)\u001b[49m\u001b[43m)\u001b[49m\n\u001b[0;32m    120\u001b[0m \u001b[38;5;28;01melif\u001b[39;00m \u001b[38;5;129;01mnot\u001b[39;00m ishashable(arg):\n\u001b[0;32m    121\u001b[0m     \u001b[38;5;28;01mreturn\u001b[39;00m arg\n",
      "File \u001b[1;32m~\\anaconda3\\lib\\site-packages\\sklearn\\pipeline.py:390\u001b[0m, in \u001b[0;36mPipeline.fit\u001b[1;34m(self, X, y, **fit_params)\u001b[0m\n\u001b[0;32m    364\u001b[0m \u001b[38;5;124;03m\"\"\"Fit the model.\u001b[39;00m\n\u001b[0;32m    365\u001b[0m \n\u001b[0;32m    366\u001b[0m \u001b[38;5;124;03mFit all the transformers one after the other and transform the\u001b[39;00m\n\u001b[1;32m   (...)\u001b[0m\n\u001b[0;32m    387\u001b[0m \u001b[38;5;124;03m    Pipeline with fitted steps.\u001b[39;00m\n\u001b[0;32m    388\u001b[0m \u001b[38;5;124;03m\"\"\"\u001b[39;00m\n\u001b[0;32m    389\u001b[0m fit_params_steps \u001b[38;5;241m=\u001b[39m \u001b[38;5;28mself\u001b[39m\u001b[38;5;241m.\u001b[39m_check_fit_params(\u001b[38;5;241m*\u001b[39m\u001b[38;5;241m*\u001b[39mfit_params)\n\u001b[1;32m--> 390\u001b[0m Xt \u001b[38;5;241m=\u001b[39m \u001b[38;5;28mself\u001b[39m\u001b[38;5;241m.\u001b[39m_fit(X, y, \u001b[38;5;241m*\u001b[39m\u001b[38;5;241m*\u001b[39mfit_params_steps)\n\u001b[0;32m    391\u001b[0m \u001b[38;5;28;01mwith\u001b[39;00m _print_elapsed_time(\u001b[38;5;124m\"\u001b[39m\u001b[38;5;124mPipeline\u001b[39m\u001b[38;5;124m\"\u001b[39m, \u001b[38;5;28mself\u001b[39m\u001b[38;5;241m.\u001b[39m_log_message(\u001b[38;5;28mlen\u001b[39m(\u001b[38;5;28mself\u001b[39m\u001b[38;5;241m.\u001b[39msteps) \u001b[38;5;241m-\u001b[39m \u001b[38;5;241m1\u001b[39m)):\n\u001b[0;32m    392\u001b[0m     \u001b[38;5;28;01mif\u001b[39;00m \u001b[38;5;28mself\u001b[39m\u001b[38;5;241m.\u001b[39m_final_estimator \u001b[38;5;241m!=\u001b[39m \u001b[38;5;124m\"\u001b[39m\u001b[38;5;124mpassthrough\u001b[39m\u001b[38;5;124m\"\u001b[39m:\n",
      "File \u001b[1;32m~\\anaconda3\\lib\\site-packages\\sklearn\\pipeline.py:348\u001b[0m, in \u001b[0;36mPipeline._fit\u001b[1;34m(self, X, y, **fit_params_steps)\u001b[0m\n\u001b[0;32m    346\u001b[0m     cloned_transformer \u001b[38;5;241m=\u001b[39m clone(transformer)\n\u001b[0;32m    347\u001b[0m \u001b[38;5;66;03m# Fit or load from cache the current transformer\u001b[39;00m\n\u001b[1;32m--> 348\u001b[0m X, fitted_transformer \u001b[38;5;241m=\u001b[39m fit_transform_one_cached(\n\u001b[0;32m    349\u001b[0m     cloned_transformer,\n\u001b[0;32m    350\u001b[0m     X,\n\u001b[0;32m    351\u001b[0m     y,\n\u001b[0;32m    352\u001b[0m     \u001b[38;5;28;01mNone\u001b[39;00m,\n\u001b[0;32m    353\u001b[0m     message_clsname\u001b[38;5;241m=\u001b[39m\u001b[38;5;124m\"\u001b[39m\u001b[38;5;124mPipeline\u001b[39m\u001b[38;5;124m\"\u001b[39m,\n\u001b[0;32m    354\u001b[0m     message\u001b[38;5;241m=\u001b[39m\u001b[38;5;28mself\u001b[39m\u001b[38;5;241m.\u001b[39m_log_message(step_idx),\n\u001b[0;32m    355\u001b[0m     \u001b[38;5;241m*\u001b[39m\u001b[38;5;241m*\u001b[39mfit_params_steps[name],\n\u001b[0;32m    356\u001b[0m )\n\u001b[0;32m    357\u001b[0m \u001b[38;5;66;03m# Replace the transformer of the step with the fitted\u001b[39;00m\n\u001b[0;32m    358\u001b[0m \u001b[38;5;66;03m# transformer. This is necessary when loading the transformer\u001b[39;00m\n\u001b[0;32m    359\u001b[0m \u001b[38;5;66;03m# from the cache.\u001b[39;00m\n\u001b[0;32m    360\u001b[0m \u001b[38;5;28mself\u001b[39m\u001b[38;5;241m.\u001b[39msteps[step_idx] \u001b[38;5;241m=\u001b[39m (name, fitted_transformer)\n",
      "File \u001b[1;32m~\\anaconda3\\lib\\site-packages\\joblib\\memory.py:349\u001b[0m, in \u001b[0;36mNotMemorizedFunc.__call__\u001b[1;34m(self, *args, **kwargs)\u001b[0m\n\u001b[0;32m    348\u001b[0m \u001b[38;5;28;01mdef\u001b[39;00m \u001b[38;5;21m__call__\u001b[39m(\u001b[38;5;28mself\u001b[39m, \u001b[38;5;241m*\u001b[39margs, \u001b[38;5;241m*\u001b[39m\u001b[38;5;241m*\u001b[39mkwargs):\n\u001b[1;32m--> 349\u001b[0m     \u001b[38;5;28;01mreturn\u001b[39;00m \u001b[38;5;28mself\u001b[39m\u001b[38;5;241m.\u001b[39mfunc(\u001b[38;5;241m*\u001b[39margs, \u001b[38;5;241m*\u001b[39m\u001b[38;5;241m*\u001b[39mkwargs)\n",
      "File \u001b[1;32m~\\anaconda3\\lib\\site-packages\\sklearn\\pipeline.py:893\u001b[0m, in \u001b[0;36m_fit_transform_one\u001b[1;34m(transformer, X, y, weight, message_clsname, message, **fit_params)\u001b[0m\n\u001b[0;32m    891\u001b[0m \u001b[38;5;28;01mwith\u001b[39;00m _print_elapsed_time(message_clsname, message):\n\u001b[0;32m    892\u001b[0m     \u001b[38;5;28;01mif\u001b[39;00m \u001b[38;5;28mhasattr\u001b[39m(transformer, \u001b[38;5;124m\"\u001b[39m\u001b[38;5;124mfit_transform\u001b[39m\u001b[38;5;124m\"\u001b[39m):\n\u001b[1;32m--> 893\u001b[0m         res \u001b[38;5;241m=\u001b[39m transformer\u001b[38;5;241m.\u001b[39mfit_transform(X, y, \u001b[38;5;241m*\u001b[39m\u001b[38;5;241m*\u001b[39mfit_params)\n\u001b[0;32m    894\u001b[0m     \u001b[38;5;28;01melse\u001b[39;00m:\n\u001b[0;32m    895\u001b[0m         res \u001b[38;5;241m=\u001b[39m transformer\u001b[38;5;241m.\u001b[39mfit(X, y, \u001b[38;5;241m*\u001b[39m\u001b[38;5;241m*\u001b[39mfit_params)\u001b[38;5;241m.\u001b[39mtransform(X)\n",
      "File \u001b[1;32m~\\anaconda3\\lib\\site-packages\\sklearn\\base.py:855\u001b[0m, in \u001b[0;36mTransformerMixin.fit_transform\u001b[1;34m(self, X, y, **fit_params)\u001b[0m\n\u001b[0;32m    852\u001b[0m     \u001b[38;5;28;01mreturn\u001b[39;00m \u001b[38;5;28mself\u001b[39m\u001b[38;5;241m.\u001b[39mfit(X, \u001b[38;5;241m*\u001b[39m\u001b[38;5;241m*\u001b[39mfit_params)\u001b[38;5;241m.\u001b[39mtransform(X)\n\u001b[0;32m    853\u001b[0m \u001b[38;5;28;01melse\u001b[39;00m:\n\u001b[0;32m    854\u001b[0m     \u001b[38;5;66;03m# fit method of arity 2 (supervised transformation)\u001b[39;00m\n\u001b[1;32m--> 855\u001b[0m     \u001b[38;5;28;01mreturn\u001b[39;00m \u001b[38;5;28;43mself\u001b[39;49m\u001b[38;5;241;43m.\u001b[39;49m\u001b[43mfit\u001b[49m\u001b[43m(\u001b[49m\u001b[43mX\u001b[49m\u001b[43m,\u001b[49m\u001b[43m \u001b[49m\u001b[43my\u001b[49m\u001b[43m,\u001b[49m\u001b[43m \u001b[49m\u001b[38;5;241;43m*\u001b[39;49m\u001b[38;5;241;43m*\u001b[39;49m\u001b[43mfit_params\u001b[49m\u001b[43m)\u001b[49m\u001b[38;5;241;43m.\u001b[39;49m\u001b[43mtransform\u001b[49m\u001b[43m(\u001b[49m\u001b[43mX\u001b[49m\u001b[43m)\u001b[49m\n",
      "File \u001b[1;32m~\\anaconda3\\lib\\site-packages\\sklearn\\kernel_approximation.py:934\u001b[0m, in \u001b[0;36mNystroem.transform\u001b[1;34m(self, X)\u001b[0m\n\u001b[0;32m    931\u001b[0m X \u001b[38;5;241m=\u001b[39m \u001b[38;5;28mself\u001b[39m\u001b[38;5;241m.\u001b[39m_validate_data(X, accept_sparse\u001b[38;5;241m=\u001b[39m\u001b[38;5;124m\"\u001b[39m\u001b[38;5;124mcsr\u001b[39m\u001b[38;5;124m\"\u001b[39m, reset\u001b[38;5;241m=\u001b[39m\u001b[38;5;28;01mFalse\u001b[39;00m)\n\u001b[0;32m    933\u001b[0m kernel_params \u001b[38;5;241m=\u001b[39m \u001b[38;5;28mself\u001b[39m\u001b[38;5;241m.\u001b[39m_get_kernel_params()\n\u001b[1;32m--> 934\u001b[0m embedded \u001b[38;5;241m=\u001b[39m pairwise_kernels(\n\u001b[0;32m    935\u001b[0m     X,\n\u001b[0;32m    936\u001b[0m     \u001b[38;5;28mself\u001b[39m\u001b[38;5;241m.\u001b[39mcomponents_,\n\u001b[0;32m    937\u001b[0m     metric\u001b[38;5;241m=\u001b[39m\u001b[38;5;28mself\u001b[39m\u001b[38;5;241m.\u001b[39mkernel,\n\u001b[0;32m    938\u001b[0m     filter_params\u001b[38;5;241m=\u001b[39m\u001b[38;5;28;01mTrue\u001b[39;00m,\n\u001b[0;32m    939\u001b[0m     n_jobs\u001b[38;5;241m=\u001b[39m\u001b[38;5;28mself\u001b[39m\u001b[38;5;241m.\u001b[39mn_jobs,\n\u001b[0;32m    940\u001b[0m     \u001b[38;5;241m*\u001b[39m\u001b[38;5;241m*\u001b[39mkernel_params,\n\u001b[0;32m    941\u001b[0m )\n\u001b[0;32m    942\u001b[0m \u001b[38;5;28;01mreturn\u001b[39;00m np\u001b[38;5;241m.\u001b[39mdot(embedded, \u001b[38;5;28mself\u001b[39m\u001b[38;5;241m.\u001b[39mnormalization_\u001b[38;5;241m.\u001b[39mT)\n",
      "File \u001b[1;32m~\\anaconda3\\lib\\site-packages\\sklearn\\metrics\\pairwise.py:2053\u001b[0m, in \u001b[0;36mpairwise_kernels\u001b[1;34m(X, Y, metric, filter_params, n_jobs, **kwds)\u001b[0m\n\u001b[0;32m   2050\u001b[0m \u001b[38;5;28;01melse\u001b[39;00m:\n\u001b[0;32m   2051\u001b[0m     \u001b[38;5;28;01mraise\u001b[39;00m \u001b[38;5;167;01mValueError\u001b[39;00m(\u001b[38;5;124m\"\u001b[39m\u001b[38;5;124mUnknown kernel \u001b[39m\u001b[38;5;132;01m%r\u001b[39;00m\u001b[38;5;124m\"\u001b[39m \u001b[38;5;241m%\u001b[39m metric)\n\u001b[1;32m-> 2053\u001b[0m \u001b[38;5;28;01mreturn\u001b[39;00m _parallel_pairwise(X, Y, func, n_jobs, \u001b[38;5;241m*\u001b[39m\u001b[38;5;241m*\u001b[39mkwds)\n",
      "File \u001b[1;32m~\\anaconda3\\lib\\site-packages\\sklearn\\metrics\\pairwise.py:1430\u001b[0m, in \u001b[0;36m_parallel_pairwise\u001b[1;34m(X, Y, func, n_jobs, **kwds)\u001b[0m\n\u001b[0;32m   1427\u001b[0m X, Y, dtype \u001b[38;5;241m=\u001b[39m _return_float_dtype(X, Y)\n\u001b[0;32m   1429\u001b[0m \u001b[38;5;28;01mif\u001b[39;00m effective_n_jobs(n_jobs) \u001b[38;5;241m==\u001b[39m \u001b[38;5;241m1\u001b[39m:\n\u001b[1;32m-> 1430\u001b[0m     \u001b[38;5;28;01mreturn\u001b[39;00m func(X, Y, \u001b[38;5;241m*\u001b[39m\u001b[38;5;241m*\u001b[39mkwds)\n\u001b[0;32m   1432\u001b[0m \u001b[38;5;66;03m# enforce a threading backend to prevent data communication overhead\u001b[39;00m\n\u001b[0;32m   1433\u001b[0m fd \u001b[38;5;241m=\u001b[39m delayed(_dist_wrapper)\n",
      "File \u001b[1;32m~\\anaconda3\\lib\\site-packages\\sklearn\\metrics\\pairwise.py:1175\u001b[0m, in \u001b[0;36mrbf_kernel\u001b[1;34m(X, Y, gamma)\u001b[0m\n\u001b[0;32m   1172\u001b[0m \u001b[38;5;28;01mif\u001b[39;00m gamma \u001b[38;5;129;01mis\u001b[39;00m \u001b[38;5;28;01mNone\u001b[39;00m:\n\u001b[0;32m   1173\u001b[0m     gamma \u001b[38;5;241m=\u001b[39m \u001b[38;5;241m1.0\u001b[39m \u001b[38;5;241m/\u001b[39m X\u001b[38;5;241m.\u001b[39mshape[\u001b[38;5;241m1\u001b[39m]\n\u001b[1;32m-> 1175\u001b[0m K \u001b[38;5;241m=\u001b[39m \u001b[43meuclidean_distances\u001b[49m\u001b[43m(\u001b[49m\u001b[43mX\u001b[49m\u001b[43m,\u001b[49m\u001b[43m \u001b[49m\u001b[43mY\u001b[49m\u001b[43m,\u001b[49m\u001b[43m \u001b[49m\u001b[43msquared\u001b[49m\u001b[38;5;241;43m=\u001b[39;49m\u001b[38;5;28;43;01mTrue\u001b[39;49;00m\u001b[43m)\u001b[49m\n\u001b[0;32m   1176\u001b[0m K \u001b[38;5;241m*\u001b[39m\u001b[38;5;241m=\u001b[39m \u001b[38;5;241m-\u001b[39mgamma\n\u001b[0;32m   1177\u001b[0m np\u001b[38;5;241m.\u001b[39mexp(K, K)  \u001b[38;5;66;03m# exponentiate K in-place\u001b[39;00m\n",
      "File \u001b[1;32m~\\anaconda3\\lib\\site-packages\\sklearn\\metrics\\pairwise.py:330\u001b[0m, in \u001b[0;36meuclidean_distances\u001b[1;34m(X, Y, Y_norm_squared, squared, X_norm_squared)\u001b[0m\n\u001b[0;32m    324\u001b[0m     \u001b[38;5;28;01mif\u001b[39;00m Y_norm_squared\u001b[38;5;241m.\u001b[39mshape \u001b[38;5;241m!=\u001b[39m (\u001b[38;5;241m1\u001b[39m, Y\u001b[38;5;241m.\u001b[39mshape[\u001b[38;5;241m0\u001b[39m]):\n\u001b[0;32m    325\u001b[0m         \u001b[38;5;28;01mraise\u001b[39;00m \u001b[38;5;167;01mValueError\u001b[39;00m(\n\u001b[0;32m    326\u001b[0m             \u001b[38;5;124mf\u001b[39m\u001b[38;5;124m\"\u001b[39m\u001b[38;5;124mIncompatible dimensions for Y of shape \u001b[39m\u001b[38;5;132;01m{\u001b[39;00mY\u001b[38;5;241m.\u001b[39mshape\u001b[38;5;132;01m}\u001b[39;00m\u001b[38;5;124m and \u001b[39m\u001b[38;5;124m\"\u001b[39m\n\u001b[0;32m    327\u001b[0m             \u001b[38;5;124mf\u001b[39m\u001b[38;5;124m\"\u001b[39m\u001b[38;5;124mY_norm_squared of shape \u001b[39m\u001b[38;5;132;01m{\u001b[39;00moriginal_shape\u001b[38;5;132;01m}\u001b[39;00m\u001b[38;5;124m.\u001b[39m\u001b[38;5;124m\"\u001b[39m\n\u001b[0;32m    328\u001b[0m         )\n\u001b[1;32m--> 330\u001b[0m \u001b[38;5;28;01mreturn\u001b[39;00m \u001b[43m_euclidean_distances\u001b[49m\u001b[43m(\u001b[49m\u001b[43mX\u001b[49m\u001b[43m,\u001b[49m\u001b[43m \u001b[49m\u001b[43mY\u001b[49m\u001b[43m,\u001b[49m\u001b[43m \u001b[49m\u001b[43mX_norm_squared\u001b[49m\u001b[43m,\u001b[49m\u001b[43m \u001b[49m\u001b[43mY_norm_squared\u001b[49m\u001b[43m,\u001b[49m\u001b[43m \u001b[49m\u001b[43msquared\u001b[49m\u001b[43m)\u001b[49m\n",
      "File \u001b[1;32m~\\anaconda3\\lib\\site-packages\\sklearn\\metrics\\pairwise.py:371\u001b[0m, in \u001b[0;36m_euclidean_distances\u001b[1;34m(X, Y, X_norm_squared, Y_norm_squared, squared)\u001b[0m\n\u001b[0;32m    368\u001b[0m     distances \u001b[38;5;241m=\u001b[39m _euclidean_distances_upcast(X, XX, Y, YY)\n\u001b[0;32m    369\u001b[0m \u001b[38;5;28;01melse\u001b[39;00m:\n\u001b[0;32m    370\u001b[0m     \u001b[38;5;66;03m# if dtype is already float64, no need to chunk and upcast\u001b[39;00m\n\u001b[1;32m--> 371\u001b[0m     distances \u001b[38;5;241m=\u001b[39m \u001b[38;5;241;43m-\u001b[39;49m\u001b[38;5;241;43m2\u001b[39;49m\u001b[43m \u001b[49m\u001b[38;5;241;43m*\u001b[39;49m\u001b[43m \u001b[49m\u001b[43msafe_sparse_dot\u001b[49m\u001b[43m(\u001b[49m\u001b[43mX\u001b[49m\u001b[43m,\u001b[49m\u001b[43m \u001b[49m\u001b[43mY\u001b[49m\u001b[38;5;241;43m.\u001b[39;49m\u001b[43mT\u001b[49m\u001b[43m,\u001b[49m\u001b[43m \u001b[49m\u001b[43mdense_output\u001b[49m\u001b[38;5;241;43m=\u001b[39;49m\u001b[38;5;28;43;01mTrue\u001b[39;49;00m\u001b[43m)\u001b[49m\n\u001b[0;32m    372\u001b[0m     distances \u001b[38;5;241m+\u001b[39m\u001b[38;5;241m=\u001b[39m XX\n\u001b[0;32m    373\u001b[0m     distances \u001b[38;5;241m+\u001b[39m\u001b[38;5;241m=\u001b[39m YY\n",
      "\u001b[1;31mMemoryError\u001b[0m: Unable to allocate 5.78 GiB for an array with shape (7751880, 100) and data type float64"
     ]
    }
   ],
   "source": [
    "erreur \n",
    "from sklearn.pipeline import Pipeline\n",
    "#Instantiation avec approximation du kernel\n",
    "svm_rbf=SVC(random_state=0)\n",
    "transform=Nystroem(kernel='rbf',gamma=0.1,random_state=0)\n",
    "\n",
    "# Pipeline\n",
    "clf1 = Pipeline([('Nystroem', transform), ('svm_rdf', svm_rbf)])\n",
    "\n",
    "# Fit your pipeline onto your training set and obtain predictions by fitting the model onto the test data \n",
    "classifier1=delayed(clf1.fit)(X_train, y_train).compute() "
   ]
  },
  {
   "cell_type": "code",
   "execution_count": null,
   "id": "60b2cd54",
   "metadata": {},
   "outputs": [],
   "source": [
    "classifier1"
   ]
  },
  {
   "cell_type": "code",
   "execution_count": null,
   "id": "84f93868",
   "metadata": {},
   "outputs": [],
   "source": [
    "performances(classifier1, X_test, y_test,scale=False)"
   ]
  },
  {
   "cell_type": "markdown",
   "id": "6424aed7",
   "metadata": {},
   "source": [
    "Méthode 2"
   ]
  },
  {
   "cell_type": "code",
   "execution_count": null,
   "id": "90b59993",
   "metadata": {},
   "outputs": [],
   "source": [
    "#Instantiation avec approximation du kernel\n",
    "svm_rbf=SVC(random_state=0)\n",
    "transform=Nystroem(kernel='rbf',gamma=0.1,random_state=0)\n",
    "\n",
    "# Pipeline\n",
    "pipeline_svm = make_pipeline(transform, svm_rbf)\n",
    "# Entraînement\n",
    "fit_svm_rbf = delayed(pipeline_svm.fit)(X_train)\n",
    "\n",
    "# Prédiction\n",
    "pred_svm_rbf = delayed(fit_svm_rbf.predict)(X_test)\n",
    "y_pred_svm_rbf = pred_svm_rbf.compute()"
   ]
  },
  {
   "cell_type": "code",
   "execution_count": null,
   "id": "176cee7f",
   "metadata": {},
   "outputs": [],
   "source": [
    "performances(fit_svm_rbf, X_test, y_test,scale=False)"
   ]
  }
 ],
 "metadata": {
  "kernelspec": {
   "display_name": "Python 3 (ipykernel)",
   "language": "python",
   "name": "python3"
  },
  "language_info": {
   "codemirror_mode": {
    "name": "ipython",
    "version": 3
   },
   "file_extension": ".py",
   "mimetype": "text/x-python",
   "name": "python",
   "nbconvert_exporter": "python",
   "pygments_lexer": "ipython3",
   "version": "3.9.12"
  }
 },
 "nbformat": 4,
 "nbformat_minor": 5
}
