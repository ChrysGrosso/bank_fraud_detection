{
 "cells": [
  {
   "cell_type": "code",
   "execution_count": 1,
   "id": "b93b03b7",
   "metadata": {},
   "outputs": [
    {
     "name": "stdout",
     "output_type": "stream",
     "text": [
      "Requirement already satisfied: scikit-plot in c:\\programdata\\anaconda3\\lib\\site-packages (0.3.7)\n",
      "Requirement already satisfied: matplotlib>=1.4.0 in c:\\programdata\\anaconda3\\lib\\site-packages (from scikit-plot) (3.5.1)\n",
      "Requirement already satisfied: joblib>=0.10 in c:\\programdata\\anaconda3\\lib\\site-packages (from scikit-plot) (1.2.0)\n",
      "Requirement already satisfied: scikit-learn>=0.18 in c:\\programdata\\anaconda3\\lib\\site-packages (from scikit-plot) (1.0.2)\n",
      "Requirement already satisfied: scipy>=0.9 in c:\\programdata\\anaconda3\\lib\\site-packages (from scikit-plot) (1.7.3)\n",
      "Requirement already satisfied: kiwisolver>=1.0.1 in c:\\programdata\\anaconda3\\lib\\site-packages (from matplotlib>=1.4.0->scikit-plot) (1.3.2)\n",
      "Requirement already satisfied: numpy>=1.17 in c:\\programdata\\anaconda3\\lib\\site-packages (from matplotlib>=1.4.0->scikit-plot) (1.21.5)\n",
      "Requirement already satisfied: pyparsing>=2.2.1 in c:\\programdata\\anaconda3\\lib\\site-packages (from matplotlib>=1.4.0->scikit-plot) (3.0.4)\n",
      "Requirement already satisfied: cycler>=0.10 in c:\\programdata\\anaconda3\\lib\\site-packages (from matplotlib>=1.4.0->scikit-plot) (0.11.0)\n",
      "Requirement already satisfied: pillow>=6.2.0 in c:\\programdata\\anaconda3\\lib\\site-packages (from matplotlib>=1.4.0->scikit-plot) (9.0.1)\n",
      "Requirement already satisfied: fonttools>=4.22.0 in c:\\programdata\\anaconda3\\lib\\site-packages (from matplotlib>=1.4.0->scikit-plot) (4.25.0)\n",
      "Requirement already satisfied: packaging>=20.0 in c:\\programdata\\anaconda3\\lib\\site-packages (from matplotlib>=1.4.0->scikit-plot) (21.3)\n",
      "Requirement already satisfied: python-dateutil>=2.7 in c:\\programdata\\anaconda3\\lib\\site-packages (from matplotlib>=1.4.0->scikit-plot) (2.8.2)\n",
      "Requirement already satisfied: six>=1.5 in c:\\programdata\\anaconda3\\lib\\site-packages (from python-dateutil>=2.7->matplotlib>=1.4.0->scikit-plot) (1.16.0)\n",
      "Requirement already satisfied: threadpoolctl>=2.0.0 in c:\\programdata\\anaconda3\\lib\\site-packages (from scikit-learn>=0.18->scikit-plot) (2.2.0)\n"
     ]
    }
   ],
   "source": [
    "!pip install scikit-plot"
   ]
  },
  {
   "cell_type": "code",
   "execution_count": 2,
   "id": "c96a88fc",
   "metadata": {},
   "outputs": [
    {
     "name": "stdout",
     "output_type": "stream",
     "text": [
      "Requirement already satisfied: dask-ml in c:\\programdata\\anaconda3\\lib\\site-packages (2022.5.27)\n",
      "Requirement already satisfied: pandas>=0.24.2 in c:\\programdata\\anaconda3\\lib\\site-packages (from dask-ml) (1.5.2)\n",
      "Requirement already satisfied: scikit-learn>=1.0.0 in c:\\programdata\\anaconda3\\lib\\site-packages (from dask-ml) (1.0.2)\n",
      "Requirement already satisfied: numba>=0.51.0 in c:\\programdata\\anaconda3\\lib\\site-packages (from dask-ml) (0.55.1)\n",
      "Requirement already satisfied: distributed>=2.4.0 in c:\\programdata\\anaconda3\\lib\\site-packages (from dask-ml) (2022.2.1)\n",
      "Requirement already satisfied: dask[array,dataframe]>=2.4.0 in c:\\programdata\\anaconda3\\lib\\site-packages (from dask-ml) (2022.2.1)\n",
      "Requirement already satisfied: dask-glm>=0.2.0 in c:\\programdata\\anaconda3\\lib\\site-packages (from dask-ml) (0.2.0)\n",
      "Requirement already satisfied: multipledispatch>=0.4.9 in c:\\programdata\\anaconda3\\lib\\site-packages (from dask-ml) (0.6.0)\n",
      "Requirement already satisfied: packaging in c:\\programdata\\anaconda3\\lib\\site-packages (from dask-ml) (21.3)\n",
      "Requirement already satisfied: scipy in c:\\programdata\\anaconda3\\lib\\site-packages (from dask-ml) (1.7.3)\n",
      "Requirement already satisfied: numpy>=1.20.0 in c:\\programdata\\anaconda3\\lib\\site-packages (from dask-ml) (1.21.5)\n",
      "Requirement already satisfied: cloudpickle>=0.2.2 in c:\\programdata\\anaconda3\\lib\\site-packages (from dask-glm>=0.2.0->dask-ml) (2.0.0)\n",
      "Requirement already satisfied: pyyaml>=5.3.1 in c:\\programdata\\anaconda3\\lib\\site-packages (from dask[array,dataframe]>=2.4.0->dask-ml) (6.0)\n",
      "Requirement already satisfied: partd>=0.3.10 in c:\\programdata\\anaconda3\\lib\\site-packages (from dask[array,dataframe]>=2.4.0->dask-ml) (1.2.0)\n",
      "Requirement already satisfied: toolz>=0.8.2 in c:\\programdata\\anaconda3\\lib\\site-packages (from dask[array,dataframe]>=2.4.0->dask-ml) (0.11.2)\n",
      "Requirement already satisfied: fsspec>=0.6.0 in c:\\programdata\\anaconda3\\lib\\site-packages (from dask[array,dataframe]>=2.4.0->dask-ml) (2022.2.0)\n",
      "Requirement already satisfied: tblib>=1.6.0 in c:\\programdata\\anaconda3\\lib\\site-packages (from distributed>=2.4.0->dask-ml) (1.7.0)\n",
      "Requirement already satisfied: msgpack>=0.6.0 in c:\\programdata\\anaconda3\\lib\\site-packages (from distributed>=2.4.0->dask-ml) (1.0.2)\n",
      "Requirement already satisfied: jinja2 in c:\\programdata\\anaconda3\\lib\\site-packages (from distributed>=2.4.0->dask-ml) (2.11.3)\n",
      "Requirement already satisfied: tornado>=6.0.3 in c:\\programdata\\anaconda3\\lib\\site-packages (from distributed>=2.4.0->dask-ml) (6.1)\n",
      "Requirement already satisfied: setuptools in c:\\programdata\\anaconda3\\lib\\site-packages (from distributed>=2.4.0->dask-ml) (61.2.0)\n",
      "Requirement already satisfied: click>=6.6 in c:\\programdata\\anaconda3\\lib\\site-packages (from distributed>=2.4.0->dask-ml) (8.0.4)\n",
      "Requirement already satisfied: sortedcontainers!=2.0.0,!=2.0.1 in c:\\programdata\\anaconda3\\lib\\site-packages (from distributed>=2.4.0->dask-ml) (2.4.0)\n",
      "Requirement already satisfied: zict>=0.1.3 in c:\\programdata\\anaconda3\\lib\\site-packages (from distributed>=2.4.0->dask-ml) (2.0.0)\n",
      "Requirement already satisfied: psutil>=5.0 in c:\\programdata\\anaconda3\\lib\\site-packages (from distributed>=2.4.0->dask-ml) (5.8.0)\n",
      "Requirement already satisfied: colorama in c:\\programdata\\anaconda3\\lib\\site-packages (from click>=6.6->distributed>=2.4.0->dask-ml) (0.4.4)\n",
      "Requirement already satisfied: six in c:\\programdata\\anaconda3\\lib\\site-packages (from multipledispatch>=0.4.9->dask-ml) (1.16.0)\n",
      "Requirement already satisfied: llvmlite<0.39,>=0.38.0rc1 in c:\\programdata\\anaconda3\\lib\\site-packages (from numba>=0.51.0->dask-ml) (0.38.0)\n",
      "Requirement already satisfied: pyparsing!=3.0.5,>=2.0.2 in c:\\programdata\\anaconda3\\lib\\site-packages (from packaging->dask-ml) (3.0.4)\n",
      "Requirement already satisfied: pytz>=2020.1 in c:\\programdata\\anaconda3\\lib\\site-packages (from pandas>=0.24.2->dask-ml) (2021.3)\n",
      "Requirement already satisfied: python-dateutil>=2.8.1 in c:\\programdata\\anaconda3\\lib\\site-packages (from pandas>=0.24.2->dask-ml) (2.8.2)\n",
      "Requirement already satisfied: locket in c:\\programdata\\anaconda3\\lib\\site-packages (from partd>=0.3.10->dask[array,dataframe]>=2.4.0->dask-ml) (0.2.1)\n",
      "Requirement already satisfied: joblib>=0.11 in c:\\programdata\\anaconda3\\lib\\site-packages (from scikit-learn>=1.0.0->dask-ml) (1.2.0)\n",
      "Requirement already satisfied: threadpoolctl>=2.0.0 in c:\\programdata\\anaconda3\\lib\\site-packages (from scikit-learn>=1.0.0->dask-ml) (2.2.0)\n",
      "Requirement already satisfied: heapdict in c:\\programdata\\anaconda3\\lib\\site-packages (from zict>=0.1.3->distributed>=2.4.0->dask-ml) (1.0.1)\n",
      "Requirement already satisfied: MarkupSafe>=0.23 in c:\\programdata\\anaconda3\\lib\\site-packages (from jinja2->distributed>=2.4.0->dask-ml) (2.0.1)\n"
     ]
    }
   ],
   "source": [
    "!pip install dask-ml"
   ]
  },
  {
   "cell_type": "code",
   "execution_count": 3,
   "id": "9831d0fb",
   "metadata": {},
   "outputs": [
    {
     "name": "stdout",
     "output_type": "stream",
     "text": [
      "Requirement already satisfied: imbalanced-learn in c:\\programdata\\anaconda3\\lib\\site-packages (0.10.0)\n",
      "Requirement already satisfied: scikit-learn>=1.0.2 in c:\\programdata\\anaconda3\\lib\\site-packages (from imbalanced-learn) (1.0.2)\n",
      "Requirement already satisfied: scipy>=1.3.2 in c:\\programdata\\anaconda3\\lib\\site-packages (from imbalanced-learn) (1.7.3)\n",
      "Requirement already satisfied: threadpoolctl>=2.0.0 in c:\\programdata\\anaconda3\\lib\\site-packages (from imbalanced-learn) (2.2.0)\n",
      "Requirement already satisfied: joblib>=1.1.1 in c:\\programdata\\anaconda3\\lib\\site-packages (from imbalanced-learn) (1.2.0)\n",
      "Requirement already satisfied: numpy>=1.17.3 in c:\\programdata\\anaconda3\\lib\\site-packages (from imbalanced-learn) (1.21.5)\n"
     ]
    }
   ],
   "source": [
    "!pip install imbalanced-learn"
   ]
  },
  {
   "cell_type": "code",
   "execution_count": 4,
   "id": "3d6826b9",
   "metadata": {},
   "outputs": [
    {
     "name": "stdout",
     "output_type": "stream",
     "text": [
      "Requirement already satisfied: pyod in c:\\programdata\\anaconda3\\lib\\site-packages (1.0.7)\n",
      "Requirement already satisfied: six in c:\\programdata\\anaconda3\\lib\\site-packages (from pyod) (1.16.0)\n",
      "Requirement already satisfied: numpy>=1.19 in c:\\programdata\\anaconda3\\lib\\site-packages (from pyod) (1.21.5)\n",
      "Requirement already satisfied: numba>=0.51 in c:\\programdata\\anaconda3\\lib\\site-packages (from pyod) (0.55.1)\n",
      "Requirement already satisfied: scipy>=1.5.1 in c:\\programdata\\anaconda3\\lib\\site-packages (from pyod) (1.7.3)\n",
      "Requirement already satisfied: matplotlib in c:\\programdata\\anaconda3\\lib\\site-packages (from pyod) (3.5.1)\n",
      "Requirement already satisfied: scikit-learn>=0.20.0 in c:\\programdata\\anaconda3\\lib\\site-packages (from pyod) (1.0.2)\n",
      "Requirement already satisfied: joblib in c:\\programdata\\anaconda3\\lib\\site-packages (from pyod) (1.2.0)\n",
      "Requirement already satisfied: statsmodels in c:\\programdata\\anaconda3\\lib\\site-packages (from pyod) (0.13.2)\n",
      "Requirement already satisfied: setuptools in c:\\programdata\\anaconda3\\lib\\site-packages (from numba>=0.51->pyod) (61.2.0)\n",
      "Requirement already satisfied: llvmlite<0.39,>=0.38.0rc1 in c:\\programdata\\anaconda3\\lib\\site-packages (from numba>=0.51->pyod) (0.38.0)\n",
      "Requirement already satisfied: threadpoolctl>=2.0.0 in c:\\programdata\\anaconda3\\lib\\site-packages (from scikit-learn>=0.20.0->pyod) (2.2.0)\n",
      "Requirement already satisfied: pyparsing>=2.2.1 in c:\\programdata\\anaconda3\\lib\\site-packages (from matplotlib->pyod) (3.0.4)\n",
      "Requirement already satisfied: python-dateutil>=2.7 in c:\\programdata\\anaconda3\\lib\\site-packages (from matplotlib->pyod) (2.8.2)\n",
      "Requirement already satisfied: pillow>=6.2.0 in c:\\programdata\\anaconda3\\lib\\site-packages (from matplotlib->pyod) (9.0.1)\n",
      "Requirement already satisfied: fonttools>=4.22.0 in c:\\programdata\\anaconda3\\lib\\site-packages (from matplotlib->pyod) (4.25.0)\n",
      "Requirement already satisfied: cycler>=0.10 in c:\\programdata\\anaconda3\\lib\\site-packages (from matplotlib->pyod) (0.11.0)\n",
      "Requirement already satisfied: kiwisolver>=1.0.1 in c:\\programdata\\anaconda3\\lib\\site-packages (from matplotlib->pyod) (1.3.2)\n",
      "Requirement already satisfied: packaging>=20.0 in c:\\programdata\\anaconda3\\lib\\site-packages (from matplotlib->pyod) (21.3)\n",
      "Requirement already satisfied: pandas>=0.25 in c:\\programdata\\anaconda3\\lib\\site-packages (from statsmodels->pyod) (1.5.2)\n",
      "Requirement already satisfied: patsy>=0.5.2 in c:\\programdata\\anaconda3\\lib\\site-packages (from statsmodels->pyod) (0.5.2)\n",
      "Requirement already satisfied: pytz>=2020.1 in c:\\programdata\\anaconda3\\lib\\site-packages (from pandas>=0.25->statsmodels->pyod) (2021.3)\n"
     ]
    }
   ],
   "source": [
    "!pip install pyod"
   ]
  },
  {
   "cell_type": "code",
   "execution_count": 5,
   "id": "83cc0c35",
   "metadata": {},
   "outputs": [
    {
     "name": "stdout",
     "output_type": "stream",
     "text": [
      "Requirement already satisfied: tensorflow in c:\\programdata\\anaconda3\\lib\\site-packages (2.11.0)\n",
      "Requirement already satisfied: tensorflow-intel==2.11.0 in c:\\programdata\\anaconda3\\lib\\site-packages (from tensorflow) (2.11.0)\n",
      "Requirement already satisfied: packaging in c:\\programdata\\anaconda3\\lib\\site-packages (from tensorflow-intel==2.11.0->tensorflow) (21.3)\n",
      "Requirement already satisfied: flatbuffers>=2.0 in c:\\programdata\\anaconda3\\lib\\site-packages (from tensorflow-intel==2.11.0->tensorflow) (22.12.6)\n",
      "Requirement already satisfied: termcolor>=1.1.0 in c:\\programdata\\anaconda3\\lib\\site-packages (from tensorflow-intel==2.11.0->tensorflow) (2.1.1)\n",
      "Requirement already satisfied: six>=1.12.0 in c:\\programdata\\anaconda3\\lib\\site-packages (from tensorflow-intel==2.11.0->tensorflow) (1.16.0)\n",
      "Requirement already satisfied: grpcio<2.0,>=1.24.3 in c:\\programdata\\anaconda3\\lib\\site-packages (from tensorflow-intel==2.11.0->tensorflow) (1.42.0)\n",
      "Requirement already satisfied: tensorboard<2.12,>=2.11 in c:\\programdata\\anaconda3\\lib\\site-packages (from tensorflow-intel==2.11.0->tensorflow) (2.11.0)\n",
      "Requirement already satisfied: astunparse>=1.6.0 in c:\\programdata\\anaconda3\\lib\\site-packages (from tensorflow-intel==2.11.0->tensorflow) (1.6.3)\n",
      "Requirement already satisfied: protobuf<3.20,>=3.9.2 in c:\\programdata\\anaconda3\\lib\\site-packages (from tensorflow-intel==2.11.0->tensorflow) (3.19.1)\n",
      "Requirement already satisfied: h5py>=2.9.0 in c:\\programdata\\anaconda3\\lib\\site-packages (from tensorflow-intel==2.11.0->tensorflow) (3.6.0)\n",
      "Requirement already satisfied: keras<2.12,>=2.11.0 in c:\\programdata\\anaconda3\\lib\\site-packages (from tensorflow-intel==2.11.0->tensorflow) (2.11.0)\n",
      "Requirement already satisfied: google-pasta>=0.1.1 in c:\\programdata\\anaconda3\\lib\\site-packages (from tensorflow-intel==2.11.0->tensorflow) (0.2.0)\n",
      "Requirement already satisfied: libclang>=13.0.0 in c:\\programdata\\anaconda3\\lib\\site-packages (from tensorflow-intel==2.11.0->tensorflow) (14.0.6)\n",
      "Requirement already satisfied: tensorflow-estimator<2.12,>=2.11.0 in c:\\programdata\\anaconda3\\lib\\site-packages (from tensorflow-intel==2.11.0->tensorflow) (2.11.0)\n",
      "Requirement already satisfied: absl-py>=1.0.0 in c:\\programdata\\anaconda3\\lib\\site-packages (from tensorflow-intel==2.11.0->tensorflow) (1.3.0)\n",
      "Requirement already satisfied: wrapt>=1.11.0 in c:\\programdata\\anaconda3\\lib\\site-packages (from tensorflow-intel==2.11.0->tensorflow) (1.12.1)\n",
      "Requirement already satisfied: setuptools in c:\\programdata\\anaconda3\\lib\\site-packages (from tensorflow-intel==2.11.0->tensorflow) (61.2.0)\n",
      "Requirement already satisfied: gast<=0.4.0,>=0.2.1 in c:\\programdata\\anaconda3\\lib\\site-packages (from tensorflow-intel==2.11.0->tensorflow) (0.4.0)\n",
      "Requirement already satisfied: tensorflow-io-gcs-filesystem>=0.23.1 in c:\\programdata\\anaconda3\\lib\\site-packages (from tensorflow-intel==2.11.0->tensorflow) (0.29.0)\n",
      "Requirement already satisfied: opt-einsum>=2.3.2 in c:\\programdata\\anaconda3\\lib\\site-packages (from tensorflow-intel==2.11.0->tensorflow) (3.3.0)\n",
      "Requirement already satisfied: typing-extensions>=3.6.6 in c:\\programdata\\anaconda3\\lib\\site-packages (from tensorflow-intel==2.11.0->tensorflow) (4.1.1)\n",
      "Requirement already satisfied: numpy>=1.20 in c:\\programdata\\anaconda3\\lib\\site-packages (from tensorflow-intel==2.11.0->tensorflow) (1.21.5)\n",
      "Requirement already satisfied: wheel<1.0,>=0.23.0 in c:\\programdata\\anaconda3\\lib\\site-packages (from astunparse>=1.6.0->tensorflow-intel==2.11.0->tensorflow) (0.37.1)\n",
      "Requirement already satisfied: tensorboard-data-server<0.7.0,>=0.6.0 in c:\\programdata\\anaconda3\\lib\\site-packages (from tensorboard<2.12,>=2.11->tensorflow-intel==2.11.0->tensorflow) (0.6.1)\n",
      "Requirement already satisfied: markdown>=2.6.8 in c:\\programdata\\anaconda3\\lib\\site-packages (from tensorboard<2.12,>=2.11->tensorflow-intel==2.11.0->tensorflow) (3.3.4)\n",
      "Requirement already satisfied: google-auth-oauthlib<0.5,>=0.4.1 in c:\\programdata\\anaconda3\\lib\\site-packages (from tensorboard<2.12,>=2.11->tensorflow-intel==2.11.0->tensorflow) (0.4.6)\n",
      "Requirement already satisfied: requests<3,>=2.21.0 in c:\\programdata\\anaconda3\\lib\\site-packages (from tensorboard<2.12,>=2.11->tensorflow-intel==2.11.0->tensorflow) (2.27.1)\n",
      "Requirement already satisfied: werkzeug>=1.0.1 in c:\\programdata\\anaconda3\\lib\\site-packages (from tensorboard<2.12,>=2.11->tensorflow-intel==2.11.0->tensorflow) (2.0.3)\n",
      "Requirement already satisfied: google-auth<3,>=1.6.3 in c:\\programdata\\anaconda3\\lib\\site-packages (from tensorboard<2.12,>=2.11->tensorflow-intel==2.11.0->tensorflow) (1.33.0)\n",
      "Requirement already satisfied: tensorboard-plugin-wit>=1.6.0 in c:\\programdata\\anaconda3\\lib\\site-packages (from tensorboard<2.12,>=2.11->tensorflow-intel==2.11.0->tensorflow) (1.8.1)\n",
      "Requirement already satisfied: pyasn1-modules>=0.2.1 in c:\\programdata\\anaconda3\\lib\\site-packages (from google-auth<3,>=1.6.3->tensorboard<2.12,>=2.11->tensorflow-intel==2.11.0->tensorflow) (0.2.8)\n",
      "Requirement already satisfied: cachetools<5.0,>=2.0.0 in c:\\programdata\\anaconda3\\lib\\site-packages (from google-auth<3,>=1.6.3->tensorboard<2.12,>=2.11->tensorflow-intel==2.11.0->tensorflow) (4.2.2)\n",
      "Requirement already satisfied: rsa<5,>=3.1.4 in c:\\programdata\\anaconda3\\lib\\site-packages (from google-auth<3,>=1.6.3->tensorboard<2.12,>=2.11->tensorflow-intel==2.11.0->tensorflow) (4.7.2)\n",
      "Requirement already satisfied: requests-oauthlib>=0.7.0 in c:\\programdata\\anaconda3\\lib\\site-packages (from google-auth-oauthlib<0.5,>=0.4.1->tensorboard<2.12,>=2.11->tensorflow-intel==2.11.0->tensorflow) (1.3.1)\n",
      "Requirement already satisfied: pyasn1<0.5.0,>=0.4.6 in c:\\programdata\\anaconda3\\lib\\site-packages (from pyasn1-modules>=0.2.1->google-auth<3,>=1.6.3->tensorboard<2.12,>=2.11->tensorflow-intel==2.11.0->tensorflow) (0.4.8)\n",
      "Requirement already satisfied: idna<4,>=2.5 in c:\\programdata\\anaconda3\\lib\\site-packages (from requests<3,>=2.21.0->tensorboard<2.12,>=2.11->tensorflow-intel==2.11.0->tensorflow) (3.3)\n",
      "Requirement already satisfied: charset-normalizer~=2.0.0 in c:\\programdata\\anaconda3\\lib\\site-packages (from requests<3,>=2.21.0->tensorboard<2.12,>=2.11->tensorflow-intel==2.11.0->tensorflow) (2.0.4)\n",
      "Requirement already satisfied: urllib3<1.27,>=1.21.1 in c:\\programdata\\anaconda3\\lib\\site-packages (from requests<3,>=2.21.0->tensorboard<2.12,>=2.11->tensorflow-intel==2.11.0->tensorflow) (1.26.9)\n",
      "Requirement already satisfied: certifi>=2017.4.17 in c:\\programdata\\anaconda3\\lib\\site-packages (from requests<3,>=2.21.0->tensorboard<2.12,>=2.11->tensorflow-intel==2.11.0->tensorflow) (2021.10.8)\n",
      "Requirement already satisfied: oauthlib>=3.0.0 in c:\\programdata\\anaconda3\\lib\\site-packages (from requests-oauthlib>=0.7.0->google-auth-oauthlib<0.5,>=0.4.1->tensorboard<2.12,>=2.11->tensorflow-intel==2.11.0->tensorflow) (3.2.2)\n",
      "Requirement already satisfied: pyparsing!=3.0.5,>=2.0.2 in c:\\programdata\\anaconda3\\lib\\site-packages (from packaging->tensorflow-intel==2.11.0->tensorflow) (3.0.4)\n"
     ]
    }
   ],
   "source": [
    "!pip install tensorflow"
   ]
  },
  {
   "cell_type": "code",
   "execution_count": 7,
   "id": "29c90ff2",
   "metadata": {},
   "outputs": [],
   "source": [
    "os.chdir('C:\\\\Users\\\\cornuch\\\\Desktop\\\\SISE\\\\Fouille_donnees_massives\\\\projet_fouille')"
   ]
  },
  {
   "cell_type": "code",
   "execution_count": 8,
   "id": "5210988a",
   "metadata": {},
   "outputs": [
    {
     "data": {
      "text/html": [
       "<div>\n",
       "<style scoped>\n",
       "    .dataframe tbody tr th:only-of-type {\n",
       "        vertical-align: middle;\n",
       "    }\n",
       "\n",
       "    .dataframe tbody tr th {\n",
       "        vertical-align: top;\n",
       "    }\n",
       "\n",
       "    .dataframe thead th {\n",
       "        text-align: right;\n",
       "    }\n",
       "</style>\n",
       "<table border=\"1\" class=\"dataframe\">\n",
       "  <thead>\n",
       "    <tr style=\"text-align: right;\">\n",
       "      <th></th>\n",
       "      <th>FlagImpaye</th>\n",
       "      <th>Montant</th>\n",
       "      <th>VerifianceCPT1</th>\n",
       "      <th>D2CB</th>\n",
       "      <th>ScoringFP1</th>\n",
       "      <th>ScoringFP2</th>\n",
       "      <th>ScoringFP3</th>\n",
       "      <th>TauxImpNB_CPM</th>\n",
       "      <th>EcartNumCheq</th>\n",
       "      <th>NbrMagasin3J</th>\n",
       "      <th>DiffDateTr3</th>\n",
       "      <th>CA3TR</th>\n",
       "    </tr>\n",
       "  </thead>\n",
       "  <tbody>\n",
       "    <tr>\n",
       "      <th>0</th>\n",
       "      <td>0</td>\n",
       "      <td>20.00</td>\n",
       "      <td>0</td>\n",
       "      <td>551</td>\n",
       "      <td>0.000000</td>\n",
       "      <td>0.000000</td>\n",
       "      <td>0.000000</td>\n",
       "      <td>52.076034</td>\n",
       "      <td>0</td>\n",
       "      <td>1</td>\n",
       "      <td>4.0</td>\n",
       "      <td>0.00</td>\n",
       "    </tr>\n",
       "    <tr>\n",
       "      <th>1</th>\n",
       "      <td>0</td>\n",
       "      <td>20.00</td>\n",
       "      <td>0</td>\n",
       "      <td>551</td>\n",
       "      <td>0.000000</td>\n",
       "      <td>0.000000</td>\n",
       "      <td>0.000000</td>\n",
       "      <td>52.076034</td>\n",
       "      <td>1</td>\n",
       "      <td>2</td>\n",
       "      <td>4.0</td>\n",
       "      <td>8.61</td>\n",
       "    </tr>\n",
       "    <tr>\n",
       "      <th>2</th>\n",
       "      <td>0</td>\n",
       "      <td>57.64</td>\n",
       "      <td>0</td>\n",
       "      <td>549</td>\n",
       "      <td>0.000000</td>\n",
       "      <td>0.000000</td>\n",
       "      <td>0.000000</td>\n",
       "      <td>52.076034</td>\n",
       "      <td>0</td>\n",
       "      <td>1</td>\n",
       "      <td>4.0</td>\n",
       "      <td>0.00</td>\n",
       "    </tr>\n",
       "    <tr>\n",
       "      <th>3</th>\n",
       "      <td>0</td>\n",
       "      <td>54.29</td>\n",
       "      <td>1</td>\n",
       "      <td>267</td>\n",
       "      <td>0.000000</td>\n",
       "      <td>0.000000</td>\n",
       "      <td>0.000000</td>\n",
       "      <td>53.554234</td>\n",
       "      <td>0</td>\n",
       "      <td>1</td>\n",
       "      <td>4.0</td>\n",
       "      <td>0.00</td>\n",
       "    </tr>\n",
       "    <tr>\n",
       "      <th>4</th>\n",
       "      <td>0</td>\n",
       "      <td>26.90</td>\n",
       "      <td>0</td>\n",
       "      <td>549</td>\n",
       "      <td>0.003769</td>\n",
       "      <td>8.586333</td>\n",
       "      <td>0.001192</td>\n",
       "      <td>52.076034</td>\n",
       "      <td>1</td>\n",
       "      <td>1</td>\n",
       "      <td>4.0</td>\n",
       "      <td>32.25</td>\n",
       "    </tr>\n",
       "  </tbody>\n",
       "</table>\n",
       "</div>"
      ],
      "text/plain": [
       "   FlagImpaye  Montant  VerifianceCPT1  D2CB  ScoringFP1  ScoringFP2  \\\n",
       "0           0    20.00               0   551    0.000000    0.000000   \n",
       "1           0    20.00               0   551    0.000000    0.000000   \n",
       "2           0    57.64               0   549    0.000000    0.000000   \n",
       "3           0    54.29               1   267    0.000000    0.000000   \n",
       "4           0    26.90               0   549    0.003769    8.586333   \n",
       "\n",
       "   ScoringFP3  TauxImpNB_CPM  EcartNumCheq  NbrMagasin3J  DiffDateTr3  CA3TR  \n",
       "0    0.000000      52.076034             0             1          4.0   0.00  \n",
       "1    0.000000      52.076034             1             2          4.0   8.61  \n",
       "2    0.000000      52.076034             0             1          4.0   0.00  \n",
       "3    0.000000      53.554234             0             1          4.0   0.00  \n",
       "4    0.001192      52.076034             1             1          4.0  32.25  "
      ]
     },
     "execution_count": 8,
     "metadata": {},
     "output_type": "execute_result"
    }
   ],
   "source": [
    "df_train=dd.read_parquet('train0_fast')\n",
    "df_train.head()"
   ]
  },
  {
   "cell_type": "code",
   "execution_count": 9,
   "id": "7c0307c7",
   "metadata": {},
   "outputs": [
    {
     "data": {
      "text/html": [
       "<div>\n",
       "<style scoped>\n",
       "    .dataframe tbody tr th:only-of-type {\n",
       "        vertical-align: middle;\n",
       "    }\n",
       "\n",
       "    .dataframe tbody tr th {\n",
       "        vertical-align: top;\n",
       "    }\n",
       "\n",
       "    .dataframe thead th {\n",
       "        text-align: right;\n",
       "    }\n",
       "</style>\n",
       "<table border=\"1\" class=\"dataframe\">\n",
       "  <thead>\n",
       "    <tr style=\"text-align: right;\">\n",
       "      <th></th>\n",
       "      <th>FlagImpaye</th>\n",
       "      <th>Montant</th>\n",
       "      <th>VerifianceCPT1</th>\n",
       "      <th>D2CB</th>\n",
       "      <th>ScoringFP1</th>\n",
       "      <th>ScoringFP2</th>\n",
       "      <th>ScoringFP3</th>\n",
       "      <th>TauxImpNB_CPM</th>\n",
       "      <th>EcartNumCheq</th>\n",
       "      <th>NbrMagasin3J</th>\n",
       "      <th>DiffDateTr3</th>\n",
       "      <th>CA3TR</th>\n",
       "    </tr>\n",
       "  </thead>\n",
       "  <tbody>\n",
       "    <tr>\n",
       "      <th>334</th>\n",
       "      <td>1</td>\n",
       "      <td>84.00</td>\n",
       "      <td>1</td>\n",
       "      <td>469</td>\n",
       "      <td>0.000000</td>\n",
       "      <td>0.000000</td>\n",
       "      <td>0.000000</td>\n",
       "      <td>44.073599</td>\n",
       "      <td>0</td>\n",
       "      <td>1</td>\n",
       "      <td>4.0</td>\n",
       "      <td>0.00</td>\n",
       "    </tr>\n",
       "    <tr>\n",
       "      <th>343</th>\n",
       "      <td>1</td>\n",
       "      <td>84.00</td>\n",
       "      <td>1</td>\n",
       "      <td>1</td>\n",
       "      <td>0.000000</td>\n",
       "      <td>0.000000</td>\n",
       "      <td>0.000000</td>\n",
       "      <td>44.073599</td>\n",
       "      <td>0</td>\n",
       "      <td>1</td>\n",
       "      <td>5.0</td>\n",
       "      <td>0.00</td>\n",
       "    </tr>\n",
       "    <tr>\n",
       "      <th>583</th>\n",
       "      <td>1</td>\n",
       "      <td>80.94</td>\n",
       "      <td>0</td>\n",
       "      <td>500</td>\n",
       "      <td>0.004905</td>\n",
       "      <td>8.106320</td>\n",
       "      <td>0.001374</td>\n",
       "      <td>23.802311</td>\n",
       "      <td>0</td>\n",
       "      <td>1</td>\n",
       "      <td>4.0</td>\n",
       "      <td>0.00</td>\n",
       "    </tr>\n",
       "    <tr>\n",
       "      <th>666</th>\n",
       "      <td>1</td>\n",
       "      <td>70.42</td>\n",
       "      <td>0</td>\n",
       "      <td>449</td>\n",
       "      <td>0.005601</td>\n",
       "      <td>-21.177075</td>\n",
       "      <td>0.001907</td>\n",
       "      <td>28.634730</td>\n",
       "      <td>7</td>\n",
       "      <td>1</td>\n",
       "      <td>4.0</td>\n",
       "      <td>28.28</td>\n",
       "    </tr>\n",
       "    <tr>\n",
       "      <th>748</th>\n",
       "      <td>1</td>\n",
       "      <td>39.67</td>\n",
       "      <td>0</td>\n",
       "      <td>507</td>\n",
       "      <td>0.006019</td>\n",
       "      <td>6.809373</td>\n",
       "      <td>0.001144</td>\n",
       "      <td>28.756941</td>\n",
       "      <td>0</td>\n",
       "      <td>1</td>\n",
       "      <td>4.0</td>\n",
       "      <td>0.00</td>\n",
       "    </tr>\n",
       "  </tbody>\n",
       "</table>\n",
       "</div>"
      ],
      "text/plain": [
       "     FlagImpaye  Montant  VerifianceCPT1  D2CB  ScoringFP1  ScoringFP2  \\\n",
       "334           1    84.00               1   469    0.000000    0.000000   \n",
       "343           1    84.00               1     1    0.000000    0.000000   \n",
       "583           1    80.94               0   500    0.004905    8.106320   \n",
       "666           1    70.42               0   449    0.005601  -21.177075   \n",
       "748           1    39.67               0   507    0.006019    6.809373   \n",
       "\n",
       "     ScoringFP3  TauxImpNB_CPM  EcartNumCheq  NbrMagasin3J  DiffDateTr3  CA3TR  \n",
       "334    0.000000      44.073599             0             1          4.0   0.00  \n",
       "343    0.000000      44.073599             0             1          5.0   0.00  \n",
       "583    0.001374      23.802311             0             1          4.0   0.00  \n",
       "666    0.001907      28.634730             7             1          4.0  28.28  \n",
       "748    0.001144      28.756941             0             1          4.0   0.00  "
      ]
     },
     "execution_count": 9,
     "metadata": {},
     "output_type": "execute_result"
    }
   ],
   "source": [
    "df_train[df_train.FlagImpaye==1].head(5)"
   ]
  },
  {
   "cell_type": "code",
   "execution_count": 10,
   "id": "39ca27fb",
   "metadata": {},
   "outputs": [
    {
     "data": {
      "text/html": [
       "<div>\n",
       "<style scoped>\n",
       "    .dataframe tbody tr th:only-of-type {\n",
       "        vertical-align: middle;\n",
       "    }\n",
       "\n",
       "    .dataframe tbody tr th {\n",
       "        vertical-align: top;\n",
       "    }\n",
       "\n",
       "    .dataframe thead th {\n",
       "        text-align: right;\n",
       "    }\n",
       "</style>\n",
       "<table border=\"1\" class=\"dataframe\">\n",
       "  <thead>\n",
       "    <tr style=\"text-align: right;\">\n",
       "      <th></th>\n",
       "      <th>FlagImpaye</th>\n",
       "      <th>Montant</th>\n",
       "      <th>VerifianceCPT1</th>\n",
       "      <th>D2CB</th>\n",
       "      <th>ScoringFP1</th>\n",
       "      <th>ScoringFP2</th>\n",
       "      <th>ScoringFP3</th>\n",
       "      <th>TauxImpNB_CPM</th>\n",
       "      <th>EcartNumCheq</th>\n",
       "      <th>NbrMagasin3J</th>\n",
       "      <th>DiffDateTr3</th>\n",
       "      <th>CA3TR</th>\n",
       "    </tr>\n",
       "  </thead>\n",
       "  <tbody>\n",
       "    <tr>\n",
       "      <th>0</th>\n",
       "      <td>0</td>\n",
       "      <td>20.00</td>\n",
       "      <td>0</td>\n",
       "      <td>551</td>\n",
       "      <td>0.000000</td>\n",
       "      <td>0.000000</td>\n",
       "      <td>0.000000</td>\n",
       "      <td>52.076034</td>\n",
       "      <td>0</td>\n",
       "      <td>1</td>\n",
       "      <td>4.0</td>\n",
       "      <td>0.00</td>\n",
       "    </tr>\n",
       "    <tr>\n",
       "      <th>1</th>\n",
       "      <td>0</td>\n",
       "      <td>20.00</td>\n",
       "      <td>0</td>\n",
       "      <td>551</td>\n",
       "      <td>0.000000</td>\n",
       "      <td>0.000000</td>\n",
       "      <td>0.000000</td>\n",
       "      <td>52.076034</td>\n",
       "      <td>1</td>\n",
       "      <td>2</td>\n",
       "      <td>4.0</td>\n",
       "      <td>8.61</td>\n",
       "    </tr>\n",
       "    <tr>\n",
       "      <th>2</th>\n",
       "      <td>0</td>\n",
       "      <td>57.64</td>\n",
       "      <td>0</td>\n",
       "      <td>549</td>\n",
       "      <td>0.000000</td>\n",
       "      <td>0.000000</td>\n",
       "      <td>0.000000</td>\n",
       "      <td>52.076034</td>\n",
       "      <td>0</td>\n",
       "      <td>1</td>\n",
       "      <td>4.0</td>\n",
       "      <td>0.00</td>\n",
       "    </tr>\n",
       "    <tr>\n",
       "      <th>3</th>\n",
       "      <td>0</td>\n",
       "      <td>54.29</td>\n",
       "      <td>1</td>\n",
       "      <td>267</td>\n",
       "      <td>0.000000</td>\n",
       "      <td>0.000000</td>\n",
       "      <td>0.000000</td>\n",
       "      <td>53.554234</td>\n",
       "      <td>0</td>\n",
       "      <td>1</td>\n",
       "      <td>4.0</td>\n",
       "      <td>0.00</td>\n",
       "    </tr>\n",
       "    <tr>\n",
       "      <th>4</th>\n",
       "      <td>0</td>\n",
       "      <td>26.90</td>\n",
       "      <td>0</td>\n",
       "      <td>549</td>\n",
       "      <td>0.003769</td>\n",
       "      <td>8.586333</td>\n",
       "      <td>0.001192</td>\n",
       "      <td>52.076034</td>\n",
       "      <td>1</td>\n",
       "      <td>1</td>\n",
       "      <td>4.0</td>\n",
       "      <td>32.25</td>\n",
       "    </tr>\n",
       "  </tbody>\n",
       "</table>\n",
       "</div>"
      ],
      "text/plain": [
       "   FlagImpaye  Montant  VerifianceCPT1  D2CB  ScoringFP1  ScoringFP2  \\\n",
       "0           0    20.00               0   551    0.000000    0.000000   \n",
       "1           0    20.00               0   551    0.000000    0.000000   \n",
       "2           0    57.64               0   549    0.000000    0.000000   \n",
       "3           0    54.29               1   267    0.000000    0.000000   \n",
       "4           0    26.90               0   549    0.003769    8.586333   \n",
       "\n",
       "   ScoringFP3  TauxImpNB_CPM  EcartNumCheq  NbrMagasin3J  DiffDateTr3  CA3TR  \n",
       "0    0.000000      52.076034             0             1          4.0   0.00  \n",
       "1    0.000000      52.076034             1             2          4.0   8.61  \n",
       "2    0.000000      52.076034             0             1          4.0   0.00  \n",
       "3    0.000000      53.554234             0             1          4.0   0.00  \n",
       "4    0.001192      52.076034             1             1          4.0  32.25  "
      ]
     },
     "execution_count": 10,
     "metadata": {},
     "output_type": "execute_result"
    }
   ],
   "source": [
    "df_test=dd.read_parquet('test0_fast')\n",
    "df_test.head()"
   ]
  },
  {
   "cell_type": "code",
   "execution_count": 11,
   "id": "ac073764",
   "metadata": {},
   "outputs": [],
   "source": [
    "# Définir la variable cible \n",
    "y_train = df_train[\"FlagImpaye\"]\n",
    "y_test = df_test[\"FlagImpaye\"]"
   ]
  },
  {
   "cell_type": "code",
   "execution_count": 12,
   "id": "245886a4",
   "metadata": {},
   "outputs": [],
   "source": [
    "# Définir les variables explicatives \n",
    "X_train = df_train.drop([\"FlagImpaye\"], axis = \"columns\")\n",
    "X_test = df_test.drop([\"FlagImpaye\"], axis = \"columns\")"
   ]
  },
  {
   "cell_type": "code",
   "execution_count": 13,
   "id": "0dcca330",
   "metadata": {},
   "outputs": [
    {
     "name": "stdout",
     "output_type": "stream",
     "text": [
      "<class 'dask.dataframe.core.DataFrame'>\n",
      "Columns: 11 entries, Montant to CA3TR\n",
      "dtypes: float64(7), int64(4)"
     ]
    }
   ],
   "source": [
    "X_train.info()"
   ]
  },
  {
   "cell_type": "code",
   "execution_count": 14,
   "id": "e414a3fa",
   "metadata": {},
   "outputs": [],
   "source": [
    "# Instanciation de StandardScaler pour centrer-réduire les données\n",
    "scaler = StandardScaler()"
   ]
  },
  {
   "cell_type": "code",
   "execution_count": 15,
   "id": "290d195f",
   "metadata": {},
   "outputs": [
    {
     "data": {
      "text/html": [
       "<div>\n",
       "<style scoped>\n",
       "    .dataframe tbody tr th:only-of-type {\n",
       "        vertical-align: middle;\n",
       "    }\n",
       "\n",
       "    .dataframe tbody tr th {\n",
       "        vertical-align: top;\n",
       "    }\n",
       "\n",
       "    .dataframe thead th {\n",
       "        text-align: right;\n",
       "    }\n",
       "</style>\n",
       "<table border=\"1\" class=\"dataframe\">\n",
       "  <thead>\n",
       "    <tr style=\"text-align: right;\">\n",
       "      <th></th>\n",
       "      <th>Montant</th>\n",
       "      <th>VerifianceCPT1</th>\n",
       "      <th>D2CB</th>\n",
       "      <th>ScoringFP1</th>\n",
       "      <th>ScoringFP2</th>\n",
       "      <th>ScoringFP3</th>\n",
       "      <th>TauxImpNB_CPM</th>\n",
       "      <th>EcartNumCheq</th>\n",
       "      <th>NbrMagasin3J</th>\n",
       "      <th>DiffDateTr3</th>\n",
       "      <th>CA3TR</th>\n",
       "    </tr>\n",
       "  </thead>\n",
       "  <tbody>\n",
       "    <tr>\n",
       "      <th>0</th>\n",
       "      <td>-0.393579</td>\n",
       "      <td>-0.519039</td>\n",
       "      <td>1.074179</td>\n",
       "      <td>-0.081852</td>\n",
       "      <td>-0.209271</td>\n",
       "      <td>-0.282162</td>\n",
       "      <td>0.810882</td>\n",
       "      <td>-0.042780</td>\n",
       "      <td>-0.192611</td>\n",
       "      <td>-0.470527</td>\n",
       "      <td>-0.185443</td>\n",
       "    </tr>\n",
       "    <tr>\n",
       "      <th>1</th>\n",
       "      <td>-0.393579</td>\n",
       "      <td>-0.519039</td>\n",
       "      <td>1.074179</td>\n",
       "      <td>-0.081852</td>\n",
       "      <td>-0.209271</td>\n",
       "      <td>-0.282162</td>\n",
       "      <td>0.810882</td>\n",
       "      <td>-0.042775</td>\n",
       "      <td>5.014647</td>\n",
       "      <td>-0.470527</td>\n",
       "      <td>0.037612</td>\n",
       "    </tr>\n",
       "    <tr>\n",
       "      <th>2</th>\n",
       "      <td>-0.024533</td>\n",
       "      <td>-0.519039</td>\n",
       "      <td>1.065117</td>\n",
       "      <td>-0.081852</td>\n",
       "      <td>-0.209271</td>\n",
       "      <td>-0.282162</td>\n",
       "      <td>0.810882</td>\n",
       "      <td>-0.042780</td>\n",
       "      <td>-0.192611</td>\n",
       "      <td>-0.470527</td>\n",
       "      <td>-0.185443</td>\n",
       "    </tr>\n",
       "    <tr>\n",
       "      <th>3</th>\n",
       "      <td>-0.057378</td>\n",
       "      <td>1.742299</td>\n",
       "      <td>-0.212505</td>\n",
       "      <td>-0.081852</td>\n",
       "      <td>-0.209271</td>\n",
       "      <td>-0.282162</td>\n",
       "      <td>0.899215</td>\n",
       "      <td>-0.042780</td>\n",
       "      <td>-0.192611</td>\n",
       "      <td>-0.470527</td>\n",
       "      <td>-0.185443</td>\n",
       "    </tr>\n",
       "    <tr>\n",
       "      <th>4</th>\n",
       "      <td>-0.325927</td>\n",
       "      <td>-0.519039</td>\n",
       "      <td>1.065117</td>\n",
       "      <td>-0.081713</td>\n",
       "      <td>0.674504</td>\n",
       "      <td>-0.279713</td>\n",
       "      <td>0.810882</td>\n",
       "      <td>-0.042775</td>\n",
       "      <td>-0.192611</td>\n",
       "      <td>-0.470527</td>\n",
       "      <td>0.650041</td>\n",
       "    </tr>\n",
       "  </tbody>\n",
       "</table>\n",
       "</div>"
      ],
      "text/plain": [
       "    Montant  VerifianceCPT1      D2CB  ScoringFP1  ScoringFP2  ScoringFP3  \\\n",
       "0 -0.393579       -0.519039  1.074179   -0.081852   -0.209271   -0.282162   \n",
       "1 -0.393579       -0.519039  1.074179   -0.081852   -0.209271   -0.282162   \n",
       "2 -0.024533       -0.519039  1.065117   -0.081852   -0.209271   -0.282162   \n",
       "3 -0.057378        1.742299 -0.212505   -0.081852   -0.209271   -0.282162   \n",
       "4 -0.325927       -0.519039  1.065117   -0.081713    0.674504   -0.279713   \n",
       "\n",
       "   TauxImpNB_CPM  EcartNumCheq  NbrMagasin3J  DiffDateTr3     CA3TR  \n",
       "0       0.810882     -0.042780     -0.192611    -0.470527 -0.185443  \n",
       "1       0.810882     -0.042775      5.014647    -0.470527  0.037612  \n",
       "2       0.810882     -0.042780     -0.192611    -0.470527 -0.185443  \n",
       "3       0.899215     -0.042780     -0.192611    -0.470527 -0.185443  \n",
       "4       0.810882     -0.042775     -0.192611    -0.470527  0.650041  "
      ]
     },
     "execution_count": 15,
     "metadata": {},
     "output_type": "execute_result"
    }
   ],
   "source": [
    "# Centrer-réduire les dataframe d'apprentissage\n",
    "X_train_scale = scaler.fit_transform(X_train)\n",
    "X_train_scale.head()"
   ]
  },
  {
   "cell_type": "code",
   "execution_count": 16,
   "id": "3ec6895a",
   "metadata": {},
   "outputs": [
    {
     "data": {
      "text/html": [
       "<div>\n",
       "<style scoped>\n",
       "    .dataframe tbody tr th:only-of-type {\n",
       "        vertical-align: middle;\n",
       "    }\n",
       "\n",
       "    .dataframe tbody tr th {\n",
       "        vertical-align: top;\n",
       "    }\n",
       "\n",
       "    .dataframe thead th {\n",
       "        text-align: right;\n",
       "    }\n",
       "</style>\n",
       "<table border=\"1\" class=\"dataframe\">\n",
       "  <thead>\n",
       "    <tr style=\"text-align: right;\">\n",
       "      <th></th>\n",
       "      <th>Montant</th>\n",
       "      <th>VerifianceCPT1</th>\n",
       "      <th>D2CB</th>\n",
       "      <th>ScoringFP1</th>\n",
       "      <th>ScoringFP2</th>\n",
       "      <th>ScoringFP3</th>\n",
       "      <th>TauxImpNB_CPM</th>\n",
       "      <th>EcartNumCheq</th>\n",
       "      <th>NbrMagasin3J</th>\n",
       "      <th>DiffDateTr3</th>\n",
       "      <th>CA3TR</th>\n",
       "    </tr>\n",
       "  </thead>\n",
       "  <tbody>\n",
       "    <tr>\n",
       "      <th>0</th>\n",
       "      <td>-0.393579</td>\n",
       "      <td>-0.519039</td>\n",
       "      <td>1.074179</td>\n",
       "      <td>-0.081852</td>\n",
       "      <td>-0.209271</td>\n",
       "      <td>-0.282162</td>\n",
       "      <td>0.810882</td>\n",
       "      <td>-0.042780</td>\n",
       "      <td>-0.192611</td>\n",
       "      <td>-0.470527</td>\n",
       "      <td>-0.185443</td>\n",
       "    </tr>\n",
       "    <tr>\n",
       "      <th>1</th>\n",
       "      <td>-0.393579</td>\n",
       "      <td>-0.519039</td>\n",
       "      <td>1.074179</td>\n",
       "      <td>-0.081852</td>\n",
       "      <td>-0.209271</td>\n",
       "      <td>-0.282162</td>\n",
       "      <td>0.810882</td>\n",
       "      <td>-0.042775</td>\n",
       "      <td>5.014647</td>\n",
       "      <td>-0.470527</td>\n",
       "      <td>0.037612</td>\n",
       "    </tr>\n",
       "    <tr>\n",
       "      <th>2</th>\n",
       "      <td>-0.024533</td>\n",
       "      <td>-0.519039</td>\n",
       "      <td>1.065117</td>\n",
       "      <td>-0.081852</td>\n",
       "      <td>-0.209271</td>\n",
       "      <td>-0.282162</td>\n",
       "      <td>0.810882</td>\n",
       "      <td>-0.042780</td>\n",
       "      <td>-0.192611</td>\n",
       "      <td>-0.470527</td>\n",
       "      <td>-0.185443</td>\n",
       "    </tr>\n",
       "    <tr>\n",
       "      <th>3</th>\n",
       "      <td>-0.057378</td>\n",
       "      <td>1.742299</td>\n",
       "      <td>-0.212505</td>\n",
       "      <td>-0.081852</td>\n",
       "      <td>-0.209271</td>\n",
       "      <td>-0.282162</td>\n",
       "      <td>0.899215</td>\n",
       "      <td>-0.042780</td>\n",
       "      <td>-0.192611</td>\n",
       "      <td>-0.470527</td>\n",
       "      <td>-0.185443</td>\n",
       "    </tr>\n",
       "    <tr>\n",
       "      <th>4</th>\n",
       "      <td>-0.325927</td>\n",
       "      <td>-0.519039</td>\n",
       "      <td>1.065117</td>\n",
       "      <td>-0.081713</td>\n",
       "      <td>0.674504</td>\n",
       "      <td>-0.279713</td>\n",
       "      <td>0.810882</td>\n",
       "      <td>-0.042775</td>\n",
       "      <td>-0.192611</td>\n",
       "      <td>-0.470527</td>\n",
       "      <td>0.650041</td>\n",
       "    </tr>\n",
       "  </tbody>\n",
       "</table>\n",
       "</div>"
      ],
      "text/plain": [
       "    Montant  VerifianceCPT1      D2CB  ScoringFP1  ScoringFP2  ScoringFP3  \\\n",
       "0 -0.393579       -0.519039  1.074179   -0.081852   -0.209271   -0.282162   \n",
       "1 -0.393579       -0.519039  1.074179   -0.081852   -0.209271   -0.282162   \n",
       "2 -0.024533       -0.519039  1.065117   -0.081852   -0.209271   -0.282162   \n",
       "3 -0.057378        1.742299 -0.212505   -0.081852   -0.209271   -0.282162   \n",
       "4 -0.325927       -0.519039  1.065117   -0.081713    0.674504   -0.279713   \n",
       "\n",
       "   TauxImpNB_CPM  EcartNumCheq  NbrMagasin3J  DiffDateTr3     CA3TR  \n",
       "0       0.810882     -0.042780     -0.192611    -0.470527 -0.185443  \n",
       "1       0.810882     -0.042775      5.014647    -0.470527  0.037612  \n",
       "2       0.810882     -0.042780     -0.192611    -0.470527 -0.185443  \n",
       "3       0.899215     -0.042780     -0.192611    -0.470527 -0.185443  \n",
       "4       0.810882     -0.042775     -0.192611    -0.470527  0.650041  "
      ]
     },
     "execution_count": 16,
     "metadata": {},
     "output_type": "execute_result"
    }
   ],
   "source": [
    "# Centrer-réduire les dataframe de test\n",
    "X_test_scale = scaler.fit_transform(X_test)\n",
    "X_test_scale.head()"
   ]
  },
  {
   "cell_type": "markdown",
   "id": "afdf71a7",
   "metadata": {},
   "source": [
    "# Maximisation de la marge"
   ]
  },
  {
   "cell_type": "code",
   "execution_count": 17,
   "id": "c0ba11f8",
   "metadata": {},
   "outputs": [],
   "source": [
    "def perte(Montant):\n",
    "    if Montant<=20:\n",
    "        Montant=Montant*0\n",
    "    elif 20<Montant<=50:\n",
    "        Montant=0.2*Montant\n",
    "    elif 50<Montant<=100:\n",
    "        Montant=0.3*Montant\n",
    "    elif 100<Montant<=200:\n",
    "        Montant=0.5*Montant\n",
    "    elif Montant>200:\n",
    "        Montant=0.8*Montant\n",
    "    return(Montant)"
   ]
  },
  {
   "cell_type": "code",
   "execution_count": 18,
   "id": "156c255d",
   "metadata": {},
   "outputs": [],
   "source": [
    "def Calcul_Marge(Montant, yReel, yPred):\n",
    "    # Création de dfmerge\n",
    "    dfmerge = pd.concat([Montant, yReel], axis=1)\n",
    "    dfmerge[\"Ypred\"] = yPred\n",
    "    \n",
    "    # Création de la variable Marge\n",
    "    # Création d'une colonne Marge égale au Montant\n",
    "    dfmerge[\"Marge\"] = dfmerge[\"Montant\"]\n",
    "    #Calcul du gain ou de la perte selon la différence entre réel et prédiction\n",
    "    dfmerge.loc[((dfmerge[\"FlagImpaye\"] == 1) & (dfmerge[\"Ypred\"] == 1)), \"Marge\"] = 0\n",
    "    dfmerge.loc[((dfmerge[\"FlagImpaye\"] == 0) & (dfmerge[\"Ypred\"] == 1)), \"Marge\"] = 0.7 * 0.05 * dfmerge[\"Montant\"]\n",
    "    dfmerge.loc[((dfmerge[\"FlagImpaye\"] == 1) & (dfmerge[\"Ypred\"] == 0)), \"Marge\"] = dfmerge[\"Montant\"].apply(lambda x: -perte(x))\n",
    "    dfmerge.loc[((dfmerge[\"FlagImpaye\"] == 0) & (dfmerge[\"Ypred\"] == 0)), \"Marge\"] = 0.05 * dfmerge[\"Montant\"]\n",
    "    \n",
    "    # Calcul du Marge_totale\n",
    "    Marge_totale = dfmerge[\"Marge\"].sum()\n",
    "    \n",
    "    return Marge_totale"
   ]
  },
  {
   "cell_type": "markdown",
   "id": "410959e8",
   "metadata": {},
   "source": [
    "# Imbalanced : under and over sampling"
   ]
  },
  {
   "cell_type": "code",
   "execution_count": 19,
   "id": "11b7bb20",
   "metadata": {},
   "outputs": [],
   "source": [
    "samplers = [SMOTE(random_state=0), SMOTEENN(random_state=0), SMOTETomek(random_state=0)]"
   ]
  },
  {
   "cell_type": "markdown",
   "id": "02a2b0ca",
   "metadata": {},
   "source": [
    "# Modèles et performances"
   ]
  },
  {
   "cell_type": "code",
   "execution_count": 20,
   "id": "20c72310",
   "metadata": {},
   "outputs": [],
   "source": [
    "# Création de la fonction de performance d'un modèle sur les données de test\n",
    "\n",
    "def performances(modele, X_test, y_test, scale):\n",
    "    \n",
    "    X_test_ = X_test\n",
    "    \n",
    "    print(\"-------------------------------------------------------\")\n",
    "    # Importation du modèle \n",
    "    #fichier = open(modele, \"rb\")\n",
    "    #modele = pickle.load(fichier)\n",
    "    #fichier.close()\n",
    "    \n",
    "    if scale == True:\n",
    "        X_test = scaler.transform(X_test) # scaler a été entrainé sur les données d'apprentissage\n",
    "        \n",
    "    # Affichage du modèle \n",
    "    print('Modèle :\\n', modele)\n",
    "    print(\"-------------------------------------------------------\")\n",
    "    # Prédiction\n",
    "    y_pred = delayed(modele.predict)(X_test).compute()\n",
    "    # Prédiction des scores\n",
    "    y_score = delayed(modele.predict_proba)(X_test).compute()\n",
    "    \n",
    "    # Estimateurs, matrice de confusion et AUC\n",
    "    cm = delayed(confusion_matrix)(y_test, y_pred).compute()\n",
    "    cr = delayed(classification_report)(y_test, y_pred).compute()\n",
    "    auc = delayed(roc_auc_score)(y_test, y_pred).compute()\n",
    "    f1 = delayed(f1_score)(y_test, y_pred).compute()\n",
    "   \n",
    "    print('F1_score :\\n', f1)\n",
    "    print(\"-------------------------------------------------------\")\n",
    "    print('Estimateurs :\\n', cr)\n",
    "    print(\"-------------------------------------------------------\")\n",
    "    print('Matrice de confusion :\\n', cm)\n",
    "    print(\"-------------------------------------------------------\")\n",
    "    print('Auc Score :\\n', auc)\n",
    "    print(\"-------------------------------------------------------\")\n",
    "    \n",
    "    #Calcul de la Marge\n",
    "    Marge_totale = Calcul_Marge(Montant = X_test_[\"Montant\"].compute(), yReel = y_test.compute(), yPred = y_pred)\n",
    "    print(\"Marge = \" + str(round(Marge_totale, 2)) + \" euros\")\n",
    "    \n",
    "    print(\"-------------------------------------------------------\")\n",
    "    \n",
    "    # Courbe ROC\n",
    "    skplt.metrics.plot_roc(y_test, y_score, classes_to_plot = 1, plot_micro = False, plot_macro = False)\n",
    "    # Courbe Précision-Rappel\n",
    "    skplt.metrics.plot_precision_recall(y_test, y_score, classes_to_plot = 1, plot_micro = False)\n",
    "\n",
    "    #return y_score,Marge_totale,auc,cr,cm"
   ]
  },
  {
   "cell_type": "markdown",
   "id": "62b45b80",
   "metadata": {},
   "source": [
    "Si la courbe ROC tient la route avec un critère AUC éleve, cela signifie que l'apprentissage a bien fonctionné\n",
    "Si le F1_score est très mauvais, cela signifie alors que c'est le processus d'affectation qui n'a pas fonctionné"
   ]
  },
  {
   "cell_type": "markdown",
   "id": "25d390ae",
   "metadata": {},
   "source": [
    "## 1. Smote et Régression Logistique"
   ]
  },
  {
   "cell_type": "code",
   "execution_count": 21,
   "id": "272ba3f5",
   "metadata": {},
   "outputs": [],
   "source": [
    "# Define which resampling method and which ML model to use in the pipeline\n",
    "#on a doublé le pourcentage de la classe minoritaire (sampling_strategy=0.0129) : moins bons résultats que 'auto'.\n",
    "#ne fonctionne pas avec penalty='elasticnet' et saga (default=l2)\n",
    "resampling1 = SMOTE(random_state=0)\n",
    "model1 = LogisticRegression(solver='saga',random_state=0)\n",
    "\n",
    "# Define the pipeline, tell it to combine SMOTE with the Logistic Regression model\n",
    "clf1 = Pipeline([('SMOTE', resampling1), ('Logistic Regression', model1)])\n",
    "\n",
    "# Fit your pipeline onto your training set and obtain predictions by fitting the model onto the test data \n",
    "classifier1=delayed(clf1.fit)(X_train_scale, y_train).compute() \n",
    "\n",
    "#modele=pipeline1"
   ]
  },
  {
   "cell_type": "code",
   "execution_count": 22,
   "id": "e3a23465",
   "metadata": {},
   "outputs": [
    {
     "data": {
      "text/plain": [
       "Pipeline(steps=[('SMOTE', SMOTE(random_state=0)),\n",
       "                ('Logistic Regression',\n",
       "                 LogisticRegression(random_state=0, solver='saga'))])"
      ]
     },
     "execution_count": 22,
     "metadata": {},
     "output_type": "execute_result"
    }
   ],
   "source": [
    "classifier1"
   ]
  },
  {
   "cell_type": "code",
   "execution_count": 23,
   "id": "9f708f91",
   "metadata": {},
   "outputs": [],
   "source": [
    "# Exportation du modèle \n",
    "#f = open(\"modele1.sav\", \"wb\")\n",
    "#pickle.dump(classifier1, f)\n",
    "#f.close()"
   ]
  },
  {
   "cell_type": "code",
   "execution_count": 24,
   "id": "57f184d3",
   "metadata": {},
   "outputs": [],
   "source": [
    "#dat=y_test.compute()\n",
    "#dat[dat == 1]\n",
    "#dat[dat == 1].index"
   ]
  },
  {
   "cell_type": "code",
   "execution_count": 25,
   "id": "0f9b024f",
   "metadata": {},
   "outputs": [
    {
     "name": "stdout",
     "output_type": "stream",
     "text": [
      "-------------------------------------------------------\n",
      "Modèle :\n",
      " Pipeline(steps=[('SMOTE', SMOTE(random_state=0)),\n",
      "                ('Logistic Regression',\n",
      "                 LogisticRegression(random_state=0, solver='saga'))])\n",
      "-------------------------------------------------------\n",
      "F1_score :\n",
      " 0.02995019528409204\n",
      "-------------------------------------------------------\n",
      "Estimateurs :\n",
      "               precision    recall  f1-score   support\n",
      "\n",
      "           0       1.00      0.73      0.84   4616777\n",
      "           1       0.02      0.65      0.03     29995\n",
      "\n",
      "    accuracy                           0.73   4646772\n",
      "   macro avg       0.51      0.69      0.44   4646772\n",
      "weighted avg       0.99      0.73      0.84   4646772\n",
      "\n",
      "-------------------------------------------------------\n",
      "Matrice de confusion :\n",
      " [[3360032 1256745]\n",
      " [  10433   19562]]\n",
      "-------------------------------------------------------\n",
      "Auc Score :\n",
      " 0.6899813672867067\n",
      "-------------------------------------------------------\n",
      "Marge = 12062515.24 euros\n",
      "-------------------------------------------------------\n"
     ]
    },
    {
     "data": {
      "image/png": "[encoded data removed]",
      "text/plain": [
       "<Figure size 432x288 with 1 Axes>"
      ]
     },
     "metadata": {
      "needs_background": "light"
     },
     "output_type": "display_data"
    },
    {
     "data": {
      "image/png": "[encoded data removed]",
      "text/plain": [
       "<Figure size 432x288 with 1 Axes>"
      ]
     },
     "metadata": {
      "needs_background": "light"
     },
     "output_type": "display_data"
    }
   ],
   "source": [
    "performances(classifier1, X_test, y_test,scale=True)"
   ]
  },
  {
   "cell_type": "code",
   "execution_count": 26,
   "id": "d2649b65",
   "metadata": {},
   "outputs": [
    {
     "data": {
      "image/png": "[encoded data removed]",
      "text/plain": [
       "<Figure size 432x288 with 1 Axes>"
      ]
     },
     "metadata": {
      "needs_background": "light"
     },
     "output_type": "display_data"
    }
   ],
   "source": [
    "importances = pd.Series(model1.coef_[0], index = X_test.columns)\n",
    "sorted_importances = importances.sort_values()\n",
    "sorted_importances.plot(kind='barh', color='blue')\n",
    "plt.show()"
   ]
  },
  {
   "cell_type": "code",
   "execution_count": 27,
   "id": "85022db9",
   "metadata": {},
   "outputs": [],
   "source": [
    "#importances = pd.Series(clf1.feature_importances_, index = XTest.columns)\n",
    "#sorted_importances = importances.sort_values()\n",
    "#sorted_importances.plot(kind='barh', color='lightgreen')\n",
    "#plt.show()"
   ]
  },
  {
   "cell_type": "code",
   "execution_count": 28,
   "id": "ca29e8d7",
   "metadata": {},
   "outputs": [],
   "source": [
    "# Define the Logistic Regression model with weights\n",
    "model2 = LogisticRegression(random_state=0, penalty='elasticnet', l1_ratio=0.5, solver='saga', C=0.01, max_iter=100)"
   ]
  },
  {
   "cell_type": "code",
   "execution_count": 29,
   "id": "0b5f4e9f",
   "metadata": {},
   "outputs": [],
   "source": [
    "resampling1 = SMOTE(random_state=0)\n",
    "# Define the pipeline, tell it to combine SMOTE with the Logistic Regression model\n",
    "clf2 = Pipeline([('SMOTE', resampling1), ('Logistic Regression', model2)])\n",
    "\n",
    "# Fit your pipeline onto your training set and obtain predictions by fitting the model onto the test data \n",
    "classifier2=delayed(clf2.fit)(X_train_scale, y_train).compute() "
   ]
  },
  {
   "cell_type": "code",
   "execution_count": 30,
   "id": "167d9c09",
   "metadata": {},
   "outputs": [
    {
     "name": "stdout",
     "output_type": "stream",
     "text": [
      "-------------------------------------------------------\n",
      "Modèle :\n",
      " Pipeline(steps=[('SMOTE', SMOTE(random_state=0)),\n",
      "                ('Logistic Regression',\n",
      "                 LogisticRegression(C=0.01, l1_ratio=0.5, penalty='elasticnet',\n",
      "                                    random_state=0, solver='saga'))])\n",
      "-------------------------------------------------------\n",
      "F1_score :\n",
      " 0.029949943084084746\n",
      "-------------------------------------------------------\n",
      "Estimateurs :\n",
      "               precision    recall  f1-score   support\n",
      "\n",
      "           0       1.00      0.73      0.84   4616777\n",
      "           1       0.02      0.65      0.03     29995\n",
      "\n",
      "    accuracy                           0.73   4646772\n",
      "   macro avg       0.51      0.69      0.44   4646772\n",
      "weighted avg       0.99      0.73      0.84   4646772\n",
      "\n",
      "-------------------------------------------------------\n",
      "Matrice de confusion :\n",
      " [[3360021 1256756]\n",
      " [  10433   19562]]\n",
      "-------------------------------------------------------\n",
      "Auc Score :\n",
      " 0.6899801759794375\n",
      "-------------------------------------------------------\n",
      "Marge = 12062574.71 euros\n",
      "-------------------------------------------------------\n"
     ]
    },
    {
     "data": {
      "image/png": "[encoded data removed]",
      "text/plain": [
       "<Figure size 432x288 with 1 Axes>"
      ]
     },
     "metadata": {
      "needs_background": "light"
     },
     "output_type": "display_data"
    },
    {
     "data": {
      "image/png": "[encoded data removed]",
      "text/plain": [
       "<Figure size 432x288 with 1 Axes>"
      ]
     },
     "metadata": {
      "needs_background": "light"
     },
     "output_type": "display_data"
    }
   ],
   "source": [
    "performances(classifier2, X_test, y_test,scale=True)"
   ]
  },
  {
   "cell_type": "markdown",
   "id": "b6aa70f1",
   "metadata": {},
   "source": [
    "**Modifier le seuil d'affectation**"
   ]
  },
  {
   "cell_type": "code",
   "execution_count": 32,
   "id": "b1f2173e",
   "metadata": {},
   "outputs": [],
   "source": [
    "from numpy import arange\n",
    "from numpy import argmax"
   ]
  },
  {
   "cell_type": "code",
   "execution_count": 33,
   "id": "fb8b2e4b",
   "metadata": {},
   "outputs": [],
   "source": [
    "# apply threshold to positive probabilities to create labels\n",
    "def to_labels(pos_probs, threshold):\n",
    " return (pos_probs >= threshold).astype('int')"
   ]
  },
  {
   "cell_type": "code",
   "execution_count": 34,
   "id": "1f35ec0c",
   "metadata": {},
   "outputs": [],
   "source": [
    "def modif_seuil(classifier,X_test_scale,y_test):\n",
    "    # predict probabilities\n",
    "    yhat = delayed(classifier.predict_proba)(X_test_scale).compute()\n",
    "    # keep probabilities for the positive outcome only\n",
    "    probs = yhat[:, 1]\n",
    "    # define thresholds\n",
    "    thresholds = arange(0.1, 1, 0.1)\n",
    "    # evaluate each threshold\n",
    "    scores = [f1_score(y_test, to_labels(probs, t)) for t in thresholds]\n",
    "    # get best threshold\n",
    "    ix = argmax(scores)\n",
    "    s=('Threshold=%.3f, F-Score=%.5f' % (thresholds[ix], scores[ix]))\n",
    "    return s"
   ]
  },
  {
   "cell_type": "code",
   "execution_count": 35,
   "id": "8411a869",
   "metadata": {},
   "outputs": [
    {
     "data": {
      "text/plain": [
       "'Threshold=0.900, F-Score=0.10881'"
      ]
     },
     "execution_count": 35,
     "metadata": {},
     "output_type": "execute_result"
    }
   ],
   "source": [
    "sol1=modif_seuil(classifier1,X_test_scale,y_test)\n",
    "sol1"
   ]
  },
  {
   "cell_type": "code",
   "execution_count": 36,
   "id": "eb43ef38",
   "metadata": {},
   "outputs": [
    {
     "data": {
      "text/plain": [
       "'Threshold=0.900, F-Score=0.10883'"
      ]
     },
     "execution_count": 36,
     "metadata": {},
     "output_type": "execute_result"
    }
   ],
   "source": [
    "sol2=modif_seuil(classifier2,X_test_scale,y_test)\n",
    "sol2"
   ]
  },
  {
   "cell_type": "markdown",
   "id": "c1e5f9fe",
   "metadata": {},
   "source": [
    "## 2. Auto_encoder - outlier detection"
   ]
  },
  {
   "cell_type": "code",
   "execution_count": 37,
   "id": "ed9910bb",
   "metadata": {},
   "outputs": [],
   "source": [
    "# Importation de l'algorithme AutoEncoder du module pyOD\n",
    "from pyod.models.auto_encoder import AutoEncoder"
   ]
  },
  {
   "cell_type": "code",
   "execution_count": 38,
   "id": "908f1f34",
   "metadata": {},
   "outputs": [
    {
     "name": "stdout",
     "output_type": "stream",
     "text": [
      "Model: \"sequential\"\n",
      "_________________________________________________________________\n",
      " Layer (type)                Output Shape              Param #   \n",
      "=================================================================\n",
      " dense (Dense)               (None, 11)                132       \n",
      "                                                                 \n",
      " dropout (Dropout)           (None, 11)                0         \n",
      "                                                                 \n",
      " dense_1 (Dense)             (None, 11)                132       \n",
      "                                                                 \n",
      " dropout_1 (Dropout)         (None, 11)                0         \n",
      "                                                                 \n",
      " dense_2 (Dense)             (None, 14)                168       \n",
      "                                                                 \n",
      " dropout_2 (Dropout)         (None, 14)                0         \n",
      "                                                                 \n",
      " dense_3 (Dense)             (None, 2)                 30        \n",
      "                                                                 \n",
      " dropout_3 (Dropout)         (None, 2)                 0         \n",
      "                                                                 \n",
      " dense_4 (Dense)             (None, 2)                 6         \n",
      "                                                                 \n",
      " dropout_4 (Dropout)         (None, 2)                 0         \n",
      "                                                                 \n",
      " dense_5 (Dense)             (None, 14)                42        \n",
      "                                                                 \n",
      " dropout_5 (Dropout)         (None, 14)                0         \n",
      "                                                                 \n",
      " dense_6 (Dense)             (None, 11)                165       \n",
      "                                                                 \n",
      "=================================================================\n",
      "Total params: 675\n",
      "Trainable params: 675\n",
      "Non-trainable params: 0\n",
      "_________________________________________________________________\n",
      "None\n",
      "Epoch 1/5\n",
      "4085/4085 [==============================] - 19s 4ms/step - loss: 1.1414 - val_loss: 1.0604\n",
      "Epoch 2/5\n",
      "4085/4085 [==============================] - 17s 4ms/step - loss: 1.0028 - val_loss: 1.0443\n",
      "Epoch 3/5\n",
      "4085/4085 [==============================] - 17s 4ms/step - loss: 0.9961 - val_loss: 1.0426\n",
      "Epoch 4/5\n",
      "4085/4085 [==============================] - 17s 4ms/step - loss: 0.9954 - val_loss: 1.0424\n",
      "Epoch 5/5\n",
      "4085/4085 [==============================] - 17s 4ms/step - loss: 0.9953 - val_loss: 1.0424\n",
      "145212/145212 [==============================] - 132s 908us/step\n"
     ]
    },
    {
     "data": {
      "text/plain": [
       "AutoEncoder(batch_size=1024, contamination=0.1, dropout_rate=0.2, epochs=5,\n",
       "      hidden_activation='relu', hidden_neurons=[14, 2, 2, 14],\n",
       "      l2_regularizer=0.1,\n",
       "      loss=<function mean_squared_error at 0x00000174A8AC9D30>,\n",
       "      optimizer='adam', output_activation='sigmoid', preprocessing=True,\n",
       "      random_state=None, validation_size=0.1, verbose=1)"
      ]
     },
     "execution_count": 38,
     "metadata": {},
     "output_type": "execute_result"
    }
   ],
   "source": [
    "# Entraînement sur les données train avec une contamination de 0.1\n",
    "auto_name = 'AutoEncoder'\n",
    "auto = AutoEncoder(epochs=5, \n",
    "                   contamination=0.1, \n",
    "                   hidden_neurons =[14, 2, 2, 14], \n",
    "                   batch_size = 1024)\n",
    "auto.fit(X_train_scale)"
   ]
  },
  {
   "cell_type": "code",
   "execution_count": 39,
   "id": "740c7469",
   "metadata": {},
   "outputs": [
    {
     "data": {
      "text/plain": [
       "array([0, 1, 0, ..., 0, 0, 0])"
      ]
     },
     "execution_count": 39,
     "metadata": {},
     "output_type": "execute_result"
    }
   ],
   "source": [
    "# Classes affectées aux individus de par le modèle\n",
    "y_label_ae = auto.labels_\n",
    "y_label_ae"
   ]
  },
  {
   "cell_type": "code",
   "execution_count": 40,
   "id": "37ad78ba",
   "metadata": {},
   "outputs": [
    {
     "name": "stdout",
     "output_type": "stream",
     "text": [
      "145212/145212 [==============================] - 132s 897us/step\n"
     ]
    },
    {
     "data": {
      "text/plain": [
       "array([0, 1, 0, ..., 0, 0, 0])"
      ]
     },
     "execution_count": 40,
     "metadata": {},
     "output_type": "execute_result"
    }
   ],
   "source": [
    "# Prédiction\n",
    "y_test_pred = auto.predict(X_test_scale)\n",
    "y_test_pred"
   ]
  },
  {
   "cell_type": "code",
   "execution_count": 41,
   "id": "84d69909",
   "metadata": {},
   "outputs": [],
   "source": [
    "#y_test = y_test.replace({-1: 1, 1 : 0})"
   ]
  },
  {
   "cell_type": "code",
   "execution_count": 42,
   "id": "6385200e",
   "metadata": {},
   "outputs": [
    {
     "name": "stdout",
     "output_type": "stream",
     "text": [
      "[[4159632  457145]\n",
      " [  22462    7533]]\n",
      "              precision    recall  f1-score   support\n",
      "\n",
      "           0       0.99      0.90      0.95   4616777\n",
      "           1       0.02      0.25      0.03     29995\n",
      "\n",
      "    accuracy                           0.90   4646772\n",
      "   macro avg       0.51      0.58      0.49   4646772\n",
      "weighted avg       0.99      0.90      0.94   4646772\n",
      "\n"
     ]
    }
   ],
   "source": [
    "# Matrice de confusion\n",
    "cm_ae = confusion_matrix(y_test, y_test_pred)\n",
    "print(cm_ae)\n",
    "\n",
    "# Rapport de classification\n",
    "cf_ae = classification_report(y_test, y_test_pred,zero_division=0)\n",
    "print(cf_ae)"
   ]
  },
  {
   "cell_type": "code",
   "execution_count": 43,
   "id": "fa75e337",
   "metadata": {},
   "outputs": [
    {
     "name": "stdout",
     "output_type": "stream",
     "text": [
      "Model: \"sequential_1\"\n",
      "_________________________________________________________________\n",
      " Layer (type)                Output Shape              Param #   \n",
      "=================================================================\n",
      " dense_7 (Dense)             (None, 11)                132       \n",
      "                                                                 \n",
      " dropout_6 (Dropout)         (None, 11)                0         \n",
      "                                                                 \n",
      " dense_8 (Dense)             (None, 11)                132       \n",
      "                                                                 \n",
      " dropout_7 (Dropout)         (None, 11)                0         \n",
      "                                                                 \n",
      " dense_9 (Dense)             (None, 13)                156       \n",
      "                                                                 \n",
      " dropout_8 (Dropout)         (None, 13)                0         \n",
      "                                                                 \n",
      " dense_10 (Dense)            (None, 6)                 84        \n",
      "                                                                 \n",
      " dropout_9 (Dropout)         (None, 6)                 0         \n",
      "                                                                 \n",
      " dense_11 (Dense)            (None, 6)                 42        \n",
      "                                                                 \n",
      " dropout_10 (Dropout)        (None, 6)                 0         \n",
      "                                                                 \n",
      " dense_12 (Dense)            (None, 13)                91        \n",
      "                                                                 \n",
      " dropout_11 (Dropout)        (None, 13)                0         \n",
      "                                                                 \n",
      " dense_13 (Dense)            (None, 11)                154       \n",
      "                                                                 \n",
      "=================================================================\n",
      "Total params: 791\n",
      "Trainable params: 791\n",
      "Non-trainable params: 0\n",
      "_________________________________________________________________\n",
      "None\n",
      "Epoch 1/15\n",
      "4085/4085 [==============================] - 26s 6ms/step - loss: 1.1420 - val_loss: 0.6589\n",
      "Epoch 2/15\n",
      "4085/4085 [==============================] - 23s 6ms/step - loss: 0.6306 - val_loss: 0.6106\n",
      "Epoch 3/15\n",
      "4085/4085 [==============================] - 22s 5ms/step - loss: 0.6080 - val_loss: 0.6051\n",
      "Epoch 4/15\n",
      "4085/4085 [==============================] - 22s 5ms/step - loss: 0.6048 - val_loss: 0.6040\n",
      "Epoch 5/15\n",
      "4085/4085 [==============================] - 24s 6ms/step - loss: 0.6037 - val_loss: 0.6036\n",
      "Epoch 6/15\n",
      "4085/4085 [==============================] - 22s 5ms/step - loss: 0.6034 - val_loss: 0.6034\n",
      "Epoch 7/15\n",
      "4085/4085 [==============================] - 22s 5ms/step - loss: 0.6030 - val_loss: 0.6033\n",
      "Epoch 8/15\n",
      "4085/4085 [==============================] - 22s 5ms/step - loss: 0.6027 - val_loss: 0.6033\n",
      "Epoch 9/15\n",
      "4085/4085 [==============================] - 22s 5ms/step - loss: 0.6027 - val_loss: 0.6032\n",
      "Epoch 10/15\n",
      "4085/4085 [==============================] - 22s 5ms/step - loss: 0.6025 - val_loss: 0.6032\n",
      "Epoch 11/15\n",
      "4085/4085 [==============================] - 22s 5ms/step - loss: 0.6027 - val_loss: 0.6032\n",
      "Epoch 12/15\n",
      "4085/4085 [==============================] - 22s 5ms/step - loss: 0.6026 - val_loss: 0.6032\n",
      "Epoch 13/15\n",
      "4085/4085 [==============================] - 22s 5ms/step - loss: 0.6022 - val_loss: 0.6032\n",
      "Epoch 14/15\n",
      "4085/4085 [==============================] - 22s 5ms/step - loss: 0.6024 - val_loss: 0.6032\n",
      "Epoch 15/15\n",
      "4085/4085 [==============================] - 22s 5ms/step - loss: 0.6023 - val_loss: 0.6032\n",
      "145212/145212 [==============================] - 135s 927us/step\n"
     ]
    },
    {
     "data": {
      "text/plain": [
       "AutoEncoder(batch_size=1024, contamination=0.0065, dropout_rate=0.5,\n",
       "      epochs=15, hidden_activation='softmax',\n",
       "      hidden_neurons=[13, 6, 6, 13], l2_regularizer=0.9,\n",
       "      loss='BinaryCrossentropy', optimizer='adam',\n",
       "      output_activation='sigmoid', preprocessing=False, random_state=2,\n",
       "      validation_size=0.1, verbose=1)"
      ]
     },
     "execution_count": 43,
     "metadata": {},
     "output_type": "execute_result"
    }
   ],
   "source": [
    "# Entraînement sur les données train\n",
    "auto_name = 'AutoEncoder'\n",
    "auto = AutoEncoder(epochs=15, \n",
    "                   contamination=0.0065, \n",
    "                   hidden_neurons =[13, 6, 6, 13],\n",
    "                   hidden_activation = 'softmax',\n",
    "                   batch_size = 1024,\n",
    "                   dropout_rate = 0.5,\n",
    "                   random_state = 2,\n",
    "                   l2_regularizer = 0.9,\n",
    "                   loss = 'BinaryCrossentropy',\n",
    "                   preprocessing = False)\n",
    "\n",
    "auto.fit(X_train_scale)"
   ]
  },
  {
   "cell_type": "code",
   "execution_count": 44,
   "id": "2ec25646",
   "metadata": {},
   "outputs": [
    {
     "name": "stdout",
     "output_type": "stream",
     "text": [
      "145212/145212 [==============================] - 135s 930us/step\n",
      "[[4588210   28567]\n",
      " [  28357    1638]]\n",
      "              precision    recall  f1-score   support\n",
      "\n",
      "           0       0.99      0.99      0.99   4616777\n",
      "           1       0.05      0.05      0.05     29995\n",
      "\n",
      "    accuracy                           0.99   4646772\n",
      "   macro avg       0.52      0.52      0.52   4646772\n",
      "weighted avg       0.99      0.99      0.99   4646772\n",
      "\n"
     ]
    }
   ],
   "source": [
    "# Prédiction\n",
    "y_test_pred = auto.predict(X_test_scale)\n",
    "\n",
    "# Matrice de confusion\n",
    "cm_ae = confusion_matrix(y_test, y_test_pred)\n",
    "print(cm_ae)\n",
    "\n",
    "# Rapport de classification\n",
    "cf_ae = classification_report(y_test, y_test_pred,zero_division=0)\n",
    "print(cf_ae)"
   ]
  },
  {
   "cell_type": "code",
   "execution_count": 45,
   "id": "21be7c30",
   "metadata": {},
   "outputs": [
    {
     "name": "stdout",
     "output_type": "stream",
     "text": [
      "Model: \"sequential_2\"\n",
      "_________________________________________________________________\n",
      " Layer (type)                Output Shape              Param #   \n",
      "=================================================================\n",
      " dense_14 (Dense)            (None, 11)                132       \n",
      "                                                                 \n",
      " dropout_12 (Dropout)        (None, 11)                0         \n",
      "                                                                 \n",
      " dense_15 (Dense)            (None, 11)                132       \n",
      "                                                                 \n",
      " dropout_13 (Dropout)        (None, 11)                0         \n",
      "                                                                 \n",
      " dense_16 (Dense)            (None, 8)                 96        \n",
      "                                                                 \n",
      " dropout_14 (Dropout)        (None, 8)                 0         \n",
      "                                                                 \n",
      " dense_17 (Dense)            (None, 4)                 36        \n",
      "                                                                 \n",
      " dropout_15 (Dropout)        (None, 4)                 0         \n",
      "                                                                 \n",
      " dense_18 (Dense)            (None, 2)                 10        \n",
      "                                                                 \n",
      " dropout_16 (Dropout)        (None, 2)                 0         \n",
      "                                                                 \n",
      " dense_19 (Dense)            (None, 2)                 6         \n",
      "                                                                 \n",
      " dropout_17 (Dropout)        (None, 2)                 0         \n",
      "                                                                 \n",
      " dense_20 (Dense)            (None, 4)                 12        \n",
      "                                                                 \n",
      " dropout_18 (Dropout)        (None, 4)                 0         \n",
      "                                                                 \n",
      " dense_21 (Dense)            (None, 8)                 40        \n",
      "                                                                 \n",
      " dropout_19 (Dropout)        (None, 8)                 0         \n",
      "                                                                 \n",
      " dense_22 (Dense)            (None, 11)                99        \n",
      "                                                                 \n",
      "=================================================================\n",
      "Total params: 563\n",
      "Trainable params: 563\n",
      "Non-trainable params: 0\n",
      "_________________________________________________________________\n",
      "None\n",
      "Epoch 1/15\n",
      "5446/5446 [==============================] - 25s 4ms/step - loss: 0.9807 - val_loss: 0.1593\n",
      "Epoch 2/15\n",
      "5446/5446 [==============================] - 23s 4ms/step - loss: 0.0928 - val_loss: 0.0581\n",
      "Epoch 3/15\n",
      "5446/5446 [==============================] - 23s 4ms/step - loss: 0.0521 - val_loss: 0.0474\n",
      "Epoch 4/15\n",
      "5446/5446 [==============================] - 23s 4ms/step - loss: 0.0476 - val_loss: 0.0453\n",
      "Epoch 5/15\n",
      "5446/5446 [==============================] - 24s 4ms/step - loss: 0.0463 - val_loss: 0.0444\n",
      "Epoch 6/15\n",
      "5446/5446 [==============================] - 22s 4ms/step - loss: 0.0457 - val_loss: 0.0439\n",
      "Epoch 7/15\n",
      "5446/5446 [==============================] - 23s 4ms/step - loss: 0.0453 - val_loss: 0.0436\n",
      "Epoch 8/15\n",
      "5446/5446 [==============================] - 23s 4ms/step - loss: 0.0451 - val_loss: 0.0434\n",
      "Epoch 9/15\n",
      "5446/5446 [==============================] - 23s 4ms/step - loss: 0.0449 - val_loss: 0.0432\n",
      "Epoch 10/15\n",
      "5446/5446 [==============================] - 23s 4ms/step - loss: 0.0448 - val_loss: 0.0431\n",
      "Epoch 11/15\n",
      "5446/5446 [==============================] - 24s 4ms/step - loss: 0.0447 - val_loss: 0.0430\n",
      "Epoch 12/15\n",
      "5446/5446 [==============================] - 23s 4ms/step - loss: 0.0446 - val_loss: 0.0430\n",
      "Epoch 13/15\n",
      "5446/5446 [==============================] - 24s 4ms/step - loss: 0.0445 - val_loss: 0.0429\n",
      "Epoch 14/15\n",
      "5446/5446 [==============================] - 23s 4ms/step - loss: 0.0444 - val_loss: 0.0429\n",
      "Epoch 15/15\n",
      "5446/5446 [==============================] - 23s 4ms/step - loss: 0.0444 - val_loss: 0.0428\n",
      "145212/145212 [==============================] - 137s 942us/step\n"
     ]
    },
    {
     "data": {
      "text/plain": [
       "AutoEncoder(batch_size=768, contamination=0.0065, dropout_rate=0.4, epochs=15,\n",
       "      hidden_activation='sigmoid', hidden_neurons=[8, 4, 2, 2, 4, 8],\n",
       "      l2_regularizer=0.4, loss='BinaryCrossentropy', optimizer='adam',\n",
       "      output_activation='sigmoid', preprocessing=False, random_state=2,\n",
       "      validation_size=0.1, verbose=1)"
      ]
     },
     "execution_count": 45,
     "metadata": {},
     "output_type": "execute_result"
    }
   ],
   "source": [
    "# Entraînement sur les données train\n",
    "auto_name = 'AutoEncoder'\n",
    "auto_outl = AutoEncoder(epochs=15, \n",
    "                   contamination=0.0065, \n",
    "                   hidden_neurons =[8, 4, 2, 2, 4, 8],\n",
    "                   hidden_activation = 'sigmoid',\n",
    "                   batch_size = 768,\n",
    "                   dropout_rate = 0.4,\n",
    "                   random_state = 2,\n",
    "                   l2_regularizer = 0.4,\n",
    "                   loss = 'BinaryCrossentropy',\n",
    "                   output_activation = 'sigmoid',\n",
    "                   preprocessing = False)\n",
    "\n",
    "auto_outl.fit(X_train_scale)"
   ]
  },
  {
   "cell_type": "code",
   "execution_count": 46,
   "id": "b25e8db2",
   "metadata": {},
   "outputs": [
    {
     "name": "stdout",
     "output_type": "stream",
     "text": [
      "145212/145212 [==============================] - 132s 912us/step\n",
      "[[4588210   28567]\n",
      " [  28357    1638]]\n",
      "              precision    recall  f1-score   support\n",
      "\n",
      "           0       0.99      0.99      0.99   4616777\n",
      "           1       0.05      0.05      0.05     29995\n",
      "\n",
      "    accuracy                           0.99   4646772\n",
      "   macro avg       0.52      0.52      0.52   4646772\n",
      "weighted avg       0.99      0.99      0.99   4646772\n",
      "\n"
     ]
    }
   ],
   "source": [
    "# Prédiction\n",
    "y_test_pred = auto_outl.predict(X_test_scale)\n",
    "\n",
    "# Matrice de confusion\n",
    "cm_ae = confusion_matrix(y_test, y_test_pred)\n",
    "print(cm_ae)\n",
    "\n",
    "# Rapport de classification\n",
    "cf_ae = classification_report(y_test, y_test_pred,zero_division=0)\n",
    "print(cf_ae)"
   ]
  },
  {
   "cell_type": "markdown",
   "id": "d95a38d9",
   "metadata": {},
   "source": [
    "Les résultats sont catastrophiques !"
   ]
  },
  {
   "cell_type": "markdown",
   "id": "d4e099d5",
   "metadata": {},
   "source": [
    "**Novelty detection**"
   ]
  },
  {
   "cell_type": "markdown",
   "id": "b335e374",
   "metadata": {},
   "source": [
    "Comme pour One Class SVM, on entraîne uniquement sur la classe non frauduleuse et on prédit sur les deux."
   ]
  },
  {
   "cell_type": "code",
   "execution_count": 47,
   "id": "8cd16c21",
   "metadata": {},
   "outputs": [],
   "source": [
    "#sélection de la classe 0 (classe non frauduleuse)\n",
    "df_train0=df_train[df_train['FlagImpaye'] == 0]\n",
    "df_test0=df_test[df_test['FlagImpaye'] == 0]"
   ]
  },
  {
   "cell_type": "code",
   "execution_count": 48,
   "id": "b1c8338d",
   "metadata": {},
   "outputs": [],
   "source": [
    "# Définir les variables explicatives \n",
    "X_train0 = df_train0.drop([\"FlagImpaye\"], axis = \"columns\")\n",
    "X_test0 = df_test0.drop([\"FlagImpaye\"], axis = \"columns\")"
   ]
  },
  {
   "cell_type": "code",
   "execution_count": 49,
   "id": "deb4ffc8",
   "metadata": {},
   "outputs": [],
   "source": [
    "# Centrer-réduire les dataframe d'apprentissage\n",
    "X_train0_scale = scaler.fit_transform(X_train0)\n",
    "X_test0_scale = scaler.fit_transform(X_test0)"
   ]
  },
  {
   "cell_type": "code",
   "execution_count": 50,
   "id": "be8798c2",
   "metadata": {},
   "outputs": [
    {
     "name": "stdout",
     "output_type": "stream",
     "text": [
      "Model: \"sequential_3\"\n",
      "_________________________________________________________________\n",
      " Layer (type)                Output Shape              Param #   \n",
      "=================================================================\n",
      " dense_23 (Dense)            (None, 11)                132       \n",
      "                                                                 \n",
      " dropout_20 (Dropout)        (None, 11)                0         \n",
      "                                                                 \n",
      " dense_24 (Dense)            (None, 11)                132       \n",
      "                                                                 \n",
      " dropout_21 (Dropout)        (None, 11)                0         \n",
      "                                                                 \n",
      " dense_25 (Dense)            (None, 8)                 96        \n",
      "                                                                 \n",
      " dropout_22 (Dropout)        (None, 8)                 0         \n",
      "                                                                 \n",
      " dense_26 (Dense)            (None, 4)                 36        \n",
      "                                                                 \n",
      " dropout_23 (Dropout)        (None, 4)                 0         \n",
      "                                                                 \n",
      " dense_27 (Dense)            (None, 2)                 10        \n",
      "                                                                 \n",
      " dropout_24 (Dropout)        (None, 2)                 0         \n",
      "                                                                 \n",
      " dense_28 (Dense)            (None, 2)                 6         \n",
      "                                                                 \n",
      " dropout_25 (Dropout)        (None, 2)                 0         \n",
      "                                                                 \n",
      " dense_29 (Dense)            (None, 4)                 12        \n",
      "                                                                 \n",
      " dropout_26 (Dropout)        (None, 4)                 0         \n",
      "                                                                 \n",
      " dense_30 (Dense)            (None, 8)                 40        \n",
      "                                                                 \n",
      " dropout_27 (Dropout)        (None, 8)                 0         \n",
      "                                                                 \n",
      " dense_31 (Dense)            (None, 11)                99        \n",
      "                                                                 \n",
      "=================================================================\n",
      "Total params: 563\n",
      "Trainable params: 563\n",
      "Non-trainable params: 0\n",
      "_________________________________________________________________\n",
      "None\n",
      "Epoch 1/15\n",
      "5411/5411 [==============================] - 29s 5ms/step - loss: 0.5508 - val_loss: 0.0912\n",
      "Epoch 2/15\n",
      "5411/5411 [==============================] - 24s 4ms/step - loss: 0.0493 - val_loss: 0.0314\n",
      "Epoch 3/15\n",
      "5411/5411 [==============================] - 24s 4ms/step - loss: 0.0226 - val_loss: 0.0228\n",
      "Epoch 4/15\n",
      "5411/5411 [==============================] - 24s 4ms/step - loss: 0.0185 - val_loss: 0.0210\n",
      "Epoch 5/15\n",
      "5411/5411 [==============================] - 23s 4ms/step - loss: 0.0171 - val_loss: 0.0202\n",
      "Epoch 6/15\n",
      "5411/5411 [==============================] - 24s 4ms/step - loss: 0.0164 - val_loss: 0.0198\n",
      "Epoch 7/15\n",
      "5411/5411 [==============================] - 25s 5ms/step - loss: 0.0159 - val_loss: 0.0196\n",
      "Epoch 8/15\n",
      "5411/5411 [==============================] - 24s 4ms/step - loss: 0.0155 - val_loss: 0.0194\n",
      "Epoch 9/15\n",
      "5411/5411 [==============================] - 23s 4ms/step - loss: 0.0153 - val_loss: 0.0193\n",
      "Epoch 10/15\n",
      "5411/5411 [==============================] - 24s 4ms/step - loss: 0.0152 - val_loss: 0.0192\n",
      "Epoch 11/15\n",
      "5411/5411 [==============================] - 24s 4ms/step - loss: 0.0150 - val_loss: 0.0192\n",
      "Epoch 12/15\n",
      "5411/5411 [==============================] - 24s 4ms/step - loss: 0.0149 - val_loss: 0.0191\n",
      "Epoch 13/15\n",
      "5411/5411 [==============================] - 24s 4ms/step - loss: 0.0149 - val_loss: 0.0191\n",
      "Epoch 14/15\n",
      "5411/5411 [==============================] - 24s 4ms/step - loss: 0.0147 - val_loss: 0.0191\n",
      "Epoch 15/15\n",
      "5411/5411 [==============================] - 24s 4ms/step - loss: 0.0147 - val_loss: 0.0191\n",
      "144275/144275 [==============================] - 143s 987us/step\n"
     ]
    },
    {
     "data": {
      "text/plain": [
       "AutoEncoder(batch_size=768, contamination=0.0065, dropout_rate=0.4, epochs=15,\n",
       "      hidden_activation='sigmoid', hidden_neurons=[8, 4, 2, 2, 4, 8],\n",
       "      l2_regularizer=0.2, loss='BinaryCrossentropy', optimizer='adam',\n",
       "      output_activation='sigmoid', preprocessing=False, random_state=2,\n",
       "      validation_size=0.1, verbose=1)"
      ]
     },
     "execution_count": 50,
     "metadata": {},
     "output_type": "execute_result"
    }
   ],
   "source": [
    "# Entraînement sur les données train \n",
    "auto_name = 'AutoEncoder'\n",
    "auto_nov = AutoEncoder(epochs=15, \n",
    "                   contamination=0.0065, \n",
    "                   hidden_neurons =[8, 4, 2, 2, 4, 8],\n",
    "                   hidden_activation = 'sigmoid',\n",
    "                   batch_size = 768,\n",
    "                   dropout_rate = 0.4,\n",
    "                   random_state = 2,\n",
    "                   l2_regularizer = 0.2,\n",
    "                   loss = 'BinaryCrossentropy',\n",
    "                   output_activation = 'sigmoid',\n",
    "                   preprocessing = False)\n",
    "\n",
    "auto_nov.fit(X_train0_scale)"
   ]
  },
  {
   "cell_type": "code",
   "execution_count": 51,
   "id": "223f4534",
   "metadata": {},
   "outputs": [
    {
     "name": "stdout",
     "output_type": "stream",
     "text": [
      "145212/145212 [==============================] - 154s 1ms/step\n",
      "[[4587428   29349]\n",
      " [  28318    1677]]\n",
      "              precision    recall  f1-score   support\n",
      "\n",
      "           0       0.99      0.99      0.99   4616777\n",
      "           1       0.05      0.06      0.05     29995\n",
      "\n",
      "    accuracy                           0.99   4646772\n",
      "   macro avg       0.52      0.52      0.52   4646772\n",
      "weighted avg       0.99      0.99      0.99   4646772\n",
      "\n"
     ]
    }
   ],
   "source": [
    "# Prédiction\n",
    "y_test_pred_nov = auto_nov.predict(X_test_scale)\n",
    "\n",
    "# Matrice de confusion\n",
    "cm_ae = confusion_matrix(y_test, y_test_pred_nov)\n",
    "print(cm_ae)\n",
    "\n",
    "# Rapport de classification\n",
    "cf_ae = classification_report(y_test, y_test_pred_nov,zero_division=0)\n",
    "print(cf_ae)"
   ]
  },
  {
   "cell_type": "markdown",
   "id": "a603ba41",
   "metadata": {},
   "source": [
    "En mode semi-supervisé (novelty detection), le modèle est nettement plus performant sur les bonnes prédictions, ce qui augmente le rappel. Il pêche cependant sur les faux positifs. De manière semblable à l'isolation forest, ici les caractéristiques de certaines transactions se ressemblent, la probabilité qu'elles sont dans la même classe augmente donc également.\n",
    "Si les bonnes prédictions sont meilleures qu'en non supervisé, les faux positifs sont bien trop importants. Cela se répercute sur la f1-score de la classe fraduleuse."
   ]
  },
  {
   "cell_type": "code",
   "execution_count": null,
   "id": "2d1662f6",
   "metadata": {},
   "outputs": [],
   "source": []
  }
 ],
 "metadata": {
  "kernelspec": {
   "display_name": "Python 3 (ipykernel)",
   "language": "python",
   "name": "python3"
  },
  "language_info": {
   "codemirror_mode": {
    "name": "ipython",
    "version": 3
   },
   "file_extension": ".py",
   "mimetype": "text/x-python",
   "name": "python",
   "nbconvert_exporter": "python",
   "pygments_lexer": "ipython3",
   "version": "3.9.12"
  }
 },
 "nbformat": 4,
 "nbformat_minor": 5
}
